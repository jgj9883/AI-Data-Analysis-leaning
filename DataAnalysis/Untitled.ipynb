{
 "cells": [
  {
   "cell_type": "code",
   "execution_count": 2,
   "id": "39630f18",
   "metadata": {},
   "outputs": [],
   "source": [
    "import glob"
   ]
  },
  {
   "cell_type": "code",
   "execution_count": 12,
   "id": "a81390ee",
   "metadata": {},
   "outputs": [
    {
     "name": "stdout",
     "output_type": "stream",
     "text": [
      "[]\n"
     ]
    }
   ],
   "source": [
    "#C:\\Users\\USER\\Desktop\\데이터\\알찬\\eggcounter\\20220204\n",
    "data_dir = 'C:\\\\sers\\\\USER\\\\Desktop\\\\Project\\\\sound\\\\2 - experiment\\\\SoundData - wav/**/'\n",
    "FileList = glob.glob('*.json')\n",
    "img_namess = FileList\n",
    "print(img_namess)"
   ]
  },
  {
   "cell_type": "code",
   "execution_count": 13,
   "id": "341a14e9",
   "metadata": {},
   "outputs": [
    {
     "name": "stdout",
     "output_type": "stream",
     "text": [
      "[]\n"
     ]
    }
   ],
   "source": []
  }
 ],
 "metadata": {
  "kernelspec": {
   "display_name": "Python 3",
   "language": "python",
   "name": "python3"
  },
  "language_info": {
   "codemirror_mode": {
    "name": "ipython",
    "version": 3
   },
   "file_extension": ".py",
   "mimetype": "text/x-python",
   "name": "python",
   "nbconvert_exporter": "python",
   "pygments_lexer": "ipython3",
   "version": "3.8.8"
  }
 },
 "nbformat": 4,
 "nbformat_minor": 5
}
