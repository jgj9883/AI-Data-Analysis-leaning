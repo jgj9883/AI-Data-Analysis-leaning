{
 "cells": [
  {
   "cell_type": "code",
   "execution_count": 4,
   "id": "c5fb728d",
   "metadata": {},
   "outputs": [],
   "source": [
    "import pandas as pd\n",
    "import numpy as np\n",
    "import matplotlib as mpl\n",
    "import matplotlib.pyplot as plt\n",
    "import seaborn as sns\n",
    "from scipy import stats\n",
    "\n",
    "\n",
    "%matplotlib inline\n",
    "\n",
    "plt.style.use('ggplot')\n",
    "mpl.rcParams['axes.unicode_minus'] = False\n",
    "plt.rcParams['font.family'] = 'NanumGothic'"
   ]
  },
  {
   "cell_type": "markdown",
   "id": "589346d6",
   "metadata": {},
   "source": [
    "#### 체리부로 8/18 ~ 9/9 평균 픽셀"
   ]
  },
  {
   "cell_type": "code",
   "execution_count": 5,
   "id": "bdbf0604",
   "metadata": {},
   "outputs": [
    {
     "data": {
      "text/plain": [
       "(31, 3)"
      ]
     },
     "execution_count": 5,
     "metadata": {},
     "output_type": "execute_result"
    }
   ],
   "source": [
    "# pixel 데이터 로드\n",
    "df = pd.read_csv(\"./data/pixel_data.csv\")\n",
    "df.shape"
   ]
  },
  {
   "cell_type": "code",
   "execution_count": 6,
   "id": "4505a272",
   "metadata": {},
   "outputs": [],
   "source": [
    "df.columns = ['date','pixel', 'raw']\n",
    "df['date'] = df['date'].astype('str')\n",
    "df['date'] = pd.to_datetime(df['date'])"
   ]
  },
  {
   "cell_type": "code",
   "execution_count": 7,
   "id": "b57c231d",
   "metadata": {},
   "outputs": [
    {
     "data": {
      "text/html": [
       "<div>\n",
       "<style scoped>\n",
       "    .dataframe tbody tr th:only-of-type {\n",
       "        vertical-align: middle;\n",
       "    }\n",
       "\n",
       "    .dataframe tbody tr th {\n",
       "        vertical-align: top;\n",
       "    }\n",
       "\n",
       "    .dataframe thead th {\n",
       "        text-align: right;\n",
       "    }\n",
       "</style>\n",
       "<table border=\"1\" class=\"dataframe\">\n",
       "  <thead>\n",
       "    <tr style=\"text-align: right;\">\n",
       "      <th></th>\n",
       "      <th>date</th>\n",
       "      <th>pixel</th>\n",
       "      <th>raw</th>\n",
       "    </tr>\n",
       "  </thead>\n",
       "  <tbody>\n",
       "    <tr>\n",
       "      <th>2</th>\n",
       "      <td>2021-08-17 17:54:22</td>\n",
       "      <td>1859.0</td>\n",
       "      <td>[True, True, True, False, False, True, True, T...</td>\n",
       "    </tr>\n",
       "    <tr>\n",
       "      <th>3</th>\n",
       "      <td>2021-08-19 16:48:31</td>\n",
       "      <td>1771.0</td>\n",
       "      <td>[True, True, False, False, True, True, True, F...</td>\n",
       "    </tr>\n",
       "    <tr>\n",
       "      <th>1</th>\n",
       "      <td>2021-08-20 15:46:43</td>\n",
       "      <td>1935.0</td>\n",
       "      <td>[True, False, True, True, True, True, False, T...</td>\n",
       "    </tr>\n",
       "    <tr>\n",
       "      <th>0</th>\n",
       "      <td>2021-08-21 15:48:19</td>\n",
       "      <td>1866.0</td>\n",
       "      <td>[True, True, True, True, True, True, True, Tru...</td>\n",
       "    </tr>\n",
       "    <tr>\n",
       "      <th>5</th>\n",
       "      <td>2021-08-22 15:54:18</td>\n",
       "      <td>1946.0</td>\n",
       "      <td>[True, True, True, True, True, True, True, Tru...</td>\n",
       "    </tr>\n",
       "    <tr>\n",
       "      <th>4</th>\n",
       "      <td>2021-08-23 13:01:01</td>\n",
       "      <td>2137.0</td>\n",
       "      <td>[True, True, True, True, True, True, True, Tru...</td>\n",
       "    </tr>\n",
       "    <tr>\n",
       "      <th>14</th>\n",
       "      <td>2021-08-24 09:48:20</td>\n",
       "      <td>2091.0</td>\n",
       "      <td>[False, True, False, True, True, True, True, T...</td>\n",
       "    </tr>\n",
       "    <tr>\n",
       "      <th>12</th>\n",
       "      <td>2021-08-25 15:47:09</td>\n",
       "      <td>2158.0</td>\n",
       "      <td>[True, True, True, True, True, True, True, Tru...</td>\n",
       "    </tr>\n",
       "    <tr>\n",
       "      <th>13</th>\n",
       "      <td>2021-08-26 15:52:19</td>\n",
       "      <td>2254.0</td>\n",
       "      <td>[True, True, True, False, True, True, True, Tr...</td>\n",
       "    </tr>\n",
       "    <tr>\n",
       "      <th>6</th>\n",
       "      <td>2021-08-27 15:52:28</td>\n",
       "      <td>2183.0</td>\n",
       "      <td>[False, True, True, True, True, False, True, T...</td>\n",
       "    </tr>\n",
       "    <tr>\n",
       "      <th>15</th>\n",
       "      <td>2021-08-28 15:46:14</td>\n",
       "      <td>2373.0</td>\n",
       "      <td>[True, True, True, True, True, True, True, Tru...</td>\n",
       "    </tr>\n",
       "    <tr>\n",
       "      <th>7</th>\n",
       "      <td>2021-08-29 15:51:48</td>\n",
       "      <td>2516.0</td>\n",
       "      <td>[True, True, False, True, False, True, True, T...</td>\n",
       "    </tr>\n",
       "    <tr>\n",
       "      <th>9</th>\n",
       "      <td>2021-08-30 15:51:33</td>\n",
       "      <td>2573.0</td>\n",
       "      <td>[True, True, True, True, True, True, True, Tru...</td>\n",
       "    </tr>\n",
       "    <tr>\n",
       "      <th>11</th>\n",
       "      <td>2021-08-31 15:51:48</td>\n",
       "      <td>2666.0</td>\n",
       "      <td>[True, True, False, True, True, True, True, Tr...</td>\n",
       "    </tr>\n",
       "    <tr>\n",
       "      <th>8</th>\n",
       "      <td>2021-09-01 15:44:47</td>\n",
       "      <td>2873.0</td>\n",
       "      <td>[True, False, True, True, True, True, True, Tr...</td>\n",
       "    </tr>\n",
       "    <tr>\n",
       "      <th>10</th>\n",
       "      <td>2021-09-02 15:46:26</td>\n",
       "      <td>3226.0</td>\n",
       "      <td>[True, True, True, False, True, False, False, ...</td>\n",
       "    </tr>\n",
       "    <tr>\n",
       "      <th>28</th>\n",
       "      <td>2021-09-03 15:45:40</td>\n",
       "      <td>3016.0</td>\n",
       "      <td>[True, True, True, True, True, True, True, Tru...</td>\n",
       "    </tr>\n",
       "    <tr>\n",
       "      <th>21</th>\n",
       "      <td>2021-09-04 15:51:48</td>\n",
       "      <td>3292.0</td>\n",
       "      <td>[True, True, True, True, True, True, True, Tru...</td>\n",
       "    </tr>\n",
       "    <tr>\n",
       "      <th>29</th>\n",
       "      <td>2021-09-05 15:46:21</td>\n",
       "      <td>3137.0</td>\n",
       "      <td>[True, True, True, True, True, False, True, Tr...</td>\n",
       "    </tr>\n",
       "    <tr>\n",
       "      <th>26</th>\n",
       "      <td>2021-09-06 15:48:10</td>\n",
       "      <td>3649.0</td>\n",
       "      <td>[False, True, True, True, False, True, True, T...</td>\n",
       "    </tr>\n",
       "    <tr>\n",
       "      <th>18</th>\n",
       "      <td>2021-09-07 15:49:22</td>\n",
       "      <td>3728.0</td>\n",
       "      <td>[True, True, True, False, True, False, True, T...</td>\n",
       "    </tr>\n",
       "    <tr>\n",
       "      <th>23</th>\n",
       "      <td>2021-09-08 15:47:28</td>\n",
       "      <td>3882.0</td>\n",
       "      <td>[True, True, False, True, True, True, True, Tr...</td>\n",
       "    </tr>\n",
       "    <tr>\n",
       "      <th>30</th>\n",
       "      <td>2021-09-09 15:54:03</td>\n",
       "      <td>4207.0</td>\n",
       "      <td>[False, False, True, True, False, True, True, ...</td>\n",
       "    </tr>\n",
       "    <tr>\n",
       "      <th>25</th>\n",
       "      <td>2021-09-10 15:49:17</td>\n",
       "      <td>4303.0</td>\n",
       "      <td>[True, True, True, True, True, True, True, Fal...</td>\n",
       "    </tr>\n",
       "    <tr>\n",
       "      <th>17</th>\n",
       "      <td>2021-09-11 15:53:50</td>\n",
       "      <td>4466.0</td>\n",
       "      <td>[True, True, False, True, False, True, True, T...</td>\n",
       "    </tr>\n",
       "    <tr>\n",
       "      <th>24</th>\n",
       "      <td>2021-09-12 15:44:53</td>\n",
       "      <td>5159.0</td>\n",
       "      <td>[True, True, True, True, True, True, True, Fal...</td>\n",
       "    </tr>\n",
       "    <tr>\n",
       "      <th>16</th>\n",
       "      <td>2021-09-13 15:52:24</td>\n",
       "      <td>4718.0</td>\n",
       "      <td>[True, True, True, True, True, True, True, Tru...</td>\n",
       "    </tr>\n",
       "    <tr>\n",
       "      <th>19</th>\n",
       "      <td>2021-09-14 15:46:01</td>\n",
       "      <td>5058.0</td>\n",
       "      <td>[True, True, True, False, True, True, False, T...</td>\n",
       "    </tr>\n",
       "    <tr>\n",
       "      <th>20</th>\n",
       "      <td>2021-09-15 15:48:54</td>\n",
       "      <td>5567.0</td>\n",
       "      <td>[True, True, True, True, True, True, False, Tr...</td>\n",
       "    </tr>\n",
       "    <tr>\n",
       "      <th>27</th>\n",
       "      <td>2021-09-16 15:44:13</td>\n",
       "      <td>5276.0</td>\n",
       "      <td>[True, True, True, True, True, True, False, Fa...</td>\n",
       "    </tr>\n",
       "    <tr>\n",
       "      <th>22</th>\n",
       "      <td>2021-09-17 12:52:35</td>\n",
       "      <td>5967.0</td>\n",
       "      <td>[True, False, True, True, False, True, False, ...</td>\n",
       "    </tr>\n",
       "  </tbody>\n",
       "</table>\n",
       "</div>"
      ],
      "text/plain": [
       "                  date   pixel  \\\n",
       "2  2021-08-17 17:54:22  1859.0   \n",
       "3  2021-08-19 16:48:31  1771.0   \n",
       "1  2021-08-20 15:46:43  1935.0   \n",
       "0  2021-08-21 15:48:19  1866.0   \n",
       "5  2021-08-22 15:54:18  1946.0   \n",
       "4  2021-08-23 13:01:01  2137.0   \n",
       "14 2021-08-24 09:48:20  2091.0   \n",
       "12 2021-08-25 15:47:09  2158.0   \n",
       "13 2021-08-26 15:52:19  2254.0   \n",
       "6  2021-08-27 15:52:28  2183.0   \n",
       "15 2021-08-28 15:46:14  2373.0   \n",
       "7  2021-08-29 15:51:48  2516.0   \n",
       "9  2021-08-30 15:51:33  2573.0   \n",
       "11 2021-08-31 15:51:48  2666.0   \n",
       "8  2021-09-01 15:44:47  2873.0   \n",
       "10 2021-09-02 15:46:26  3226.0   \n",
       "28 2021-09-03 15:45:40  3016.0   \n",
       "21 2021-09-04 15:51:48  3292.0   \n",
       "29 2021-09-05 15:46:21  3137.0   \n",
       "26 2021-09-06 15:48:10  3649.0   \n",
       "18 2021-09-07 15:49:22  3728.0   \n",
       "23 2021-09-08 15:47:28  3882.0   \n",
       "30 2021-09-09 15:54:03  4207.0   \n",
       "25 2021-09-10 15:49:17  4303.0   \n",
       "17 2021-09-11 15:53:50  4466.0   \n",
       "24 2021-09-12 15:44:53  5159.0   \n",
       "16 2021-09-13 15:52:24  4718.0   \n",
       "19 2021-09-14 15:46:01  5058.0   \n",
       "20 2021-09-15 15:48:54  5567.0   \n",
       "27 2021-09-16 15:44:13  5276.0   \n",
       "22 2021-09-17 12:52:35  5967.0   \n",
       "\n",
       "                                                  raw  \n",
       "2   [True, True, True, False, False, True, True, T...  \n",
       "3   [True, True, False, False, True, True, True, F...  \n",
       "1   [True, False, True, True, True, True, False, T...  \n",
       "0   [True, True, True, True, True, True, True, Tru...  \n",
       "5   [True, True, True, True, True, True, True, Tru...  \n",
       "4   [True, True, True, True, True, True, True, Tru...  \n",
       "14  [False, True, False, True, True, True, True, T...  \n",
       "12  [True, True, True, True, True, True, True, Tru...  \n",
       "13  [True, True, True, False, True, True, True, Tr...  \n",
       "6   [False, True, True, True, True, False, True, T...  \n",
       "15  [True, True, True, True, True, True, True, Tru...  \n",
       "7   [True, True, False, True, False, True, True, T...  \n",
       "9   [True, True, True, True, True, True, True, Tru...  \n",
       "11  [True, True, False, True, True, True, True, Tr...  \n",
       "8   [True, False, True, True, True, True, True, Tr...  \n",
       "10  [True, True, True, False, True, False, False, ...  \n",
       "28  [True, True, True, True, True, True, True, Tru...  \n",
       "21  [True, True, True, True, True, True, True, Tru...  \n",
       "29  [True, True, True, True, True, False, True, Tr...  \n",
       "26  [False, True, True, True, False, True, True, T...  \n",
       "18  [True, True, True, False, True, False, True, T...  \n",
       "23  [True, True, False, True, True, True, True, Tr...  \n",
       "30  [False, False, True, True, False, True, True, ...  \n",
       "25  [True, True, True, True, True, True, True, Fal...  \n",
       "17  [True, True, False, True, False, True, True, T...  \n",
       "24  [True, True, True, True, True, True, True, Fal...  \n",
       "16  [True, True, True, True, True, True, True, Tru...  \n",
       "19  [True, True, True, False, True, True, False, T...  \n",
       "20  [True, True, True, True, True, True, False, Tr...  \n",
       "27  [True, True, True, True, True, True, False, Fa...  \n",
       "22  [True, False, True, True, False, True, False, ...  "
      ]
     },
     "execution_count": 7,
     "metadata": {},
     "output_type": "execute_result"
    }
   ],
   "source": [
    "pixel_sort_values = df.sort_values(by=[\"date\"], ascending=[True])\n",
    "pixel_sort_values"
   ]
  },
  {
   "cell_type": "code",
   "execution_count": 8,
   "id": "94ff75c6",
   "metadata": {},
   "outputs": [
    {
     "data": {
      "text/plain": [
       "(3, 3)"
      ]
     },
     "execution_count": 8,
     "metadata": {},
     "output_type": "execute_result"
    }
   ],
   "source": [
    "# 체리부로 실제 무게 데이터 로드\n",
    "chery = pd.read_csv(\"./data/chery_real_weight.csv\", encoding='cp949')\n",
    "chery.shape"
   ]
  },
  {
   "cell_type": "code",
   "execution_count": 9,
   "id": "867087d5",
   "metadata": {},
   "outputs": [],
   "source": [
    "chery.columns = ['date','weight','number']"
   ]
  },
  {
   "cell_type": "code",
   "execution_count": 10,
   "id": "7f2dde35",
   "metadata": {},
   "outputs": [
    {
     "data": {
      "text/html": [
       "<div>\n",
       "<style scoped>\n",
       "    .dataframe tbody tr th:only-of-type {\n",
       "        vertical-align: middle;\n",
       "    }\n",
       "\n",
       "    .dataframe tbody tr th {\n",
       "        vertical-align: top;\n",
       "    }\n",
       "\n",
       "    .dataframe thead th {\n",
       "        text-align: right;\n",
       "    }\n",
       "</style>\n",
       "<table border=\"1\" class=\"dataframe\">\n",
       "  <thead>\n",
       "    <tr style=\"text-align: right;\">\n",
       "      <th></th>\n",
       "      <th>date</th>\n",
       "      <th>weight</th>\n",
       "      <th>number</th>\n",
       "    </tr>\n",
       "  </thead>\n",
       "  <tbody>\n",
       "    <tr>\n",
       "      <th>0</th>\n",
       "      <td>2021-08-16</td>\n",
       "      <td>192</td>\n",
       "      <td>8</td>\n",
       "    </tr>\n",
       "    <tr>\n",
       "      <th>1</th>\n",
       "      <td>2021-08-23</td>\n",
       "      <td>378</td>\n",
       "      <td>15</td>\n",
       "    </tr>\n",
       "    <tr>\n",
       "      <th>2</th>\n",
       "      <td>2021-08-30</td>\n",
       "      <td>556</td>\n",
       "      <td>22</td>\n",
       "    </tr>\n",
       "  </tbody>\n",
       "</table>\n",
       "</div>"
      ],
      "text/plain": [
       "        date  weight  number\n",
       "0 2021-08-16     192       8\n",
       "1 2021-08-23     378      15\n",
       "2 2021-08-30     556      22"
      ]
     },
     "execution_count": 10,
     "metadata": {},
     "output_type": "execute_result"
    }
   ],
   "source": [
    "chery['date'] = pd.to_datetime(chery['date'], infer_datetime_format=True)\n",
    "chery"
   ]
  },
  {
   "cell_type": "code",
   "execution_count": 11,
   "id": "b8b92a95",
   "metadata": {},
   "outputs": [
    {
     "data": {
      "text/plain": [
       "Text(0, 0.5, 'weight')"
      ]
     },
     "execution_count": 11,
     "metadata": {},
     "output_type": "execute_result"
    },
    {
     "data": {
      "image/png": "[encoded data removed]",
      "text/plain": [
       "<Figure size 720x504 with 1 Axes>"
      ]
     },
     "metadata": {},
     "output_type": "display_data"
    }
   ],
   "source": [
    "import matplotlib.dates as mdates\n",
    "\n",
    "fig, ax1 = plt.subplots(figsize=(10, 7))\n",
    "ax1.plot(chery['number'], chery['weight'], marker='o', markersize=5, color='blue')\n",
    "#ax1.plot(chery_sort_values['date'], chery_sort_values['weight'], marker='o', markersize=5, color='blue')\n",
    "ax1.set_ylabel('weight', color='blue')"
   ]
  },
  {
   "cell_type": "code",
   "execution_count": 19,
   "id": "1b055d82",
   "metadata": {},
   "outputs": [
    {
     "name": "stdout",
     "output_type": "stream",
     "text": [
      "8 192.0\n",
      "9 218.6\n",
      "10 245.1\n",
      "11 271.7\n",
      "12 298.3\n",
      "13 324.9\n",
      "14 351.4\n",
      "15 378.0\n",
      "16 404.6\n",
      "17 431.1\n",
      "18 457.7\n",
      "19 484.3\n",
      "20 510.9\n",
      "21 537.4\n",
      "22 564.0\n",
      "23 590.6\n",
      "24 617.1\n",
      "25 643.7\n",
      "26 670.3\n",
      "27 696.9\n",
      "28 723.4\n",
      "29 750.0\n",
      "30 776.6\n",
      "31 803.1\n",
      "32 829.7\n",
      "33 856.3\n",
      "34 882.9\n",
      "35 909.4\n",
      "36 936.0\n",
      "37 962.6\n",
      "38 989.1\n"
     ]
    },
    {
     "data": {
      "text/plain": [
       "31"
      ]
     },
     "execution_count": 19,
     "metadata": {},
     "output_type": "execute_result"
    }
   ],
   "source": [
    "weight_list = []\n",
    "num_list = []\n",
    "for i in range(8, 39) :\n",
    "    y = round(((378-192)/(15-8)) * i + 192 - ((378-192)/(15-8)) * 8, 1)\n",
    "    print(i, y)\n",
    "    weight_list.append(y)\n",
    "    num_list.append(i)\n",
    "    i+=1\n",
    "    \n",
    "len(weight_list)"
   ]
  },
  {
   "cell_type": "code",
   "execution_count": 14,
   "id": "0ccb4e1a",
   "metadata": {},
   "outputs": [
    {
     "data": {
      "image/png": "[encoded data removed]",
      "text/plain": [
       "<Figure size 720x504 with 2 Axes>"
      ]
     },
     "metadata": {},
     "output_type": "display_data"
    }
   ],
   "source": [
    "import matplotlib.dates as mdates\n",
    "\n",
    "fig, ax1 = plt.subplots(figsize=(10, 7))\n",
    "ax1.plot(chery['date'], chery['weight'], color='blue')\n",
    "#ax1.plot(chery_sort_values['date'], chery_sort_values['weight'], marker='o', markersize=5, color='blue')\n",
    "ax1.set_ylabel('weight', color='blue')  \n",
    "dateFmt = mdates.DateFormatter('%Y-%m-%d')\n",
    "ax1.xaxis.set_major_formatter(dateFmt)\n",
    "ax1.tick_params(axis='y', labelcolor='blue')\n",
    "\n",
    "ax2 = ax1.twinx()  \n",
    "ax2.set_ylabel('pixel', color='green')  \n",
    "ax2.plot(pixel_sort_values['date'], pixel_sort_values['pixel'], color='green')\n",
    "ax2.tick_params(axis='y', labelcolor='green')\n",
    "\n",
    "ax1.tick_params(axis='x', rotation=45)\n",
    "fig.tight_layout()\n",
    "plt.show()"
   ]
  },
  {
   "cell_type": "code",
   "execution_count": 21,
   "id": "66a9dfec",
   "metadata": {},
   "outputs": [
    {
     "name": "stdout",
     "output_type": "stream",
     "text": [
      "[192.0, 218.6, 245.1, 271.7, 298.3, 324.9, 351.4, 378.0, 404.6, 431.1, 457.7, 484.3, 510.9, 537.4, 564.0, 590.6, 617.1, 643.7, 670.3, 696.9, 723.4, 750.0, 776.6, 803.1, 829.7, 856.3, 882.9, 909.4, 936.0, 962.6, 989.1]\n",
      "31\n",
      "------------\n",
      "[1859. 1771. 1935. 1866. 1946. 2137. 2091. 2158. 2254. 2183. 2373. 2516.\n",
      " 2573. 2666. 2873. 3226. 3016. 3292. 3137. 3649. 3728. 3882. 4207. 4303.\n",
      " 4466. 5159. 4718. 5058. 5567. 5276. 5967.]\n",
      "31\n"
     ]
    },
    {
     "ename": "ValueError",
     "evalue": "Expected 2D array, got 1D array instead:\narray=[3292. 2873. 4466. 1946. 1935. 4718. 2091. 2666. 2158. 5567. 1771. 3016.\n 1859. 3226. 5967. 5276. 2183. 2254. 2573. 2516. 2137.].\nReshape your data either using array.reshape(-1, 1) if your data has a single feature or array.reshape(1, -1) if it contains a single sample.",
     "output_type": "error",
     "traceback": [
      "\u001b[1;31m---------------------------------------------------------------------------\u001b[0m",
      "\u001b[1;31mValueError\u001b[0m                                Traceback (most recent call last)",
      "\u001b[1;32m<ipython-input-21-4c149b8c6733>\u001b[0m in \u001b[0;36m<module>\u001b[1;34m\u001b[0m\n\u001b[0;32m     16\u001b[0m \u001b[1;33m\u001b[0m\u001b[0m\n\u001b[0;32m     17\u001b[0m \u001b[0mlr\u001b[0m \u001b[1;33m=\u001b[0m \u001b[0mLinearRegression\u001b[0m\u001b[1;33m(\u001b[0m\u001b[1;33m)\u001b[0m\u001b[1;33m\u001b[0m\u001b[1;33m\u001b[0m\u001b[0m\n\u001b[1;32m---> 18\u001b[1;33m \u001b[0mlr\u001b[0m\u001b[1;33m.\u001b[0m\u001b[0mfit\u001b[0m\u001b[1;33m(\u001b[0m\u001b[0mX_train\u001b[0m\u001b[1;33m,\u001b[0m \u001b[0my_train\u001b[0m\u001b[1;33m)\u001b[0m\u001b[1;33m\u001b[0m\u001b[1;33m\u001b[0m\u001b[0m\n\u001b[0m\u001b[0;32m     19\u001b[0m \u001b[1;33m\u001b[0m\u001b[0m\n\u001b[0;32m     20\u001b[0m \u001b[0my_preds\u001b[0m \u001b[1;33m=\u001b[0m \u001b[0mlr\u001b[0m\u001b[1;33m.\u001b[0m\u001b[0mpredict\u001b[0m\u001b[1;33m(\u001b[0m\u001b[0mX_test\u001b[0m\u001b[1;33m)\u001b[0m\u001b[1;33m\u001b[0m\u001b[1;33m\u001b[0m\u001b[0m\n",
      "\u001b[1;32m~\\Anaconda3\\lib\\site-packages\\sklearn\\linear_model\\_base.py\u001b[0m in \u001b[0;36mfit\u001b[1;34m(self, X, y, sample_weight)\u001b[0m\n\u001b[0;32m    516\u001b[0m         \u001b[0maccept_sparse\u001b[0m \u001b[1;33m=\u001b[0m \u001b[1;32mFalse\u001b[0m \u001b[1;32mif\u001b[0m \u001b[0mself\u001b[0m\u001b[1;33m.\u001b[0m\u001b[0mpositive\u001b[0m \u001b[1;32melse\u001b[0m \u001b[1;33m[\u001b[0m\u001b[1;34m'csr'\u001b[0m\u001b[1;33m,\u001b[0m \u001b[1;34m'csc'\u001b[0m\u001b[1;33m,\u001b[0m \u001b[1;34m'coo'\u001b[0m\u001b[1;33m]\u001b[0m\u001b[1;33m\u001b[0m\u001b[1;33m\u001b[0m\u001b[0m\n\u001b[0;32m    517\u001b[0m \u001b[1;33m\u001b[0m\u001b[0m\n\u001b[1;32m--> 518\u001b[1;33m         X, y = self._validate_data(X, y, accept_sparse=accept_sparse,\n\u001b[0m\u001b[0;32m    519\u001b[0m                                    y_numeric=True, multi_output=True)\n\u001b[0;32m    520\u001b[0m \u001b[1;33m\u001b[0m\u001b[0m\n",
      "\u001b[1;32m~\\Anaconda3\\lib\\site-packages\\sklearn\\base.py\u001b[0m in \u001b[0;36m_validate_data\u001b[1;34m(self, X, y, reset, validate_separately, **check_params)\u001b[0m\n\u001b[0;32m    431\u001b[0m                 \u001b[0my\u001b[0m \u001b[1;33m=\u001b[0m \u001b[0mcheck_array\u001b[0m\u001b[1;33m(\u001b[0m\u001b[0my\u001b[0m\u001b[1;33m,\u001b[0m \u001b[1;33m**\u001b[0m\u001b[0mcheck_y_params\u001b[0m\u001b[1;33m)\u001b[0m\u001b[1;33m\u001b[0m\u001b[1;33m\u001b[0m\u001b[0m\n\u001b[0;32m    432\u001b[0m             \u001b[1;32melse\u001b[0m\u001b[1;33m:\u001b[0m\u001b[1;33m\u001b[0m\u001b[1;33m\u001b[0m\u001b[0m\n\u001b[1;32m--> 433\u001b[1;33m                 \u001b[0mX\u001b[0m\u001b[1;33m,\u001b[0m \u001b[0my\u001b[0m \u001b[1;33m=\u001b[0m \u001b[0mcheck_X_y\u001b[0m\u001b[1;33m(\u001b[0m\u001b[0mX\u001b[0m\u001b[1;33m,\u001b[0m \u001b[0my\u001b[0m\u001b[1;33m,\u001b[0m \u001b[1;33m**\u001b[0m\u001b[0mcheck_params\u001b[0m\u001b[1;33m)\u001b[0m\u001b[1;33m\u001b[0m\u001b[1;33m\u001b[0m\u001b[0m\n\u001b[0m\u001b[0;32m    434\u001b[0m             \u001b[0mout\u001b[0m \u001b[1;33m=\u001b[0m \u001b[0mX\u001b[0m\u001b[1;33m,\u001b[0m \u001b[0my\u001b[0m\u001b[1;33m\u001b[0m\u001b[1;33m\u001b[0m\u001b[0m\n\u001b[0;32m    435\u001b[0m \u001b[1;33m\u001b[0m\u001b[0m\n",
      "\u001b[1;32m~\\Anaconda3\\lib\\site-packages\\sklearn\\utils\\validation.py\u001b[0m in \u001b[0;36minner_f\u001b[1;34m(*args, **kwargs)\u001b[0m\n\u001b[0;32m     61\u001b[0m             \u001b[0mextra_args\u001b[0m \u001b[1;33m=\u001b[0m \u001b[0mlen\u001b[0m\u001b[1;33m(\u001b[0m\u001b[0margs\u001b[0m\u001b[1;33m)\u001b[0m \u001b[1;33m-\u001b[0m \u001b[0mlen\u001b[0m\u001b[1;33m(\u001b[0m\u001b[0mall_args\u001b[0m\u001b[1;33m)\u001b[0m\u001b[1;33m\u001b[0m\u001b[1;33m\u001b[0m\u001b[0m\n\u001b[0;32m     62\u001b[0m             \u001b[1;32mif\u001b[0m \u001b[0mextra_args\u001b[0m \u001b[1;33m<=\u001b[0m \u001b[1;36m0\u001b[0m\u001b[1;33m:\u001b[0m\u001b[1;33m\u001b[0m\u001b[1;33m\u001b[0m\u001b[0m\n\u001b[1;32m---> 63\u001b[1;33m                 \u001b[1;32mreturn\u001b[0m \u001b[0mf\u001b[0m\u001b[1;33m(\u001b[0m\u001b[1;33m*\u001b[0m\u001b[0margs\u001b[0m\u001b[1;33m,\u001b[0m \u001b[1;33m**\u001b[0m\u001b[0mkwargs\u001b[0m\u001b[1;33m)\u001b[0m\u001b[1;33m\u001b[0m\u001b[1;33m\u001b[0m\u001b[0m\n\u001b[0m\u001b[0;32m     64\u001b[0m \u001b[1;33m\u001b[0m\u001b[0m\n\u001b[0;32m     65\u001b[0m             \u001b[1;31m# extra_args > 0\u001b[0m\u001b[1;33m\u001b[0m\u001b[1;33m\u001b[0m\u001b[1;33m\u001b[0m\u001b[0m\n",
      "\u001b[1;32m~\\Anaconda3\\lib\\site-packages\\sklearn\\utils\\validation.py\u001b[0m in \u001b[0;36mcheck_X_y\u001b[1;34m(X, y, accept_sparse, accept_large_sparse, dtype, order, copy, force_all_finite, ensure_2d, allow_nd, multi_output, ensure_min_samples, ensure_min_features, y_numeric, estimator)\u001b[0m\n\u001b[0;32m    812\u001b[0m         \u001b[1;32mraise\u001b[0m \u001b[0mValueError\u001b[0m\u001b[1;33m(\u001b[0m\u001b[1;34m\"y cannot be None\"\u001b[0m\u001b[1;33m)\u001b[0m\u001b[1;33m\u001b[0m\u001b[1;33m\u001b[0m\u001b[0m\n\u001b[0;32m    813\u001b[0m \u001b[1;33m\u001b[0m\u001b[0m\n\u001b[1;32m--> 814\u001b[1;33m     X = check_array(X, accept_sparse=accept_sparse,\n\u001b[0m\u001b[0;32m    815\u001b[0m                     \u001b[0maccept_large_sparse\u001b[0m\u001b[1;33m=\u001b[0m\u001b[0maccept_large_sparse\u001b[0m\u001b[1;33m,\u001b[0m\u001b[1;33m\u001b[0m\u001b[1;33m\u001b[0m\u001b[0m\n\u001b[0;32m    816\u001b[0m                     \u001b[0mdtype\u001b[0m\u001b[1;33m=\u001b[0m\u001b[0mdtype\u001b[0m\u001b[1;33m,\u001b[0m \u001b[0morder\u001b[0m\u001b[1;33m=\u001b[0m\u001b[0morder\u001b[0m\u001b[1;33m,\u001b[0m \u001b[0mcopy\u001b[0m\u001b[1;33m=\u001b[0m\u001b[0mcopy\u001b[0m\u001b[1;33m,\u001b[0m\u001b[1;33m\u001b[0m\u001b[1;33m\u001b[0m\u001b[0m\n",
      "\u001b[1;32m~\\Anaconda3\\lib\\site-packages\\sklearn\\utils\\validation.py\u001b[0m in \u001b[0;36minner_f\u001b[1;34m(*args, **kwargs)\u001b[0m\n\u001b[0;32m     61\u001b[0m             \u001b[0mextra_args\u001b[0m \u001b[1;33m=\u001b[0m \u001b[0mlen\u001b[0m\u001b[1;33m(\u001b[0m\u001b[0margs\u001b[0m\u001b[1;33m)\u001b[0m \u001b[1;33m-\u001b[0m \u001b[0mlen\u001b[0m\u001b[1;33m(\u001b[0m\u001b[0mall_args\u001b[0m\u001b[1;33m)\u001b[0m\u001b[1;33m\u001b[0m\u001b[1;33m\u001b[0m\u001b[0m\n\u001b[0;32m     62\u001b[0m             \u001b[1;32mif\u001b[0m \u001b[0mextra_args\u001b[0m \u001b[1;33m<=\u001b[0m \u001b[1;36m0\u001b[0m\u001b[1;33m:\u001b[0m\u001b[1;33m\u001b[0m\u001b[1;33m\u001b[0m\u001b[0m\n\u001b[1;32m---> 63\u001b[1;33m                 \u001b[1;32mreturn\u001b[0m \u001b[0mf\u001b[0m\u001b[1;33m(\u001b[0m\u001b[1;33m*\u001b[0m\u001b[0margs\u001b[0m\u001b[1;33m,\u001b[0m \u001b[1;33m**\u001b[0m\u001b[0mkwargs\u001b[0m\u001b[1;33m)\u001b[0m\u001b[1;33m\u001b[0m\u001b[1;33m\u001b[0m\u001b[0m\n\u001b[0m\u001b[0;32m     64\u001b[0m \u001b[1;33m\u001b[0m\u001b[0m\n\u001b[0;32m     65\u001b[0m             \u001b[1;31m# extra_args > 0\u001b[0m\u001b[1;33m\u001b[0m\u001b[1;33m\u001b[0m\u001b[1;33m\u001b[0m\u001b[0m\n",
      "\u001b[1;32m~\\Anaconda3\\lib\\site-packages\\sklearn\\utils\\validation.py\u001b[0m in \u001b[0;36mcheck_array\u001b[1;34m(array, accept_sparse, accept_large_sparse, dtype, order, copy, force_all_finite, ensure_2d, allow_nd, ensure_min_samples, ensure_min_features, estimator)\u001b[0m\n\u001b[0;32m    635\u001b[0m             \u001b[1;31m# If input is 1D raise error\u001b[0m\u001b[1;33m\u001b[0m\u001b[1;33m\u001b[0m\u001b[1;33m\u001b[0m\u001b[0m\n\u001b[0;32m    636\u001b[0m             \u001b[1;32mif\u001b[0m \u001b[0marray\u001b[0m\u001b[1;33m.\u001b[0m\u001b[0mndim\u001b[0m \u001b[1;33m==\u001b[0m \u001b[1;36m1\u001b[0m\u001b[1;33m:\u001b[0m\u001b[1;33m\u001b[0m\u001b[1;33m\u001b[0m\u001b[0m\n\u001b[1;32m--> 637\u001b[1;33m                 raise ValueError(\n\u001b[0m\u001b[0;32m    638\u001b[0m                     \u001b[1;34m\"Expected 2D array, got 1D array instead:\\narray={}.\\n\"\u001b[0m\u001b[1;33m\u001b[0m\u001b[1;33m\u001b[0m\u001b[0m\n\u001b[0;32m    639\u001b[0m                     \u001b[1;34m\"Reshape your data either using array.reshape(-1, 1) if \"\u001b[0m\u001b[1;33m\u001b[0m\u001b[1;33m\u001b[0m\u001b[0m\n",
      "\u001b[1;31mValueError\u001b[0m: Expected 2D array, got 1D array instead:\narray=[3292. 2873. 4466. 1946. 1935. 4718. 2091. 2666. 2158. 5567. 1771. 3016.\n 1859. 3226. 5967. 5276. 2183. 2254. 2573. 2516. 2137.].\nReshape your data either using array.reshape(-1, 1) if your data has a single feature or array.reshape(1, -1) if it contains a single sample."
     ]
    }
   ],
   "source": [
    "from sklearn.linear_model import LinearRegression\n",
    "from sklearn.model_selection import train_test_split\n",
    "from sklearn.metrics import mean_squared_error, r2_score\n",
    "import numpy as np\n",
    "\n",
    "y_target = weight_list\n",
    "X_data = np.array(pixel_sort_values['pixel'].tolist())\n",
    "\n",
    "print(y_target)\n",
    "print(len(y_target))\n",
    "print(type())\n",
    "print(\"------------\")\n",
    "print(X_data)\n",
    "print(len(X_data))\n",
    "\n",
    "X_train, X_test, y_train, y_test = train_test_split(X_data, y_target, test_size=0.3, random_state=1)\n",
    "\n",
    "lr = LinearRegression()\n",
    "lr.fit(X_train, y_train)\n",
    "\n",
    "y_preds = lr.predict(X_test)\n",
    "mse = mean_squared_error(y_test, y_preds)\n",
    "rmse = np.sqrt(mse)\n",
    "\n",
    "print('MSE : {0: .3f}, RMSE : {1:.3F}'.format(mse, rmse))\n",
    "print('Variance score : {0:.3f}'.format(r2_score(y_test, y_preds)))"
   ]
  },
  {
   "cell_type": "code",
   "execution_count": null,
   "id": "0cf6b67f",
   "metadata": {},
   "outputs": [],
   "source": []
  }
 ],
 "metadata": {
  "kernelspec": {
   "display_name": "Python 3",
   "language": "python",
   "name": "python3"
  },
  "language_info": {
   "codemirror_mode": {
    "name": "ipython",
    "version": 3
   },
   "file_extension": ".py",
   "mimetype": "text/x-python",
   "name": "python",
   "nbconvert_exporter": "python",
   "pygments_lexer": "ipython3",
   "version": "3.8.8"
  }
 },
 "nbformat": 4,
 "nbformat_minor": 5
}
