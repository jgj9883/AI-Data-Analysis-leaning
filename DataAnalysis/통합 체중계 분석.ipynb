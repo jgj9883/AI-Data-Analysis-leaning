{
 "cells": [
  {
   "cell_type": "code",
   "execution_count": 1,
   "id": "794d9fad",
   "metadata": {},
   "outputs": [],
   "source": [
    "import pandas as pd\n",
    "import numpy as np\n",
    "import matplotlib as mpl\n",
    "import matplotlib.pyplot as plt\n",
    "import seaborn as sns\n",
    "from scipy import stats\n",
    "from sklearn.cluster import DBSCAN\n",
    "\n",
    "# 노트북 안에 그래프 그리기 위해\n",
    "%matplotlib inline\n",
    "\n",
    "# 그래프에서 격자로 숫자 범위가 눈에 잘 띄도록 gglot 스타일 사용\n",
    "plt.style.use('ggplot')\n",
    "\n",
    "# 그래프에서 마이너스 폰트 깨지는 문제에 대한 대처\n",
    "mpl.rcParams['axes.unicode_minus'] = False\n",
    "\n",
    "plt.rcParams['font.family'] = 'NanumGothic'"
   ]
  },
  {
   "cell_type": "code",
   "execution_count": 2,
   "id": "ac67b180",
   "metadata": {},
   "outputs": [
    {
     "data": {
      "text/plain": [
       "(11304, 9)"
      ]
     },
     "execution_count": 2,
     "metadata": {},
     "output_type": "execute_result"
    }
   ],
   "source": [
    "# 데이터 로드\n",
    "weight_df = pd.read_csv(\"data/tbl_file_collect(makgok).csv\")\n",
    "weight_df.shape"
   ]
  },
  {
   "cell_type": "code",
   "execution_count": 3,
   "id": "3faa27e0",
   "metadata": {},
   "outputs": [],
   "source": [
    "# weight\n",
    "weight_df = weight_df[['CREATE_TIME', 'HOUSE_ID', 'MODULE_ID', 'FILE_INFO']]\n",
    "weight_df['CREATE_TIME'] = pd.to_datetime(weight_df.CREATE_TIME, format='%Y-%m-%d %H:%M:%S')\n",
    "weight_df['HOUSE_ID'] = weight_df['HOUSE_ID'].astype(str)\n",
    "weight_df['MODULE_ID'] = weight_df['MODULE_ID'].astype(str)"
   ]
  },
  {
   "cell_type": "code",
   "execution_count": 4,
   "id": "f260fab3",
   "metadata": {},
   "outputs": [],
   "source": [
    "def str_change_remove(x):\n",
    "    data = x.split(',')\n",
    "    data = [float(x) for x in data if x != '']\n",
    "    data = data[1:]\n",
    "    return data\n",
    "\n",
    "weight_df['SENSOR_DATA'] = weight_df['FILE_INFO'].apply(str_change_remove)"
   ]
  },
  {
   "cell_type": "code",
   "execution_count": 5,
   "id": "27e6bf3a",
   "metadata": {},
   "outputs": [],
   "source": [
    "weight_df['seqAsX'] = weight_df.reset_index().groupby('CREATE_TIME')['index'].transform(lambda x: x.rank(method='first')) / 30\n",
    "weight_df['maxWeight'] = weight_df.groupby(['CREATE_TIME', 'HOUSE_ID', 'MODULE_ID'])[['SENSOR_DATA']].transform('max')"
   ]
  },
  {
   "cell_type": "code",
   "execution_count": 6,
   "id": "226220ce",
   "metadata": {},
   "outputs": [],
   "source": [
    "def apply_fn1(x, isPlot=False):\n",
    "    df = pd.DataFrame(x)\n",
    "    df_weight = pd.DataFrame(df['SENSOR_DATA'].iloc[0])\n",
    "    df_weight.rename(columns={0:'SENSOR_DATA'}, inplace=True)\n",
    "\n",
    "    # DBSCAN\n",
    "    # if len(x) <= 1 : return pd.DataFrame({'sensor_data' : [0], 'seqAsX' : [0], 'gp_mean' : max(df['gp_mean'] )})\n",
    "    model = DBSCAN(eps=15., min_samples=5, n_jobs=-1)  # min_samples=5,\n",
    "    # df['predict'] = model.fit_predict(df[['SENSOR_DATA', 'seqAsX']])\n",
    "    df_weight['predict'] = model.fit_predict(pd.DataFrame(df_weight['SENSOR_DATA']))\n",
    "\n",
    "    dicts = df_weight[df_weight.predict != -1].groupby(['predict'])['SENSOR_DATA'].mean().to_dict()\n",
    "    dicts2 = df_weight[df_weight.predict != -1].groupby(['predict'])['SENSOR_DATA'].count().to_dict()\n",
    "\n",
    "    if isPlot:\n",
    "        condition = (df_weight[\"predict\"] == -1)\n",
    "        plt.figure(figsize=(20, 10))\n",
    "        plt.title(f' Raw Weight Outlier ')\n",
    "        plt.scatter(x=df_weight[condition].index, y=df_weight[condition]['SENSOR_DATA'], color='red',label='outlier')\n",
    "        plt.scatter(x=df_weight[~(condition)].index, y=df_weight[~(condition)]['SENSOR_DATA'], color='blue',label='normal')\n",
    "        plt.legend(loc='best', ncol=3)\n",
    "        plt.show()\n",
    "\n",
    "    return pd.DataFrame({'house_id' : df['HOUSE_ID'].iloc[0],'module_id' : df['MODULE_ID'].iloc[0], 'create_time' : df['CREATE_TIME'].iloc[0], 'sensor_data': [x for x in dicts.values()], 'seqAsX': [x for x in dicts2.values()]})"
   ]
  },
  {
   "cell_type": "code",
   "execution_count": 7,
   "id": "318bd9b5",
   "metadata": {
    "scrolled": false
   },
   "outputs": [],
   "source": [
    "weight_gp = weight_df.groupby(['HOUSE_ID', 'MODULE_ID', 'CREATE_TIME'])[['HOUSE_ID', 'MODULE_ID','CREATE_TIME','SENSOR_DATA', 'seqAsX']].apply(apply_fn1)"
   ]
  },
  {
   "cell_type": "code",
   "execution_count": 9,
   "id": "1e2ed2ab",
   "metadata": {},
   "outputs": [
    {
     "name": "stdout",
     "output_type": "stream",
     "text": [
      "-------------------------------H01 -------------------------------\n",
      "           create_time  sensor_data  seqAsX house_id module_id\n",
      "0  2022-04-15 00:00:00   306.900000    15.0      H01   WE02081\n",
      "1  2022-04-15 06:00:00   131.598333    16.5      H01   WE02081\n",
      "2  2022-04-15 12:00:00   277.375571    16.0      H01   WE02081\n",
      "3  2022-04-15 18:00:00   389.958810    20.0      H01   WE02081\n",
      "4  2022-04-16 00:00:00   400.120667    14.0      H01   WE02081\n",
      "5  2022-04-16 06:00:00   658.056522    16.0      H01   WE02081\n",
      "6  2022-04-16 12:00:00   794.296667    16.0      H01   WE02081\n",
      "7  2022-04-16 18:00:00   658.366667    20.0      H01   WE02081\n",
      "8  2022-04-17 00:00:00   919.398462    16.0      H01   WE02081\n",
      "9  2022-04-17 06:00:00   780.705714    17.5      H01   WE02081\n",
      "10 2022-04-17 12:00:00  1041.890000    18.0      H01   WE02081\n",
      "11 2022-04-17 18:00:00   778.574583    23.0      H01   WE02081\n",
      "12 2022-04-18 00:00:00   656.030208    18.0      H01   WE02081\n",
      "13 2022-04-18 06:00:00   614.370833    17.0      H01   WE02081\n",
      "14 2022-04-18 12:00:00   881.413333    17.0      H01   WE02081\n",
      "15 2022-04-18 18:00:00   676.427273    24.0      H01   WE02081\n",
      "-------------------------------H02 -------------------------------\n",
      "           create_time  sensor_data  seqAsX house_id module_id\n",
      "0  2022-04-15 00:00:00   671.677778    16.0      H02   WE02082\n",
      "1  2022-04-15 06:00:00   715.366667    16.0      H02   WE02082\n",
      "2  2022-04-15 12:00:00   860.442857    15.0      H02   WE02082\n",
      "3  2022-04-15 18:00:00   627.968182    16.0      H02   WE02082\n",
      "4  2022-04-16 00:00:00   837.766667    13.0      H02   WE02082\n",
      "5  2022-04-16 06:00:00   822.760000    15.0      H02   WE02082\n",
      "6  2022-04-16 12:00:00  1024.257143    14.0      H02   WE02082\n",
      "7  2022-04-16 18:00:00   696.668478    15.0      H02   WE02082\n",
      "8  2022-04-17 00:00:00   801.587500    14.0      H02   WE02082\n",
      "9  2022-04-17 06:00:00   851.715789    13.0      H02   WE02082\n",
      "10 2022-04-17 12:00:00  1132.780000    13.0      H02   WE02082\n",
      "11 2022-04-17 18:00:00   458.604762    18.0      H02   WE02082\n",
      "12 2022-04-18 00:00:00   638.419318    14.0      H02   WE02082\n",
      "13 2022-04-18 06:00:00   436.030000    16.0      H02   WE02082\n",
      "14 2022-04-18 12:00:00   936.168750    14.0      H02   WE02082\n",
      "15 2022-04-18 18:00:00   442.633333    21.0      H02   WE02082\n",
      "-------------------------------H03 -------------------------------\n",
      "           create_time  sensor_data  seqAsX house_id module_id\n",
      "0  2022-04-15 06:00:00    16.195724    10.5      H03   WE02083\n",
      "1  2022-04-15 12:00:00    64.383333    16.0      H03   WE02083\n",
      "2  2022-04-15 18:00:00   146.851667    23.0      H03   WE02083\n",
      "3  2022-04-16 00:00:00   133.422039    14.0      H03   WE02083\n",
      "4  2022-04-16 06:00:00    75.020000    13.0      H03   WE02083\n",
      "5  2022-04-16 12:00:00   199.913095    15.0      H03   WE02083\n",
      "6  2022-04-16 18:00:00   154.816667    15.0      H03   WE02083\n",
      "7  2022-04-17 00:00:00   163.076413    16.0      H03   WE02083\n",
      "8  2022-04-17 06:00:00   195.082609    14.0      H03   WE02083\n",
      "9  2022-04-17 12:00:00   134.016275    15.0      H03   WE02083\n",
      "10 2022-04-17 18:00:00    93.365000    22.0      H03   WE02083\n",
      "11 2022-04-18 00:00:00   160.597126    16.5      H03   WE02083\n",
      "12 2022-04-18 06:00:00   341.434483    18.0      H03   WE02083\n",
      "13 2022-04-18 12:00:00   455.683333    19.0      H03   WE02083\n",
      "14 2022-04-18 18:00:00   211.733333    17.0      H03   WE02083\n",
      "-------------------------------H04 -------------------------------\n",
      "           create_time  sensor_data  seqAsX house_id module_id\n",
      "0  2022-04-15 00:00:00   318.103788    21.0      H04   WE02084\n",
      "1  2022-04-15 06:00:00   210.515000    17.0      H04   WE02084\n",
      "2  2022-04-15 12:00:00   405.452941    17.0      H04   WE02084\n",
      "3  2022-04-15 18:00:00   311.473810    16.5      H04   WE02084\n",
      "4  2022-04-16 00:00:00   240.667857    16.0      H04   WE02084\n",
      "5  2022-04-16 06:00:00   371.190000    14.5      H04   WE02084\n",
      "6  2022-04-16 12:00:00   286.340000    18.0      H04   WE02084\n",
      "7  2022-04-16 18:00:00   472.726410    22.0      H04   WE02084\n",
      "8  2022-04-17 00:00:00   233.270000    14.0      H04   WE02084\n",
      "9  2022-04-17 06:00:00   388.251250    19.0      H04   WE02084\n",
      "10 2022-04-17 12:00:00   669.300000    18.0      H04   WE02084\n",
      "11 2022-04-17 18:00:00   384.161905    21.0      H04   WE02084\n",
      "12 2022-04-18 00:00:00   245.356667    17.0      H04   WE02084\n",
      "13 2022-04-18 06:00:00   542.186207    17.0      H04   WE02084\n",
      "14 2022-04-18 12:00:00  1053.165000    18.0      H04   WE02084\n",
      "15 2022-04-18 18:00:00   790.108205    23.0      H04   WE02084\n"
     ]
    },
    {
     "data": {
      "image/png": "[encoded data removed]",
      "text/plain": [
       "<Figure size 1440x720 with 1 Axes>"
      ]
     },
     "metadata": {},
     "output_type": "display_data"
    }
   ],
   "source": [
    "house_id_list = sorted(set(weight_gp['house_id']))\n",
    "module_id_list = sorted(set(weight_gp['module_id']))\n",
    "\n",
    "weight_df_total = pd.DataFrame()\n",
    "for house_idx in house_id_list:\n",
    "    print(f\"-------------------------------{house_idx} -------------------------------\")\n",
    "    weight_house = weight_gp[weight_gp['house_id'] == house_idx]\n",
    "\n",
    "    for module_idx in module_id_list :\n",
    "        weight_df = weight_house[weight_house['module_id'] == module_idx].groupby(pd.Grouper(key='create_time', freq='6h')).median()\n",
    "        if len(weight_df) == 0 :\n",
    "            continue\n",
    "        weight_df = weight_df.reset_index()\n",
    "        weight_df['house_id'] = house_idx\n",
    "        weight_df['module_id'] = module_idx\n",
    "\n",
    "        print(weight_df)\n",
    "        weight_df_total = pd.concat((weight_df_total, weight_df), sort=False)\n",
    "\n",
    "isPlot = True\n",
    "if isPlot:\n",
    "    plt.figure(figsize=(20, 10))\n",
    "    plt.title(f' Weight Sensor Data')\n",
    "    #plt.scatter(x=weight_df_total[weight_df_total['house_id'] == 'H01']['create_time'], y=weight_df_total[weight_df_total['house_id'] == 'H01']['sensor_data'], color='red', label='weight')\n",
    "    plt.scatter(x=weight_df_total[weight_df_total['house_id'] == 'H02']['create_time'], y=weight_df_total[weight_df_total['house_id'] == 'H02']['sensor_data'], color='green', label='weight')\n",
    "    #plt.scatter(x=weight_df_total[weight_df_total['house_id'] == 'H03']['create_time'], y=weight_df_total[weight_df_total['house_id'] == 'H03']['sensor_data'], color='blue', label='weight')\n",
    "    #plt.scatter(x=weight_df_total[weight_df_total['house_id'] == 'H04']['create_time'], y=weight_df_total[weight_df_total['house_id'] == 'H04']['sensor_data'], color='orange', label='weight')\n",
    "    plt.legend(loc='best', ncol=4)\n",
    "    plt.show()"
   ]
  },
  {
   "cell_type": "code",
   "execution_count": null,
   "id": "5c7bc654",
   "metadata": {},
   "outputs": [],
   "source": []
  }
 ],
 "metadata": {
  "kernelspec": {
   "display_name": "Python 3",
   "language": "python",
   "name": "python3"
  },
  "language_info": {
   "codemirror_mode": {
    "name": "ipython",
    "version": 3
   },
   "file_extension": ".py",
   "mimetype": "text/x-python",
   "name": "python",
   "nbconvert_exporter": "python",
   "pygments_lexer": "ipython3",
   "version": "3.8.8"
  }
 },
 "nbformat": 4,
 "nbformat_minor": 5
}
