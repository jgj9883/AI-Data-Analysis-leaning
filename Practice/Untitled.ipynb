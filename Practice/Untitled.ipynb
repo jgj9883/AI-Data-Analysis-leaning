{
 "cells": [
  {
   "cell_type": "code",
   "execution_count": 2,
   "id": "16d640e2",
   "metadata": {},
   "outputs": [],
   "source": [
    "import numpy as np\n",
    "import pandas as pd\n",
    "import math"
   ]
  },
  {
   "cell_type": "code",
   "execution_count": 14,
   "id": "a6203f3f",
   "metadata": {},
   "outputs": [],
   "source": [
    "df = pd.DataFrame({'국어':[51,65,78],\\\n",
    "                   '수학':[80,90,100]},\\\n",
    "                 index=['홍길동','전규빈','규빈'])\n",
    "\n",
    "def min_max(x):\n",
    "    return x.max()-x.min()"
   ]
  },
  {
   "cell_type": "code",
   "execution_count": 15,
   "id": "e97858e2",
   "metadata": {},
   "outputs": [
    {
     "data": {
      "text/html": [
       "<div>\n",
       "<style scoped>\n",
       "    .dataframe tbody tr th:only-of-type {\n",
       "        vertical-align: middle;\n",
       "    }\n",
       "\n",
       "    .dataframe tbody tr th {\n",
       "        vertical-align: top;\n",
       "    }\n",
       "\n",
       "    .dataframe thead th {\n",
       "        text-align: right;\n",
       "    }\n",
       "</style>\n",
       "<table border=\"1\" class=\"dataframe\">\n",
       "  <thead>\n",
       "    <tr style=\"text-align: right;\">\n",
       "      <th></th>\n",
       "      <th>국어</th>\n",
       "      <th>수학</th>\n",
       "    </tr>\n",
       "  </thead>\n",
       "  <tbody>\n",
       "    <tr>\n",
       "      <th>홍길동</th>\n",
       "      <td>7.141428</td>\n",
       "      <td>8.944272</td>\n",
       "    </tr>\n",
       "    <tr>\n",
       "      <th>전규빈</th>\n",
       "      <td>8.062258</td>\n",
       "      <td>9.486833</td>\n",
       "    </tr>\n",
       "    <tr>\n",
       "      <th>규빈</th>\n",
       "      <td>8.831761</td>\n",
       "      <td>10.000000</td>\n",
       "    </tr>\n",
       "  </tbody>\n",
       "</table>\n",
       "</div>"
      ],
      "text/plain": [
       "           국어         수학\n",
       "홍길동  7.141428   8.944272\n",
       "전규빈  8.062258   9.486833\n",
       "규빈   8.831761  10.000000"
      ]
     },
     "execution_count": 15,
     "metadata": {},
     "output_type": "execute_result"
    }
   ],
   "source": [
    "df.apply(np.sqrt, axis=0)"
   ]
  },
  {
   "cell_type": "code",
   "execution_count": 16,
   "id": "b2276e81",
   "metadata": {},
   "outputs": [
    {
     "data": {
      "text/plain": [
       "국어    64.666667\n",
       "수학    90.000000\n",
       "dtype: float64"
      ]
     },
     "execution_count": 16,
     "metadata": {},
     "output_type": "execute_result"
    }
   ],
   "source": [
    "df.apply(np.average, axis=0)"
   ]
  },
  {
   "cell_type": "code",
   "execution_count": 17,
   "id": "d0bfb1ef",
   "metadata": {},
   "outputs": [
    {
     "data": {
      "text/plain": [
       "홍길동    65.5\n",
       "전규빈    77.5\n",
       "규빈     89.0\n",
       "dtype: float64"
      ]
     },
     "execution_count": 17,
     "metadata": {},
     "output_type": "execute_result"
    }
   ],
   "source": [
    "df.apply(np.average, axis=1)"
   ]
  },
  {
   "cell_type": "code",
   "execution_count": 18,
   "id": "5c47274e",
   "metadata": {},
   "outputs": [
    {
     "data": {
      "text/plain": [
       "홍길동    65.5\n",
       "전규빈    77.5\n",
       "규빈     89.0\n",
       "dtype: float64"
      ]
     },
     "execution_count": 18,
     "metadata": {},
     "output_type": "execute_result"
    }
   ],
   "source": [
    "df.agg(np.average, axis=1)"
   ]
  },
  {
   "cell_type": "code",
   "execution_count": 19,
   "id": "b69100a6",
   "metadata": {},
   "outputs": [
    {
     "data": {
      "text/plain": [
       "국어    27\n",
       "수학    20\n",
       "dtype: int64"
      ]
     },
     "execution_count": 19,
     "metadata": {},
     "output_type": "execute_result"
    }
   ],
   "source": [
    "df.agg(min_max)"
   ]
  },
  {
   "cell_type": "code",
   "execution_count": 20,
   "id": "6bd57f30",
   "metadata": {},
   "outputs": [
    {
     "data": {
      "text/plain": [
       "국어    27\n",
       "수학    20\n",
       "dtype: int64"
      ]
     },
     "execution_count": 20,
     "metadata": {},
     "output_type": "execute_result"
    }
   ],
   "source": [
    "df.apply(min_max)"
   ]
  },
  {
   "cell_type": "code",
   "execution_count": null,
   "id": "1fb843c6",
   "metadata": {},
   "outputs": [],
   "source": []
  }
 ],
 "metadata": {
  "kernelspec": {
   "display_name": "Python 3",
   "language": "python",
   "name": "python3"
  },
  "language_info": {
   "codemirror_mode": {
    "name": "ipython",
    "version": 3
   },
   "file_extension": ".py",
   "mimetype": "text/x-python",
   "name": "python",
   "nbconvert_exporter": "python",
   "pygments_lexer": "ipython3",
   "version": "3.8.8"
  }
 },
 "nbformat": 4,
 "nbformat_minor": 5
}
