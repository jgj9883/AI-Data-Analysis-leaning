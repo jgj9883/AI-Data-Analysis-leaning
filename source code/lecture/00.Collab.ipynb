{
 "cells": [
  {
   "cell_type": "markdown",
   "metadata": {
    "id": "hIdapiHzYGU0"
   },
   "source": [
    "# Google Collab\n",
    "\n",
    "```\n",
    "GPU, TPU 등 computing 자원을 포함한 notebook을 무료로 제공\n",
    "```\n",
    "\n",
    "1. 셀 선택, 편집 모드 진입/선택모드\n",
    "2. 셀을 실행하는 방법들\n",
    "3. 마크다운 셀 / 코드 셀 전환\n",
    "4. 셀 생성, 셀 삭제\n",
    "5. 링크 삽입 / 이미지 삽입\n",
    "6. 저장과 노트 **설정**\n",
    "7. 구글드라이브연동\n"
   ]
  },
  {
   "cell_type": "markdown",
   "metadata": {
    "id": "1_kRePHhZ9zk"
   },
   "source": [
    "## 0. 주의\n",
    "\n",
    "* 실행 결과가 나오기전에 반복실행은 삼가주세요.\n",
    "* 코드가 너무 오래 도는것 같은 경우 Ctrl+ M + I (실행 종료 단축키) 를 눌러 코드를 멈춰주세요.\n",
    "* 뭔가 완전히 망한 것 같은 경우 Ctrl+M+.(dot)을 눌러서 런타임을 재시작 하면 됩니다. (위의 메뉴를 통해서도 가능합니다.)\n",
    "* 우측 상단에 댓글, 공유 아래에 녹색으로 '연결됨'이라고 되어있는지 체크해주세요."
   ]
  },
  {
   "cell_type": "markdown",
   "metadata": {
    "id": "dM3EintAaIu0"
   },
   "source": [
    "## 1. 셀 선택, 편집 모드 진입 / 선택 모드\n",
    "\n",
    "Arrows, Enter, Esc 마음껏 움직여 보라!\n",
    "\n",
    "Q1. 편집모드와 선택모드를 구별 할 수 있나요?"
   ]
  },
  {
   "cell_type": "markdown",
   "metadata": {
    "id": "Z4cE75xhaNe8"
   },
   "source": [
    "* 편집모드 : 엔터를 쳐야 들어갈 수 있습니다. \n",
    "* 선택모드 : esc를 눌러서 빠져나올 수 있습니다. \n",
    "* 선택모드에서는 화살표 위아래로 셀 선택을 할 수 있습니다."
   ]
  },
  {
   "cell_type": "markdown",
   "metadata": {
    "id": "Im2GX7h3adeA"
   },
   "source": [
    "## 2. 셀을 실행하는 방법들\n",
    "\n",
    "Alt / Ctrl / Shift + Enter\n",
    "\n",
    "Q1. 각각의 차이점을 적어보자!\n",
    "1. Ctrl + Enter 는 실행하고 제자리\n",
    "2. Shift + Enter 는 실행하고 아래 셀로 이동\n",
    "3. Alt + Enter 는 실행하고 아래에 셀을 하나 만들어서 이동\n"
   ]
  },
  {
   "cell_type": "code",
   "execution_count": null,
   "metadata": {
    "colab": {
     "base_uri": "https://localhost:8080/"
    },
    "executionInfo": {
     "elapsed": 380,
     "status": "ok",
     "timestamp": 1627866705641,
     "user": {
      "displayName": "조한별",
      "photoUrl": "",
      "userId": "13719229561479595538"
     },
     "user_tz": -540
    },
    "id": "iMnhoBZCahj6",
    "outputId": "63ecdcc7-2416-4d7a-ee70-20e4a3081df1"
   },
   "outputs": [
    {
     "name": "stdout",
     "output_type": "stream",
     "text": [
      "Hello? Is it Han you are looking for?\n"
     ]
    }
   ],
   "source": [
    "myName = 'Han'\n",
    "print(f'Hello? Is it {myName} you are looking for?')"
   ]
  },
  {
   "cell_type": "markdown",
   "metadata": {
    "id": "rlEh-4sjavuO"
   },
   "source": [
    "## 3. 마크다운 셀 / 코드 셀 전환\n",
    "\n",
    "\n",
    "Google Colaboratory 의 단축키들은 상당수 Ctrl + M 으로 시작을 합니다.\n",
    "\n",
    "\n",
    "* 마크다운으로 전환 : Ctrl + M M\n",
    "* 코드셀로 전환 : Ctrl + M Y"
   ]
  },
  {
   "cell_type": "markdown",
   "metadata": {
    "id": "vFWvj9DJbKSd"
   },
   "source": [
    "#### 여기는 마크다운 셀\n",
    "\n",
    "1. Please change this cell into a MarkDown Cell\n",
    "\n",
    "or we can't run this cell correctly"
   ]
  },
  {
   "cell_type": "code",
   "execution_count": null,
   "metadata": {
    "colab": {
     "base_uri": "https://localhost:8080/"
    },
    "executionInfo": {
     "elapsed": 324,
     "status": "ok",
     "timestamp": 1627868290509,
     "user": {
      "displayName": "조한별",
      "photoUrl": "",
      "userId": "13719229561479595538"
     },
     "user_tz": -540
    },
    "id": "j1J1wS2gbL3t",
    "outputId": "bc93320b-4ca3-439f-8c9e-f51556d93143"
   },
   "outputs": [
    {
     "name": "stdout",
     "output_type": "stream",
     "text": [
      "Han, How are you?\n"
     ]
    }
   ],
   "source": [
    "### 여기는 코드셀\n",
    "myName='Han'\n",
    "print(f'{myName}, How are you?')"
   ]
  },
  {
   "cell_type": "markdown",
   "metadata": {
    "id": "2GiqDYvdbuiv"
   },
   "source": [
    "## 4. 셀 생성, 셀 삭제"
   ]
  },
  {
   "cell_type": "markdown",
   "metadata": {
    "id": "QFYi51dGb9nx"
   },
   "source": [
    "선택된 셀 기준으로\n",
    "* 위에 셀 생성 : Ctrl + M A\n",
    "* 아래에 셀 생성 : Ctrl + M B\n",
    "* 선택된 셀 삭제: Ctrl + M D\n"
   ]
  },
  {
   "cell_type": "markdown",
   "metadata": {
    "id": "a6h2miFccF14"
   },
   "source": [
    "# 제목\n",
    "## 부제목\n",
    "### 소제\n",
    "\n",
    "#### 줄바꿈 방법\n",
    "\n",
    "안녕! 반가워\n",
    "\n",
    "안녕! 반가워<br>\n",
    "안녕! 반가워  \n",
    "안녕! 반가워\n",
    "\n",
    "1. 이렇게\n",
    "2. 앞에 숫자를 적을 수 있어\n",
    "* 이렇게 \n",
    "* 숫자는 안 적고  나열할 수 있어 \n"
   ]
  },
  {
   "cell_type": "markdown",
   "metadata": {
    "id": "qXXvDcypcZir"
   },
   "source": [
    "## 5. 링크 삽입, 이미지 삽입\n",
    "\n",
    "\n",
    "[Imagine Dragons - Believer](https://www.youtube.com/watch?v=7wtfhZwyrcc)\n",
    "\n",
    "[여기를 눌러보면 좋은 방법들이 많다!](https://gist.github.com/ninanung/2b81a5db946c26c98c573e3662a92b62)\n",
    "\n",
    "\n",
    "![이미지](https://dimg.donga.com/wps/NEWS/IMAGE/2021/05/17/106973774.2.jpg  \"Next Level\")\n",
    "* 출처 : 동아일보\n",
    "\n",
    "\n"
   ]
  },
  {
   "cell_type": "markdown",
   "metadata": {
    "id": "MLMquAMHdWW9"
   },
   "source": [
    "### 이미지 링크 예제\n",
    "* 이미지를 연결해 보세요  \n",
    "![이름]()"
   ]
  },
  {
   "cell_type": "markdown",
   "metadata": {
    "id": "PB16X2jzdkyq"
   },
   "source": [
    "## 6. 저장과 노트 설정\n",
    "\n",
    "* 저장 : Ctrl + S\n",
    "* 수정 -> 노트 설정\n"
   ]
  },
  {
   "cell_type": "markdown",
   "metadata": {
    "id": "JzpPkAmSdqxY"
   },
   "source": [
    "## 7. 파일 업로드 / 다운로드"
   ]
  },
  {
   "cell_type": "markdown",
   "metadata": {
    "id": "h6f8Uflkdxwv"
   },
   "source": [
    "작업 공간의 경로를 확인해봅시다. ls 혹은 !ls를 이용합니다.\n",
    "\n",
    "mkdir, cd 등의 명령어를 사용할 수 있습니다."
   ]
  },
  {
   "cell_type": "code",
   "execution_count": null,
   "metadata": {
    "colab": {
     "base_uri": "https://localhost:8080/"
    },
    "executionInfo": {
     "elapsed": 311,
     "status": "ok",
     "timestamp": 1627867604561,
     "user": {
      "displayName": "조한별",
      "photoUrl": "",
      "userId": "13719229561479595538"
     },
     "user_tz": -540
    },
    "id": "eBv17QHZd6Hq",
    "outputId": "89ee0876-a997-4e55-efcf-f5ab9dc6d536"
   },
   "outputs": [
    {
     "name": "stdout",
     "output_type": "stream",
     "text": [
      "\u001b[0m\u001b[01;34msample_data\u001b[0m/  test.py\n"
     ]
    }
   ],
   "source": [
    "ls"
   ]
  },
  {
   "cell_type": "markdown",
   "metadata": {
    "id": "ZFTErAQyd_Vb"
   },
   "source": [
    "notebook의 magic commad를 이용해보자!\n",
    "\n",
    "* %load filename.py\n",
    "* %run filename.py\n",
    "* %%writefile file.py\n",
    "\n",
    "위 기능들은 알아두면 좋다!"
   ]
  },
  {
   "cell_type": "code",
   "execution_count": null,
   "metadata": {
    "colab": {
     "base_uri": "https://localhost:8080/"
    },
    "executionInfo": {
     "elapsed": 329,
     "status": "ok",
     "timestamp": 1627867598989,
     "user": {
      "displayName": "조한별",
      "photoUrl": "",
      "userId": "13719229561479595538"
     },
     "user_tz": -540
    },
    "id": "r-Zx5PkSeES5",
    "outputId": "acd872ad-08b5-41d1-ba84-4b430ee2891e"
   },
   "outputs": [
    {
     "name": "stdout",
     "output_type": "stream",
     "text": [
      "Writing test.py\n"
     ]
    }
   ],
   "source": [
    "%%writefile  test.py\n",
    "\n",
    "print('hello?')"
   ]
  },
  {
   "cell_type": "code",
   "execution_count": null,
   "metadata": {
    "colab": {
     "base_uri": "https://localhost:8080/"
    },
    "executionInfo": {
     "elapsed": 416,
     "status": "ok",
     "timestamp": 1627867632272,
     "user": {
      "displayName": "조한별",
      "photoUrl": "",
      "userId": "13719229561479595538"
     },
     "user_tz": -540
    },
    "id": "cpxBHIz-eLR7",
    "outputId": "ffae5baa-48f2-402c-aa05-8f1551a5157f"
   },
   "outputs": [
    {
     "name": "stdout",
     "output_type": "stream",
     "text": [
      "\u001b[0m\u001b[01;34msample_data\u001b[0m/  test.py\n"
     ]
    }
   ],
   "source": [
    "ls # test.py "
   ]
  },
  {
   "cell_type": "markdown",
   "metadata": {
    "id": "Sji1snV3eRSN"
   },
   "source": [
    "#### 파일 가져오기.\n",
    "* 외부 라이브러리를 load 해야 한다. "
   ]
  },
  {
   "cell_type": "code",
   "execution_count": null,
   "metadata": {
    "id": "tQCVE3Y0ebbi"
   },
   "outputs": [],
   "source": [
    "from google.colab import files"
   ]
  },
  {
   "cell_type": "code",
   "execution_count": null,
   "metadata": {
    "colab": {
     "base_uri": "https://localhost:8080/",
     "height": 17
    },
    "executionInfo": {
     "elapsed": 287,
     "status": "ok",
     "timestamp": 1627867703029,
     "user": {
      "displayName": "조한별",
      "photoUrl": "",
      "userId": "13719229561479595538"
     },
     "user_tz": -540
    },
    "id": "a_ea7epIecGB",
    "outputId": "d51db8a0-e2ba-4380-b219-2df808bd44f0"
   },
   "outputs": [
    {
     "data": {
      "application/javascript": [
       "\n",
       "    async function download(id, filename, size) {\n",
       "      if (!google.colab.kernel.accessAllowed) {\n",
       "        return;\n",
       "      }\n",
       "      const div = document.createElement('div');\n",
       "      const label = document.createElement('label');\n",
       "      label.textContent = `Downloading \"${filename}\": `;\n",
       "      div.appendChild(label);\n",
       "      const progress = document.createElement('progress');\n",
       "      progress.max = size;\n",
       "      div.appendChild(progress);\n",
       "      document.body.appendChild(div);\n",
       "\n",
       "      const buffers = [];\n",
       "      let downloaded = 0;\n",
       "\n",
       "      const channel = await google.colab.kernel.comms.open(id);\n",
       "      // Send a message to notify the kernel that we're ready.\n",
       "      channel.send({})\n",
       "\n",
       "      for await (const message of channel.messages) {\n",
       "        // Send a message to notify the kernel that we're ready.\n",
       "        channel.send({})\n",
       "        if (message.buffers) {\n",
       "          for (const buffer of message.buffers) {\n",
       "            buffers.push(buffer);\n",
       "            downloaded += buffer.byteLength;\n",
       "            progress.value = downloaded;\n",
       "          }\n",
       "        }\n",
       "      }\n",
       "      const blob = new Blob(buffers, {type: 'application/binary'});\n",
       "      const a = document.createElement('a');\n",
       "      a.href = window.URL.createObjectURL(blob);\n",
       "      a.download = filename;\n",
       "      div.appendChild(a);\n",
       "      a.click();\n",
       "      div.remove();\n",
       "    }\n",
       "  "
      ],
      "text/plain": [
       "<IPython.core.display.Javascript object>"
      ]
     },
     "metadata": {
      "tags": []
     },
     "output_type": "display_data"
    },
    {
     "data": {
      "application/javascript": [
       "download(\"download_aa12516d-02d5-4a01-86b0-8db2bc37628e\", \"test.py\", 16)"
      ],
      "text/plain": [
       "<IPython.core.display.Javascript object>"
      ]
     },
     "metadata": {
      "tags": []
     },
     "output_type": "display_data"
    }
   ],
   "source": [
    "# 다운로드는 아래와 같은 명령어로 진행한다.\n",
    "\n",
    "files.download('test.py')"
   ]
  },
  {
   "cell_type": "code",
   "execution_count": null,
   "metadata": {
    "colab": {
     "base_uri": "https://localhost:8080/",
     "height": 73,
     "resources": {
      "http://localhost:8080/nbextensions/google.colab/files.js": {
       "data": "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",
       "headers": [
        [
         "content-type",
         "application/javascript"
        ]
       ],
       "ok": true,
       "status": 200,
       "status_text": ""
      }
     }
    },
    "executionInfo": {
     "elapsed": 21036,
     "status": "ok",
     "timestamp": 1627867734702,
     "user": {
      "displayName": "조한별",
      "photoUrl": "",
      "userId": "13719229561479595538"
     },
     "user_tz": -540
    },
    "id": "KNmv-FBaeeP8",
    "outputId": "a605928f-af75-4a6e-cb56-9fdb96982009"
   },
   "outputs": [
    {
     "data": {
      "text/html": [
       "\n",
       "     <input type=\"file\" id=\"files-abc553b5-0525-444f-ad63-b566f3cc11dd\" name=\"files[]\" multiple disabled\n",
       "        style=\"border:none\" />\n",
       "     <output id=\"result-abc553b5-0525-444f-ad63-b566f3cc11dd\">\n",
       "      Upload widget is only available when the cell has been executed in the\n",
       "      current browser session. Please rerun this cell to enable.\n",
       "      </output>\n",
       "      <script src=\"/nbextensions/google.colab/files.js\"></script> "
      ],
      "text/plain": [
       "<IPython.core.display.HTML object>"
      ]
     },
     "metadata": {
      "tags": []
     },
     "output_type": "display_data"
    },
    {
     "name": "stdout",
     "output_type": "stream",
     "text": [
      "Saving test.py to test (1).py\n"
     ]
    }
   ],
   "source": [
    "# 업로드는 아래와 같은 명령어로 진행한다.\n",
    "\n",
    "uploaded = files.upload()"
   ]
  },
  {
   "cell_type": "code",
   "execution_count": null,
   "metadata": {
    "colab": {
     "base_uri": "https://localhost:8080/"
    },
    "executionInfo": {
     "elapsed": 319,
     "status": "ok",
     "timestamp": 1627867746521,
     "user": {
      "displayName": "조한별",
      "photoUrl": "",
      "userId": "13719229561479595538"
     },
     "user_tz": -540
    },
    "id": "OK0eMvjseg43",
    "outputId": "ab5bbdeb-6cdb-4647-d769-c13914458ddb"
   },
   "outputs": [
    {
     "data": {
      "text/plain": [
       "{'test.py': b\"\\nprint('hello?')\"}"
      ]
     },
     "execution_count": 20,
     "metadata": {
      "tags": []
     },
     "output_type": "execute_result"
    }
   ],
   "source": [
    "# uploaded는 dictionary가 된다. 아래와 같은 내용을 담게 된다.\n",
    "# 파일 이름 : 내용\n",
    "uploaded"
   ]
  },
  {
   "cell_type": "code",
   "execution_count": null,
   "metadata": {
    "colab": {
     "base_uri": "https://localhost:8080/"
    },
    "executionInfo": {
     "elapsed": 332,
     "status": "ok",
     "timestamp": 1627867773179,
     "user": {
      "displayName": "조한별",
      "photoUrl": "",
      "userId": "13719229561479595538"
     },
     "user_tz": -540
    },
    "id": "PgAwnED9eroo",
    "outputId": "046039a1-33f7-4eea-cd4e-dba9c887a5ff"
   },
   "outputs": [
    {
     "name": "stdout",
     "output_type": "stream",
     "text": [
      " sample_data  'test (1).py'   test.py\n"
     ]
    }
   ],
   "source": [
    "# 업로드 된 파일 잘 업로드 되었는지 확인!\n",
    "!ls"
   ]
  },
  {
   "cell_type": "markdown",
   "metadata": {
    "id": "SfIQl8gke1g7"
   },
   "source": [
    "## 8. 구글드라이브연동\n",
    "\n",
    "**원래는 매우 복잡한 코드와, 불안정한 무언가였음! 지금은 그렇지 아니하다!**\n",
    "\n",
    "연동이 성공적으로 된다면, 구글 드라이브 내에서 파일을 업로드/다운로드 하며 사용할 수 있다.\n",
    "\n",
    "주의 : 노트북 마다 새로이 연동을 시켜야 한다."
   ]
  },
  {
   "cell_type": "markdown",
   "metadata": {
    "id": "JVtKv8Lae6cT"
   },
   "source": [
    "### 8-1. 작업 경로를 일단 확실히 하자\n",
    "\n",
    "기본적으로는 /content 폴더 위에서 작업을 하게 된다. 다른 곳 가지말고(!) 여기 위에서 계속 작업해보자"
   ]
  },
  {
   "cell_type": "code",
   "execution_count": null,
   "metadata": {
    "colab": {
     "base_uri": "https://localhost:8080/"
    },
    "executionInfo": {
     "elapsed": 379,
     "status": "ok",
     "timestamp": 1627867838813,
     "user": {
      "displayName": "조한별",
      "photoUrl": "",
      "userId": "13719229561479595538"
     },
     "user_tz": -540
    },
    "id": "prApsGUpe-Uh",
    "outputId": "7669180a-b5fa-4fd7-b927-e14ac0f5c3a5"
   },
   "outputs": [
    {
     "name": "stdout",
     "output_type": "stream",
     "text": [
      "/content\n"
     ]
    }
   ],
   "source": [
    "import os\n",
    "print(os.getcwd())"
   ]
  },
  {
   "cell_type": "markdown",
   "metadata": {
    "id": "wPiWmmDYe_Yi"
   },
   "source": [
    "### 8-2. 구글 드라이브를 마운트 해보자!\n",
    "\n",
    "```\n",
    "drive.mount(path)\n",
    "```\n",
    "를 이용한다. 이때 path가 기본 path면('/content' or './') 무슨 문제가 일어나는지 확인해보자.\n",
    "\n",
    "우리는 기본 path에 폴더를 하나 만들면서 마운트 하자!"
   ]
  },
  {
   "cell_type": "code",
   "execution_count": null,
   "metadata": {
    "id": "NVXvdOvLfIF8"
   },
   "outputs": [],
   "source": [
    "from google.colab import drive"
   ]
  },
  {
   "cell_type": "code",
   "execution_count": null,
   "metadata": {
    "colab": {
     "base_uri": "https://localhost:8080/"
    },
    "executionInfo": {
     "elapsed": 19567,
     "status": "ok",
     "timestamp": 1627867902100,
     "user": {
      "displayName": "조한별",
      "photoUrl": "",
      "userId": "13719229561479595538"
     },
     "user_tz": -540
    },
    "id": "k8Y15bpVfIcG",
    "outputId": "eaaa893f-4c66-49e2-f692-95feccf8ff2c"
   },
   "outputs": [
    {
     "name": "stdout",
     "output_type": "stream",
     "text": [
      "Mounted at ./gd\n"
     ]
    }
   ],
   "source": [
    "# google 계정이 당연히(?) 있어야 한다 \n",
    "drive.mount('./gd')"
   ]
  },
  {
   "cell_type": "markdown",
   "metadata": {
    "id": "n-HErjmOfKJS"
   },
   "source": [
    "### 8-3. 만든 폴더로 들어가보면?!"
   ]
  },
  {
   "cell_type": "code",
   "execution_count": null,
   "metadata": {
    "colab": {
     "base_uri": "https://localhost:8080/"
    },
    "executionInfo": {
     "elapsed": 411,
     "status": "ok",
     "timestamp": 1627867961384,
     "user": {
      "displayName": "조한별",
      "photoUrl": "",
      "userId": "13719229561479595538"
     },
     "user_tz": -540
    },
    "id": "C96LDnmffVuV",
    "outputId": "ff27370e-6821-49f8-c473-81e4ae87bfdb"
   },
   "outputs": [
    {
     "name": "stdout",
     "output_type": "stream",
     "text": [
      "[Errno 2] No such file or directory: 'gd/My Drive'\n",
      "/content/gd/My Drive\n"
     ]
    }
   ],
   "source": [
    "cd gd/My Drive"
   ]
  },
  {
   "cell_type": "code",
   "execution_count": null,
   "metadata": {
    "colab": {
     "base_uri": "https://localhost:8080/"
    },
    "executionInfo": {
     "elapsed": 426,
     "status": "ok",
     "timestamp": 1627867968965,
     "user": {
      "displayName": "조한별",
      "photoUrl": "",
      "userId": "13719229561479595538"
     },
     "user_tz": -540
    },
    "id": "g10hkh4MfdPn",
    "outputId": "defc7cd2-3c1f-42e8-e7f2-4d4346379750"
   },
   "outputs": [
    {
     "name": "stdout",
     "output_type": "stream",
     "text": [
      " \u001b[0m\u001b[01;34m정리\u001b[0m/                                              \u001b[01;34mMackup\u001b[0m/\n",
      " 플랫폼개선_방안_20191014.pptx                      \u001b[01;34mpython\u001b[0m/\n",
      "\u001b[01;34m'Colab Notebooks'\u001b[0m/                                  \u001b[01;34mR\u001b[0m/\n",
      "'EDA tool 소개자료 시나리오_20191127_R02.gslides'   \u001b[01;34mtest\u001b[0m/\n",
      "'EDA tool 소개자료 시나리오_20191127_R02.ppt'       Untitled0.ipynb\n",
      " \u001b[01;34mhappy-voice-2020\u001b[0m/\n"
     ]
    }
   ],
   "source": [
    "ls"
   ]
  },
  {
   "cell_type": "markdown",
   "metadata": {
    "id": "ndaTRv42ffI7"
   },
   "source": [
    "###(Optional)8-4. 원래는 다음의 코드 처럼 복잡하고 어렵던 무언가\n",
    "였다!\n",
    "\n",
    "예전의 설명들 :<br>\n",
    "일단, 구글 드라이브와 연동을 시도한다.\n",
    "\n",
    "인내심을 가지고 천천히 기다리자, 코드 반복실행등을 하면 할 수록 늦어\n",
    "지거나 응답하지 않는다.\n",
    "\n",
    "```\n",
    "!apt-get install -y -qq software-properties-common python-software-properties module-init-tools\n",
    "!add-apt-repository -y ppa:alessandro-strada/ppa 2>&1 > /dev/null\n",
    "!apt-get update -qq 2>&1 > /dev/null\n",
    "!apt-get -y install -qq google-drive-ocamlfuse fuse\n",
    "from google.colab import auth\n",
    "auth.authenticate_user()\n",
    "from oauth2client.client import GoogleCredentials\n",
    "creds = GoogleCredentials.get_application_default()\n",
    "import getpass\n",
    "!google-drive-ocamlfuse -headless -id={creds.client_id} -secret={creds.client_secret} < /dev/null 2>&1 | grep URL\n",
    "vcode = getpass.getpass()\n",
    "!echo {vcode} | google-drive-ocamlfuse -headless -id={creds.client_id} -secret={creds.client_secret}\n",
    "\n",
    "```\n",
    "\n",
    "위 방식대로 하여 구글 드라이브가 연동이 되지 않거나, 다른 문제가 있다면 8번으로 돌아가자!"
   ]
  },
  {
   "cell_type": "markdown",
   "metadata": {
    "id": "Fu69zZ67j2_f"
   },
   "source": [
    "## 추가 단축키 목록\n",
    "* Ctrl + M H"
   ]
  },
  {
   "cell_type": "markdown",
   "metadata": {
    "id": "fziTtdMefo9a"
   },
   "source": [
    "## Collab의 단점\n",
    "* 원하지 않는 시점에 runtime이 종료 된다. \n",
    "    - 파일은 google drive에 저장하여 사용 가능하지만... \n",
    "    - 메모리 내용이 초기화 된다. \n",
    "    - 일정 시간 사용하지 않거나 특정 시간(오후 3시 등)이 되면 종료된다. "
   ]
  },
  {
   "cell_type": "markdown",
   "metadata": {
    "id": "MdFkFqiLZZ5x"
   },
   "source": [
    "# [참고] Collab Spec."
   ]
  },
  {
   "cell_type": "code",
   "execution_count": null,
   "metadata": {
    "colab": {
     "base_uri": "https://localhost:8080/"
    },
    "executionInfo": {
     "elapsed": 1974,
     "status": "ok",
     "timestamp": 1627866406058,
     "user": {
      "displayName": "조한별",
      "photoUrl": "",
      "userId": "13719229561479595538"
     },
     "user_tz": -540
    },
    "id": "5Au_LaF2Zdpu",
    "outputId": "33a0c93a-6162-4955-f0e3-940cde59912c"
   },
   "outputs": [
    {
     "data": {
      "text/plain": [
       "[name: \"/device:CPU:0\"\n",
       " device_type: \"CPU\"\n",
       " memory_limit: 268435456\n",
       " locality {\n",
       " }\n",
       " incarnation: 10756522423478709407]"
      ]
     },
     "execution_count": 1,
     "metadata": {
      "tags": []
     },
     "output_type": "execute_result"
    }
   ],
   "source": [
    "from tensorflow.python.client import device_lib\n",
    "device_lib.list_local_devices()"
   ]
  },
  {
   "cell_type": "code",
   "execution_count": null,
   "metadata": {
    "colab": {
     "base_uri": "https://localhost:8080/",
     "height": 35
    },
    "executionInfo": {
     "elapsed": 6,
     "status": "ok",
     "timestamp": 1627866406544,
     "user": {
      "displayName": "조한별",
      "photoUrl": "",
      "userId": "13719229561479595538"
     },
     "user_tz": -540
    },
    "id": "7aLXFqV7Zfq-",
    "outputId": "fe2747c0-3fb4-4bd2-ed38-40a62e1158e0"
   },
   "outputs": [
    {
     "data": {
      "application/vnd.google.colaboratory.intrinsic+json": {
       "type": "string"
      },
      "text/plain": [
       "'Linux-5.4.104+-x86_64-with-Ubuntu-18.04-bionic'"
      ]
     },
     "execution_count": 2,
     "metadata": {
      "tags": []
     },
     "output_type": "execute_result"
    }
   ],
   "source": [
    "import platform\n",
    "\n",
    "platform.platform()"
   ]
  },
  {
   "cell_type": "code",
   "execution_count": null,
   "metadata": {
    "colab": {
     "base_uri": "https://localhost:8080/"
    },
    "executionInfo": {
     "elapsed": 388,
     "status": "ok",
     "timestamp": 1627866417567,
     "user": {
      "displayName": "조한별",
      "photoUrl": "",
      "userId": "13719229561479595538"
     },
     "user_tz": -540
    },
    "id": "SP8CTQ6iZhx6",
    "outputId": "379866af-f6d4-463b-e69a-db132c94a982"
   },
   "outputs": [
    {
     "name": "stdout",
     "output_type": "stream",
     "text": [
      "MemTotal:       13302928 kB\n",
      "MemFree:        10570432 kB\n",
      "MemAvailable:   12399728 kB\n",
      "Buffers:           77928 kB\n",
      "Cached:          1885588 kB\n",
      "SwapCached:            0 kB\n",
      "Active:          1048216 kB\n",
      "Inactive:        1438264 kB\n",
      "Active(anon):     486028 kB\n",
      "Inactive(anon):      428 kB\n",
      "Active(file):     562188 kB\n",
      "Inactive(file):  1437836 kB\n",
      "Unevictable:           0 kB\n",
      "Mlocked:               0 kB\n",
      "SwapTotal:             0 kB\n",
      "SwapFree:              0 kB\n",
      "Dirty:               368 kB\n",
      "Writeback:             0 kB\n",
      "AnonPages:        522976 kB\n",
      "Mapped:           379604 kB\n",
      "Shmem:              1136 kB\n",
      "KReclaimable:     141496 kB\n",
      "Slab:             184912 kB\n",
      "SReclaimable:     141496 kB\n",
      "SUnreclaim:        43416 kB\n",
      "KernelStack:        4912 kB\n",
      "PageTables:         6792 kB\n",
      "NFS_Unstable:          0 kB\n",
      "Bounce:                0 kB\n",
      "WritebackTmp:          0 kB\n",
      "CommitLimit:     6651464 kB\n",
      "Committed_AS:    3396968 kB\n",
      "VmallocTotal:   34359738367 kB\n",
      "VmallocUsed:        7268 kB\n",
      "VmallocChunk:          0 kB\n",
      "Percpu:             1400 kB\n",
      "AnonHugePages:         0 kB\n",
      "ShmemHugePages:        0 kB\n",
      "ShmemPmdMapped:        0 kB\n",
      "FileHugePages:         0 kB\n",
      "FilePmdMapped:         0 kB\n",
      "CmaTotal:              0 kB\n",
      "CmaFree:               0 kB\n",
      "HugePages_Total:       0\n",
      "HugePages_Free:        0\n",
      "HugePages_Rsvd:        0\n",
      "HugePages_Surp:        0\n",
      "Hugepagesize:       2048 kB\n",
      "Hugetlb:               0 kB\n",
      "DirectMap4k:       90944 kB\n",
      "DirectMap2M:     5148672 kB\n",
      "DirectMap1G:    10485760 kB\n"
     ]
    }
   ],
   "source": [
    "!cat /proc/meminfo"
   ]
  },
  {
   "cell_type": "code",
   "execution_count": null,
   "metadata": {
    "colab": {
     "base_uri": "https://localhost:8080/"
    },
    "executionInfo": {
     "elapsed": 389,
     "status": "ok",
     "timestamp": 1627866428349,
     "user": {
      "displayName": "조한별",
      "photoUrl": "",
      "userId": "13719229561479595538"
     },
     "user_tz": -540
    },
    "id": "_XCImfWsZkXg",
    "outputId": "4311e2cb-561c-46fe-f063-c52747bb700c"
   },
   "outputs": [
    {
     "name": "stdout",
     "output_type": "stream",
     "text": [
      "processor\t: 0\n",
      "vendor_id\t: GenuineIntel\n",
      "cpu family\t: 6\n",
      "model\t\t: 79\n",
      "model name\t: Intel(R) Xeon(R) CPU @ 2.20GHz\n",
      "stepping\t: 0\n",
      "microcode\t: 0x1\n",
      "cpu MHz\t\t: 2200.158\n",
      "cache size\t: 56320 KB\n",
      "physical id\t: 0\n",
      "siblings\t: 2\n",
      "core id\t\t: 0\n",
      "cpu cores\t: 1\n",
      "apicid\t\t: 0\n",
      "initial apicid\t: 0\n",
      "fpu\t\t: yes\n",
      "fpu_exception\t: yes\n",
      "cpuid level\t: 13\n",
      "wp\t\t: yes\n",
      "flags\t\t: fpu vme de pse tsc msr pae mce cx8 apic sep mtrr pge mca cmov pat pse36 clflush mmx fxsr sse sse2 ss ht syscall nx pdpe1gb rdtscp lm constant_tsc rep_good nopl xtopology nonstop_tsc cpuid tsc_known_freq pni pclmulqdq ssse3 fma cx16 pcid sse4_1 sse4_2 x2apic movbe popcnt aes xsave avx f16c rdrand hypervisor lahf_lm abm 3dnowprefetch invpcid_single ssbd ibrs ibpb stibp fsgsbase tsc_adjust bmi1 hle avx2 smep bmi2 erms invpcid rtm rdseed adx smap xsaveopt arat md_clear arch_capabilities\n",
      "bugs\t\t: cpu_meltdown spectre_v1 spectre_v2 spec_store_bypass l1tf mds swapgs taa\n",
      "bogomips\t: 4400.31\n",
      "clflush size\t: 64\n",
      "cache_alignment\t: 64\n",
      "address sizes\t: 46 bits physical, 48 bits virtual\n",
      "power management:\n",
      "\n",
      "processor\t: 1\n",
      "vendor_id\t: GenuineIntel\n",
      "cpu family\t: 6\n",
      "model\t\t: 79\n",
      "model name\t: Intel(R) Xeon(R) CPU @ 2.20GHz\n",
      "stepping\t: 0\n",
      "microcode\t: 0x1\n",
      "cpu MHz\t\t: 2200.158\n",
      "cache size\t: 56320 KB\n",
      "physical id\t: 0\n",
      "siblings\t: 2\n",
      "core id\t\t: 0\n",
      "cpu cores\t: 1\n",
      "apicid\t\t: 1\n",
      "initial apicid\t: 1\n",
      "fpu\t\t: yes\n",
      "fpu_exception\t: yes\n",
      "cpuid level\t: 13\n",
      "wp\t\t: yes\n",
      "flags\t\t: fpu vme de pse tsc msr pae mce cx8 apic sep mtrr pge mca cmov pat pse36 clflush mmx fxsr sse sse2 ss ht syscall nx pdpe1gb rdtscp lm constant_tsc rep_good nopl xtopology nonstop_tsc cpuid tsc_known_freq pni pclmulqdq ssse3 fma cx16 pcid sse4_1 sse4_2 x2apic movbe popcnt aes xsave avx f16c rdrand hypervisor lahf_lm abm 3dnowprefetch invpcid_single ssbd ibrs ibpb stibp fsgsbase tsc_adjust bmi1 hle avx2 smep bmi2 erms invpcid rtm rdseed adx smap xsaveopt arat md_clear arch_capabilities\n",
      "bugs\t\t: cpu_meltdown spectre_v1 spectre_v2 spec_store_bypass l1tf mds swapgs taa\n",
      "bogomips\t: 4400.31\n",
      "clflush size\t: 64\n",
      "cache_alignment\t: 64\n",
      "address sizes\t: 46 bits physical, 48 bits virtual\n",
      "power management:\n",
      "\n"
     ]
    }
   ],
   "source": [
    "!cat /proc/cpuinfo"
   ]
  },
  {
   "cell_type": "code",
   "execution_count": null,
   "metadata": {
    "colab": {
     "base_uri": "https://localhost:8080/"
    },
    "executionInfo": {
     "elapsed": 583,
     "status": "ok",
     "timestamp": 1627866436571,
     "user": {
      "displayName": "조한별",
      "photoUrl": "",
      "userId": "13719229561479595538"
     },
     "user_tz": -540
    },
    "id": "Q-fVLGL0ZnBK",
    "outputId": "a5eb2106-ecfc-4d16-f4ee-e7e5610cebbf"
   },
   "outputs": [
    {
     "name": "stdout",
     "output_type": "stream",
     "text": [
      "Available kernels:\n",
      "  ir         /usr/local/share/jupyter/kernels/ir\n",
      "  python2    /usr/local/share/jupyter/kernels/python2\n",
      "  python3    /usr/local/share/jupyter/kernels/python3\n"
     ]
    }
   ],
   "source": [
    "!jupyter-kernelspec list"
   ]
  },
  {
   "cell_type": "code",
   "execution_count": null,
   "metadata": {
    "id": "YlvzQ27YZo9l"
   },
   "outputs": [],
   "source": []
  },
  {
   "cell_type": "code",
   "execution_count": null,
   "metadata": {
    "id": "AgJZ0HuracRA"
   },
   "outputs": [],
   "source": []
  },
  {
   "cell_type": "code",
   "execution_count": null,
   "metadata": {
    "id": "00pM8JJibs7x"
   },
   "outputs": [],
   "source": []
  }
 ],
 "metadata": {
  "colab": {
   "authorship_tag": "ABX9TyOroSNjpdOhVec1bGbrU2Gd",
   "collapsed_sections": [],
   "name": "00.Collab.ipynb",
   "provenance": [],
   "toc_visible": true
  },
  "kernelspec": {
   "display_name": "Python 3",
   "language": "python",
   "name": "python3"
  },
  "language_info": {
   "codemirror_mode": {
    "name": "ipython",
    "version": 3
   },
   "file_extension": ".py",
   "mimetype": "text/x-python",
   "name": "python",
   "nbconvert_exporter": "python",
   "pygments_lexer": "ipython3",
   "version": "3.8.8"
  }
 },
 "nbformat": 4,
 "nbformat_minor": 1
}
