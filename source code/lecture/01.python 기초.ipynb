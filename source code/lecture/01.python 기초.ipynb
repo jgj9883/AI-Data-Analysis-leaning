{
 "cells": [
  {
   "cell_type": "markdown",
   "metadata": {
    "id": "T-caasJtg_4T"
   },
   "source": [
    "## Magic 키워드\n",
    "* Jupyter Notebook은 사용자 편의를 위해 Magic 키워드 를 지원한다.\n",
    "* Magic 키워드는 % 또는 %%를 이용하여 실행할 수 있다. 각각 한 줄, 한 셀에 대해 Magic 키워드를 실행한다.\n",
    "* Magic 키워드로 제공하는 기능은 여러가지가 있지만 주로 사용되는것은 다음과 같다."
   ]
  },
  {
   "cell_type": "code",
   "execution_count": null,
   "metadata": {
    "colab": {
     "base_uri": "https://localhost:8080/"
    },
    "executionInfo": {
     "elapsed": 5858,
     "status": "ok",
     "timestamp": 1627868566364,
     "user": {
      "displayName": "조한별",
      "photoUrl": "",
      "userId": "13719229561479595538"
     },
     "user_tz": -540
    },
    "id": "FAL3177lhJaz",
    "outputId": "4b9f427a-39ad-4b01-fa2e-22d238930392"
   },
   "outputs": [
    {
     "name": "stdout",
     "output_type": "stream",
     "text": [
      "Once deleted, variables cannot be recovered. Proceed (y/[n])? ㅜ\n",
      "Once deleted, variables cannot be recovered. Proceed (y/[n])? n\n",
      "Nothing done.\n"
     ]
    }
   ],
   "source": [
    "# 메모리를 리셋한다.\n",
    "%reset\n",
    "\n",
    "# matplot 그래프와 그림을 출력한다.\n",
    "%matplotlib inline\n",
    "%config InlineBackend.figure_format = 'retina'\n",
    "\n",
    "%time"
   ]
  },
  {
   "cell_type": "markdown",
   "metadata": {
    "id": "sbkWyDT-iAU6"
   },
   "source": [
    "## 자주 사용 하는 유용한 옵션"
   ]
  },
  {
   "cell_type": "code",
   "execution_count": null,
   "metadata": {
    "colab": {
     "base_uri": "https://localhost:8080/",
     "height": 34
    },
    "executionInfo": {
     "elapsed": 9,
     "status": "ok",
     "timestamp": 1627957692649,
     "user": {
      "displayName": "조한별",
      "photoUrl": "",
      "userId": "13719229561479595538"
     },
     "user_tz": -540
    },
    "id": "FN8h8xLBhMfK",
    "outputId": "d0e0891b-a928-4b34-ea0e-471ad9875c1c"
   },
   "outputs": [
    {
     "data": {
      "text/html": [
       "<style>.container { width: 80% !important; }</style>"
      ],
      "text/plain": [
       "<IPython.core.display.HTML object>"
      ]
     },
     "metadata": {
      "tags": []
     },
     "output_type": "display_data"
    },
    {
     "name": "stdout",
     "output_type": "stream",
     "text": [
      "all rows\n"
     ]
    }
   ],
   "source": [
    "import matplotlib.font_manager as fm\n",
    "import matplotlib.pyplot as plt\n",
    "import warnings\n",
    "import pandas as pd\n",
    "# cell 내부의 print 형태의 결과를 모두 보여줌 \n",
    "from IPython.core.interactiveshell import InteractiveShell\n",
    "InteractiveShell.ast_node_interactivity = \"all\"\n",
    "\n",
    "# 출력 포맷 정의 \n",
    "from IPython.core.display import display, HTML\n",
    "display(HTML(\"<style>.container { width: 80% !important; }</style>\"))\n",
    "\n",
    "# platform 별 한글 default 폰트 정의 \n",
    "import platform\n",
    "os_s = platform.platform()\n",
    "if os_s.lower().find('mac') >= 0 :\n",
    "    font_fam = 'NanumBarunGothic'\n",
    "elif os_s.lower().find('window') >0 : \n",
    "    font_fam = fm.FontProperties(fname=\"c:/Windows/Fonts/malgun.ttf\").get_name()\n",
    "else : \n",
    "    font_fam = 'NanumGothic'\n",
    " \n",
    "plt.rcParams['font.family'] = font_fam\n",
    "\n",
    "\n",
    "# plot의 사이즈 변경\n",
    "plt.rcParams['figure.figsize'] = [20,10]\n",
    "\n",
    "# plot의 axes minus 기호를 unicode 사용하지 않도록 정의. 한글 폰트에 의한 글자 깨짐 방지\n",
    "plt.rcParams['axes.unicode_minus'] = False\n",
    "\n",
    "# warning message 출력 생략.\n",
    "warnings.filterwarnings(action='ignore')  \n",
    "\n",
    "# pandas... dataframe 생략된 rows 모두 보여주기 \n",
    "with pd.option_context('display.max_rows', None, 'display.max_columns', None):\n",
    "    print('all rows')\n",
    "    # 실행할 명령\n",
    "\n",
    "\n",
    "plt.rcParams['axes.unicode_minus'] = False\n"
   ]
  },
  {
   "cell_type": "code",
   "execution_count": null,
   "metadata": {
    "colab": {
     "base_uri": "https://localhost:8080/"
    },
    "executionInfo": {
     "elapsed": 442,
     "status": "ok",
     "timestamp": 1627869039787,
     "user": {
      "displayName": "조한별",
      "photoUrl": "",
      "userId": "13719229561479595538"
     },
     "user_tz": -540
    },
    "id": "OBdb7Ee9jIUt",
    "outputId": "1027e882-5671-4948-a655-1b27d7f9c40e"
   },
   "outputs": [
    {
     "data": {
      "text/plain": [
       "[1, 2, 3]"
      ]
     },
     "execution_count": 10,
     "metadata": {
      "tags": []
     },
     "output_type": "execute_result"
    },
    {
     "data": {
      "text/plain": [
       "[2, 3, 4]"
      ]
     },
     "execution_count": 10,
     "metadata": {
      "tags": []
     },
     "output_type": "execute_result"
    }
   ],
   "source": [
    "# %time\n",
    "ls1 = [1,2,3]; ls2 = [2,3,4]\n",
    "ls1   \n",
    "ls2"
   ]
  },
  {
   "cell_type": "markdown",
   "metadata": {
    "id": "jdiEWfzch5UX"
   },
   "source": [
    "## 추가 패키지 설치 방법\n",
    "\n",
    "* python package : !pip install <패키지명> \n",
    "* OS package : apt-get install <...> "
   ]
  },
  {
   "cell_type": "code",
   "execution_count": null,
   "metadata": {
    "id": "Z9yzq8bxuw20"
   },
   "outputs": [],
   "source": [
    "!pip list | grep loguru"
   ]
  },
  {
   "cell_type": "code",
   "execution_count": null,
   "metadata": {
    "colab": {
     "base_uri": "https://localhost:8080/"
    },
    "executionInfo": {
     "elapsed": 4201,
     "status": "ok",
     "timestamp": 1627871991789,
     "user": {
      "displayName": "조한별",
      "photoUrl": "",
      "userId": "13719229561479595538"
     },
     "user_tz": -540
    },
    "id": "ILEsEgnDuzYW",
    "outputId": "28b7971a-4e96-4d35-e994-009a442b9f06"
   },
   "outputs": [
    {
     "name": "stdout",
     "output_type": "stream",
     "text": [
      "Collecting loguru\n",
      "  Downloading loguru-0.5.3-py3-none-any.whl (57 kB)\n",
      "\u001b[?25l\r",
      "\u001b[K     |█████▊                          | 10 kB 21.2 MB/s eta 0:00:01\r",
      "\u001b[K     |███████████▌                    | 20 kB 25.2 MB/s eta 0:00:01\r",
      "\u001b[K     |█████████████████▏              | 30 kB 28.8 MB/s eta 0:00:01\r",
      "\u001b[K     |███████████████████████         | 40 kB 31.8 MB/s eta 0:00:01\r",
      "\u001b[K     |████████████████████████████▋   | 51 kB 34.2 MB/s eta 0:00:01\r",
      "\u001b[K     |████████████████████████████████| 57 kB 4.2 MB/s \n",
      "\u001b[?25hInstalling collected packages: loguru\n",
      "Successfully installed loguru-0.5.3\n"
     ]
    }
   ],
   "source": [
    "!pip install loguru"
   ]
  },
  {
   "cell_type": "markdown",
   "metadata": {
    "id": "gja4qo_0mA9A"
   },
   "source": [
    "# Python 기초\n",
    "* 유용한 사이트 : [code visualization](http://pythontutor.com/visualize.html#mode=display)"
   ]
  },
  {
   "cell_type": "markdown",
   "metadata": {
    "id": "NJ-0BC4BmIi-"
   },
   "source": [
    "## basic type"
   ]
  },
  {
   "cell_type": "markdown",
   "metadata": {
    "id": "XGMDY2DCmLJW"
   },
   "source": [
    "### 숫자형\n",
    "\n",
    "- 정수형\n",
    "- 실수형\n",
    "- 8진수, 16진수"
   ]
  },
  {
   "cell_type": "code",
   "execution_count": null,
   "metadata": {
    "id": "E2xyv2YovAs3"
   },
   "outputs": [],
   "source": [
    "# 정수\n",
    "a = 123\n",
    "a = -178\n",
    "a = 0\n",
    "\n",
    "# 실수\n",
    "a = 1.2\n",
    "a = -3.45\n",
    "a = 4.24E10\n",
    "a = 4.24e-10\n",
    "\n",
    "# 8진수\n",
    "a = 0o177\n",
    "\n",
    "# 16진수\n",
    "a = 0x8ff\n",
    "b = 0xABC"
   ]
  },
  {
   "cell_type": "code",
   "execution_count": null,
   "metadata": {
    "colab": {
     "base_uri": "https://localhost:8080/"
    },
    "executionInfo": {
     "elapsed": 426,
     "status": "ok",
     "timestamp": 1627872496984,
     "user": {
      "displayName": "조한별",
      "photoUrl": "",
      "userId": "13719229561479595538"
     },
     "user_tz": -540
    },
    "id": "eO4_AUolu-MN",
    "outputId": "ac3ad249-c52e-4db1-f9d0-0732da94e050"
   },
   "outputs": [
    {
     "name": "stdout",
     "output_type": "stream",
     "text": [
      "<class 'int'>\n",
      "3\n",
      "4\n",
      "2\n",
      "6\n",
      "9\n",
      "27\n",
      "x / 2 : 1.5\n",
      "x // 2 : 1\n",
      "1\n",
      "4\n",
      "5\n",
      "10\n",
      "20\n",
      "<class 'float'>\n",
      "2.5 3.5 5.0 6.25\n"
     ]
    }
   ],
   "source": [
    "# 연산\n",
    "x = 3\n",
    "print(type(x)) # Prints \"<class 'int'>\"\n",
    "\n",
    "print(x)       # \"3\" 출력\n",
    "print(x + 1)   # 더하기, \"4\"\n",
    "print(x - 1)   # 빼기, \"2\"\n",
    "print(x * 2)   # 곱하기, \"6\"\n",
    "print(x ** 2)  # 2제곱, \"9\"\n",
    "print(x ** 3)  # 3제곱, \"27\"\n",
    "print(f'x / 2 : {x / 2}')   # 2로 나누기, \"1.5\"\n",
    "\n",
    "print(f'x // 2 : {x // 2}')\n",
    " \n",
    "print(x % 2)   # 2로 나누고 나머지, \"1\"\n",
    "\n",
    "x = x + 1\n",
    "print(x)\n",
    "x += 1\n",
    "print(x)  \n",
    "\n",
    "x = x * 2\n",
    "print(x)\n",
    "x *= 2\n",
    "print(x)  \n",
    "\n",
    "y = 2.5\n",
    "print(type(y)) # Prints \"<class 'float'>\"\n",
    "\n",
    "print(y, y + 1, y * 2, y ** 2) # \"2.5 3.5 5.0 6.25\""
   ]
  },
  {
   "cell_type": "code",
   "execution_count": null,
   "metadata": {
    "colab": {
     "base_uri": "https://localhost:8080/"
    },
    "executionInfo": {
     "elapsed": 299,
     "status": "ok",
     "timestamp": 1627872516288,
     "user": {
      "displayName": "조한별",
      "photoUrl": "",
      "userId": "13719229561479595538"
     },
     "user_tz": -540
    },
    "id": "2RPOSpb9wyrr",
    "outputId": "0b1cdb4f-7297-4df3-ced1-defb1d991844"
   },
   "outputs": [
    {
     "name": "stdout",
     "output_type": "stream",
     "text": [
      "round(1.5) : 2\n",
      "round(2.5) : 2\n",
      "round(3.5) : 4\n",
      "round(4.5) : 4\n"
     ]
    }
   ],
   "source": [
    "# 사사오입 : python 내장 함수 round\n",
    "print(f'round(1.5) : {round(1.5)}')  \n",
    "print(f'round(2.5) : {round(2.5)}')  \n",
    "print(f'round(3.5) : {round(3.5)}')  \n",
    "print(f'round(4.5) : {round(4.5)}') "
   ]
  },
  {
   "cell_type": "code",
   "execution_count": null,
   "metadata": {
    "colab": {
     "base_uri": "https://localhost:8080/"
    },
    "executionInfo": {
     "elapsed": 416,
     "status": "ok",
     "timestamp": 1627872793126,
     "user": {
      "displayName": "조한별",
      "photoUrl": "",
      "userId": "13719229561479595538"
     },
     "user_tz": -540
    },
    "id": "L7f9MqrSw9A9",
    "outputId": "80a99cde-7510-4549-ac3c-5797460e1992"
   },
   "outputs": [
    {
     "name": "stdout",
     "output_type": "stream",
     "text": [
      "round(1.5) : 2\n",
      "round(2.5) : 3\n",
      "round(3.5) : 4\n",
      "round(4.5) : 5\n"
     ]
    }
   ],
   "source": [
    "from loguru import logger \n",
    "\n",
    "# 사용자 정의 처리 필요\n",
    "@logger.catch\n",
    "def roundUp(num):\n",
    "    return int(num) + 1 if (num - int(num)) >= 0.5 else int(num)\n",
    "\n",
    "print(f'round(1.5) : {roundUp(1.5)}')  \n",
    "print(f'round(2.5) : {roundUp(2.5)}')  \n",
    "print(f'round(3.5) : {roundUp(3.5)}')  \n",
    "print(f'round(4.5) : {roundUp(4.5)}') "
   ]
  },
  {
   "cell_type": "markdown",
   "metadata": {
    "id": "g_iSKpw2vwNZ"
   },
   "source": [
    "#### max value? overflow"
   ]
  },
  {
   "cell_type": "code",
   "execution_count": null,
   "metadata": {
    "colab": {
     "base_uri": "https://localhost:8080/"
    },
    "executionInfo": {
     "elapsed": 384,
     "status": "ok",
     "timestamp": 1627872142917,
     "user": {
      "displayName": "조한별",
      "photoUrl": "",
      "userId": "13719229561479595538"
     },
     "user_tz": -540
    },
    "id": "tB5SVSMetSMD",
    "outputId": "30e08902-8bbb-441c-e80b-80b47b52061e"
   },
   "outputs": [
    {
     "name": "stdout",
     "output_type": "stream",
     "text": [
      "numberI : 10\n",
      "numberJ : 12312312312319082371928471982479812647182634178246123124123513245123412413512319082376471826341782461231241235132451234124135123190823647182634178246123124123513245123412413512319082319284719824798126471826341782461123190823719284719824798126471826341782461\n",
      "type : <class 'int'>,<class 'int'>\n"
     ]
    }
   ],
   "source": [
    "# max value ?? \n",
    "numberI, numberJ = 10, \\\n",
    "12312312312319082371928471982479812647182634178246123124123513245123412413512319082376471826341782461231241235132451234124135123190823647182634178246123124123513245123412413512319082319284719824798126471826341782461123190823719284719824798126471826341782461\n",
    "print(f'numberI : {numberI}')\n",
    "print(f'numberJ : {numberJ}')\n",
    "print(f'type : {type(numberI)},{type(numberJ)}')"
   ]
  },
  {
   "cell_type": "code",
   "execution_count": null,
   "metadata": {
    "colab": {
     "base_uri": "https://localhost:8080/"
    },
    "executionInfo": {
     "elapsed": 312,
     "status": "ok",
     "timestamp": 1627871770454,
     "user": {
      "displayName": "조한별",
      "photoUrl": "",
      "userId": "13719229561479595538"
     },
     "user_tz": -540
    },
    "id": "9PXcNxPItgKK",
    "outputId": "1c88c589-c730-4d9c-b229-245c6d73b0d8"
   },
   "outputs": [
    {
     "name": "stdout",
     "output_type": "stream",
     "text": [
      "9223372036854775808\n"
     ]
    }
   ],
   "source": [
    "# sys 상의 max value\n",
    "import sys\n",
    "print(sys.maxsize+1)"
   ]
  },
  {
   "cell_type": "markdown",
   "metadata": {
    "id": "hAIcVEAJt5gg"
   },
   "source": [
    "### boolean 형\n",
    "* True or False"
   ]
  },
  {
   "cell_type": "code",
   "execution_count": null,
   "metadata": {
    "colab": {
     "base_uri": "https://localhost:8080/"
    },
    "executionInfo": {
     "elapsed": 335,
     "status": "ok",
     "timestamp": 1627872943170,
     "user": {
      "displayName": "조한별",
      "photoUrl": "",
      "userId": "13719229561479595538"
     },
     "user_tz": -540
    },
    "id": "6MSdxrkrwxuK",
    "outputId": "838b4376-e5b9-43f3-81f6-af48ec014daa"
   },
   "outputs": [
    {
     "name": "stdout",
     "output_type": "stream",
     "text": [
      "<class 'bool'>\n",
      "False\n",
      "True\n",
      "False\n"
     ]
    }
   ],
   "source": [
    "# True/False Boolean\n",
    "\n",
    "t = True\n",
    "f = False\n",
    "print(type(t)) # Prints \"<class 'bool'>\"\n",
    "\n",
    "print(t and f) # AND 연산, \"False\"\n",
    "print(t or f)  # OR 연산, \"True\"\n",
    "print(not t)   # NOT 연산, prints \"False\""
   ]
  },
  {
   "cell_type": "code",
   "execution_count": null,
   "metadata": {
    "colab": {
     "base_uri": "https://localhost:8080/"
    },
    "executionInfo": {
     "elapsed": 430,
     "status": "ok",
     "timestamp": 1627873016996,
     "user": {
      "displayName": "조한별",
      "photoUrl": "",
      "userId": "13719229561479595538"
     },
     "user_tz": -540
    },
    "id": "50r4oWgSydkM",
    "outputId": "677c0507-1c16-40e0-c2f9-5c62d235db67"
   },
   "outputs": [
    {
     "name": "stdout",
     "output_type": "stream",
     "text": [
      "True,True,False\n"
     ]
    }
   ],
   "source": [
    "print(f'{bool(1)},{bool(2)},{bool(0)}')"
   ]
  },
  {
   "cell_type": "markdown",
   "metadata": {
    "id": "6gMXa5WYygct"
   },
   "source": [
    "### 문자형"
   ]
  },
  {
   "cell_type": "code",
   "execution_count": null,
   "metadata": {
    "colab": {
     "base_uri": "https://localhost:8080/"
    },
    "executionInfo": {
     "elapsed": 387,
     "status": "ok",
     "timestamp": 1627873098561,
     "user": {
      "displayName": "조한별",
      "photoUrl": "",
      "userId": "13719229561479595538"
     },
     "user_tz": -540
    },
    "id": "s_UCoIQCy0k-",
    "outputId": "6f4c1268-1216-4b67-b7ac-72eb4aef8c35"
   },
   "outputs": [
    {
     "name": "stdout",
     "output_type": "stream",
     "text": [
      "hello\n",
      "5\n",
      "hello world\n",
      "100번 째 시도, 소요 시간 300\n",
      "새로운 포맷의 문자열 : hello, world\n",
      "hello world 12 <class 'str'>\n"
     ]
    }
   ],
   "source": [
    "# 문자열\n",
    "# 파이썬은 문자열에 대해 상당한 편의성을 지원합니다.\n",
    "\n",
    "hello = 'hello'    # 작은 따옴표를 사용할 수 있습니다.\n",
    "world = \"world\"    # 큰 따옴표도 사용할 수 있습니다.\n",
    "print(hello)       # \"hello\" 출력.\n",
    "print(len(hello))  # 문자열 길이 출력 - \"5\"\n",
    "\n",
    "hw = hello + ' ' + world  # 문자열 연결\n",
    "print(hw)  # \"hello world\" 출력\n",
    "\n",
    "hw12 = '%s %s %d' % (hello, world, 12)  # 변수를 활용하는 문자열 서식\n",
    "\n",
    "print(\"{}번 째 시도, 소요 시간 {}\".format(100,300) )\n",
    "print(f'새로운 포맷의 문자열 : {hello}, {world}')\n",
    "print(hw12, type(hw12))  # \"hello world 12\" 출력"
   ]
  },
  {
   "cell_type": "code",
   "execution_count": null,
   "metadata": {
    "colab": {
     "base_uri": "https://localhost:8080/"
    },
    "executionInfo": {
     "elapsed": 689,
     "status": "ok",
     "timestamp": 1627873190968,
     "user": {
      "displayName": "조한별",
      "photoUrl": "",
      "userId": "13719229561479595538"
     },
     "user_tz": -540
    },
    "id": "6gLR09U7zSjR",
    "outputId": "9edf12a2-2821-40d6-e99b-894fb4deb529"
   },
   "outputs": [
    {
     "name": "stdout",
     "output_type": "stream",
     "text": [
      "Hello\n",
      "HELLO\n",
      "hello\n",
      "  hello\n",
      "7\n",
      "hello  \n",
      "7\n",
      " hello \n",
      "7\n",
      "hell, go\n",
      "world\n"
     ]
    }
   ],
   "source": [
    "s = \"hello\"\n",
    "print(s.capitalize())  # Capitalize, 알파벳 첫 문자를 대문자로\n",
    "print(s.upper())       # 문자열 전체를 대문자로, \"HELLO\"\n",
    "print(s.lower())\n",
    "# 공백 문자열을 추가하여 출력하되\n",
    "print(s.rjust(7))      # 오른쪽 정렬로 출력, \"  hello\"\n",
    "print(len(s.rjust(7))) # 문자열 길이는 7\n",
    "print(s.ljust(7))      # 왼쪽 정렬로 출력, \"hello  \"\n",
    "print(len(s.rjust(7))) # 문자열 길이는 7\n",
    "print(s.center(7))     # 중앙 정렬로 출력, \" hello \"\n",
    "print(len(s.center(7)))\n",
    "\n",
    "# 문자열 변경\n",
    "print(s.replace('o', ', go'))  # 'o'을 ', go'로 바꿈, \"hell, go\"\n",
    "\n",
    "# 앞 뒤 빈 문자열 제거\n",
    "print('  world '.strip())"
   ]
  },
  {
   "cell_type": "code",
   "execution_count": null,
   "metadata": {
    "colab": {
     "base_uri": "https://localhost:8080/",
     "height": 216
    },
    "executionInfo": {
     "elapsed": 338,
     "status": "error",
     "timestamp": 1627883493684,
     "user": {
      "displayName": "조한별",
      "photoUrl": "",
      "userId": "13719229561479595538"
     },
     "user_tz": -540
    },
    "id": "ZxYcc_2bzUM6",
    "outputId": "ae27b784-4919-49da-9ed9-1960a282bb66"
   },
   "outputs": [
    {
     "data": {
      "application/vnd.google.colaboratory.intrinsic+json": {
       "type": "string"
      },
      "text/plain": [
       "'hello'"
      ]
     },
     "execution_count": 73,
     "metadata": {
      "tags": []
     },
     "output_type": "execute_result"
    },
    {
     "data": {
      "application/vnd.google.colaboratory.intrinsic+json": {
       "type": "string"
      },
      "text/plain": [
       "'hello1'"
      ]
     },
     "execution_count": 73,
     "metadata": {
      "tags": []
     },
     "output_type": "execute_result"
    },
    {
     "ename": "TypeError",
     "evalue": "ignored",
     "output_type": "error",
     "traceback": [
      "\u001b[0;31m---------------------------------------------------------------------------\u001b[0m",
      "\u001b[0;31mTypeError\u001b[0m                                 Traceback (most recent call last)",
      "\u001b[0;32m<ipython-input-73-0392ae5212b6>\u001b[0m in \u001b[0;36m<module>\u001b[0;34m()\u001b[0m\n\u001b[1;32m      1\u001b[0m \u001b[0ms\u001b[0m\u001b[0;34m\u001b[0m\u001b[0;34m\u001b[0m\u001b[0m\n\u001b[1;32m      2\u001b[0m \u001b[0ms\u001b[0m \u001b[0;34m+\u001b[0m \u001b[0mstr\u001b[0m\u001b[0;34m(\u001b[0m\u001b[0;36m1\u001b[0m\u001b[0;34m)\u001b[0m\u001b[0;34m\u001b[0m\u001b[0;34m\u001b[0m\u001b[0m\n\u001b[0;32m----> 3\u001b[0;31m \u001b[0ms\u001b[0m \u001b[0;34m+\u001b[0m \u001b[0;36m1\u001b[0m\u001b[0;34m\u001b[0m\u001b[0;34m\u001b[0m\u001b[0m\n\u001b[0m",
      "\u001b[0;31mTypeError\u001b[0m: can only concatenate str (not \"int\") to str"
     ]
    }
   ],
   "source": [
    "s\n",
    "s + str(1)\n",
    "s + 1"
   ]
  },
  {
   "cell_type": "markdown",
   "metadata": {
    "id": "AYUEHAi0amQL"
   },
   "source": [
    "## 제어문"
   ]
  },
  {
   "cell_type": "markdown",
   "metadata": {
    "id": "-1JtPofUbBvp"
   },
   "source": [
    "* if\n",
    "* for\n",
    "* while\n",
    "* switch 문은 없음"
   ]
  },
  {
   "cell_type": "code",
   "execution_count": null,
   "metadata": {
    "colab": {
     "base_uri": "https://localhost:8080/"
    },
    "executionInfo": {
     "elapsed": 305,
     "status": "ok",
     "timestamp": 1627883555596,
     "user": {
      "displayName": "조한별",
      "photoUrl": "",
      "userId": "13719229561479595538"
     },
     "user_tz": -540
    },
    "id": "3sAgCz14a7WM",
    "outputId": "57291998-6ee5-456d-c7fb-6ffda916623e"
   },
   "outputs": [
    {
     "name": "stdout",
     "output_type": "stream",
     "text": [
      "C\n"
     ]
    }
   ],
   "source": [
    " # 조건문 - if-else\n",
    "\n",
    "my_score = 73\n",
    " \n",
    "if my_score >= 90:\n",
    "    my_grade = 'A'\n",
    "elif my_score >= 80:\n",
    "    my_grade = 'B'\n",
    "elif my_score >= 70:\n",
    "    my_grade = 'C'\n",
    "elif my_score >= 60:\n",
    "    my_grade = 'E'\n",
    "else:\n",
    "    my_grade = 'F'\n",
    " \n",
    "print(my_grade)"
   ]
  },
  {
   "cell_type": "code",
   "execution_count": null,
   "metadata": {
    "colab": {
     "base_uri": "https://localhost:8080/"
    },
    "executionInfo": {
     "elapsed": 964,
     "status": "ok",
     "timestamp": 1627883648278,
     "user": {
      "displayName": "조한별",
      "photoUrl": "",
      "userId": "13719229561479595538"
     },
     "user_tz": -540
    },
    "id": "a0tV3Hzra8e9",
    "outputId": "d5d531ef-04d6-4e2c-c0c7-7f8e15736b5a"
   },
   "outputs": [
    {
     "name": "stdout",
     "output_type": "stream",
     "text": [
      "0\n",
      "1\n",
      "2\n",
      "3\n",
      "4\n",
      "apple\n",
      "banana\n",
      "cherry\n",
      "0 apple\n",
      "1 banana\n",
      "2 cherry\n"
     ]
    }
   ],
   "source": [
    "# 반복문 - for\n",
    "for i in range(5):\n",
    "    print(i)\n",
    "    \n",
    "fruits = ['apple', 'banana', 'cherry']\n",
    " \n",
    "for i in fruits:\n",
    "    print(i)\n",
    "    \n",
    "for index, value in enumerate(fruits):\n",
    "    print(index, value)"
   ]
  },
  {
   "cell_type": "code",
   "execution_count": null,
   "metadata": {
    "colab": {
     "base_uri": "https://localhost:8080/"
    },
    "executionInfo": {
     "elapsed": 293,
     "status": "ok",
     "timestamp": 1627883652935,
     "user": {
      "displayName": "조한별",
      "photoUrl": "",
      "userId": "13719229561479595538"
     },
     "user_tz": -540
    },
    "id": "XfApbOyaa_j4",
    "outputId": "50194a44-e952-4ff7-a0f3-f7637386f6ba"
   },
   "outputs": [
    {
     "name": "stdout",
     "output_type": "stream",
     "text": [
      "apple\n",
      "banana\n",
      "cherry\n"
     ]
    }
   ],
   "source": [
    "# 반복문 - while\n",
    "i = 0 \n",
    "while i < len(fruits):\n",
    "    print(fruits[i])\n",
    "    i += 1"
   ]
  },
  {
   "cell_type": "markdown",
   "metadata": {
    "id": "iQh9YKpRbURR"
   },
   "source": [
    "### 실습"
   ]
  },
  {
   "cell_type": "code",
   "execution_count": null,
   "metadata": {
    "id": "qJoe3MWTbYHz"
   },
   "outputs": [],
   "source": [
    "score_1 = 20\n",
    "score_2 = 90\n",
    "score_3 = 55\n",
    "\n",
    "# score 값에 따라 등급을 주는 다음의 조건문을 완성하시오.\n",
    "# 95점 이상 A+. 90점 이상 A, 85점 이상 B+, 80점 이상 B,\n",
    "# 75점 이상 C+. 70점 이상 C, 60점 이상 D, 60점 미만 F\n",
    "def grade_out(x) :\n",
    "    # pass 대신 return <value>로 변경\n",
    "    pass\n",
    "\n",
    "grade_out(score1)\n",
    "grade_out(score2)\n",
    "grade_out(score3)\n",
    "\n",
    "# score1, score2, score3 각 점수중 하나라도 60점 이하거나 \n",
    "# 점수의 평균이 80점 이하이면 Fail\n",
    "# 그렇지 않은 경우에는 Pass를 주는 조건문을 완성하시오.\n",
    "\n",
    "\n",
    "# for문과 range를 사용하여 1 ~ 100까지의 합을 구하시오\n",
    "\n",
    "\n",
    "# while문을 사용하여 1 ~ 100까지 사이의 홀수의 합을 구하시오\n",
    "\n"
   ]
  },
  {
   "cell_type": "markdown",
   "metadata": {
    "id": "nIT1DljUb9Cr"
   },
   "source": [
    "# 자료형\n",
    "  - basic type 혹은 자료형의 혼합으로 이루어진 type 으로 복수 개의 값(value)를 가질 수 있다.\n",
    "  - call by value, pointer 개념 : [code visual site](http://pythontutor.com/visualize.html#mode=display)\n",
    "  - 기본 자료형 type\n",
    "    * list\n",
    "    * set\n",
    "    * tuple\n",
    "    * dictionary"
   ]
  },
  {
   "cell_type": "markdown",
   "metadata": {
    "id": "O33eDT8ocg76"
   },
   "source": [
    "### 1. list\n",
    "- 0개 이상의 element로 이루어진 자료형\n",
    "- 모든 element는 같은 type 일 필요는 없다. \n",
    "- indexing, slicing"
   ]
  },
  {
   "cell_type": "code",
   "execution_count": null,
   "metadata": {
    "colab": {
     "base_uri": "https://localhost:8080/"
    },
    "executionInfo": {
     "elapsed": 412,
     "status": "ok",
     "timestamp": 1627896348792,
     "user": {
      "displayName": "조한별",
      "photoUrl": "",
      "userId": "13719229561479595538"
     },
     "user_tz": -540
    },
    "id": "RZ3FNmPJdbbY",
    "outputId": "42d06b25-b332-4a6f-a9fa-d17ed20d47cf"
   },
   "outputs": [
    {
     "name": "stdout",
     "output_type": "stream",
     "text": [
      "len : 3, 0\n",
      "listA : [3, 1, 2]\n",
      "listA[1], listA[2], listA[0] : 1, 2, 3\n",
      "listA[-1] : 2\n",
      "listA.index(1) : 1\n",
      "listA ( after listA[2] = 6) : [3, 1, 6]\n",
      "listA ( after listA[2] = 'foo') : [3, 1, 'foo']\n",
      "listA ( after listA.append('bar')) : [3, 1, 'foo', 'bar']\n",
      "listA ( after del listA[2]) : [3, 1, 'bar']\n",
      "after listA.pop(), x : bar, listA : [3, 1]\n"
     ]
    }
   ],
   "source": [
    "# list 생성 \n",
    "listA, listB = [3, 1, 2], [] # 혹은 list()\n",
    "# list 길이\n",
    "print(f'len : {len(listA)}, {len(listB)}')\n",
    "\n",
    "print(f'listA : {listA}')                   # \"[3, 1, 2]\"\n",
    "print(f'listA[1], listA[2], listA[0] : {listA[1]}, {listA[2]}, {listA[0]}')  # \"1 2 3\"\n",
    "print(f'listA[-1] : {listA[-1]}')               # \"2\"\n",
    "print(f'listA.index(1) : {listA.index(1)}')  \n",
    "# 리스트 내용 변경\n",
    "listA[2] = 6\n",
    "print(f'listA ( after listA[2] = 6) : {listA}')         # \"[3, 1, 6]\"\n",
    "# 하나의 리스트 내에 여러가지 타입이 들어갈 수 있다.\n",
    "listA[2] = 'foo'\n",
    "print(f\"listA ( after listA[2] = 'foo') : {listA}\")       # \"[3, 1, 'foo']\"\n",
    "\n",
    "# 새로운 요소 추가\n",
    "listA.append('bar')\n",
    "print(f\"listA ( after listA.append('bar')) : {listA}\")         # \"[3, 1, 'foo', 'bar']\"\n",
    "\n",
    "# 요소 제거 \n",
    "del listA[2]\n",
    "print(f\"listA ( after del listA[2]) : {listA}\")         # \"[3, 1, 'bar']\"\n",
    "\n",
    "# 마지막 요소를 가져오면서 제거\n",
    "x = listA.pop()\n",
    "print(f'after listA.pop(), x : {x}, listA : {listA}')      # Prints \"bar [3, 1]\""
   ]
  },
  {
   "cell_type": "code",
   "execution_count": null,
   "metadata": {
    "colab": {
     "base_uri": "https://localhost:8080/"
    },
    "executionInfo": {
     "elapsed": 410,
     "status": "ok",
     "timestamp": 1627896363893,
     "user": {
      "displayName": "조한별",
      "photoUrl": "",
      "userId": "13719229561479595538"
     },
     "user_tz": -540
    },
    "id": "jkXa2P8Ody00",
    "outputId": "882f7224-ba8f-4302-bdcb-d7c48af7a80f"
   },
   "outputs": [
    {
     "name": "stdout",
     "output_type": "stream",
     "text": [
      "[0, 1, 2, 3, 4, 5, 6, 7, 8, 9]\n",
      "[2, 3, 4, 5, 6, 7, 8, 9]\n",
      "[2, 4, 6, 8]\n",
      "[2, 3]\n",
      "[7, 8, 9]\n",
      "[0, 1, 2]\n",
      "[0, 1, 2, 3, 4, 5, 6, 7]\n",
      "[0, 1, 8, 9, 10, 4, 5, 6, 7, 8, 9]\n"
     ]
    }
   ],
   "source": [
    "# 자르기(Slicing)\n",
    "\n",
    "# range - 정수 목록을 만드는 함수\n",
    "nums = list(range(10))\n",
    "print(nums)               # \"[0, 1, 2, 3, 4, 5, 6, 7, 8, 9]\"\n",
    "nums1 = list(range(2, 10))\n",
    "print(nums1)               # \"[2, 3, 4, 5, 6, 7, 8, 9]\"\n",
    "nums2 = list(range(2, 10, 2))\n",
    "print(nums2)               # \"[2, 4, 6, 8]\"\n",
    "\n",
    "# 자르기\n",
    "print(nums[2:4])          # \"[2, 3]\"\n",
    "print(nums[7:])           # \"[7, 8, 9]\"\n",
    "print(nums[:3])           # \"[0, 1, 2]\"\n",
    "print(nums[:-2])          # \"[0, 1, 2, 3, 4, 5, 6, 7]\"\n",
    "\n",
    "# 잘라낸 부분을 새로운 리스트로 할당(assign)\n",
    "nums[2:4] = [8, 9, 10]  \n",
    "print(nums)               # \"[0, 1, 8, 9, 10, 4, 5, 6, 7, 8, 9]\""
   ]
  },
  {
   "cell_type": "code",
   "execution_count": null,
   "metadata": {
    "colab": {
     "base_uri": "https://localhost:8080/"
    },
    "executionInfo": {
     "elapsed": 407,
     "status": "ok",
     "timestamp": 1627896483605,
     "user": {
      "displayName": "조한별",
      "photoUrl": "",
      "userId": "13719229561479595538"
     },
     "user_tz": -540
    },
    "id": "62Rg-R60Lzea",
    "outputId": "81371492-71a8-47bc-937b-49cc7a173ab7"
   },
   "outputs": [
    {
     "name": "stdout",
     "output_type": "stream",
     "text": [
      "[0, 1, 2, 3, 4, 5, 6, 7, 8, 9]\n",
      "[0, 1, 2, 3, 4, 5, 6, 7, 8, 9]\n",
      "['a', 1, 2, 3, 4, 5, 6, 7, 8, 9]\n",
      "[0, 1, 2, 3, 4, 5, 6, 7, 8, 9]\n",
      "['a', 1, 2, 3, 4, 5, 6, 7, 8, 9]\n",
      "['a', 1, 2, 3, 4, 5, 6, 7, 8, 9]\n",
      "['b', 1, 2, 3, 4, 5, 6, 7, 8, 9]\n",
      "['a', 1, 2, 3, 4, 5, 6, 7, 8, 9]\n"
     ]
    }
   ],
   "source": [
    "# list 복사\n",
    "nums = list(range(10))\n",
    "nums_copy_1 = nums\n",
    "nums_copy_2 = nums[:]\n",
    "print(nums_copy_1)            # \"[0, 1, 2, 3, 4, 5, 6, 7, 8, 9]\"\n",
    "print(nums_copy_2)            # \"[0, 1, 2, 3, 4, 5, 6, 7, 8, 9]\"\n",
    "\n",
    "nums_copy_1[0] = 'a'\n",
    "print(nums_copy_1)            # \"[a, 1, 2, 3, 4, 5, 6, 7, 8, 9]\"\n",
    "print(nums_copy_2)            # \"[0, 1, 2, 3, 4, 5, 6, 7, 8, 9]\"\n",
    "print(nums)                   # \"[a, 1, 2, 3, 4, 5, 6, 7, 8, 9]\"\n",
    "\n",
    "nums_copy_2[0] = 'b'\n",
    "print(nums_copy_1)            # \"[a, 1, 2, 3, 4, 5, 6, 7, 8, 9]\"\n",
    "print(nums_copy_2)            # \"[b, 1, 2, 3, 4, 5, 6, 7, 8, 9]\"\n",
    "print(nums)                   # \"[a, 1, 2, 3, 4, 5, 6, 7, 8, 9]\""
   ]
  },
  {
   "cell_type": "code",
   "execution_count": null,
   "metadata": {
    "colab": {
     "base_uri": "https://localhost:8080/"
    },
    "executionInfo": {
     "elapsed": 419,
     "status": "ok",
     "timestamp": 1627896490357,
     "user": {
      "displayName": "조한별",
      "photoUrl": "",
      "userId": "13719229561479595538"
     },
     "user_tz": -540
    },
    "id": "MKQgj6IBL6uV",
    "outputId": "d273c399-0e94-409c-8bff-920b6ec88138"
   },
   "outputs": [
    {
     "name": "stdout",
     "output_type": "stream",
     "text": [
      "cat\n",
      "dog\n",
      "monkey\n"
     ]
    }
   ],
   "source": [
    "# 반복문(Loops)\n",
    "\n",
    "animals = ['cat', 'dog', 'monkey']\n",
    "for animal in animals:\n",
    "    print(animal)\n",
    "\n"
   ]
  },
  {
   "cell_type": "code",
   "execution_count": null,
   "metadata": {
    "colab": {
     "base_uri": "https://localhost:8080/"
    },
    "executionInfo": {
     "elapsed": 422,
     "status": "ok",
     "timestamp": 1627896505088,
     "user": {
      "displayName": "조한별",
      "photoUrl": "",
      "userId": "13719229561479595538"
     },
     "user_tz": -540
    },
    "id": "THMLXcsCMSWL",
    "outputId": "17c9c911-4617-49dd-9ed1-09554ce08065"
   },
   "outputs": [
    {
     "name": "stdout",
     "output_type": "stream",
     "text": [
      "[0, 1, 4, 9, 16]\n",
      "[0, 1, 4, 9, 16]\n",
      "[0, 4, 16]\n"
     ]
    }
   ],
   "source": [
    "# 반복문\n",
    "nums = [0, 1, 2, 3, 4]\n",
    "squares = []\n",
    "for x in nums:\n",
    "    squares.append(x ** 2)\n",
    "print(squares)\n",
    "\n",
    "# 확장 문법 - 반복문\n",
    "nums = [0, 1, 2, 3, 4]\n",
    "squares = [x ** 2 for x in nums]\n",
    "print(squares) \n",
    "\n",
    "# 확장 문법 - 반복문 + 조건문\n",
    "nums = [0, 1, 2, 3, 4]\n",
    "even_squares = [x ** 2 for x in nums if x % 2 == 0] # generator \n",
    "print(even_squares)  # Prints \"[0, 4, 16]\""
   ]
  },
  {
   "cell_type": "markdown",
   "metadata": {
    "id": "bNtEXHlxNPSB"
   },
   "source": [
    "#### 실습"
   ]
  },
  {
   "cell_type": "code",
   "execution_count": null,
   "metadata": {
    "id": "JrPy3TFCMV8e"
   },
   "outputs": [],
   "source": [
    "import random\n",
    "random.seed(2021)\n",
    "ranInt = [random.randint(-100,100) for _ in range(10)]\n",
    "\n",
    "# len 함수를 이용하여 ranInt에 들어있는 element의 갯수를 구하시오\n",
    "\n",
    "\n",
    "# 첫번째와 다섯번째 element의 값을 출력하시오.\n",
    "\n",
    "\n",
    "# append를 이용하여 마지막에 숫자 80을 추가하시오.\n",
    "\n",
    "\n",
    "# 첫번째부터 3번째까지의 element를 slice하세요.\n",
    "\n",
    "\n",
    "# ranInt에서 음수를 제거한 리스트를 ranInt01 변수에 담으세요. \n",
    "\n",
    "\n",
    "# ranInt01에서 50보다 큰 수를 제외한 리스트를 ranInt02 변수에 담으세요.\n",
    "\n",
    "\n",
    "# ranInt02 리스트의 element들 합과 평균을 구하시요\n",
    "\n",
    "\n",
    "# ranInt02 리스트 각 element의 값을 10으로 나눈 값을 갖는 리스트 ranInt03을 만드세요.\n",
    "\n",
    "\n",
    "# ranInt03에서 홀수 번째 인덱스의 값을 출력하세요\n",
    "\n"
   ]
  },
  {
   "cell_type": "code",
   "execution_count": null,
   "metadata": {
    "colab": {
     "base_uri": "https://localhost:8080/"
    },
    "executionInfo": {
     "elapsed": 2,
     "status": "ok",
     "timestamp": 1627896693190,
     "user": {
      "displayName": "조한별",
      "photoUrl": "",
      "userId": "13719229561479595538"
     },
     "user_tz": -540
    },
    "id": "yLc2u6TZMmE4",
    "outputId": "fbf3a791-31fd-4d6a-c011-3585596330e5"
   },
   "outputs": [
    {
     "data": {
      "text/plain": [
       "[3, 61, 39, -30, -37, 62, -92, 13, 21, 47]"
      ]
     },
     "execution_count": 22,
     "metadata": {
      "tags": []
     },
     "output_type": "execute_result"
    }
   ],
   "source": [
    "ranInt"
   ]
  },
  {
   "cell_type": "markdown",
   "metadata": {
    "id": "OzZCfOGKMov5"
   },
   "source": [
    "## 2. Dictionaries\n",
    "\n",
    "* (key, value) 구조로 순서가 없는 자료형\n",
    "* key를 통하여 value에 접근 하므로, 특정 값을 찾는 데 유리하다\n",
    "* index의 개념."
   ]
  },
  {
   "cell_type": "code",
   "execution_count": null,
   "metadata": {
    "colab": {
     "base_uri": "https://localhost:8080/"
    },
    "executionInfo": {
     "elapsed": 544,
     "status": "ok",
     "timestamp": 1627896805182,
     "user": {
      "displayName": "조한별",
      "photoUrl": "",
      "userId": "13719229561479595538"
     },
     "user_tz": -540
    },
    "id": "LKGVUI3SNYan",
    "outputId": "c2ca62e5-ba34-4e74-8102-aff0ea4e6f52"
   },
   "outputs": [
    {
     "name": "stdout",
     "output_type": "stream",
     "text": [
      "{'cat': 'cute', 'dog': 1}\n",
      "['cat', 'dog']\n"
     ]
    }
   ],
   "source": [
    "d = {'cat': 'cute', 'dog': 1}\n",
    "print(d)\n",
    "print([x for x in d])"
   ]
  },
  {
   "cell_type": "code",
   "execution_count": null,
   "metadata": {
    "colab": {
     "base_uri": "https://localhost:8080/"
    },
    "executionInfo": {
     "elapsed": 402,
     "status": "ok",
     "timestamp": 1627957733538,
     "user": {
      "displayName": "조한별",
      "photoUrl": "",
      "userId": "13719229561479595538"
     },
     "user_tz": -540
    },
    "id": "8RCrDgFSNfLi",
    "outputId": "435e4068-b470-4b0a-bbeb-cba58b6cf0f1"
   },
   "outputs": [
    {
     "name": "stdout",
     "output_type": "stream",
     "text": [
      "{'cat': 'cute', 'dog': 'furry'}\n",
      "cute\n",
      "True\n",
      "False\n",
      "wet\n",
      "N/A\n",
      "wet\n",
      "N/A\n"
     ]
    }
   ],
   "source": [
    "# dictionary 생성\n",
    "d_empty = {} # element가 0개인 dictionary \n",
    "d = {'cat': 'cute', 'dog': 'furry'}\n",
    "print(d)\n",
    "\n",
    "# dictionary 특정 값 조회\n",
    "print(d['cat'])       # \"cute\"\n",
    "\n",
    "# key 값이 들어있는지 확인\n",
    "print('cat' in d)     # \"True\"\n",
    "print('sheep' in d)     # \"False\"\n",
    "\n",
    "# 새로운 (key, value) 추가\n",
    "d['fish'] = 'wet'\n",
    "print(d['fish'])      # \"wet\"\n",
    "# print(d['monkey'])  # KeyError: 'monkey'를 key로 가진 value가 없다\n",
    "\n",
    "# key가 없는 경우, default value 사용\n",
    "print(d.get('monkey', 'N/A'))  # \"N/A\"\n",
    "print(d.get('fish', 'N/A'))    # \"wet\"\n",
    "\n",
    "# 요소 삭제\n",
    "del d['fish']\n",
    "print(d.get('fish', 'N/A')) # \"N/A\""
   ]
  },
  {
   "cell_type": "code",
   "execution_count": null,
   "metadata": {
    "id": "a7dMJ5Iq1voy"
   },
   "outputs": [],
   "source": [
    "# cf) string Sequnce + dictionary + iteration\n",
    "strSeq = 'how are you, today?'\n",
    "\n",
    "dictStr = {k : strSeq.count(k) for k in strSeq }"
   ]
  },
  {
   "cell_type": "code",
   "execution_count": null,
   "metadata": {
    "colab": {
     "base_uri": "https://localhost:8080/"
    },
    "executionInfo": {
     "elapsed": 345,
     "status": "ok",
     "timestamp": 1627958100348,
     "user": {
      "displayName": "조한별",
      "photoUrl": "",
      "userId": "13719229561479595538"
     },
     "user_tz": -540
    },
    "id": "-OtuNwXf2wqa",
    "outputId": "c5666ddd-cce0-4957-9368-e945f86ba34c"
   },
   "outputs": [
    {
     "name": "stdout",
     "output_type": "stream",
     "text": [
      "A person has 2 legs\n",
      "A cat has 4 legs\n",
      "A spider has 8 legs\n",
      "A person has 2 legs\n",
      "A cat has 4 legs\n",
      "A spider has 8 legs\n"
     ]
    }
   ],
   "source": [
    "# 반복문 \n",
    "d = {'person': 2, 'cat': 4, 'spider': 8}\n",
    "for key in d:\n",
    "    value = d[key]\n",
    "    print('A %s has %d legs' % (key, value))\n",
    "\n",
    "d = {'person': 2, 'cat': 4, 'spider': 8}\n",
    "for key, value in d.items():\n",
    "    print('A %s has %d legs' % (key, value))"
   ]
  },
  {
   "cell_type": "code",
   "execution_count": null,
   "metadata": {
    "colab": {
     "base_uri": "https://localhost:8080/"
    },
    "executionInfo": {
     "elapsed": 340,
     "status": "ok",
     "timestamp": 1627958123060,
     "user": {
      "displayName": "조한별",
      "photoUrl": "",
      "userId": "13719229561479595538"
     },
     "user_tz": -540
    },
    "id": "knsYmMlP23rD",
    "outputId": "1939bb68-dc8f-412e-cce8-c499c770d37e"
   },
   "outputs": [
    {
     "name": "stdout",
     "output_type": "stream",
     "text": [
      "{'cat': 11, 'fish': 15}\n"
     ]
    }
   ],
   "source": [
    "# 확장 문법 - 반복문 + 제어문\n",
    "\n",
    "animals = {'cat': 11, 'dog': 7, 'fish': 15, 'horse': 3}\n",
    "animals_over_10 = {k: v for k, v in animals.items() if v > 10}\n",
    "print(animals_over_10)  # \"{'cat': 11, 'fish': 15}\""
   ]
  },
  {
   "cell_type": "markdown",
   "metadata": {
    "id": "tDr_GfT93Zap"
   },
   "source": [
    "#### 실습"
   ]
  },
  {
   "cell_type": "code",
   "execution_count": null,
   "metadata": {
    "id": "NmLNVFcZ3rS-"
   },
   "outputs": [],
   "source": [
    "stu01 = {\n",
    "    \"no\": 1,\n",
    "    \"name\": \"조한별\",\n",
    "    \"points\": [92, 96, 98]\n",
    "}\n",
    "stu02 = {\n",
    "    \"no\": 2,\n",
    "    \"name\": \"조야옹\",\n",
    "    \"points\": [58, 64, 100]\n",
    "}\n",
    "stu03 = {\n",
    "    \"no\": 3,\n",
    "    \"name\": \"조쨱짹\",\n",
    "    \"points\": [88, 84, 92]\n",
    "}\n",
    "\n",
    "\n",
    "# 각 학생들의 번호에 10씩 더하세요.\n",
    "\n",
    " \n",
    "# 각 학생별로 점수 합계를 구하시오.\n",
    "\n",
    "\n",
    "# 아래 out을 이용하여 stu01, stu02, stu03의 번호, 이름, 평균점수를 출력하시오.\n",
    "\n",
    "\n",
    "# key: value를 출력하는 코드를 완성하세요. \n",
    "\n"
   ]
  },
  {
   "cell_type": "markdown",
   "metadata": {
    "id": "wW2h8Oc44PQ_"
   },
   "source": [
    "#### 실습"
   ]
  },
  {
   "cell_type": "code",
   "execution_count": null,
   "metadata": {
    "colab": {
     "base_uri": "https://localhost:8080/"
    },
    "executionInfo": {
     "elapsed": 516,
     "status": "ok",
     "timestamp": 1627958368826,
     "user": {
      "displayName": "조한별",
      "photoUrl": "",
      "userId": "13719229561479595538"
     },
     "user_tz": -540
    },
    "id": "O97QYvVv3fF_",
    "outputId": "b1377fcd-1919-4fcc-9eef-18a9928909e0"
   },
   "outputs": [
    {
     "name": "stdout",
     "output_type": "stream",
     "text": [
      "조한별  :  286\n",
      "조야옹  :  222\n",
      "조쨱짹  :  264\n",
      "----------\n",
      "no: 11\n",
      "name: 조한별\n",
      "points: 95.33333333333333\n",
      "----------\n",
      "no: 12\n",
      "name: 조야옹\n",
      "points: 74.0\n",
      "----------\n",
      "no: 13\n",
      "name: 조쨱짹\n",
      "points: 88.0\n",
      "----------\n"
     ]
    }
   ],
   "source": [
    "stu01 = {\n",
    "    \"no\": 1,\n",
    "    \"name\": \"조한별\",\n",
    "    \"points\": [92, 96, 98]\n",
    "}\n",
    "stu02 = {\n",
    "    \"no\": 2,\n",
    "    \"name\": \"조야옹\",\n",
    "    \"points\": [58, 64, 100]\n",
    "}\n",
    "stu03 = {\n",
    "    \"no\": 3,\n",
    "    \"name\": \"조쨱짹\",\n",
    "    \"points\": [88, 84, 92]\n",
    "}\n",
    "\n",
    "\n",
    "# 각 학생들의 번호에 10씩 더하세요.\n",
    "for dic in [stu01, stu02, stu03] :\n",
    "    for k,v in dic.items() :\n",
    "        if k == 'no' :\n",
    "            dic[k] +=10\n",
    " \n",
    "# 각 학생별로 점수 합계를 구하시오.\n",
    "for dic in [stu01, stu02, stu03] :\n",
    "    print(dic['name'],' : ', sum(dic['points']))\n",
    "\n",
    "# 아래 out을 이용하여 stu01, stu02, stu03의 번호, 이름, 평균점수를 출력하시오.\n",
    "out = \"번호: %d, 이름: %s, 평균점수: %f\"\n",
    "\n",
    "\n",
    "# 아래 코드에 오류가 있습니다. 오류를 수정하여. key: value를 출력하는 코드를 완성하세요. \n",
    "for dics in [stu01, stu02, stu03] :\n",
    "    print('----------')\n",
    "    for key, value in dics.items() :\n",
    "        print(\"%s: %s\" % (key, sum(value)/len(value) if key=='points' else value))\n",
    "\n",
    "print('----------')\n"
   ]
  },
  {
   "cell_type": "markdown",
   "metadata": {
    "id": "wzdWFpqE3kpW"
   },
   "source": [
    "## 3. set\n",
    "* 집합\n",
    "* 중복된 값을 중첩되어 가지지 않는 리스트 "
   ]
  },
  {
   "cell_type": "code",
   "execution_count": null,
   "metadata": {
    "colab": {
     "base_uri": "https://localhost:8080/"
    },
    "executionInfo": {
     "elapsed": 432,
     "status": "ok",
     "timestamp": 1627958763733,
     "user": {
      "displayName": "조한별",
      "photoUrl": "",
      "userId": "13719229561479595538"
     },
     "user_tz": -540
    },
    "id": "QDYoxC_Y5yIL",
    "outputId": "fa4c73bf-c3ce-432e-b0eb-f6f4cab3ba8d"
   },
   "outputs": [
    {
     "name": "stdout",
     "output_type": "stream",
     "text": [
      "{'dog', 'cat'}\n",
      "True\n",
      "False\n",
      "True\n",
      "{'fish', 'dog', 'cat'}\n",
      "3\n",
      "3\n",
      "{'fish', 'dog', 'cat'}\n",
      "2\n",
      "['cat', 'dog', 'fish']\n",
      "3\n",
      "4\n",
      "['cat', 'dog', 'fish', 'cat']\n"
     ]
    }
   ],
   "source": [
    "# 빈 set 만들기\n",
    "set_empty = set() \n",
    "\n",
    "# set 생성\n",
    "animals = {'cat', 'dog'}\n",
    "print(animals)\n",
    "\n",
    "# 요소가 있는지 체크\n",
    "print('cat' in animals)   # \"True\"\n",
    "print('fish' in animals)  # \"False\"\n",
    "\n",
    "# 요소 추가\n",
    "animals.add('fish')\n",
    "print('fish' in animals)  # \"True\"\n",
    "print(animals)\n",
    "\n",
    "# set 요소 갯수\n",
    "print(len(animals))       # \"3\"\n",
    "animals.add('cat')        # 중복되어 추가해도 요소가 더 추가되지 않는다. 리스트와 비교.\n",
    "print(len(animals))       # \"3\"\n",
    "print(animals)\n",
    "\n",
    "# 요소 삭제\n",
    "animals.remove('cat')     \n",
    "print(len(animals))       # \"2\"\n",
    "\n",
    "######################\n",
    "# List 비교\n",
    "list_animals = ['cat', 'dog', 'fish']\n",
    "print(list_animals)\n",
    "print(len(list_animals))       # \"3\"\n",
    "\n",
    "# list 요소 갯수\n",
    "list_animals.append('cat')     # 중복되어도 요소가 더 추가된다.\n",
    "print(len(list_animals))       # \"4\"\n",
    "print(list_animals)\n"
   ]
  },
  {
   "cell_type": "code",
   "execution_count": null,
   "metadata": {
    "colab": {
     "base_uri": "https://localhost:8080/"
    },
    "executionInfo": {
     "elapsed": 349,
     "status": "ok",
     "timestamp": 1627958932932,
     "user": {
      "displayName": "조한별",
      "photoUrl": "",
      "userId": "13719229561479595538"
     },
     "user_tz": -540
    },
    "id": "MIRyqcvH51ys",
    "outputId": "fdbae97f-7fd7-4296-f2bc-f3ea18ce61d8"
   },
   "outputs": [
    {
     "name": "stdout",
     "output_type": "stream",
     "text": [
      "#1: fish\n",
      "#2: dog\n",
      "#3: cat\n",
      "{0, 1, 2, 3, 4, 5}\n"
     ]
    }
   ],
   "source": [
    "# 반복문\n",
    "animals = {'cat', 'dog', 'fish'}\n",
    "for idx, animal in enumerate(animals):\n",
    "    print('#%d: %s' % (idx + 1, animal))\n",
    "\n",
    "# 확장 문법 - 반복문\n",
    "from math import sqrt\n",
    "nums = {int(sqrt(x)) for x in range(30)}\n",
    "print(nums)  # \"{0, 1, 2, 3, 4, 5}\""
   ]
  },
  {
   "cell_type": "markdown",
   "metadata": {
    "id": "BPKaeax16fJe"
   },
   "source": [
    "## 4. Tuples\n",
    "* 생성 후 불변\n",
    "* unpacking"
   ]
  },
  {
   "cell_type": "code",
   "execution_count": null,
   "metadata": {
    "colab": {
     "base_uri": "https://localhost:8080/"
    },
    "executionInfo": {
     "elapsed": 418,
     "status": "ok",
     "timestamp": 1627973097396,
     "user": {
      "displayName": "조한별",
      "photoUrl": "",
      "userId": "13719229561479595538"
     },
     "user_tz": -540
    },
    "id": "C9vsdosE6sjE",
    "outputId": "23a8a502-7128-47eb-edbf-624f4a36c47e"
   },
   "outputs": [
    {
     "name": "stdout",
     "output_type": "stream",
     "text": [
      "<class 'tuple'>\n",
      "t : 5,6\n",
      "5\n",
      "10\n",
      "1\n",
      "a, b == (5,6) == t\n"
     ]
    }
   ],
   "source": [
    "# 비어있는 튜플 생성\n",
    "empty_tuple = () # tuple()\n",
    "# 튜플 생성\n",
    "t = (5, 6)\n",
    "print(type(t))    # Prints \"<class 'tuple'>\"\n",
    "print(f't : {t[0]},{t[1]}')    # \"(5, 6)\"\n",
    "\n",
    "print(t[0])       # \"5\"\n",
    "\n",
    "# dictionary의 키로 사용되는 tuple\n",
    "d = {(1, 0): 10, (2, 0): 20, (0, 1): 1}\n",
    "print(d[(1, 0)])  # \"10\"\n",
    "print(d[(0, 1)])  # \"1\"\n",
    "\n",
    "# unpacking - 실제는 함수 \n",
    "a, b = t\n",
    "print(f'a, b == ({a},{b}) == t')"
   ]
  },
  {
   "cell_type": "code",
   "execution_count": null,
   "metadata": {
    "colab": {
     "base_uri": "https://localhost:8080/",
     "height": 164
    },
    "executionInfo": {
     "elapsed": 428,
     "status": "error",
     "timestamp": 1627973108553,
     "user": {
      "displayName": "조한별",
      "photoUrl": "",
      "userId": "13719229561479595538"
     },
     "user_tz": -540
    },
    "id": "8idZUHxS6v47",
    "outputId": "962d40b7-b583-4194-efeb-d10f7db5f47f"
   },
   "outputs": [
    {
     "ename": "TypeError",
     "evalue": "ignored",
     "output_type": "error",
     "traceback": [
      "\u001b[0;31m---------------------------------------------------------------------------\u001b[0m",
      "\u001b[0;31mTypeError\u001b[0m                                 Traceback (most recent call last)",
      "\u001b[0;32m<ipython-input-2-c53026d12066>\u001b[0m in \u001b[0;36m<module>\u001b[0;34m()\u001b[0m\n\u001b[0;32m----> 1\u001b[0;31m \u001b[0mt\u001b[0m\u001b[0;34m[\u001b[0m\u001b[0;36m1\u001b[0m\u001b[0;34m]\u001b[0m \u001b[0;34m=\u001b[0m \u001b[0;36m5\u001b[0m\u001b[0;34m\u001b[0m\u001b[0;34m\u001b[0m\u001b[0m\n\u001b[0m",
      "\u001b[0;31mTypeError\u001b[0m: 'tuple' object does not support item assignment"
     ]
    }
   ],
   "source": [
    "t[1] = 5"
   ]
  },
  {
   "cell_type": "markdown",
   "metadata": {
    "id": "wgxoR1Rswj-U"
   },
   "source": [
    "# 함수(function)\n"
   ]
  },
  {
   "cell_type": "code",
   "execution_count": null,
   "metadata": {
    "colab": {
     "base_uri": "https://localhost:8080/"
    },
    "executionInfo": {
     "elapsed": 5,
     "status": "ok",
     "timestamp": 1629086189958,
     "user": {
      "displayName": "조한별",
      "photoUrl": "",
      "userId": "13719229561479595538"
     },
     "user_tz": -540
    },
    "id": "SouffhFNGmXA",
    "outputId": "c7f91230-1bc3-4317-c03d-3b4b4fbe42f5"
   },
   "outputs": [
    {
     "name": "stdout",
     "output_type": "stream",
     "text": [
      "negative\n",
      "zero\n",
      "positive\n"
     ]
    }
   ],
   "source": [
    "def sign(x):\n",
    "    if x > 0:\n",
    "        return 'positive'\n",
    "    elif x < 0:\n",
    "        return 'negative'\n",
    "    else:\n",
    "        return 'zero'\n",
    "\n",
    "for x in [-1, 0, 1]:\n",
    "    print(sign(x))\n",
    "    "
   ]
  },
  {
   "cell_type": "code",
   "execution_count": null,
   "metadata": {
    "colab": {
     "base_uri": "https://localhost:8080/"
    },
    "executionInfo": {
     "elapsed": 4,
     "status": "ok",
     "timestamp": 1629086189959,
     "user": {
      "displayName": "조한별",
      "photoUrl": "",
      "userId": "13719229561479595538"
     },
     "user_tz": -540
    },
    "id": "0aa3DqlHGm77",
    "outputId": "3769a1e8-68bd-4c44-f9e7-d67ede6e109b"
   },
   "outputs": [
    {
     "name": "stdout",
     "output_type": "stream",
     "text": [
      "Hello, Bob\n",
      "HELLO, FRED!\n"
     ]
    }
   ],
   "source": [
    "def hello(name, loud=False):\n",
    "    if loud:\n",
    "        print('HELLO, %s!' % name.upper())\n",
    "    else:\n",
    "        print('Hello, %s' % name)\n",
    "\n",
    "hello('Bob')              # \"Hello, Bob\"\n",
    "hello('Fred', loud=True)  # \"HELLO, FRED!\""
   ]
  },
  {
   "cell_type": "markdown",
   "metadata": {
    "id": "LP2ivNS3G1ag"
   },
   "source": [
    "## 실습"
   ]
  },
  {
   "cell_type": "code",
   "execution_count": null,
   "metadata": {
    "id": "nsAk7wwqGoZ_"
   },
   "outputs": [],
   "source": [
    "# 숫자의 list를 받아서 평균을 반환하는 average 함수를 만들어 봅시다 \n",
    "def grade_average(list_points):\n",
    "    # 여기를 작성해 주면 됩니다. \n",
    "    # 힌트: list_points의 요소의 평균을 계산해서 aver 변수에 담으면 됩니다. \n",
    "\n",
    "    return pass\n",
    "\n",
    "\n",
    "points = [50, 60, 70, 80, 90, 100]\n",
    "a = grade_average(points)\n",
    "print(a)\n",
    "\n",
    "\n",
    "# score 값에 따라 등급을 반환해 주는 grade 함수를 완성하시오.\n",
    "# 95점 이상 A+. 90점 이상 A, 85점 이상 B+, 80점 이상 B,\n",
    "# 75점 이상 C+. 70점 이상 C, 60점 이상 D, 60점 미만 F\n",
    "def get_grade(score):\n",
    "    # 여기를 작성해 주면 됩니다. \n",
    "    # 점수를 출력하고, 거기에 맞는 grade list를 return 하면 됩니다. \n",
    "    # 힌트: score의 값을 확인해서 등급을 grade 변수에 담으면 됩니다. \n",
    "    \n",
    "    return pass\n",
    "\n",
    "print(get_grade)\n"
   ]
  },
  {
   "cell_type": "markdown",
   "metadata": {
    "id": "2CtymSUaHoFZ"
   },
   "source": [
    "# (참고) 클래스(class)"
   ]
  },
  {
   "cell_type": "code",
   "execution_count": null,
   "metadata": {
    "colab": {
     "base_uri": "https://localhost:8080/"
    },
    "executionInfo": {
     "elapsed": 323,
     "status": "ok",
     "timestamp": 1629086465788,
     "user": {
      "displayName": "조한별",
      "photoUrl": "",
      "userId": "13719229561479595538"
     },
     "user_tz": -540
    },
    "id": "5iUvhvX2Hrdd",
    "outputId": "74e3df47-9cde-47b1-9bbf-d988e88e40ad"
   },
   "outputs": [
    {
     "name": "stdout",
     "output_type": "stream",
     "text": [
      "Hello, Fred\n",
      "HELLO, FRED!\n"
     ]
    }
   ],
   "source": [
    "class Greeter(object):\n",
    "\n",
    "    # 생성자\n",
    "    def __init__(self, name):\n",
    "        self.name = name  # Create an instance variable\n",
    "\n",
    "    # 메쏘드\n",
    "    def greet(self, loud=False):\n",
    "        if loud:\n",
    "            print('HELLO, %s!' % self.name.upper())\n",
    "        else:\n",
    "            print('Hello, %s' % self.name)\n",
    "\n",
    "g = Greeter('Fred')  # 인스턴스 생성\n",
    "g.greet()            # \"Hello, Fred\"\n",
    "g.greet(loud=True)   # \"HELLO, FRED!\""
   ]
  },
  {
   "cell_type": "code",
   "execution_count": null,
   "metadata": {
    "id": "LL0rKP-tHrvk"
   },
   "outputs": [],
   "source": []
  }
 ],
 "metadata": {
  "colab": {
   "authorship_tag": "ABX9TyN+35IoZOFkEGGDZ6fL7qQp",
   "collapsed_sections": [
    "wW2h8Oc44PQ_"
   ],
   "name": "01.python 기초.ipynb",
   "provenance": [],
   "toc_visible": true
  },
  "kernelspec": {
   "display_name": "Python 3",
   "language": "python",
   "name": "python3"
  },
  "language_info": {
   "codemirror_mode": {
    "name": "ipython",
    "version": 3
   },
   "file_extension": ".py",
   "mimetype": "text/x-python",
   "name": "python",
   "nbconvert_exporter": "python",
   "pygments_lexer": "ipython3",
   "version": "3.8.8"
  }
 },
 "nbformat": 4,
 "nbformat_minor": 1
}
