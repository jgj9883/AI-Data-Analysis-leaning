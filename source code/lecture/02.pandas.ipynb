{
 "cells": [
  {
   "cell_type": "markdown",
   "metadata": {
    "id": "koUiiEk3BRRN"
   },
   "source": [
    "# Pandas. \n",
    "\n",
    "### 선행지식  \n",
    "\n",
    "1. Python 언어 기초\n",
    "2. numpy 라이브러리 기초  \n",
    "3. table 구조의 데이터에 대한 이해(엑셀 형태의 데이터)  \n",
    "\n",
    "### 학습 목표\n",
    "1. csv 파일 읽는 법\n",
    "2. dataframe 만드는 법\n",
    "3. dataframe 다루기\n",
    "4. head, tail\n",
    "5. 정렬\n",
    "6. numpy array와 변환\n",
    "7. dataframe 연산"
   ]
  },
  {
   "cell_type": "markdown",
   "metadata": {
    "id": "FMDhCfCmdjf0"
   },
   "source": [
    "## PRE. "
   ]
  },
  {
   "cell_type": "code",
   "execution_count": 37,
   "metadata": {
    "executionInfo": {
     "elapsed": 3,
     "status": "ok",
     "timestamp": 1633672388407,
     "user": {
      "displayName": "조한별",
      "photoUrl": "https://lh3.googleusercontent.com/a/default-user=s64",
      "userId": "13719229561479595538"
     },
     "user_tz": -540
    },
    "id": "8yV9Lx6mdleZ"
   },
   "outputs": [],
   "source": [
    "# cell 내부의 print 형태의 결과를 모두 보여줌 \n",
    "from IPython.core.interactiveshell import InteractiveShell\n",
    "InteractiveShell.ast_node_interactivity = \"all\""
   ]
  },
  {
   "cell_type": "markdown",
   "metadata": {
    "id": "lip6Sn3xHRU4"
   },
   "source": [
    "## 라이브러리 불러오기 & 데이터 업로드"
   ]
  },
  {
   "cell_type": "code",
   "execution_count": 1,
   "metadata": {
    "executionInfo": {
     "elapsed": 2,
     "status": "ok",
     "timestamp": 1633666607432,
     "user": {
      "displayName": "조한별",
      "photoUrl": "https://lh3.googleusercontent.com/a/default-user=s64",
      "userId": "13719229561479595538"
     },
     "user_tz": -540
    },
    "id": "YDw4yRT3HXo-"
   },
   "outputs": [],
   "source": [
    "# !pip3 install pandas\n",
    "\n",
    "import pandas as pd\n",
    "from google.colab import files"
   ]
  },
  {
   "cell_type": "code",
   "execution_count": 22,
   "metadata": {
    "colab": {
     "base_uri": "https://localhost:8080/",
     "height": 73,
     "resources": {
      "http://localhost:8080/nbextensions/google.colab/files.js": {
       "data": "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",
       "headers": [
        [
         "content-type",
         "application/javascript"
        ]
       ],
       "ok": true,
       "status": 200,
       "status_text": ""
      }
     }
    },
    "executionInfo": {
     "elapsed": 32956,
     "status": "ok",
     "timestamp": 1633667733582,
     "user": {
      "displayName": "조한별",
      "photoUrl": "https://lh3.googleusercontent.com/a/default-user=s64",
      "userId": "13719229561479595538"
     },
     "user_tz": -540
    },
    "id": "Us2pKs8qHg-v",
    "outputId": "961c0e8b-b5cf-4c11-9e9c-6e3f37302bbc"
   },
   "outputs": [
    {
     "data": {
      "text/html": [
       "\n",
       "     <input type=\"file\" id=\"files-de5b361e-5e95-45ad-9d39-4752aec9bb5e\" name=\"files[]\" multiple disabled\n",
       "        style=\"border:none\" />\n",
       "     <output id=\"result-de5b361e-5e95-45ad-9d39-4752aec9bb5e\">\n",
       "      Upload widget is only available when the cell has been executed in the\n",
       "      current browser session. Please rerun this cell to enable.\n",
       "      </output>\n",
       "      <script src=\"/nbextensions/google.colab/files.js\"></script> "
      ],
      "text/plain": [
       "<IPython.core.display.HTML object>"
      ]
     },
     "metadata": {},
     "output_type": "display_data"
    },
    {
     "name": "stdout",
     "output_type": "stream",
     "text": [
      "Saving raw_20210601_20210630.xlsx to raw_20210601_20210630.xlsx\n"
     ]
    }
   ],
   "source": [
    "uploaded = files.upload()"
   ]
  },
  {
   "cell_type": "markdown",
   "metadata": {
    "id": "B_YjcQe4Hjgr"
   },
   "source": [
    "## 01.데이터 프레임 만드는 법"
   ]
  },
  {
   "cell_type": "markdown",
   "metadata": {
    "id": "FjGA95BgJSvD"
   },
   "source": [
    "### 01-1. from dict"
   ]
  },
  {
   "cell_type": "code",
   "execution_count": 7,
   "metadata": {
    "colab": {
     "base_uri": "https://localhost:8080/",
     "height": 190
    },
    "executionInfo": {
     "elapsed": 278,
     "status": "ok",
     "timestamp": 1633666875125,
     "user": {
      "displayName": "조한별",
      "photoUrl": "https://lh3.googleusercontent.com/a/default-user=s64",
      "userId": "13719229561479595538"
     },
     "user_tz": -540
    },
    "id": "ViSYBHL-Hlzy",
    "outputId": "47572dc5-451b-408c-a6f4-d38135d9e800"
   },
   "outputs": [
    {
     "name": "stdout",
     "output_type": "stream",
     "text": [
      "<class 'dict'>\n"
     ]
    },
    {
     "data": {
      "text/html": [
       "<div>\n",
       "<style scoped>\n",
       "    .dataframe tbody tr th:only-of-type {\n",
       "        vertical-align: middle;\n",
       "    }\n",
       "\n",
       "    .dataframe tbody tr th {\n",
       "        vertical-align: top;\n",
       "    }\n",
       "\n",
       "    .dataframe thead th {\n",
       "        text-align: right;\n",
       "    }\n",
       "</style>\n",
       "<table border=\"1\" class=\"dataframe\">\n",
       "  <thead>\n",
       "    <tr style=\"text-align: right;\">\n",
       "      <th></th>\n",
       "      <th>weapon</th>\n",
       "      <th>tier</th>\n",
       "      <th>rank</th>\n",
       "    </tr>\n",
       "  </thead>\n",
       "  <tbody>\n",
       "    <tr>\n",
       "      <th>0</th>\n",
       "      <td>sword_1</td>\n",
       "      <td>Gold</td>\n",
       "      <td>1</td>\n",
       "    </tr>\n",
       "    <tr>\n",
       "      <th>1</th>\n",
       "      <td>sword_1</td>\n",
       "      <td>Bronze</td>\n",
       "      <td>2</td>\n",
       "    </tr>\n",
       "    <tr>\n",
       "      <th>2</th>\n",
       "      <td>sword_2</td>\n",
       "      <td>Silver</td>\n",
       "      <td>3</td>\n",
       "    </tr>\n",
       "    <tr>\n",
       "      <th>3</th>\n",
       "      <td>sword_2</td>\n",
       "      <td>Gold</td>\n",
       "      <td>4</td>\n",
       "    </tr>\n",
       "  </tbody>\n",
       "</table>\n",
       "</div>"
      ],
      "text/plain": [
       "    weapon    tier  rank\n",
       "0  sword_1    Gold     1\n",
       "1  sword_1  Bronze     2\n",
       "2  sword_2  Silver     3\n",
       "3  sword_2    Gold     4"
      ]
     },
     "execution_count": 7,
     "metadata": {},
     "output_type": "execute_result"
    }
   ],
   "source": [
    "# 생성 from dict\n",
    "\n",
    "d = {}\n",
    "print(type(d))\n",
    "\n",
    "d = {\n",
    "    'weapon' : ['sword_1','sword_1','sword_2','sword_2'],\n",
    "     'tier' : ['Gold', 'Bronze', 'Silver', 'Gold'],\n",
    "     'rank' : [1, 2, 3, 4]\n",
    "}\n",
    "\n",
    "df = pd.DataFrame(d)\n",
    "df"
   ]
  },
  {
   "cell_type": "markdown",
   "metadata": {
    "id": "c2nYqtMZJWuH"
   },
   "source": [
    "### 01-2. from numpy"
   ]
  },
  {
   "cell_type": "code",
   "execution_count": 8,
   "metadata": {
    "colab": {
     "base_uri": "https://localhost:8080/",
     "height": 235
    },
    "executionInfo": {
     "elapsed": 344,
     "status": "ok",
     "timestamp": 1633666948353,
     "user": {
      "displayName": "조한별",
      "photoUrl": "https://lh3.googleusercontent.com/a/default-user=s64",
      "userId": "13719229561479595538"
     },
     "user_tz": -540
    },
    "id": "okzjYW0xIlOJ",
    "outputId": "8840984b-ae06-4b14-ab67-c79f684ecae9"
   },
   "outputs": [
    {
     "data": {
      "text/html": [
       "<div>\n",
       "<style scoped>\n",
       "    .dataframe tbody tr th:only-of-type {\n",
       "        vertical-align: middle;\n",
       "    }\n",
       "\n",
       "    .dataframe tbody tr th {\n",
       "        vertical-align: top;\n",
       "    }\n",
       "\n",
       "    .dataframe thead th {\n",
       "        text-align: right;\n",
       "    }\n",
       "</style>\n",
       "<table border=\"1\" class=\"dataframe\">\n",
       "  <thead>\n",
       "    <tr style=\"text-align: right;\">\n",
       "      <th></th>\n",
       "      <th>A</th>\n",
       "      <th>B</th>\n",
       "      <th>C</th>\n",
       "      <th>D</th>\n",
       "    </tr>\n",
       "  </thead>\n",
       "  <tbody>\n",
       "    <tr>\n",
       "      <th>2020-12-01</th>\n",
       "      <td>0.420004</td>\n",
       "      <td>-0.053455</td>\n",
       "      <td>0.786941</td>\n",
       "      <td>0.098217</td>\n",
       "    </tr>\n",
       "    <tr>\n",
       "      <th>2020-12-02</th>\n",
       "      <td>1.328094</td>\n",
       "      <td>-0.635345</td>\n",
       "      <td>-0.939712</td>\n",
       "      <td>0.414449</td>\n",
       "    </tr>\n",
       "    <tr>\n",
       "      <th>2020-12-03</th>\n",
       "      <td>0.981887</td>\n",
       "      <td>1.284117</td>\n",
       "      <td>0.449820</td>\n",
       "      <td>-2.507288</td>\n",
       "    </tr>\n",
       "    <tr>\n",
       "      <th>2020-12-04</th>\n",
       "      <td>-0.169448</td>\n",
       "      <td>-1.420838</td>\n",
       "      <td>0.006253</td>\n",
       "      <td>1.218307</td>\n",
       "    </tr>\n",
       "    <tr>\n",
       "      <th>2020-12-05</th>\n",
       "      <td>-0.367880</td>\n",
       "      <td>-0.622458</td>\n",
       "      <td>0.656371</td>\n",
       "      <td>-0.223615</td>\n",
       "    </tr>\n",
       "    <tr>\n",
       "      <th>2020-12-06</th>\n",
       "      <td>1.897406</td>\n",
       "      <td>-0.639231</td>\n",
       "      <td>1.351969</td>\n",
       "      <td>0.454194</td>\n",
       "    </tr>\n",
       "  </tbody>\n",
       "</table>\n",
       "</div>"
      ],
      "text/plain": [
       "                   A         B         C         D\n",
       "2020-12-01  0.420004 -0.053455  0.786941  0.098217\n",
       "2020-12-02  1.328094 -0.635345 -0.939712  0.414449\n",
       "2020-12-03  0.981887  1.284117  0.449820 -2.507288\n",
       "2020-12-04 -0.169448 -1.420838  0.006253  1.218307\n",
       "2020-12-05 -0.367880 -0.622458  0.656371 -0.223615\n",
       "2020-12-06  1.897406 -0.639231  1.351969  0.454194"
      ]
     },
     "execution_count": 8,
     "metadata": {},
     "output_type": "execute_result"
    }
   ],
   "source": [
    "# Numpy Array => Pandas DataFrame\n",
    "import numpy as np\n",
    "\n",
    "dates = pd.date_range('20201201', periods=6)\n",
    "# DatetimeIndex(['2020-12-01', '2020-12-02', '2020-12-03', '2020-12-04',\n",
    "#                '2020-12-05', '2020-12-06'],\n",
    "#               dtype='datetime64[ns]', freq='D')\n",
    "\n",
    "df = pd.DataFrame(np.random.randn(6, 4), index=dates, columns=list('ABCD'))\n",
    "#                   A         B         C         D\n",
    "# 2013-01-01  0.469112 -0.282863 -1.509059 -1.135632\n",
    "# 2013-01-02  1.212112 -0.173215  0.119209 -1.044236\n",
    "# 2013-01-03 -0.861849 -2.104569 -0.494929  1.071804\n",
    "# 2013-01-04  0.721555 -0.706771 -1.039575  0.271860\n",
    "# 2013-01-05 -0.424972  0.567020  0.276232 -1.087401\n",
    "# 2013-01-06 -0.673690  0.113648 -1.478427  0.524988\n",
    "\n",
    "df"
   ]
  },
  {
   "cell_type": "code",
   "execution_count": 9,
   "metadata": {
    "colab": {
     "base_uri": "https://localhost:8080/"
    },
    "executionInfo": {
     "elapsed": 373,
     "status": "ok",
     "timestamp": 1633666977358,
     "user": {
      "displayName": "조한별",
      "photoUrl": "https://lh3.googleusercontent.com/a/default-user=s64",
      "userId": "13719229561479595538"
     },
     "user_tz": -540
    },
    "id": "QLnt1tTvI8PD",
    "outputId": "21bcfb61-8281-49d1-d236-0ceceb9520c6"
   },
   "outputs": [
    {
     "name": "stdout",
     "output_type": "stream",
     "text": [
      "[[ 0.42000416 -0.05345502  0.78694094  0.09821672]\n",
      " [ 1.32809445 -0.6353446  -0.93971174  0.41444855]\n",
      " [ 0.98188673  1.28411718  0.44982026 -2.50728775]\n",
      " [-0.16944797 -1.4208383   0.00625277  1.21830689]\n",
      " [-0.36787953 -0.62245805  0.65637054 -0.22361544]\n",
      " [ 1.8974058  -0.63923145  1.35196949  0.45419438]] (6, 4)\n"
     ]
    }
   ],
   "source": [
    "# Pandas DataFrame => Numpy Array\n",
    "np_array = df.values\n",
    "print(np_array, np_array.shape)"
   ]
  },
  {
   "cell_type": "markdown",
   "metadata": {
    "id": "Nlzq8WcOJB1h"
   },
   "source": [
    "### 01-3. 빈 데이터 프레임 생성하기. \n"
   ]
  },
  {
   "cell_type": "code",
   "execution_count": 11,
   "metadata": {
    "colab": {
     "base_uri": "https://localhost:8080/",
     "height": 32
    },
    "executionInfo": {
     "elapsed": 265,
     "status": "ok",
     "timestamp": 1633667354014,
     "user": {
      "displayName": "조한별",
      "photoUrl": "https://lh3.googleusercontent.com/a/default-user=s64",
      "userId": "13719229561479595538"
     },
     "user_tz": -540
    },
    "id": "KVDmNPLTKVT2",
    "outputId": "fe7f8654-38a5-450e-bb15-d0d87312d3e3"
   },
   "outputs": [
    {
     "data": {
      "text/html": [
       "<div>\n",
       "<style scoped>\n",
       "    .dataframe tbody tr th:only-of-type {\n",
       "        vertical-align: middle;\n",
       "    }\n",
       "\n",
       "    .dataframe tbody tr th {\n",
       "        vertical-align: top;\n",
       "    }\n",
       "\n",
       "    .dataframe thead th {\n",
       "        text-align: right;\n",
       "    }\n",
       "</style>\n",
       "<table border=\"1\" class=\"dataframe\">\n",
       "  <thead>\n",
       "    <tr style=\"text-align: right;\">\n",
       "      <th></th>\n",
       "    </tr>\n",
       "  </thead>\n",
       "  <tbody>\n",
       "  </tbody>\n",
       "</table>\n",
       "</div>"
      ],
      "text/plain": [
       "Empty DataFrame\n",
       "Columns: []\n",
       "Index: []"
      ]
     },
     "execution_count": 11,
     "metadata": {},
     "output_type": "execute_result"
    }
   ],
   "source": [
    "df_empty = pd.DataFrame()\n",
    "df_empty"
   ]
  },
  {
   "cell_type": "markdown",
   "metadata": {
    "id": "ilAUTtDgKZSa"
   },
   "source": [
    "## 02.데이터 불러오기, 조회하기"
   ]
  },
  {
   "cell_type": "code",
   "execution_count": 105,
   "metadata": {
    "colab": {
     "base_uri": "https://localhost:8080/",
     "height": 419
    },
    "executionInfo": {
     "elapsed": 3958,
     "status": "ok",
     "timestamp": 1633675143183,
     "user": {
      "displayName": "조한별",
      "photoUrl": "https://lh3.googleusercontent.com/a/default-user=s64",
      "userId": "13719229561479595538"
     },
     "user_tz": -540
    },
    "id": "-zyB6EiFKf7Q",
    "outputId": "8d638d63-4c22-45a5-e481-8379d17a8649"
   },
   "outputs": [
    {
     "data": {
      "text/html": [
       "<div>\n",
       "<style scoped>\n",
       "    .dataframe tbody tr th:only-of-type {\n",
       "        vertical-align: middle;\n",
       "    }\n",
       "\n",
       "    .dataframe tbody tr th {\n",
       "        vertical-align: top;\n",
       "    }\n",
       "\n",
       "    .dataframe thead th {\n",
       "        text-align: right;\n",
       "    }\n",
       "</style>\n",
       "<table border=\"1\" class=\"dataframe\">\n",
       "  <thead>\n",
       "    <tr style=\"text-align: right;\">\n",
       "      <th></th>\n",
       "      <th>수집시간</th>\n",
       "      <th>수집장비ID</th>\n",
       "      <th>축사번호</th>\n",
       "      <th>모듈ID</th>\n",
       "      <th>센서타입</th>\n",
       "      <th>측정값</th>\n",
       "      <th>센서시간</th>\n",
       "    </tr>\n",
       "  </thead>\n",
       "  <tbody>\n",
       "    <tr>\n",
       "      <th>0</th>\n",
       "      <td>2021-06-30 23:58:48</td>\n",
       "      <td>GW01</td>\n",
       "      <td>1</td>\n",
       "      <td>1</td>\n",
       "      <td>humidity</td>\n",
       "      <td>99.899950</td>\n",
       "      <td>20210630235847</td>\n",
       "    </tr>\n",
       "    <tr>\n",
       "      <th>1</th>\n",
       "      <td>2021-06-30 23:58:48</td>\n",
       "      <td>GW01</td>\n",
       "      <td>1</td>\n",
       "      <td>1</td>\n",
       "      <td>temp</td>\n",
       "      <td>21.099990</td>\n",
       "      <td>20210630235847</td>\n",
       "    </tr>\n",
       "    <tr>\n",
       "      <th>2</th>\n",
       "      <td>2021-06-30 23:58:21</td>\n",
       "      <td>GW01</td>\n",
       "      <td>1</td>\n",
       "      <td>1</td>\n",
       "      <td>co2</td>\n",
       "      <td>402.890000</td>\n",
       "      <td>20210630235819</td>\n",
       "    </tr>\n",
       "    <tr>\n",
       "      <th>3</th>\n",
       "      <td>2021-06-30 23:58:21</td>\n",
       "      <td>GW01</td>\n",
       "      <td>1</td>\n",
       "      <td>1</td>\n",
       "      <td>nh3</td>\n",
       "      <td>4.380000</td>\n",
       "      <td>20210630235819</td>\n",
       "    </tr>\n",
       "    <tr>\n",
       "      <th>4</th>\n",
       "      <td>2021-06-30 23:56:48</td>\n",
       "      <td>GW01</td>\n",
       "      <td>1</td>\n",
       "      <td>1</td>\n",
       "      <td>humidity</td>\n",
       "      <td>99.899940</td>\n",
       "      <td>20210630235647</td>\n",
       "    </tr>\n",
       "    <tr>\n",
       "      <th>...</th>\n",
       "      <td>...</td>\n",
       "      <td>...</td>\n",
       "      <td>...</td>\n",
       "      <td>...</td>\n",
       "      <td>...</td>\n",
       "      <td>...</td>\n",
       "      <td>...</td>\n",
       "    </tr>\n",
       "    <tr>\n",
       "      <th>38919</th>\n",
       "      <td>2021-06-10 12:27:16</td>\n",
       "      <td>GW01</td>\n",
       "      <td>1</td>\n",
       "      <td>1</td>\n",
       "      <td>humidity</td>\n",
       "      <td>45.639000</td>\n",
       "      <td>20210610122714</td>\n",
       "    </tr>\n",
       "    <tr>\n",
       "      <th>38920</th>\n",
       "      <td>2021-06-10 12:23:31</td>\n",
       "      <td>GW01</td>\n",
       "      <td>1</td>\n",
       "      <td>1</td>\n",
       "      <td>nh3</td>\n",
       "      <td>11.934230</td>\n",
       "      <td>20210610122330</td>\n",
       "    </tr>\n",
       "    <tr>\n",
       "      <th>38921</th>\n",
       "      <td>2021-06-10 12:23:31</td>\n",
       "      <td>GW01</td>\n",
       "      <td>1</td>\n",
       "      <td>1</td>\n",
       "      <td>co2</td>\n",
       "      <td>409.215100</td>\n",
       "      <td>20210610122330</td>\n",
       "    </tr>\n",
       "    <tr>\n",
       "      <th>38922</th>\n",
       "      <td>2021-06-10 12:16:58</td>\n",
       "      <td>GW01</td>\n",
       "      <td>1</td>\n",
       "      <td>1</td>\n",
       "      <td>co2</td>\n",
       "      <td>402.246300</td>\n",
       "      <td>20210610121657</td>\n",
       "    </tr>\n",
       "    <tr>\n",
       "      <th>38923</th>\n",
       "      <td>2021-06-10 12:16:58</td>\n",
       "      <td>GW01</td>\n",
       "      <td>1</td>\n",
       "      <td>1</td>\n",
       "      <td>nh3</td>\n",
       "      <td>3.526615</td>\n",
       "      <td>20210610121657</td>\n",
       "    </tr>\n",
       "  </tbody>\n",
       "</table>\n",
       "<p>38924 rows × 7 columns</p>\n",
       "</div>"
      ],
      "text/plain": [
       "                      수집시간 수집장비ID  축사번호  ...      센서타입         측정값            센서시간\n",
       "0      2021-06-30 23:58:48   GW01     1  ...  humidity   99.899950  20210630235847\n",
       "1      2021-06-30 23:58:48   GW01     1  ...      temp   21.099990  20210630235847\n",
       "2      2021-06-30 23:58:21   GW01     1  ...       co2  402.890000  20210630235819\n",
       "3      2021-06-30 23:58:21   GW01     1  ...       nh3    4.380000  20210630235819\n",
       "4      2021-06-30 23:56:48   GW01     1  ...  humidity   99.899940  20210630235647\n",
       "...                    ...    ...   ...  ...       ...         ...             ...\n",
       "38919  2021-06-10 12:27:16   GW01     1  ...  humidity   45.639000  20210610122714\n",
       "38920  2021-06-10 12:23:31   GW01     1  ...       nh3   11.934230  20210610122330\n",
       "38921  2021-06-10 12:23:31   GW01     1  ...       co2  409.215100  20210610122330\n",
       "38922  2021-06-10 12:16:58   GW01     1  ...       co2  402.246300  20210610121657\n",
       "38923  2021-06-10 12:16:58   GW01     1  ...       nh3    3.526615  20210610121657\n",
       "\n",
       "[38924 rows x 7 columns]"
      ]
     },
     "execution_count": 105,
     "metadata": {},
     "output_type": "execute_result"
    }
   ],
   "source": [
    "df = pd.read_excel('./raw_20210601_20210630.xlsx')\n",
    "df\n",
    "\n",
    "raw_df = df.copy()"
   ]
  },
  {
   "cell_type": "code",
   "execution_count": 30,
   "metadata": {
    "colab": {
     "base_uri": "https://localhost:8080/"
    },
    "executionInfo": {
     "elapsed": 265,
     "status": "ok",
     "timestamp": 1633668174051,
     "user": {
      "displayName": "조한별",
      "photoUrl": "https://lh3.googleusercontent.com/a/default-user=s64",
      "userId": "13719229561479595538"
     },
     "user_tz": -540
    },
    "id": "G7utALxJNb34",
    "outputId": "9b153c20-91e0-4e57-dd0c-c585354b9ccf"
   },
   "outputs": [
    {
     "data": {
      "text/plain": [
       "(38924, 7)"
      ]
     },
     "execution_count": 30,
     "metadata": {},
     "output_type": "execute_result"
    }
   ],
   "source": [
    "# 프레임의 행,열(형태? 모양?) 출력\n",
    "df.shape"
   ]
  },
  {
   "cell_type": "code",
   "execution_count": 27,
   "metadata": {
    "colab": {
     "base_uri": "https://localhost:8080/"
    },
    "executionInfo": {
     "elapsed": 2,
     "status": "ok",
     "timestamp": 1633667776263,
     "user": {
      "displayName": "조한별",
      "photoUrl": "https://lh3.googleusercontent.com/a/default-user=s64",
      "userId": "13719229561479595538"
     },
     "user_tz": -540
    },
    "id": "earp_PcUL7Mb",
    "outputId": "3f948438-428b-4f42-d7cd-9e4f531b94bb"
   },
   "outputs": [
    {
     "data": {
      "text/plain": [
       "Index(['수집시간', '수집장비ID', '축사번호', '모듈ID', '센서타입', '측정값', '센서시간'], dtype='object')"
      ]
     },
     "execution_count": 27,
     "metadata": {},
     "output_type": "execute_result"
    }
   ],
   "source": [
    "# 컬럼 이름 조회 \n",
    "df.columns"
   ]
  },
  {
   "cell_type": "code",
   "execution_count": 42,
   "metadata": {
    "colab": {
     "base_uri": "https://localhost:8080/"
    },
    "executionInfo": {
     "elapsed": 264,
     "status": "ok",
     "timestamp": 1633672439885,
     "user": {
      "displayName": "조한별",
      "photoUrl": "https://lh3.googleusercontent.com/a/default-user=s64",
      "userId": "13719229561479595538"
     },
     "user_tz": -540
    },
    "id": "b6s54EKCL_zs",
    "outputId": "cc50041d-7ad4-474f-c1bf-49f0f5b6f1c5"
   },
   "outputs": [
    {
     "name": "stdout",
     "output_type": "stream",
     "text": [
      "<class 'pandas.core.frame.DataFrame'>\n",
      "RangeIndex: 38924 entries, 0 to 38923\n",
      "Data columns (total 7 columns):\n",
      " #   Column  Non-Null Count  Dtype  \n",
      "---  ------  --------------  -----  \n",
      " 0   수집시간    38924 non-null  object \n",
      " 1   수집장비ID  38924 non-null  object \n",
      " 2   축사번호    38924 non-null  int64  \n",
      " 3   모듈ID    38924 non-null  int64  \n",
      " 4   센서타입    38924 non-null  object \n",
      " 5   측정값     38924 non-null  float64\n",
      " 6   센서시간    38924 non-null  int64  \n",
      "dtypes: float64(1), int64(3), object(3)\n",
      "memory usage: 2.1+ MB\n"
     ]
    }
   ],
   "source": [
    "# 컬럼 별 정보 조회(null 갯수, Dtype 등)\n",
    "df.info()"
   ]
  },
  {
   "cell_type": "markdown",
   "metadata": {
    "id": "K_GTR3zhdO04"
   },
   "source": [
    "### 조회하기"
   ]
  },
  {
   "cell_type": "code",
   "execution_count": 29,
   "metadata": {
    "colab": {
     "base_uri": "https://localhost:8080/",
     "height": 297
    },
    "executionInfo": {
     "elapsed": 276,
     "status": "ok",
     "timestamp": 1633667787616,
     "user": {
      "displayName": "조한별",
      "photoUrl": "https://lh3.googleusercontent.com/a/default-user=s64",
      "userId": "13719229561479595538"
     },
     "user_tz": -540
    },
    "id": "0xYny1clMAYo",
    "outputId": "d51a4e66-d659-404b-8ed6-0a3ce7404312"
   },
   "outputs": [
    {
     "data": {
      "text/html": [
       "<div>\n",
       "<style scoped>\n",
       "    .dataframe tbody tr th:only-of-type {\n",
       "        vertical-align: middle;\n",
       "    }\n",
       "\n",
       "    .dataframe tbody tr th {\n",
       "        vertical-align: top;\n",
       "    }\n",
       "\n",
       "    .dataframe thead th {\n",
       "        text-align: right;\n",
       "    }\n",
       "</style>\n",
       "<table border=\"1\" class=\"dataframe\">\n",
       "  <thead>\n",
       "    <tr style=\"text-align: right;\">\n",
       "      <th></th>\n",
       "      <th>축사번호</th>\n",
       "      <th>모듈ID</th>\n",
       "      <th>측정값</th>\n",
       "      <th>센서시간</th>\n",
       "    </tr>\n",
       "  </thead>\n",
       "  <tbody>\n",
       "    <tr>\n",
       "      <th>count</th>\n",
       "      <td>38924.000000</td>\n",
       "      <td>38924.0</td>\n",
       "      <td>38924.000000</td>\n",
       "      <td>3.892400e+04</td>\n",
       "    </tr>\n",
       "    <tr>\n",
       "      <th>mean</th>\n",
       "      <td>1.000411</td>\n",
       "      <td>1.0</td>\n",
       "      <td>131.760115</td>\n",
       "      <td>2.021062e+13</td>\n",
       "    </tr>\n",
       "    <tr>\n",
       "      <th>std</th>\n",
       "      <td>0.057344</td>\n",
       "      <td>0.0</td>\n",
       "      <td>167.523660</td>\n",
       "      <td>6.379527e+06</td>\n",
       "    </tr>\n",
       "    <tr>\n",
       "      <th>min</th>\n",
       "      <td>1.000000</td>\n",
       "      <td>1.0</td>\n",
       "      <td>0.077222</td>\n",
       "      <td>2.021010e+13</td>\n",
       "    </tr>\n",
       "    <tr>\n",
       "      <th>25%</th>\n",
       "      <td>1.000000</td>\n",
       "      <td>1.0</td>\n",
       "      <td>22.065825</td>\n",
       "      <td>2.021062e+13</td>\n",
       "    </tr>\n",
       "    <tr>\n",
       "      <th>50%</th>\n",
       "      <td>1.000000</td>\n",
       "      <td>1.0</td>\n",
       "      <td>42.345830</td>\n",
       "      <td>2.021062e+13</td>\n",
       "    </tr>\n",
       "    <tr>\n",
       "      <th>75%</th>\n",
       "      <td>1.000000</td>\n",
       "      <td>1.0</td>\n",
       "      <td>400.200000</td>\n",
       "      <td>2.021063e+13</td>\n",
       "    </tr>\n",
       "    <tr>\n",
       "      <th>max</th>\n",
       "      <td>9.000000</td>\n",
       "      <td>1.0</td>\n",
       "      <td>2076.380000</td>\n",
       "      <td>2.021063e+13</td>\n",
       "    </tr>\n",
       "  </tbody>\n",
       "</table>\n",
       "</div>"
      ],
      "text/plain": [
       "               축사번호     모듈ID           측정값          센서시간\n",
       "count  38924.000000  38924.0  38924.000000  3.892400e+04\n",
       "mean       1.000411      1.0    131.760115  2.021062e+13\n",
       "std        0.057344      0.0    167.523660  6.379527e+06\n",
       "min        1.000000      1.0      0.077222  2.021010e+13\n",
       "25%        1.000000      1.0     22.065825  2.021062e+13\n",
       "50%        1.000000      1.0     42.345830  2.021062e+13\n",
       "75%        1.000000      1.0    400.200000  2.021063e+13\n",
       "max        9.000000      1.0   2076.380000  2.021063e+13"
      ]
     },
     "execution_count": 29,
     "metadata": {},
     "output_type": "execute_result"
    }
   ],
   "source": [
    "# 수치형 데이터에 대한 summary value 보여줌\n",
    "df.describe()"
   ]
  },
  {
   "cell_type": "code",
   "execution_count": 32,
   "metadata": {
    "colab": {
     "base_uri": "https://localhost:8080/"
    },
    "executionInfo": {
     "elapsed": 274,
     "status": "ok",
     "timestamp": 1633672286081,
     "user": {
      "displayName": "조한별",
      "photoUrl": "https://lh3.googleusercontent.com/a/default-user=s64",
      "userId": "13719229561479595538"
     },
     "user_tz": -540
    },
    "id": "kJGNnYIRNmSf",
    "outputId": "b36ce082-6b43-41a1-ef8f-6646e933c9fa"
   },
   "outputs": [
    {
     "data": {
      "text/plain": [
       "array([['2021-06-30 23:58:48', 'GW01', 1, ..., 'humidity', 99.89995,\n",
       "        20210630235847],\n",
       "       ['2021-06-30 23:58:48', 'GW01', 1, ..., 'temp', 21.09999,\n",
       "        20210630235847],\n",
       "       ['2021-06-30 23:58:21', 'GW01', 1, ..., 'co2', 402.89,\n",
       "        20210630235819],\n",
       "       ...,\n",
       "       ['2021-06-10 12:23:31', 'GW01', 1, ..., 'co2', 409.2151,\n",
       "        20210610122330],\n",
       "       ['2021-06-10 12:16:58', 'GW01', 1, ..., 'co2', 402.2463,\n",
       "        20210610121657],\n",
       "       ['2021-06-10 12:16:58', 'GW01', 1, ..., 'nh3', 3.526615,\n",
       "        20210610121657]], dtype=object)"
      ]
     },
     "execution_count": 32,
     "metadata": {},
     "output_type": "execute_result"
    }
   ],
   "source": [
    "## 행렬 형태 변환\n",
    "df.values"
   ]
  },
  {
   "cell_type": "code",
   "execution_count": 39,
   "metadata": {
    "colab": {
     "base_uri": "https://localhost:8080/",
     "height": 346
    },
    "executionInfo": {
     "elapsed": 265,
     "status": "ok",
     "timestamp": 1633672400626,
     "user": {
      "displayName": "조한별",
      "photoUrl": "https://lh3.googleusercontent.com/a/default-user=s64",
      "userId": "13719229561479595538"
     },
     "user_tz": -540
    },
    "id": "IuT07isodMym",
    "outputId": "a7b59ac2-97d1-459d-9430-16764ce0ca9d"
   },
   "outputs": [
    {
     "data": {
      "text/html": [
       "<div>\n",
       "<style scoped>\n",
       "    .dataframe tbody tr th:only-of-type {\n",
       "        vertical-align: middle;\n",
       "    }\n",
       "\n",
       "    .dataframe tbody tr th {\n",
       "        vertical-align: top;\n",
       "    }\n",
       "\n",
       "    .dataframe thead th {\n",
       "        text-align: right;\n",
       "    }\n",
       "</style>\n",
       "<table border=\"1\" class=\"dataframe\">\n",
       "  <thead>\n",
       "    <tr style=\"text-align: right;\">\n",
       "      <th></th>\n",
       "      <th>수집시간</th>\n",
       "      <th>수집장비ID</th>\n",
       "      <th>축사번호</th>\n",
       "      <th>모듈ID</th>\n",
       "      <th>센서타입</th>\n",
       "      <th>측정값</th>\n",
       "      <th>센서시간</th>\n",
       "    </tr>\n",
       "  </thead>\n",
       "  <tbody>\n",
       "    <tr>\n",
       "      <th>0</th>\n",
       "      <td>2021-06-30 23:58:48</td>\n",
       "      <td>GW01</td>\n",
       "      <td>1</td>\n",
       "      <td>1</td>\n",
       "      <td>humidity</td>\n",
       "      <td>99.89995</td>\n",
       "      <td>20210630235847</td>\n",
       "    </tr>\n",
       "    <tr>\n",
       "      <th>1</th>\n",
       "      <td>2021-06-30 23:58:48</td>\n",
       "      <td>GW01</td>\n",
       "      <td>1</td>\n",
       "      <td>1</td>\n",
       "      <td>temp</td>\n",
       "      <td>21.09999</td>\n",
       "      <td>20210630235847</td>\n",
       "    </tr>\n",
       "    <tr>\n",
       "      <th>2</th>\n",
       "      <td>2021-06-30 23:58:21</td>\n",
       "      <td>GW01</td>\n",
       "      <td>1</td>\n",
       "      <td>1</td>\n",
       "      <td>co2</td>\n",
       "      <td>402.89000</td>\n",
       "      <td>20210630235819</td>\n",
       "    </tr>\n",
       "    <tr>\n",
       "      <th>3</th>\n",
       "      <td>2021-06-30 23:58:21</td>\n",
       "      <td>GW01</td>\n",
       "      <td>1</td>\n",
       "      <td>1</td>\n",
       "      <td>nh3</td>\n",
       "      <td>4.38000</td>\n",
       "      <td>20210630235819</td>\n",
       "    </tr>\n",
       "    <tr>\n",
       "      <th>4</th>\n",
       "      <td>2021-06-30 23:56:48</td>\n",
       "      <td>GW01</td>\n",
       "      <td>1</td>\n",
       "      <td>1</td>\n",
       "      <td>humidity</td>\n",
       "      <td>99.89994</td>\n",
       "      <td>20210630235647</td>\n",
       "    </tr>\n",
       "  </tbody>\n",
       "</table>\n",
       "</div>"
      ],
      "text/plain": [
       "                  수집시간 수집장비ID  축사번호  모듈ID      센서타입        측정값            센서시간\n",
       "0  2021-06-30 23:58:48   GW01     1     1  humidity   99.89995  20210630235847\n",
       "1  2021-06-30 23:58:48   GW01     1     1      temp   21.09999  20210630235847\n",
       "2  2021-06-30 23:58:21   GW01     1     1       co2  402.89000  20210630235819\n",
       "3  2021-06-30 23:58:21   GW01     1     1       nh3    4.38000  20210630235819\n",
       "4  2021-06-30 23:56:48   GW01     1     1  humidity   99.89994  20210630235647"
      ]
     },
     "execution_count": 39,
     "metadata": {},
     "output_type": "execute_result"
    },
    {
     "name": "stdout",
     "output_type": "stream",
     "text": [
      "\n"
     ]
    },
    {
     "data": {
      "text/html": [
       "<div>\n",
       "<style scoped>\n",
       "    .dataframe tbody tr th:only-of-type {\n",
       "        vertical-align: middle;\n",
       "    }\n",
       "\n",
       "    .dataframe tbody tr th {\n",
       "        vertical-align: top;\n",
       "    }\n",
       "\n",
       "    .dataframe thead th {\n",
       "        text-align: right;\n",
       "    }\n",
       "</style>\n",
       "<table border=\"1\" class=\"dataframe\">\n",
       "  <thead>\n",
       "    <tr style=\"text-align: right;\">\n",
       "      <th></th>\n",
       "      <th>수집시간</th>\n",
       "      <th>수집장비ID</th>\n",
       "      <th>축사번호</th>\n",
       "      <th>모듈ID</th>\n",
       "      <th>센서타입</th>\n",
       "      <th>측정값</th>\n",
       "      <th>센서시간</th>\n",
       "    </tr>\n",
       "  </thead>\n",
       "  <tbody>\n",
       "    <tr>\n",
       "      <th>0</th>\n",
       "      <td>2021-06-30 23:58:48</td>\n",
       "      <td>GW01</td>\n",
       "      <td>1</td>\n",
       "      <td>1</td>\n",
       "      <td>humidity</td>\n",
       "      <td>99.89995</td>\n",
       "      <td>20210630235847</td>\n",
       "    </tr>\n",
       "    <tr>\n",
       "      <th>1</th>\n",
       "      <td>2021-06-30 23:58:48</td>\n",
       "      <td>GW01</td>\n",
       "      <td>1</td>\n",
       "      <td>1</td>\n",
       "      <td>temp</td>\n",
       "      <td>21.09999</td>\n",
       "      <td>20210630235847</td>\n",
       "    </tr>\n",
       "    <tr>\n",
       "      <th>2</th>\n",
       "      <td>2021-06-30 23:58:21</td>\n",
       "      <td>GW01</td>\n",
       "      <td>1</td>\n",
       "      <td>1</td>\n",
       "      <td>co2</td>\n",
       "      <td>402.89000</td>\n",
       "      <td>20210630235819</td>\n",
       "    </tr>\n",
       "  </tbody>\n",
       "</table>\n",
       "</div>"
      ],
      "text/plain": [
       "                  수집시간 수집장비ID  축사번호  모듈ID      센서타입        측정값            센서시간\n",
       "0  2021-06-30 23:58:48   GW01     1     1  humidity   99.89995  20210630235847\n",
       "1  2021-06-30 23:58:48   GW01     1     1      temp   21.09999  20210630235847\n",
       "2  2021-06-30 23:58:21   GW01     1     1       co2  402.89000  20210630235819"
      ]
     },
     "execution_count": 39,
     "metadata": {},
     "output_type": "execute_result"
    }
   ],
   "source": [
    "df.head() # 5 rows\n",
    "print()\n",
    "df.head(3)"
   ]
  },
  {
   "cell_type": "code",
   "execution_count": 40,
   "metadata": {
    "colab": {
     "base_uri": "https://localhost:8080/",
     "height": 111
    },
    "executionInfo": {
     "elapsed": 272,
     "status": "ok",
     "timestamp": 1633672418457,
     "user": {
      "displayName": "조한별",
      "photoUrl": "https://lh3.googleusercontent.com/a/default-user=s64",
      "userId": "13719229561479595538"
     },
     "user_tz": -540
    },
    "id": "ChzzkavXdevw",
    "outputId": "b2aa2c53-dd29-4079-c877-0eb288dda01a"
   },
   "outputs": [
    {
     "data": {
      "text/html": [
       "<div>\n",
       "<style scoped>\n",
       "    .dataframe tbody tr th:only-of-type {\n",
       "        vertical-align: middle;\n",
       "    }\n",
       "\n",
       "    .dataframe tbody tr th {\n",
       "        vertical-align: top;\n",
       "    }\n",
       "\n",
       "    .dataframe thead th {\n",
       "        text-align: right;\n",
       "    }\n",
       "</style>\n",
       "<table border=\"1\" class=\"dataframe\">\n",
       "  <thead>\n",
       "    <tr style=\"text-align: right;\">\n",
       "      <th></th>\n",
       "      <th>수집시간</th>\n",
       "      <th>수집장비ID</th>\n",
       "      <th>축사번호</th>\n",
       "      <th>모듈ID</th>\n",
       "      <th>센서타입</th>\n",
       "      <th>측정값</th>\n",
       "      <th>센서시간</th>\n",
       "    </tr>\n",
       "  </thead>\n",
       "  <tbody>\n",
       "    <tr>\n",
       "      <th>38922</th>\n",
       "      <td>2021-06-10 12:16:58</td>\n",
       "      <td>GW01</td>\n",
       "      <td>1</td>\n",
       "      <td>1</td>\n",
       "      <td>co2</td>\n",
       "      <td>402.246300</td>\n",
       "      <td>20210610121657</td>\n",
       "    </tr>\n",
       "    <tr>\n",
       "      <th>38923</th>\n",
       "      <td>2021-06-10 12:16:58</td>\n",
       "      <td>GW01</td>\n",
       "      <td>1</td>\n",
       "      <td>1</td>\n",
       "      <td>nh3</td>\n",
       "      <td>3.526615</td>\n",
       "      <td>20210610121657</td>\n",
       "    </tr>\n",
       "  </tbody>\n",
       "</table>\n",
       "</div>"
      ],
      "text/plain": [
       "                      수집시간 수집장비ID  축사번호  모듈ID 센서타입         측정값            센서시간\n",
       "38922  2021-06-10 12:16:58   GW01     1     1  co2  402.246300  20210610121657\n",
       "38923  2021-06-10 12:16:58   GW01     1     1  nh3    3.526615  20210610121657"
      ]
     },
     "execution_count": 40,
     "metadata": {},
     "output_type": "execute_result"
    }
   ],
   "source": [
    "df.tail(2)"
   ]
  },
  {
   "cell_type": "markdown",
   "metadata": {
    "id": "5fCFeAqrdtD4"
   },
   "source": [
    "## 03.Sorting"
   ]
  },
  {
   "cell_type": "code",
   "execution_count": 49,
   "metadata": {
    "colab": {
     "base_uri": "https://localhost:8080/",
     "height": 688
    },
    "executionInfo": {
     "elapsed": 492,
     "status": "ok",
     "timestamp": 1633672783637,
     "user": {
      "displayName": "조한별",
      "photoUrl": "https://lh3.googleusercontent.com/a/default-user=s64",
      "userId": "13719229561479595538"
     },
     "user_tz": -540
    },
    "id": "j8_Sh6q8d1_M",
    "outputId": "547cc127-29a9-4732-fe5e-3e48f02ed9ae"
   },
   "outputs": [
    {
     "data": {
      "text/plain": [
       "RangeIndex(start=0, stop=38924, step=1)"
      ]
     },
     "execution_count": 49,
     "metadata": {},
     "output_type": "execute_result"
    },
    {
     "data": {
      "text/html": [
       "<div>\n",
       "<style scoped>\n",
       "    .dataframe tbody tr th:only-of-type {\n",
       "        vertical-align: middle;\n",
       "    }\n",
       "\n",
       "    .dataframe tbody tr th {\n",
       "        vertical-align: top;\n",
       "    }\n",
       "\n",
       "    .dataframe thead th {\n",
       "        text-align: right;\n",
       "    }\n",
       "</style>\n",
       "<table border=\"1\" class=\"dataframe\">\n",
       "  <thead>\n",
       "    <tr style=\"text-align: right;\">\n",
       "      <th></th>\n",
       "      <th>수집시간</th>\n",
       "      <th>수집장비ID</th>\n",
       "      <th>축사번호</th>\n",
       "      <th>모듈ID</th>\n",
       "      <th>센서타입</th>\n",
       "      <th>측정값</th>\n",
       "      <th>센서시간</th>\n",
       "    </tr>\n",
       "  </thead>\n",
       "  <tbody>\n",
       "    <tr>\n",
       "      <th>38923</th>\n",
       "      <td>2021-06-10 12:16:58</td>\n",
       "      <td>GW01</td>\n",
       "      <td>1</td>\n",
       "      <td>1</td>\n",
       "      <td>nh3</td>\n",
       "      <td>3.526615</td>\n",
       "      <td>20210610121657</td>\n",
       "    </tr>\n",
       "    <tr>\n",
       "      <th>38922</th>\n",
       "      <td>2021-06-10 12:16:58</td>\n",
       "      <td>GW01</td>\n",
       "      <td>1</td>\n",
       "      <td>1</td>\n",
       "      <td>co2</td>\n",
       "      <td>402.246300</td>\n",
       "      <td>20210610121657</td>\n",
       "    </tr>\n",
       "    <tr>\n",
       "      <th>38921</th>\n",
       "      <td>2021-06-10 12:23:31</td>\n",
       "      <td>GW01</td>\n",
       "      <td>1</td>\n",
       "      <td>1</td>\n",
       "      <td>co2</td>\n",
       "      <td>409.215100</td>\n",
       "      <td>20210610122330</td>\n",
       "    </tr>\n",
       "    <tr>\n",
       "      <th>38920</th>\n",
       "      <td>2021-06-10 12:23:31</td>\n",
       "      <td>GW01</td>\n",
       "      <td>1</td>\n",
       "      <td>1</td>\n",
       "      <td>nh3</td>\n",
       "      <td>11.934230</td>\n",
       "      <td>20210610122330</td>\n",
       "    </tr>\n",
       "    <tr>\n",
       "      <th>38919</th>\n",
       "      <td>2021-06-10 12:27:16</td>\n",
       "      <td>GW01</td>\n",
       "      <td>1</td>\n",
       "      <td>1</td>\n",
       "      <td>humidity</td>\n",
       "      <td>45.639000</td>\n",
       "      <td>20210610122714</td>\n",
       "    </tr>\n",
       "    <tr>\n",
       "      <th>38918</th>\n",
       "      <td>2021-06-10 12:27:16</td>\n",
       "      <td>GW01</td>\n",
       "      <td>1</td>\n",
       "      <td>1</td>\n",
       "      <td>temp</td>\n",
       "      <td>28.959330</td>\n",
       "      <td>20210610122714</td>\n",
       "    </tr>\n",
       "  </tbody>\n",
       "</table>\n",
       "</div>"
      ],
      "text/plain": [
       "                      수집시간 수집장비ID  축사번호  ...      센서타입         측정값            센서시간\n",
       "38923  2021-06-10 12:16:58   GW01     1  ...       nh3    3.526615  20210610121657\n",
       "38922  2021-06-10 12:16:58   GW01     1  ...       co2  402.246300  20210610121657\n",
       "38921  2021-06-10 12:23:31   GW01     1  ...       co2  409.215100  20210610122330\n",
       "38920  2021-06-10 12:23:31   GW01     1  ...       nh3   11.934230  20210610122330\n",
       "38919  2021-06-10 12:27:16   GW01     1  ...  humidity   45.639000  20210610122714\n",
       "38918  2021-06-10 12:27:16   GW01     1  ...      temp   28.959330  20210610122714\n",
       "\n",
       "[6 rows x 7 columns]"
      ]
     },
     "execution_count": 49,
     "metadata": {},
     "output_type": "execute_result"
    },
    {
     "data": {
      "text/html": [
       "<div>\n",
       "<style scoped>\n",
       "    .dataframe tbody tr th:only-of-type {\n",
       "        vertical-align: middle;\n",
       "    }\n",
       "\n",
       "    .dataframe tbody tr th {\n",
       "        vertical-align: top;\n",
       "    }\n",
       "\n",
       "    .dataframe thead th {\n",
       "        text-align: right;\n",
       "    }\n",
       "</style>\n",
       "<table border=\"1\" class=\"dataframe\">\n",
       "  <thead>\n",
       "    <tr style=\"text-align: right;\">\n",
       "      <th></th>\n",
       "      <th>수집시간</th>\n",
       "      <th>수집장비ID</th>\n",
       "      <th>축사번호</th>\n",
       "      <th>모듈ID</th>\n",
       "      <th>센서타입</th>\n",
       "      <th>측정값</th>\n",
       "      <th>센서시간</th>\n",
       "    </tr>\n",
       "  </thead>\n",
       "  <tbody>\n",
       "    <tr>\n",
       "      <th>38922</th>\n",
       "      <td>2021-06-10 12:16:58</td>\n",
       "      <td>GW01</td>\n",
       "      <td>1</td>\n",
       "      <td>1</td>\n",
       "      <td>co2</td>\n",
       "      <td>402.246300</td>\n",
       "      <td>20210610121657</td>\n",
       "    </tr>\n",
       "    <tr>\n",
       "      <th>38923</th>\n",
       "      <td>2021-06-10 12:16:58</td>\n",
       "      <td>GW01</td>\n",
       "      <td>1</td>\n",
       "      <td>1</td>\n",
       "      <td>nh3</td>\n",
       "      <td>3.526615</td>\n",
       "      <td>20210610121657</td>\n",
       "    </tr>\n",
       "    <tr>\n",
       "      <th>38921</th>\n",
       "      <td>2021-06-10 12:23:31</td>\n",
       "      <td>GW01</td>\n",
       "      <td>1</td>\n",
       "      <td>1</td>\n",
       "      <td>co2</td>\n",
       "      <td>409.215100</td>\n",
       "      <td>20210610122330</td>\n",
       "    </tr>\n",
       "    <tr>\n",
       "      <th>38920</th>\n",
       "      <td>2021-06-10 12:23:31</td>\n",
       "      <td>GW01</td>\n",
       "      <td>1</td>\n",
       "      <td>1</td>\n",
       "      <td>nh3</td>\n",
       "      <td>11.934230</td>\n",
       "      <td>20210610122330</td>\n",
       "    </tr>\n",
       "    <tr>\n",
       "      <th>38919</th>\n",
       "      <td>2021-06-10 12:27:16</td>\n",
       "      <td>GW01</td>\n",
       "      <td>1</td>\n",
       "      <td>1</td>\n",
       "      <td>humidity</td>\n",
       "      <td>45.639000</td>\n",
       "      <td>20210610122714</td>\n",
       "    </tr>\n",
       "    <tr>\n",
       "      <th>38918</th>\n",
       "      <td>2021-06-10 12:27:16</td>\n",
       "      <td>GW01</td>\n",
       "      <td>1</td>\n",
       "      <td>1</td>\n",
       "      <td>temp</td>\n",
       "      <td>28.959330</td>\n",
       "      <td>20210610122714</td>\n",
       "    </tr>\n",
       "  </tbody>\n",
       "</table>\n",
       "</div>"
      ],
      "text/plain": [
       "                      수집시간 수집장비ID  축사번호  ...      센서타입         측정값            센서시간\n",
       "38922  2021-06-10 12:16:58   GW01     1  ...       co2  402.246300  20210610121657\n",
       "38923  2021-06-10 12:16:58   GW01     1  ...       nh3    3.526615  20210610121657\n",
       "38921  2021-06-10 12:23:31   GW01     1  ...       co2  409.215100  20210610122330\n",
       "38920  2021-06-10 12:23:31   GW01     1  ...       nh3   11.934230  20210610122330\n",
       "38919  2021-06-10 12:27:16   GW01     1  ...  humidity   45.639000  20210610122714\n",
       "38918  2021-06-10 12:27:16   GW01     1  ...      temp   28.959330  20210610122714\n",
       "\n",
       "[6 rows x 7 columns]"
      ]
     },
     "execution_count": 49,
     "metadata": {},
     "output_type": "execute_result"
    },
    {
     "data": {
      "text/html": [
       "<div>\n",
       "<style scoped>\n",
       "    .dataframe tbody tr th:only-of-type {\n",
       "        vertical-align: middle;\n",
       "    }\n",
       "\n",
       "    .dataframe tbody tr th {\n",
       "        vertical-align: top;\n",
       "    }\n",
       "\n",
       "    .dataframe thead th {\n",
       "        text-align: right;\n",
       "    }\n",
       "</style>\n",
       "<table border=\"1\" class=\"dataframe\">\n",
       "  <thead>\n",
       "    <tr style=\"text-align: right;\">\n",
       "      <th></th>\n",
       "      <th>수집시간</th>\n",
       "      <th>수집장비ID</th>\n",
       "      <th>축사번호</th>\n",
       "      <th>모듈ID</th>\n",
       "      <th>센서타입</th>\n",
       "      <th>측정값</th>\n",
       "      <th>센서시간</th>\n",
       "    </tr>\n",
       "  </thead>\n",
       "  <tbody>\n",
       "    <tr>\n",
       "      <th>38923</th>\n",
       "      <td>2021-06-10 12:16:58</td>\n",
       "      <td>GW01</td>\n",
       "      <td>1</td>\n",
       "      <td>1</td>\n",
       "      <td>nh3</td>\n",
       "      <td>3.526615</td>\n",
       "      <td>20210610121657</td>\n",
       "    </tr>\n",
       "    <tr>\n",
       "      <th>38922</th>\n",
       "      <td>2021-06-10 12:16:58</td>\n",
       "      <td>GW01</td>\n",
       "      <td>1</td>\n",
       "      <td>1</td>\n",
       "      <td>co2</td>\n",
       "      <td>402.246300</td>\n",
       "      <td>20210610121657</td>\n",
       "    </tr>\n",
       "    <tr>\n",
       "      <th>38920</th>\n",
       "      <td>2021-06-10 12:23:31</td>\n",
       "      <td>GW01</td>\n",
       "      <td>1</td>\n",
       "      <td>1</td>\n",
       "      <td>nh3</td>\n",
       "      <td>11.934230</td>\n",
       "      <td>20210610122330</td>\n",
       "    </tr>\n",
       "    <tr>\n",
       "      <th>38921</th>\n",
       "      <td>2021-06-10 12:23:31</td>\n",
       "      <td>GW01</td>\n",
       "      <td>1</td>\n",
       "      <td>1</td>\n",
       "      <td>co2</td>\n",
       "      <td>409.215100</td>\n",
       "      <td>20210610122330</td>\n",
       "    </tr>\n",
       "    <tr>\n",
       "      <th>38918</th>\n",
       "      <td>2021-06-10 12:27:16</td>\n",
       "      <td>GW01</td>\n",
       "      <td>1</td>\n",
       "      <td>1</td>\n",
       "      <td>temp</td>\n",
       "      <td>28.959330</td>\n",
       "      <td>20210610122714</td>\n",
       "    </tr>\n",
       "    <tr>\n",
       "      <th>38919</th>\n",
       "      <td>2021-06-10 12:27:16</td>\n",
       "      <td>GW01</td>\n",
       "      <td>1</td>\n",
       "      <td>1</td>\n",
       "      <td>humidity</td>\n",
       "      <td>45.639000</td>\n",
       "      <td>20210610122714</td>\n",
       "    </tr>\n",
       "  </tbody>\n",
       "</table>\n",
       "</div>"
      ],
      "text/plain": [
       "                      수집시간 수집장비ID  축사번호  ...      센서타입         측정값            센서시간\n",
       "38923  2021-06-10 12:16:58   GW01     1  ...       nh3    3.526615  20210610121657\n",
       "38922  2021-06-10 12:16:58   GW01     1  ...       co2  402.246300  20210610121657\n",
       "38920  2021-06-10 12:23:31   GW01     1  ...       nh3   11.934230  20210610122330\n",
       "38921  2021-06-10 12:23:31   GW01     1  ...       co2  409.215100  20210610122330\n",
       "38918  2021-06-10 12:27:16   GW01     1  ...      temp   28.959330  20210610122714\n",
       "38919  2021-06-10 12:27:16   GW01     1  ...  humidity   45.639000  20210610122714\n",
       "\n",
       "[6 rows x 7 columns]"
      ]
     },
     "execution_count": 49,
     "metadata": {},
     "output_type": "execute_result"
    }
   ],
   "source": [
    "# by index\n",
    "df.index\n",
    "df.sort_index(axis = 0, ascending=False).head(6)\n",
    "\n",
    "# by column value ...\n",
    "df.sort_values(by = ['수집시간', '센서타입'], ascending=[True, True]).head(6)\n",
    "df.sort_values(by = ['수집시간', '센서타입'], ascending=[True, False]).head(6)"
   ]
  },
  {
   "cell_type": "markdown",
   "metadata": {
    "id": "E83ZwYaSfHY_"
   },
   "source": [
    "## 03.Selection.  \n",
    "\n",
    "#### 1. column 이름으로 조회  \n",
    "\n",
    "#### 2. iloc를 활용한 index 로 조회\n",
    "\n",
    "#### 3. by conditions"
   ]
  },
  {
   "cell_type": "code",
   "execution_count": 56,
   "metadata": {
    "colab": {
     "base_uri": "https://localhost:8080/"
    },
    "executionInfo": {
     "elapsed": 289,
     "status": "ok",
     "timestamp": 1633672946223,
     "user": {
      "displayName": "조한별",
      "photoUrl": "https://lh3.googleusercontent.com/a/default-user=s64",
      "userId": "13719229561479595538"
     },
     "user_tz": -540
    },
    "id": "TA71mIw9fVpY",
    "outputId": "e1261bdb-55be-40bf-a306-e73a082f47aa"
   },
   "outputs": [
    {
     "data": {
      "text/plain": [
       "0    humidity\n",
       "1        temp\n",
       "2         co2\n",
       "3         nh3\n",
       "4    humidity\n",
       "Name: 센서타입, dtype: object"
      ]
     },
     "execution_count": 56,
     "metadata": {},
     "output_type": "execute_result"
    },
    {
     "name": "stdout",
     "output_type": "stream",
     "text": [
      "\n",
      "---------------------------------------\n"
     ]
    },
    {
     "data": {
      "text/plain": [
       "0    humidity\n",
       "1        temp\n",
       "2         co2\n",
       "3         nh3\n",
       "4    humidity\n",
       "Name: 센서타입, dtype: object"
      ]
     },
     "execution_count": 56,
     "metadata": {},
     "output_type": "execute_result"
    }
   ],
   "source": [
    "# by columnName\n",
    "df.센서타입.head()\n",
    "print('\\n---------------------------------------')\n",
    "df['센서타입'].head()"
   ]
  },
  {
   "cell_type": "code",
   "execution_count": 57,
   "metadata": {
    "colab": {
     "base_uri": "https://localhost:8080/"
    },
    "executionInfo": {
     "elapsed": 452,
     "status": "ok",
     "timestamp": 1633672970964,
     "user": {
      "displayName": "조한별",
      "photoUrl": "https://lh3.googleusercontent.com/a/default-user=s64",
      "userId": "13719229561479595538"
     },
     "user_tz": -540
    },
    "id": "VANw1Dfkfhfn",
    "outputId": "ad7548f0-f9b4-4982-82a8-28b8a9986ba9"
   },
   "outputs": [
    {
     "data": {
      "text/plain": [
       "array(['humidity', 'temp', 'co2', 'nh3'], dtype=object)"
      ]
     },
     "execution_count": 57,
     "metadata": {},
     "output_type": "execute_result"
    }
   ],
   "source": [
    "# unique 확인\n",
    "df.센서타입.unique()"
   ]
  },
  {
   "cell_type": "code",
   "execution_count": 63,
   "metadata": {
    "colab": {
     "base_uri": "https://localhost:8080/",
     "height": 318
    },
    "executionInfo": {
     "elapsed": 271,
     "status": "ok",
     "timestamp": 1633673158446,
     "user": {
      "displayName": "조한별",
      "photoUrl": "https://lh3.googleusercontent.com/a/default-user=s64",
      "userId": "13719229561479595538"
     },
     "user_tz": -540
    },
    "id": "NdMAUByjgGz9",
    "outputId": "881b79eb-409a-40f6-da5e-d1e95c76cea2"
   },
   "outputs": [
    {
     "data": {
      "text/plain": [
       "수집시간      2021-06-30 23:58:48\n",
       "수집장비ID                   GW01\n",
       "축사번호                        1\n",
       "모듈ID                        1\n",
       "센서타입                     temp\n",
       "측정값                      21.1\n",
       "센서시간           20210630235847\n",
       "Name: 1, dtype: object"
      ]
     },
     "execution_count": 63,
     "metadata": {},
     "output_type": "execute_result"
    },
    {
     "name": "stdout",
     "output_type": "stream",
     "text": [
      "\n",
      "---------------------------------------\n"
     ]
    },
    {
     "data": {
      "text/html": [
       "<div>\n",
       "<style scoped>\n",
       "    .dataframe tbody tr th:only-of-type {\n",
       "        vertical-align: middle;\n",
       "    }\n",
       "\n",
       "    .dataframe tbody tr th {\n",
       "        vertical-align: top;\n",
       "    }\n",
       "\n",
       "    .dataframe thead th {\n",
       "        text-align: right;\n",
       "    }\n",
       "</style>\n",
       "<table border=\"1\" class=\"dataframe\">\n",
       "  <thead>\n",
       "    <tr style=\"text-align: right;\">\n",
       "      <th></th>\n",
       "      <th>수집시간</th>\n",
       "      <th>수집장비ID</th>\n",
       "      <th>축사번호</th>\n",
       "      <th>모듈ID</th>\n",
       "      <th>센서타입</th>\n",
       "      <th>측정값</th>\n",
       "      <th>센서시간</th>\n",
       "    </tr>\n",
       "  </thead>\n",
       "  <tbody>\n",
       "    <tr>\n",
       "      <th>1</th>\n",
       "      <td>2021-06-30 23:58:48</td>\n",
       "      <td>GW01</td>\n",
       "      <td>1</td>\n",
       "      <td>1</td>\n",
       "      <td>temp</td>\n",
       "      <td>21.09999</td>\n",
       "      <td>20210630235847</td>\n",
       "    </tr>\n",
       "  </tbody>\n",
       "</table>\n",
       "</div>"
      ],
      "text/plain": [
       "                  수집시간 수집장비ID  축사번호  모듈ID  센서타입       측정값            센서시간\n",
       "1  2021-06-30 23:58:48   GW01     1     1  temp  21.09999  20210630235847"
      ]
     },
     "execution_count": 63,
     "metadata": {},
     "output_type": "execute_result"
    },
    {
     "name": "stdout",
     "output_type": "stream",
     "text": [
      "\n",
      "---------------------------------------\n",
      "\n",
      "type of df.iloc[1] : <class 'pandas.core.series.Series'> \n",
      "type of df.iloc[[1]] : <class 'pandas.core.frame.DataFrame'>\n"
     ]
    }
   ],
   "source": [
    "# by row numbers\n",
    "df.iloc[1]\n",
    "print('\\n---------------------------------------')\n",
    "df.iloc[[1]]\n",
    "print('\\n---------------------------------------')\n",
    "\n",
    "print(f'\\ntype of df.iloc[1] : {type(df.iloc[1])} \\ntype of df.iloc[[1]] : {type(df.iloc[[1]])}')"
   ]
  },
  {
   "cell_type": "code",
   "execution_count": 66,
   "metadata": {
    "colab": {
     "base_uri": "https://localhost:8080/",
     "height": 191
    },
    "executionInfo": {
     "elapsed": 265,
     "status": "ok",
     "timestamp": 1633673231396,
     "user": {
      "displayName": "조한별",
      "photoUrl": "https://lh3.googleusercontent.com/a/default-user=s64",
      "userId": "13719229561479595538"
     },
     "user_tz": -540
    },
    "id": "1MqNF24NgisG",
    "outputId": "335c8ba0-f67d-4621-e074-87c262e2fadb"
   },
   "outputs": [
    {
     "data": {
      "application/vnd.google.colaboratory.intrinsic+json": {
       "type": "string"
      },
      "text/plain": [
       "'GW01'"
      ]
     },
     "execution_count": 66,
     "metadata": {},
     "output_type": "execute_result"
    },
    {
     "data": {
      "text/html": [
       "<div>\n",
       "<style scoped>\n",
       "    .dataframe tbody tr th:only-of-type {\n",
       "        vertical-align: middle;\n",
       "    }\n",
       "\n",
       "    .dataframe tbody tr th {\n",
       "        vertical-align: top;\n",
       "    }\n",
       "\n",
       "    .dataframe thead th {\n",
       "        text-align: right;\n",
       "    }\n",
       "</style>\n",
       "<table border=\"1\" class=\"dataframe\">\n",
       "  <thead>\n",
       "    <tr style=\"text-align: right;\">\n",
       "      <th></th>\n",
       "      <th>수집시간</th>\n",
       "      <th>수집장비ID</th>\n",
       "      <th>축사번호</th>\n",
       "    </tr>\n",
       "  </thead>\n",
       "  <tbody>\n",
       "    <tr>\n",
       "      <th>0</th>\n",
       "      <td>2021-06-30 23:58:48</td>\n",
       "      <td>GW01</td>\n",
       "      <td>1</td>\n",
       "    </tr>\n",
       "    <tr>\n",
       "      <th>1</th>\n",
       "      <td>2021-06-30 23:58:48</td>\n",
       "      <td>GW01</td>\n",
       "      <td>1</td>\n",
       "    </tr>\n",
       "    <tr>\n",
       "      <th>2</th>\n",
       "      <td>2021-06-30 23:58:21</td>\n",
       "      <td>GW01</td>\n",
       "      <td>1</td>\n",
       "    </tr>\n",
       "    <tr>\n",
       "      <th>3</th>\n",
       "      <td>2021-06-30 23:58:21</td>\n",
       "      <td>GW01</td>\n",
       "      <td>1</td>\n",
       "    </tr>\n",
       "  </tbody>\n",
       "</table>\n",
       "</div>"
      ],
      "text/plain": [
       "                  수집시간 수집장비ID  축사번호\n",
       "0  2021-06-30 23:58:48   GW01     1\n",
       "1  2021-06-30 23:58:48   GW01     1\n",
       "2  2021-06-30 23:58:21   GW01     1\n",
       "3  2021-06-30 23:58:21   GW01     1"
      ]
     },
     "execution_count": 66,
     "metadata": {},
     "output_type": "execute_result"
    }
   ],
   "source": [
    "# 0행, 1열\n",
    "df.iloc[0,1]\n",
    "\n",
    "df.iloc[0:4,0:3]"
   ]
  },
  {
   "cell_type": "code",
   "execution_count": 67,
   "metadata": {
    "colab": {
     "base_uri": "https://localhost:8080/"
    },
    "executionInfo": {
     "elapsed": 261,
     "status": "ok",
     "timestamp": 1633673269776,
     "user": {
      "displayName": "조한별",
      "photoUrl": "https://lh3.googleusercontent.com/a/default-user=s64",
      "userId": "13719229561479595538"
     },
     "user_tz": -540
    },
    "id": "q-1xeeqngs80",
    "outputId": "3824bfd7-be91-4a7c-e8df-1bc9f9748361"
   },
   "outputs": [
    {
     "data": {
      "text/plain": [
       "0    False\n",
       "1    False\n",
       "2     True\n",
       "3    False\n",
       "4    False\n",
       "Name: 측정값, dtype: bool"
      ]
     },
     "execution_count": 67,
     "metadata": {},
     "output_type": "execute_result"
    }
   ],
   "source": [
    "# condition array\n",
    "(df.측정값 > 400).head()"
   ]
  },
  {
   "cell_type": "code",
   "execution_count": 68,
   "metadata": {
    "colab": {
     "base_uri": "https://localhost:8080/",
     "height": 204
    },
    "executionInfo": {
     "elapsed": 308,
     "status": "ok",
     "timestamp": 1633673328503,
     "user": {
      "displayName": "조한별",
      "photoUrl": "https://lh3.googleusercontent.com/a/default-user=s64",
      "userId": "13719229561479595538"
     },
     "user_tz": -540
    },
    "id": "OrFXpELBhGVt",
    "outputId": "f87bebac-b38b-4293-84a2-978422669061"
   },
   "outputs": [
    {
     "data": {
      "text/html": [
       "<div>\n",
       "<style scoped>\n",
       "    .dataframe tbody tr th:only-of-type {\n",
       "        vertical-align: middle;\n",
       "    }\n",
       "\n",
       "    .dataframe tbody tr th {\n",
       "        vertical-align: top;\n",
       "    }\n",
       "\n",
       "    .dataframe thead th {\n",
       "        text-align: right;\n",
       "    }\n",
       "</style>\n",
       "<table border=\"1\" class=\"dataframe\">\n",
       "  <thead>\n",
       "    <tr style=\"text-align: right;\">\n",
       "      <th></th>\n",
       "      <th>수집시간</th>\n",
       "      <th>수집장비ID</th>\n",
       "      <th>축사번호</th>\n",
       "      <th>모듈ID</th>\n",
       "      <th>센서타입</th>\n",
       "      <th>측정값</th>\n",
       "      <th>센서시간</th>\n",
       "    </tr>\n",
       "  </thead>\n",
       "  <tbody>\n",
       "    <tr>\n",
       "      <th>2</th>\n",
       "      <td>2021-06-30 23:58:21</td>\n",
       "      <td>GW01</td>\n",
       "      <td>1</td>\n",
       "      <td>1</td>\n",
       "      <td>co2</td>\n",
       "      <td>402.89</td>\n",
       "      <td>20210630235819</td>\n",
       "    </tr>\n",
       "    <tr>\n",
       "      <th>6</th>\n",
       "      <td>2021-06-30 23:56:21</td>\n",
       "      <td>GW01</td>\n",
       "      <td>1</td>\n",
       "      <td>1</td>\n",
       "      <td>co2</td>\n",
       "      <td>402.89</td>\n",
       "      <td>20210630235619</td>\n",
       "    </tr>\n",
       "    <tr>\n",
       "      <th>11</th>\n",
       "      <td>2021-06-30 23:54:21</td>\n",
       "      <td>GW01</td>\n",
       "      <td>1</td>\n",
       "      <td>1</td>\n",
       "      <td>co2</td>\n",
       "      <td>402.92</td>\n",
       "      <td>20210630235419</td>\n",
       "    </tr>\n",
       "    <tr>\n",
       "      <th>14</th>\n",
       "      <td>2021-06-30 23:52:21</td>\n",
       "      <td>GW01</td>\n",
       "      <td>1</td>\n",
       "      <td>1</td>\n",
       "      <td>co2</td>\n",
       "      <td>402.91</td>\n",
       "      <td>20210630235219</td>\n",
       "    </tr>\n",
       "    <tr>\n",
       "      <th>19</th>\n",
       "      <td>2021-06-30 23:50:21</td>\n",
       "      <td>GW01</td>\n",
       "      <td>1</td>\n",
       "      <td>1</td>\n",
       "      <td>co2</td>\n",
       "      <td>402.92</td>\n",
       "      <td>20210630235019</td>\n",
       "    </tr>\n",
       "  </tbody>\n",
       "</table>\n",
       "</div>"
      ],
      "text/plain": [
       "                   수집시간 수집장비ID  축사번호  모듈ID 센서타입     측정값            센서시간\n",
       "2   2021-06-30 23:58:21   GW01     1     1  co2  402.89  20210630235819\n",
       "6   2021-06-30 23:56:21   GW01     1     1  co2  402.89  20210630235619\n",
       "11  2021-06-30 23:54:21   GW01     1     1  co2  402.92  20210630235419\n",
       "14  2021-06-30 23:52:21   GW01     1     1  co2  402.91  20210630235219\n",
       "19  2021-06-30 23:50:21   GW01     1     1  co2  402.92  20210630235019"
      ]
     },
     "execution_count": 68,
     "metadata": {},
     "output_type": "execute_result"
    }
   ],
   "source": [
    "df[df.측정값 > 400].head()"
   ]
  },
  {
   "cell_type": "code",
   "execution_count": 75,
   "metadata": {
    "colab": {
     "base_uri": "https://localhost:8080/",
     "height": 680
    },
    "executionInfo": {
     "elapsed": 271,
     "status": "ok",
     "timestamp": 1633673648454,
     "user": {
      "displayName": "조한별",
      "photoUrl": "https://lh3.googleusercontent.com/a/default-user=s64",
      "userId": "13719229561479595538"
     },
     "user_tz": -540
    },
    "id": "sUoMEyU_hNq7",
    "outputId": "665e087b-ccde-4d85-a324-4f85e3507e25"
   },
   "outputs": [
    {
     "data": {
      "text/plain": [
       "array(['humidity', 'temp', 'co2', 'nh3'], dtype=object)"
      ]
     },
     "execution_count": 75,
     "metadata": {},
     "output_type": "execute_result"
    },
    {
     "name": "stdout",
     "output_type": "stream",
     "text": [
      "\n",
      "by 센서타입 list\n"
     ]
    },
    {
     "data": {
      "text/html": [
       "<div>\n",
       "<style scoped>\n",
       "    .dataframe tbody tr th:only-of-type {\n",
       "        vertical-align: middle;\n",
       "    }\n",
       "\n",
       "    .dataframe tbody tr th {\n",
       "        vertical-align: top;\n",
       "    }\n",
       "\n",
       "    .dataframe thead th {\n",
       "        text-align: right;\n",
       "    }\n",
       "</style>\n",
       "<table border=\"1\" class=\"dataframe\">\n",
       "  <thead>\n",
       "    <tr style=\"text-align: right;\">\n",
       "      <th></th>\n",
       "      <th>수집시간</th>\n",
       "      <th>수집장비ID</th>\n",
       "      <th>축사번호</th>\n",
       "      <th>모듈ID</th>\n",
       "      <th>센서타입</th>\n",
       "      <th>측정값</th>\n",
       "      <th>센서시간</th>\n",
       "    </tr>\n",
       "  </thead>\n",
       "  <tbody>\n",
       "    <tr>\n",
       "      <th>1</th>\n",
       "      <td>2021-06-30 23:58:48</td>\n",
       "      <td>GW01</td>\n",
       "      <td>1</td>\n",
       "      <td>1</td>\n",
       "      <td>temp</td>\n",
       "      <td>21.09999</td>\n",
       "      <td>20210630235847</td>\n",
       "    </tr>\n",
       "    <tr>\n",
       "      <th>2</th>\n",
       "      <td>2021-06-30 23:58:21</td>\n",
       "      <td>GW01</td>\n",
       "      <td>1</td>\n",
       "      <td>1</td>\n",
       "      <td>co2</td>\n",
       "      <td>402.89000</td>\n",
       "      <td>20210630235819</td>\n",
       "    </tr>\n",
       "    <tr>\n",
       "      <th>5</th>\n",
       "      <td>2021-06-30 23:56:48</td>\n",
       "      <td>GW01</td>\n",
       "      <td>1</td>\n",
       "      <td>1</td>\n",
       "      <td>temp</td>\n",
       "      <td>21.10338</td>\n",
       "      <td>20210630235647</td>\n",
       "    </tr>\n",
       "    <tr>\n",
       "      <th>6</th>\n",
       "      <td>2021-06-30 23:56:21</td>\n",
       "      <td>GW01</td>\n",
       "      <td>1</td>\n",
       "      <td>1</td>\n",
       "      <td>co2</td>\n",
       "      <td>402.89000</td>\n",
       "      <td>20210630235619</td>\n",
       "    </tr>\n",
       "    <tr>\n",
       "      <th>9</th>\n",
       "      <td>2021-06-30 23:54:48</td>\n",
       "      <td>GW01</td>\n",
       "      <td>1</td>\n",
       "      <td>1</td>\n",
       "      <td>temp</td>\n",
       "      <td>21.10168</td>\n",
       "      <td>20210630235447</td>\n",
       "    </tr>\n",
       "  </tbody>\n",
       "</table>\n",
       "</div>"
      ],
      "text/plain": [
       "                  수집시간 수집장비ID  축사번호  모듈ID  센서타입        측정값            센서시간\n",
       "1  2021-06-30 23:58:48   GW01     1     1  temp   21.09999  20210630235847\n",
       "2  2021-06-30 23:58:21   GW01     1     1   co2  402.89000  20210630235819\n",
       "5  2021-06-30 23:56:48   GW01     1     1  temp   21.10338  20210630235647\n",
       "6  2021-06-30 23:56:21   GW01     1     1   co2  402.89000  20210630235619\n",
       "9  2021-06-30 23:54:48   GW01     1     1  temp   21.10168  20210630235447"
      ]
     },
     "execution_count": 75,
     "metadata": {},
     "output_type": "execute_result"
    },
    {
     "name": "stdout",
     "output_type": "stream",
     "text": [
      "\n",
      "and(&).. or(|) \n"
     ]
    },
    {
     "data": {
      "text/html": [
       "<div>\n",
       "<style scoped>\n",
       "    .dataframe tbody tr th:only-of-type {\n",
       "        vertical-align: middle;\n",
       "    }\n",
       "\n",
       "    .dataframe tbody tr th {\n",
       "        vertical-align: top;\n",
       "    }\n",
       "\n",
       "    .dataframe thead th {\n",
       "        text-align: right;\n",
       "    }\n",
       "</style>\n",
       "<table border=\"1\" class=\"dataframe\">\n",
       "  <thead>\n",
       "    <tr style=\"text-align: right;\">\n",
       "      <th></th>\n",
       "      <th>수집시간</th>\n",
       "      <th>수집장비ID</th>\n",
       "      <th>축사번호</th>\n",
       "      <th>모듈ID</th>\n",
       "      <th>센서타입</th>\n",
       "      <th>측정값</th>\n",
       "      <th>센서시간</th>\n",
       "    </tr>\n",
       "  </thead>\n",
       "  <tbody>\n",
       "    <tr>\n",
       "      <th>1</th>\n",
       "      <td>2021-06-30 23:58:48</td>\n",
       "      <td>GW01</td>\n",
       "      <td>1</td>\n",
       "      <td>1</td>\n",
       "      <td>temp</td>\n",
       "      <td>21.09999</td>\n",
       "      <td>20210630235847</td>\n",
       "    </tr>\n",
       "    <tr>\n",
       "      <th>5</th>\n",
       "      <td>2021-06-30 23:56:48</td>\n",
       "      <td>GW01</td>\n",
       "      <td>1</td>\n",
       "      <td>1</td>\n",
       "      <td>temp</td>\n",
       "      <td>21.10338</td>\n",
       "      <td>20210630235647</td>\n",
       "    </tr>\n",
       "    <tr>\n",
       "      <th>9</th>\n",
       "      <td>2021-06-30 23:54:48</td>\n",
       "      <td>GW01</td>\n",
       "      <td>1</td>\n",
       "      <td>1</td>\n",
       "      <td>temp</td>\n",
       "      <td>21.10168</td>\n",
       "      <td>20210630235447</td>\n",
       "    </tr>\n",
       "    <tr>\n",
       "      <th>13</th>\n",
       "      <td>2021-06-30 23:52:48</td>\n",
       "      <td>GW01</td>\n",
       "      <td>1</td>\n",
       "      <td>1</td>\n",
       "      <td>temp</td>\n",
       "      <td>21.11694</td>\n",
       "      <td>20210630235247</td>\n",
       "    </tr>\n",
       "    <tr>\n",
       "      <th>16</th>\n",
       "      <td>2021-06-30 23:50:48</td>\n",
       "      <td>GW01</td>\n",
       "      <td>1</td>\n",
       "      <td>1</td>\n",
       "      <td>temp</td>\n",
       "      <td>21.10499</td>\n",
       "      <td>20210630235047</td>\n",
       "    </tr>\n",
       "  </tbody>\n",
       "</table>\n",
       "</div>"
      ],
      "text/plain": [
       "                   수집시간 수집장비ID  축사번호  모듈ID  센서타입       측정값            센서시간\n",
       "1   2021-06-30 23:58:48   GW01     1     1  temp  21.09999  20210630235847\n",
       "5   2021-06-30 23:56:48   GW01     1     1  temp  21.10338  20210630235647\n",
       "9   2021-06-30 23:54:48   GW01     1     1  temp  21.10168  20210630235447\n",
       "13  2021-06-30 23:52:48   GW01     1     1  temp  21.11694  20210630235247\n",
       "16  2021-06-30 23:50:48   GW01     1     1  temp  21.10499  20210630235047"
      ]
     },
     "execution_count": 75,
     "metadata": {},
     "output_type": "execute_result"
    },
    {
     "name": "stdout",
     "output_type": "stream",
     "text": [
      "\n",
      "str \n"
     ]
    },
    {
     "data": {
      "text/html": [
       "<div>\n",
       "<style scoped>\n",
       "    .dataframe tbody tr th:only-of-type {\n",
       "        vertical-align: middle;\n",
       "    }\n",
       "\n",
       "    .dataframe tbody tr th {\n",
       "        vertical-align: top;\n",
       "    }\n",
       "\n",
       "    .dataframe thead th {\n",
       "        text-align: right;\n",
       "    }\n",
       "</style>\n",
       "<table border=\"1\" class=\"dataframe\">\n",
       "  <thead>\n",
       "    <tr style=\"text-align: right;\">\n",
       "      <th></th>\n",
       "      <th>수집시간</th>\n",
       "      <th>수집장비ID</th>\n",
       "      <th>축사번호</th>\n",
       "      <th>모듈ID</th>\n",
       "      <th>센서타입</th>\n",
       "      <th>측정값</th>\n",
       "      <th>센서시간</th>\n",
       "    </tr>\n",
       "  </thead>\n",
       "  <tbody>\n",
       "    <tr>\n",
       "      <th>0</th>\n",
       "      <td>2021-06-30 23:58:48</td>\n",
       "      <td>GW01</td>\n",
       "      <td>1</td>\n",
       "      <td>1</td>\n",
       "      <td>humidity</td>\n",
       "      <td>99.89995</td>\n",
       "      <td>20210630235847</td>\n",
       "    </tr>\n",
       "    <tr>\n",
       "      <th>1</th>\n",
       "      <td>2021-06-30 23:58:48</td>\n",
       "      <td>GW01</td>\n",
       "      <td>1</td>\n",
       "      <td>1</td>\n",
       "      <td>temp</td>\n",
       "      <td>21.09999</td>\n",
       "      <td>20210630235847</td>\n",
       "    </tr>\n",
       "    <tr>\n",
       "      <th>4</th>\n",
       "      <td>2021-06-30 23:56:48</td>\n",
       "      <td>GW01</td>\n",
       "      <td>1</td>\n",
       "      <td>1</td>\n",
       "      <td>humidity</td>\n",
       "      <td>99.89994</td>\n",
       "      <td>20210630235647</td>\n",
       "    </tr>\n",
       "    <tr>\n",
       "      <th>5</th>\n",
       "      <td>2021-06-30 23:56:48</td>\n",
       "      <td>GW01</td>\n",
       "      <td>1</td>\n",
       "      <td>1</td>\n",
       "      <td>temp</td>\n",
       "      <td>21.10338</td>\n",
       "      <td>20210630235647</td>\n",
       "    </tr>\n",
       "    <tr>\n",
       "      <th>8</th>\n",
       "      <td>2021-06-30 23:54:48</td>\n",
       "      <td>GW01</td>\n",
       "      <td>1</td>\n",
       "      <td>1</td>\n",
       "      <td>humidity</td>\n",
       "      <td>99.89994</td>\n",
       "      <td>20210630235447</td>\n",
       "    </tr>\n",
       "  </tbody>\n",
       "</table>\n",
       "</div>"
      ],
      "text/plain": [
       "                  수집시간 수집장비ID  축사번호  모듈ID      센서타입       측정값            센서시간\n",
       "0  2021-06-30 23:58:48   GW01     1     1  humidity  99.89995  20210630235847\n",
       "1  2021-06-30 23:58:48   GW01     1     1      temp  21.09999  20210630235847\n",
       "4  2021-06-30 23:56:48   GW01     1     1  humidity  99.89994  20210630235647\n",
       "5  2021-06-30 23:56:48   GW01     1     1      temp  21.10338  20210630235647\n",
       "8  2021-06-30 23:54:48   GW01     1     1  humidity  99.89994  20210630235447"
      ]
     },
     "execution_count": 75,
     "metadata": {},
     "output_type": "execute_result"
    }
   ],
   "source": [
    "## 조건 연산 example \n",
    "\n",
    "df.센서타입.unique()\n",
    "\n",
    "## isin\n",
    "print('\\nby 센서타입 list')\n",
    "df[df.센서타입.isin(['temp','co2'])].head()\n",
    "\n",
    "## conjunction\n",
    "print('\\nand(&).. or(|) ') \n",
    "df[(df['센서타입'] == 'temp') & (df['모듈ID'] == 1)].head() # 각 조건은 () 로 감싸준다\n",
    "\n",
    "## str 함수\n",
    "print('\\nstr ')\n",
    "df[df.센서타입.str.contains('m')].head()"
   ]
  },
  {
   "cell_type": "markdown",
   "metadata": {
    "id": "PnJpH0QaiVY3"
   },
   "source": [
    "## 04.Modifying Data Frames. \n",
    "\n",
    "#### 04-1. column Name 바꾸기\n",
    "\n",
    "#### 04-2. column 전체 바꾸기(혹은 추가). \n",
    "\n",
    "#### 04-3. 일부 내용 변경하기 - loc 함수 이용하기"
   ]
  },
  {
   "cell_type": "markdown",
   "metadata": {
    "id": "S1c1X1Y2ii8p"
   },
   "source": [
    "### 04-1. column 이름 바꾸기"
   ]
  },
  {
   "cell_type": "code",
   "execution_count": 76,
   "metadata": {
    "colab": {
     "base_uri": "https://localhost:8080/"
    },
    "executionInfo": {
     "elapsed": 309,
     "status": "ok",
     "timestamp": 1633673961333,
     "user": {
      "displayName": "조한별",
      "photoUrl": "https://lh3.googleusercontent.com/a/default-user=s64",
      "userId": "13719229561479595538"
     },
     "user_tz": -540
    },
    "id": "dzeuhDmUjkgh",
    "outputId": "00bfe3ec-61b4-490c-be7b-a788341ce487"
   },
   "outputs": [
    {
     "data": {
      "text/plain": [
       "Index(['수집시간', '수집장비ID', '축사번호', '모듈ID', '센서타입', '측정값', '센서시간'], dtype='object')"
      ]
     },
     "execution_count": 76,
     "metadata": {},
     "output_type": "execute_result"
    }
   ],
   "source": [
    "df.columns"
   ]
  },
  {
   "cell_type": "code",
   "execution_count": 106,
   "metadata": {
    "colab": {
     "base_uri": "https://localhost:8080/",
     "height": 97
    },
    "executionInfo": {
     "elapsed": 7,
     "status": "ok",
     "timestamp": 1633675143184,
     "user": {
      "displayName": "조한별",
      "photoUrl": "https://lh3.googleusercontent.com/a/default-user=s64",
      "userId": "13719229561479595538"
     },
     "user_tz": -540
    },
    "id": "GeWlragljlkk",
    "outputId": "115f5d78-6ef1-4ba5-ec0f-50ecb8a05336"
   },
   "outputs": [
    {
     "data": {
      "text/plain": [
       "Index(['GTime', 'deviceID', 'No', 'moduleID', 'sType', 'sValue', 'sensorTime'], dtype='object')"
      ]
     },
     "execution_count": 106,
     "metadata": {},
     "output_type": "execute_result"
    },
    {
     "data": {
      "text/html": [
       "<div>\n",
       "<style scoped>\n",
       "    .dataframe tbody tr th:only-of-type {\n",
       "        vertical-align: middle;\n",
       "    }\n",
       "\n",
       "    .dataframe tbody tr th {\n",
       "        vertical-align: top;\n",
       "    }\n",
       "\n",
       "    .dataframe thead th {\n",
       "        text-align: right;\n",
       "    }\n",
       "</style>\n",
       "<table border=\"1\" class=\"dataframe\">\n",
       "  <thead>\n",
       "    <tr style=\"text-align: right;\">\n",
       "      <th></th>\n",
       "      <th>GTime</th>\n",
       "      <th>deviceID</th>\n",
       "      <th>No</th>\n",
       "      <th>moduleID</th>\n",
       "      <th>sType</th>\n",
       "      <th>sValue</th>\n",
       "      <th>sensorTime</th>\n",
       "    </tr>\n",
       "  </thead>\n",
       "  <tbody>\n",
       "    <tr>\n",
       "      <th>0</th>\n",
       "      <td>2021-06-30 23:58:48</td>\n",
       "      <td>GW01</td>\n",
       "      <td>1</td>\n",
       "      <td>1</td>\n",
       "      <td>humidity</td>\n",
       "      <td>99.89995</td>\n",
       "      <td>20210630235847</td>\n",
       "    </tr>\n",
       "  </tbody>\n",
       "</table>\n",
       "</div>"
      ],
      "text/plain": [
       "                 GTime deviceID  No  ...     sType    sValue      sensorTime\n",
       "0  2021-06-30 23:58:48     GW01   1  ...  humidity  99.89995  20210630235847\n",
       "\n",
       "[1 rows x 7 columns]"
      ]
     },
     "execution_count": 106,
     "metadata": {},
     "output_type": "execute_result"
    }
   ],
   "source": [
    "df.columns = ['GTime','deviceID','No','moduleID','sType','sValue','sensorTime']\n",
    "df.columns\n",
    "\n",
    "df.head(1)"
   ]
  },
  {
   "cell_type": "markdown",
   "metadata": {
    "id": "gXGdZdIij66p"
   },
   "source": [
    "### 04-2 column 전체 내용 바꾸기"
   ]
  },
  {
   "cell_type": "code",
   "execution_count": 88,
   "metadata": {
    "colab": {
     "base_uri": "https://localhost:8080/"
    },
    "executionInfo": {
     "elapsed": 284,
     "status": "ok",
     "timestamp": 1633674462348,
     "user": {
      "displayName": "조한별",
      "photoUrl": "https://lh3.googleusercontent.com/a/default-user=s64",
      "userId": "13719229561479595538"
     },
     "user_tz": -540
    },
    "id": "HzI9Alf0lfOm",
    "outputId": "3d36e9ba-305c-44bd-e34a-124e02b5e3c4"
   },
   "outputs": [
    {
     "name": "stdout",
     "output_type": "stream",
     "text": [
      "<class 'pandas.core.frame.DataFrame'>\n",
      "RangeIndex: 38924 entries, 0 to 38923\n",
      "Data columns (total 7 columns):\n",
      " #   Column      Non-Null Count  Dtype  \n",
      "---  ------      --------------  -----  \n",
      " 0   GTime       38924 non-null  object \n",
      " 1   deviceID    38924 non-null  object \n",
      " 2   No          38924 non-null  object \n",
      " 3   moduleID    38924 non-null  int64  \n",
      " 4   sType       38924 non-null  object \n",
      " 5   sValue      38924 non-null  float64\n",
      " 6   sensorTime  38924 non-null  int64  \n",
      "dtypes: float64(1), int64(2), object(4)\n",
      "memory usage: 2.1+ MB\n"
     ]
    }
   ],
   "source": [
    "df.info()"
   ]
  },
  {
   "cell_type": "code",
   "execution_count": 107,
   "metadata": {
    "colab": {
     "base_uri": "https://localhost:8080/",
     "height": 204
    },
    "executionInfo": {
     "elapsed": 438,
     "status": "ok",
     "timestamp": 1633675147276,
     "user": {
      "displayName": "조한별",
      "photoUrl": "https://lh3.googleusercontent.com/a/default-user=s64",
      "userId": "13719229561479595538"
     },
     "user_tz": -540
    },
    "id": "Q4I6tEOOkaWY",
    "outputId": "70c2ed38-c410-4637-a6e9-cef8abcf6f83"
   },
   "outputs": [
    {
     "data": {
      "text/html": [
       "<div>\n",
       "<style scoped>\n",
       "    .dataframe tbody tr th:only-of-type {\n",
       "        vertical-align: middle;\n",
       "    }\n",
       "\n",
       "    .dataframe tbody tr th {\n",
       "        vertical-align: top;\n",
       "    }\n",
       "\n",
       "    .dataframe thead th {\n",
       "        text-align: right;\n",
       "    }\n",
       "</style>\n",
       "<table border=\"1\" class=\"dataframe\">\n",
       "  <thead>\n",
       "    <tr style=\"text-align: right;\">\n",
       "      <th></th>\n",
       "      <th>GTime</th>\n",
       "      <th>deviceID</th>\n",
       "      <th>No</th>\n",
       "      <th>moduleID</th>\n",
       "      <th>sType</th>\n",
       "      <th>sValue</th>\n",
       "      <th>sensorTime</th>\n",
       "    </tr>\n",
       "  </thead>\n",
       "  <tbody>\n",
       "    <tr>\n",
       "      <th>0</th>\n",
       "      <td>2021-06-30 23:58:48</td>\n",
       "      <td>GW01</td>\n",
       "      <td>No.1</td>\n",
       "      <td>1</td>\n",
       "      <td>humidity</td>\n",
       "      <td>99.89995</td>\n",
       "      <td>20210630235847</td>\n",
       "    </tr>\n",
       "    <tr>\n",
       "      <th>1</th>\n",
       "      <td>2021-06-30 23:58:48</td>\n",
       "      <td>GW01</td>\n",
       "      <td>No.1</td>\n",
       "      <td>1</td>\n",
       "      <td>temp</td>\n",
       "      <td>21.09999</td>\n",
       "      <td>20210630235847</td>\n",
       "    </tr>\n",
       "    <tr>\n",
       "      <th>2</th>\n",
       "      <td>2021-06-30 23:58:21</td>\n",
       "      <td>GW01</td>\n",
       "      <td>No.1</td>\n",
       "      <td>1</td>\n",
       "      <td>co2</td>\n",
       "      <td>402.89000</td>\n",
       "      <td>20210630235819</td>\n",
       "    </tr>\n",
       "    <tr>\n",
       "      <th>3</th>\n",
       "      <td>2021-06-30 23:58:21</td>\n",
       "      <td>GW01</td>\n",
       "      <td>No.1</td>\n",
       "      <td>1</td>\n",
       "      <td>nh3</td>\n",
       "      <td>4.38000</td>\n",
       "      <td>20210630235819</td>\n",
       "    </tr>\n",
       "    <tr>\n",
       "      <th>4</th>\n",
       "      <td>2021-06-30 23:56:48</td>\n",
       "      <td>GW01</td>\n",
       "      <td>No.1</td>\n",
       "      <td>1</td>\n",
       "      <td>humidity</td>\n",
       "      <td>99.89994</td>\n",
       "      <td>20210630235647</td>\n",
       "    </tr>\n",
       "  </tbody>\n",
       "</table>\n",
       "</div>"
      ],
      "text/plain": [
       "                 GTime deviceID    No  ...     sType     sValue      sensorTime\n",
       "0  2021-06-30 23:58:48     GW01  No.1  ...  humidity   99.89995  20210630235847\n",
       "1  2021-06-30 23:58:48     GW01  No.1  ...      temp   21.09999  20210630235847\n",
       "2  2021-06-30 23:58:21     GW01  No.1  ...       co2  402.89000  20210630235819\n",
       "3  2021-06-30 23:58:21     GW01  No.1  ...       nh3    4.38000  20210630235819\n",
       "4  2021-06-30 23:56:48     GW01  No.1  ...  humidity   99.89994  20210630235647\n",
       "\n",
       "[5 rows x 7 columns]"
      ]
     },
     "execution_count": 107,
     "metadata": {},
     "output_type": "execute_result"
    }
   ],
   "source": [
    "# 데이터를 이미 존재하는 column에 할당하는 경우, 기존 column 의 내용이 대치됨\n",
    "df['No'] = 'No.' + df.No.astype(str)\n",
    "df.head()"
   ]
  },
  {
   "cell_type": "code",
   "execution_count": 108,
   "metadata": {
    "colab": {
     "base_uri": "https://localhost:8080/",
     "height": 204
    },
    "executionInfo": {
     "elapsed": 3,
     "status": "ok",
     "timestamp": 1633675147276,
     "user": {
      "displayName": "조한별",
      "photoUrl": "https://lh3.googleusercontent.com/a/default-user=s64",
      "userId": "13719229561479595538"
     },
     "user_tz": -540
    },
    "id": "hy-upcyAkq9y",
    "outputId": "f2be5404-c6bb-4791-c441-892bc5639c01"
   },
   "outputs": [
    {
     "data": {
      "text/html": [
       "<div>\n",
       "<style scoped>\n",
       "    .dataframe tbody tr th:only-of-type {\n",
       "        vertical-align: middle;\n",
       "    }\n",
       "\n",
       "    .dataframe tbody tr th {\n",
       "        vertical-align: top;\n",
       "    }\n",
       "\n",
       "    .dataframe thead th {\n",
       "        text-align: right;\n",
       "    }\n",
       "</style>\n",
       "<table border=\"1\" class=\"dataframe\">\n",
       "  <thead>\n",
       "    <tr style=\"text-align: right;\">\n",
       "      <th></th>\n",
       "      <th>GTime</th>\n",
       "      <th>deviceID</th>\n",
       "      <th>No</th>\n",
       "      <th>moduleID</th>\n",
       "      <th>sType</th>\n",
       "      <th>sValue</th>\n",
       "      <th>sensorTime</th>\n",
       "      <th>sensorTimeShort</th>\n",
       "    </tr>\n",
       "  </thead>\n",
       "  <tbody>\n",
       "    <tr>\n",
       "      <th>0</th>\n",
       "      <td>2021-06-30 23:58:48</td>\n",
       "      <td>GW01</td>\n",
       "      <td>No.1</td>\n",
       "      <td>1</td>\n",
       "      <td>humidity</td>\n",
       "      <td>99.89995</td>\n",
       "      <td>20210630235847</td>\n",
       "      <td>20210630</td>\n",
       "    </tr>\n",
       "    <tr>\n",
       "      <th>1</th>\n",
       "      <td>2021-06-30 23:58:48</td>\n",
       "      <td>GW01</td>\n",
       "      <td>No.1</td>\n",
       "      <td>1</td>\n",
       "      <td>temp</td>\n",
       "      <td>21.09999</td>\n",
       "      <td>20210630235847</td>\n",
       "      <td>20210630</td>\n",
       "    </tr>\n",
       "    <tr>\n",
       "      <th>2</th>\n",
       "      <td>2021-06-30 23:58:21</td>\n",
       "      <td>GW01</td>\n",
       "      <td>No.1</td>\n",
       "      <td>1</td>\n",
       "      <td>co2</td>\n",
       "      <td>402.89000</td>\n",
       "      <td>20210630235819</td>\n",
       "      <td>20210630</td>\n",
       "    </tr>\n",
       "    <tr>\n",
       "      <th>3</th>\n",
       "      <td>2021-06-30 23:58:21</td>\n",
       "      <td>GW01</td>\n",
       "      <td>No.1</td>\n",
       "      <td>1</td>\n",
       "      <td>nh3</td>\n",
       "      <td>4.38000</td>\n",
       "      <td>20210630235819</td>\n",
       "      <td>20210630</td>\n",
       "    </tr>\n",
       "    <tr>\n",
       "      <th>4</th>\n",
       "      <td>2021-06-30 23:56:48</td>\n",
       "      <td>GW01</td>\n",
       "      <td>No.1</td>\n",
       "      <td>1</td>\n",
       "      <td>humidity</td>\n",
       "      <td>99.89994</td>\n",
       "      <td>20210630235647</td>\n",
       "      <td>20210630</td>\n",
       "    </tr>\n",
       "  </tbody>\n",
       "</table>\n",
       "</div>"
      ],
      "text/plain": [
       "                 GTime deviceID  ...      sensorTime  sensorTimeShort\n",
       "0  2021-06-30 23:58:48     GW01  ...  20210630235847         20210630\n",
       "1  2021-06-30 23:58:48     GW01  ...  20210630235847         20210630\n",
       "2  2021-06-30 23:58:21     GW01  ...  20210630235819         20210630\n",
       "3  2021-06-30 23:58:21     GW01  ...  20210630235819         20210630\n",
       "4  2021-06-30 23:56:48     GW01  ...  20210630235647         20210630\n",
       "\n",
       "[5 rows x 8 columns]"
      ]
     },
     "execution_count": 108,
     "metadata": {},
     "output_type": "execute_result"
    }
   ],
   "source": [
    "# 데이터를 존재하지 않는 column에 할당하는 경우에는 column이 추가됨 (sensorTimeShort)\n",
    "df['sensorTimeShort'] = df.sensorTime.astype(str).str[:8]\n",
    "df.head()"
   ]
  },
  {
   "cell_type": "code",
   "execution_count": 90,
   "metadata": {
    "colab": {
     "base_uri": "https://localhost:8080/"
    },
    "executionInfo": {
     "elapsed": 320,
     "status": "ok",
     "timestamp": 1633674601008,
     "user": {
      "displayName": "조한별",
      "photoUrl": "https://lh3.googleusercontent.com/a/default-user=s64",
      "userId": "13719229561479595538"
     },
     "user_tz": -540
    },
    "id": "w06y_iNGll_M",
    "outputId": "f2200842-bb8b-455a-cc11-b2bbb41dfc29"
   },
   "outputs": [
    {
     "name": "stdout",
     "output_type": "stream",
     "text": [
      "<class 'pandas.core.frame.DataFrame'>\n",
      "RangeIndex: 38924 entries, 0 to 38923\n",
      "Data columns (total 8 columns):\n",
      " #   Column           Non-Null Count  Dtype  \n",
      "---  ------           --------------  -----  \n",
      " 0   GTime            38924 non-null  object \n",
      " 1   deviceID         38924 non-null  object \n",
      " 2   No               38924 non-null  object \n",
      " 3   moduleID         38924 non-null  int64  \n",
      " 4   sType            38924 non-null  object \n",
      " 5   sValue           38924 non-null  float64\n",
      " 6   sensorTime       38924 non-null  int64  \n",
      " 7   sensorTimeShort  38924 non-null  object \n",
      "dtypes: float64(1), int64(2), object(5)\n",
      "memory usage: 2.4+ MB\n"
     ]
    }
   ],
   "source": [
    "df.info()"
   ]
  },
  {
   "cell_type": "markdown",
   "metadata": {
    "id": "ivWJjZo6nE_J"
   },
   "source": [
    "#### column 삭제하기"
   ]
  },
  {
   "cell_type": "code",
   "execution_count": 109,
   "metadata": {
    "colab": {
     "base_uri": "https://localhost:8080/",
     "height": 408
    },
    "executionInfo": {
     "elapsed": 287,
     "status": "ok",
     "timestamp": 1633675151372,
     "user": {
      "displayName": "조한별",
      "photoUrl": "https://lh3.googleusercontent.com/a/default-user=s64",
      "userId": "13719229561479595538"
     },
     "user_tz": -540
    },
    "id": "4Lq51KNVmDDn",
    "outputId": "317f1c1d-ea00-4396-a44e-87a2ec49209f"
   },
   "outputs": [
    {
     "data": {
      "text/html": [
       "<div>\n",
       "<style scoped>\n",
       "    .dataframe tbody tr th:only-of-type {\n",
       "        vertical-align: middle;\n",
       "    }\n",
       "\n",
       "    .dataframe tbody tr th {\n",
       "        vertical-align: top;\n",
       "    }\n",
       "\n",
       "    .dataframe thead th {\n",
       "        text-align: right;\n",
       "    }\n",
       "</style>\n",
       "<table border=\"1\" class=\"dataframe\">\n",
       "  <thead>\n",
       "    <tr style=\"text-align: right;\">\n",
       "      <th></th>\n",
       "      <th>GTime</th>\n",
       "      <th>deviceID</th>\n",
       "      <th>No</th>\n",
       "      <th>moduleID</th>\n",
       "      <th>sType</th>\n",
       "      <th>sValue</th>\n",
       "      <th>sensorTime</th>\n",
       "      <th>sensorTimeShort</th>\n",
       "    </tr>\n",
       "  </thead>\n",
       "  <tbody>\n",
       "    <tr>\n",
       "      <th>0</th>\n",
       "      <td>2021-06-30 23:58:48</td>\n",
       "      <td>GW01</td>\n",
       "      <td>No.1</td>\n",
       "      <td>1</td>\n",
       "      <td>humidity</td>\n",
       "      <td>99.89995</td>\n",
       "      <td>20210630235847</td>\n",
       "      <td>20210630</td>\n",
       "    </tr>\n",
       "    <tr>\n",
       "      <th>1</th>\n",
       "      <td>2021-06-30 23:58:48</td>\n",
       "      <td>GW01</td>\n",
       "      <td>No.1</td>\n",
       "      <td>1</td>\n",
       "      <td>temp</td>\n",
       "      <td>21.09999</td>\n",
       "      <td>20210630235847</td>\n",
       "      <td>20210630</td>\n",
       "    </tr>\n",
       "    <tr>\n",
       "      <th>2</th>\n",
       "      <td>2021-06-30 23:58:21</td>\n",
       "      <td>GW01</td>\n",
       "      <td>No.1</td>\n",
       "      <td>1</td>\n",
       "      <td>co2</td>\n",
       "      <td>402.89000</td>\n",
       "      <td>20210630235819</td>\n",
       "      <td>20210630</td>\n",
       "    </tr>\n",
       "    <tr>\n",
       "      <th>3</th>\n",
       "      <td>2021-06-30 23:58:21</td>\n",
       "      <td>GW01</td>\n",
       "      <td>No.1</td>\n",
       "      <td>1</td>\n",
       "      <td>nh3</td>\n",
       "      <td>4.38000</td>\n",
       "      <td>20210630235819</td>\n",
       "      <td>20210630</td>\n",
       "    </tr>\n",
       "    <tr>\n",
       "      <th>4</th>\n",
       "      <td>2021-06-30 23:56:48</td>\n",
       "      <td>GW01</td>\n",
       "      <td>No.1</td>\n",
       "      <td>1</td>\n",
       "      <td>humidity</td>\n",
       "      <td>99.89994</td>\n",
       "      <td>20210630235647</td>\n",
       "      <td>20210630</td>\n",
       "    </tr>\n",
       "  </tbody>\n",
       "</table>\n",
       "</div>"
      ],
      "text/plain": [
       "                 GTime deviceID  ...      sensorTime  sensorTimeShort\n",
       "0  2021-06-30 23:58:48     GW01  ...  20210630235847         20210630\n",
       "1  2021-06-30 23:58:48     GW01  ...  20210630235847         20210630\n",
       "2  2021-06-30 23:58:21     GW01  ...  20210630235819         20210630\n",
       "3  2021-06-30 23:58:21     GW01  ...  20210630235819         20210630\n",
       "4  2021-06-30 23:56:48     GW01  ...  20210630235647         20210630\n",
       "\n",
       "[5 rows x 8 columns]"
      ]
     },
     "execution_count": 109,
     "metadata": {},
     "output_type": "execute_result"
    },
    {
     "name": "stdout",
     "output_type": "stream",
     "text": [
      "inplace option \n"
     ]
    },
    {
     "data": {
      "text/html": [
       "<div>\n",
       "<style scoped>\n",
       "    .dataframe tbody tr th:only-of-type {\n",
       "        vertical-align: middle;\n",
       "    }\n",
       "\n",
       "    .dataframe tbody tr th {\n",
       "        vertical-align: top;\n",
       "    }\n",
       "\n",
       "    .dataframe thead th {\n",
       "        text-align: right;\n",
       "    }\n",
       "</style>\n",
       "<table border=\"1\" class=\"dataframe\">\n",
       "  <thead>\n",
       "    <tr style=\"text-align: right;\">\n",
       "      <th></th>\n",
       "      <th>GTime</th>\n",
       "      <th>deviceID</th>\n",
       "      <th>No</th>\n",
       "      <th>moduleID</th>\n",
       "      <th>sType</th>\n",
       "      <th>sValue</th>\n",
       "      <th>sensorTime</th>\n",
       "    </tr>\n",
       "  </thead>\n",
       "  <tbody>\n",
       "    <tr>\n",
       "      <th>0</th>\n",
       "      <td>2021-06-30 23:58:48</td>\n",
       "      <td>GW01</td>\n",
       "      <td>No.1</td>\n",
       "      <td>1</td>\n",
       "      <td>humidity</td>\n",
       "      <td>99.89995</td>\n",
       "      <td>20210630235847</td>\n",
       "    </tr>\n",
       "    <tr>\n",
       "      <th>1</th>\n",
       "      <td>2021-06-30 23:58:48</td>\n",
       "      <td>GW01</td>\n",
       "      <td>No.1</td>\n",
       "      <td>1</td>\n",
       "      <td>temp</td>\n",
       "      <td>21.09999</td>\n",
       "      <td>20210630235847</td>\n",
       "    </tr>\n",
       "    <tr>\n",
       "      <th>2</th>\n",
       "      <td>2021-06-30 23:58:21</td>\n",
       "      <td>GW01</td>\n",
       "      <td>No.1</td>\n",
       "      <td>1</td>\n",
       "      <td>co2</td>\n",
       "      <td>402.89000</td>\n",
       "      <td>20210630235819</td>\n",
       "    </tr>\n",
       "    <tr>\n",
       "      <th>3</th>\n",
       "      <td>2021-06-30 23:58:21</td>\n",
       "      <td>GW01</td>\n",
       "      <td>No.1</td>\n",
       "      <td>1</td>\n",
       "      <td>nh3</td>\n",
       "      <td>4.38000</td>\n",
       "      <td>20210630235819</td>\n",
       "    </tr>\n",
       "    <tr>\n",
       "      <th>4</th>\n",
       "      <td>2021-06-30 23:56:48</td>\n",
       "      <td>GW01</td>\n",
       "      <td>No.1</td>\n",
       "      <td>1</td>\n",
       "      <td>humidity</td>\n",
       "      <td>99.89994</td>\n",
       "      <td>20210630235647</td>\n",
       "    </tr>\n",
       "  </tbody>\n",
       "</table>\n",
       "</div>"
      ],
      "text/plain": [
       "                 GTime deviceID    No  ...     sType     sValue      sensorTime\n",
       "0  2021-06-30 23:58:48     GW01  No.1  ...  humidity   99.89995  20210630235847\n",
       "1  2021-06-30 23:58:48     GW01  No.1  ...      temp   21.09999  20210630235847\n",
       "2  2021-06-30 23:58:21     GW01  No.1  ...       co2  402.89000  20210630235819\n",
       "3  2021-06-30 23:58:21     GW01  No.1  ...       nh3    4.38000  20210630235819\n",
       "4  2021-06-30 23:56:48     GW01  No.1  ...  humidity   99.89994  20210630235647\n",
       "\n",
       "[5 rows x 7 columns]"
      ]
     },
     "execution_count": 109,
     "metadata": {},
     "output_type": "execute_result"
    }
   ],
   "source": [
    "# column 삭제하기\n",
    "_ = df.drop('sensorTimeShort', axis=1)\n",
    "df.head()\n",
    "\n",
    "print('inplace option ')\n",
    "_ = df.drop('sensorTimeShort', axis=1, inplace=True)\n",
    "df.head()"
   ]
  },
  {
   "cell_type": "code",
   "execution_count": 125,
   "metadata": {
    "colab": {
     "base_uri": "https://localhost:8080/",
     "height": 391
    },
    "executionInfo": {
     "elapsed": 372,
     "status": "ok",
     "timestamp": 1633675354060,
     "user": {
      "displayName": "조한별",
      "photoUrl": "https://lh3.googleusercontent.com/a/default-user=s64",
      "userId": "13719229561479595538"
     },
     "user_tz": -540
    },
    "id": "8S97qzb7mpdK",
    "outputId": "186a1a48-ad80-464b-c1b6-86d953ac41bb"
   },
   "outputs": [
    {
     "data": {
      "text/html": [
       "<div>\n",
       "<style scoped>\n",
       "    .dataframe tbody tr th:only-of-type {\n",
       "        vertical-align: middle;\n",
       "    }\n",
       "\n",
       "    .dataframe tbody tr th {\n",
       "        vertical-align: top;\n",
       "    }\n",
       "\n",
       "    .dataframe thead th {\n",
       "        text-align: right;\n",
       "    }\n",
       "</style>\n",
       "<table border=\"1\" class=\"dataframe\">\n",
       "  <thead>\n",
       "    <tr style=\"text-align: right;\">\n",
       "      <th></th>\n",
       "      <th>GTime</th>\n",
       "      <th>deviceID</th>\n",
       "      <th>No</th>\n",
       "      <th>moduleID</th>\n",
       "      <th>sType</th>\n",
       "      <th>sValue</th>\n",
       "      <th>sensorTime</th>\n",
       "      <th>sensorTimeShort</th>\n",
       "    </tr>\n",
       "  </thead>\n",
       "  <tbody>\n",
       "    <tr>\n",
       "      <th>0</th>\n",
       "      <td>2021-06-30 23:58:48</td>\n",
       "      <td>GW01</td>\n",
       "      <td>No.1</td>\n",
       "      <td>1</td>\n",
       "      <td>humidity</td>\n",
       "      <td>99.89995</td>\n",
       "      <td>20210630235847</td>\n",
       "      <td>20210630</td>\n",
       "    </tr>\n",
       "    <tr>\n",
       "      <th>1</th>\n",
       "      <td>2021-06-30 23:58:48</td>\n",
       "      <td>GW01</td>\n",
       "      <td>No.1</td>\n",
       "      <td>1</td>\n",
       "      <td>temp</td>\n",
       "      <td>21.09999</td>\n",
       "      <td>20210630235847</td>\n",
       "      <td>20210630</td>\n",
       "    </tr>\n",
       "    <tr>\n",
       "      <th>2</th>\n",
       "      <td>2021-06-30 23:58:21</td>\n",
       "      <td>GW01</td>\n",
       "      <td>No.1</td>\n",
       "      <td>1</td>\n",
       "      <td>co2</td>\n",
       "      <td>402.89000</td>\n",
       "      <td>20210630235819</td>\n",
       "      <td>20210630</td>\n",
       "    </tr>\n",
       "    <tr>\n",
       "      <th>3</th>\n",
       "      <td>2021-06-30 23:58:21</td>\n",
       "      <td>GW01</td>\n",
       "      <td>No.1</td>\n",
       "      <td>1</td>\n",
       "      <td>nh3</td>\n",
       "      <td>4.38000</td>\n",
       "      <td>20210630235819</td>\n",
       "      <td>20210630</td>\n",
       "    </tr>\n",
       "    <tr>\n",
       "      <th>4</th>\n",
       "      <td>2021-06-30 23:56:48</td>\n",
       "      <td>GW01</td>\n",
       "      <td>No.1</td>\n",
       "      <td>1</td>\n",
       "      <td>humidity</td>\n",
       "      <td>99.89994</td>\n",
       "      <td>20210630235647</td>\n",
       "      <td>20210630</td>\n",
       "    </tr>\n",
       "  </tbody>\n",
       "</table>\n",
       "</div>"
      ],
      "text/plain": [
       "                 GTime deviceID  ...      sensorTime  sensorTimeShort\n",
       "0  2021-06-30 23:58:48     GW01  ...  20210630235847         20210630\n",
       "1  2021-06-30 23:58:48     GW01  ...  20210630235847         20210630\n",
       "2  2021-06-30 23:58:21     GW01  ...  20210630235819         20210630\n",
       "3  2021-06-30 23:58:21     GW01  ...  20210630235819         20210630\n",
       "4  2021-06-30 23:56:48     GW01  ...  20210630235647         20210630\n",
       "\n",
       "[5 rows x 8 columns]"
      ]
     },
     "execution_count": 125,
     "metadata": {},
     "output_type": "execute_result"
    },
    {
     "data": {
      "text/html": [
       "<div>\n",
       "<style scoped>\n",
       "    .dataframe tbody tr th:only-of-type {\n",
       "        vertical-align: middle;\n",
       "    }\n",
       "\n",
       "    .dataframe tbody tr th {\n",
       "        vertical-align: top;\n",
       "    }\n",
       "\n",
       "    .dataframe thead th {\n",
       "        text-align: right;\n",
       "    }\n",
       "</style>\n",
       "<table border=\"1\" class=\"dataframe\">\n",
       "  <thead>\n",
       "    <tr style=\"text-align: right;\">\n",
       "      <th></th>\n",
       "      <th>GTime</th>\n",
       "      <th>deviceID</th>\n",
       "      <th>No</th>\n",
       "      <th>moduleID</th>\n",
       "      <th>sType</th>\n",
       "      <th>sValue</th>\n",
       "      <th>sensorTime</th>\n",
       "    </tr>\n",
       "  </thead>\n",
       "  <tbody>\n",
       "    <tr>\n",
       "      <th>0</th>\n",
       "      <td>2021-06-30 23:58:48</td>\n",
       "      <td>GW01</td>\n",
       "      <td>No.1</td>\n",
       "      <td>1</td>\n",
       "      <td>humidity</td>\n",
       "      <td>99.89995</td>\n",
       "      <td>20210630235847</td>\n",
       "    </tr>\n",
       "    <tr>\n",
       "      <th>1</th>\n",
       "      <td>2021-06-30 23:58:48</td>\n",
       "      <td>GW01</td>\n",
       "      <td>No.1</td>\n",
       "      <td>1</td>\n",
       "      <td>temp</td>\n",
       "      <td>21.09999</td>\n",
       "      <td>20210630235847</td>\n",
       "    </tr>\n",
       "    <tr>\n",
       "      <th>2</th>\n",
       "      <td>2021-06-30 23:58:21</td>\n",
       "      <td>GW01</td>\n",
       "      <td>No.1</td>\n",
       "      <td>1</td>\n",
       "      <td>co2</td>\n",
       "      <td>402.89000</td>\n",
       "      <td>20210630235819</td>\n",
       "    </tr>\n",
       "    <tr>\n",
       "      <th>3</th>\n",
       "      <td>2021-06-30 23:58:21</td>\n",
       "      <td>GW01</td>\n",
       "      <td>No.1</td>\n",
       "      <td>1</td>\n",
       "      <td>nh3</td>\n",
       "      <td>4.38000</td>\n",
       "      <td>20210630235819</td>\n",
       "    </tr>\n",
       "    <tr>\n",
       "      <th>4</th>\n",
       "      <td>2021-06-30 23:56:48</td>\n",
       "      <td>GW01</td>\n",
       "      <td>No.1</td>\n",
       "      <td>1</td>\n",
       "      <td>humidity</td>\n",
       "      <td>99.89994</td>\n",
       "      <td>20210630235647</td>\n",
       "    </tr>\n",
       "  </tbody>\n",
       "</table>\n",
       "</div>"
      ],
      "text/plain": [
       "                 GTime deviceID    No  ...     sType     sValue      sensorTime\n",
       "0  2021-06-30 23:58:48     GW01  No.1  ...  humidity   99.89995  20210630235847\n",
       "1  2021-06-30 23:58:48     GW01  No.1  ...      temp   21.09999  20210630235847\n",
       "2  2021-06-30 23:58:21     GW01  No.1  ...       co2  402.89000  20210630235819\n",
       "3  2021-06-30 23:58:21     GW01  No.1  ...       nh3    4.38000  20210630235819\n",
       "4  2021-06-30 23:56:48     GW01  No.1  ...  humidity   99.89994  20210630235647\n",
       "\n",
       "[5 rows x 7 columns]"
      ]
     },
     "execution_count": 125,
     "metadata": {},
     "output_type": "execute_result"
    }
   ],
   "source": [
    "# 더 좋은 방법은 ....\n",
    "df['sensorTimeShort'] = df.sensorTime.astype(str).str[:8]\n",
    "df.head()\n",
    "df = df.iloc[:,0:7]\n",
    "df.head()"
   ]
  },
  {
   "cell_type": "markdown",
   "metadata": {
    "id": "8sjAlLBvo94B"
   },
   "source": [
    "#### column 간 연산"
   ]
  },
  {
   "cell_type": "code",
   "execution_count": 132,
   "metadata": {
    "colab": {
     "base_uri": "https://localhost:8080/",
     "height": 419
    },
    "executionInfo": {
     "elapsed": 280,
     "status": "ok",
     "timestamp": 1633675476410,
     "user": {
      "displayName": "조한별",
      "photoUrl": "https://lh3.googleusercontent.com/a/default-user=s64",
      "userId": "13719229561479595538"
     },
     "user_tz": -540
    },
    "id": "MYduxN8po6eI",
    "outputId": "dfb1f279-9201-4302-e984-ceaeb5788db7"
   },
   "outputs": [
    {
     "data": {
      "text/html": [
       "<div>\n",
       "<style scoped>\n",
       "    .dataframe tbody tr th:only-of-type {\n",
       "        vertical-align: middle;\n",
       "    }\n",
       "\n",
       "    .dataframe tbody tr th {\n",
       "        vertical-align: top;\n",
       "    }\n",
       "\n",
       "    .dataframe thead th {\n",
       "        text-align: right;\n",
       "    }\n",
       "</style>\n",
       "<table border=\"1\" class=\"dataframe\">\n",
       "  <thead>\n",
       "    <tr style=\"text-align: right;\">\n",
       "      <th></th>\n",
       "      <th>GTime</th>\n",
       "      <th>deviceID</th>\n",
       "      <th>No</th>\n",
       "      <th>moduleID</th>\n",
       "      <th>sType</th>\n",
       "      <th>sValue</th>\n",
       "      <th>sensorTime</th>\n",
       "      <th>ID</th>\n",
       "    </tr>\n",
       "  </thead>\n",
       "  <tbody>\n",
       "    <tr>\n",
       "      <th>0</th>\n",
       "      <td>2021-06-30 23:58:48</td>\n",
       "      <td>GW01</td>\n",
       "      <td>No.1</td>\n",
       "      <td>1</td>\n",
       "      <td>humidity</td>\n",
       "      <td>99.899950</td>\n",
       "      <td>20210630235847</td>\n",
       "      <td>GW01_1_1</td>\n",
       "    </tr>\n",
       "    <tr>\n",
       "      <th>1</th>\n",
       "      <td>2021-06-30 23:58:48</td>\n",
       "      <td>GW01</td>\n",
       "      <td>No.1</td>\n",
       "      <td>1</td>\n",
       "      <td>temp</td>\n",
       "      <td>21.099990</td>\n",
       "      <td>20210630235847</td>\n",
       "      <td>GW01_1_1</td>\n",
       "    </tr>\n",
       "    <tr>\n",
       "      <th>2</th>\n",
       "      <td>2021-06-30 23:58:21</td>\n",
       "      <td>GW01</td>\n",
       "      <td>No.1</td>\n",
       "      <td>1</td>\n",
       "      <td>co2</td>\n",
       "      <td>402.890000</td>\n",
       "      <td>20210630235819</td>\n",
       "      <td>GW01_1_1</td>\n",
       "    </tr>\n",
       "    <tr>\n",
       "      <th>3</th>\n",
       "      <td>2021-06-30 23:58:21</td>\n",
       "      <td>GW01</td>\n",
       "      <td>No.1</td>\n",
       "      <td>1</td>\n",
       "      <td>nh3</td>\n",
       "      <td>4.380000</td>\n",
       "      <td>20210630235819</td>\n",
       "      <td>GW01_1_1</td>\n",
       "    </tr>\n",
       "    <tr>\n",
       "      <th>4</th>\n",
       "      <td>2021-06-30 23:56:48</td>\n",
       "      <td>GW01</td>\n",
       "      <td>No.1</td>\n",
       "      <td>1</td>\n",
       "      <td>humidity</td>\n",
       "      <td>99.899940</td>\n",
       "      <td>20210630235647</td>\n",
       "      <td>GW01_1_1</td>\n",
       "    </tr>\n",
       "    <tr>\n",
       "      <th>...</th>\n",
       "      <td>...</td>\n",
       "      <td>...</td>\n",
       "      <td>...</td>\n",
       "      <td>...</td>\n",
       "      <td>...</td>\n",
       "      <td>...</td>\n",
       "      <td>...</td>\n",
       "      <td>...</td>\n",
       "    </tr>\n",
       "    <tr>\n",
       "      <th>38919</th>\n",
       "      <td>2021-06-10 12:27:16</td>\n",
       "      <td>GW01</td>\n",
       "      <td>No.1</td>\n",
       "      <td>1</td>\n",
       "      <td>humidity</td>\n",
       "      <td>45.639000</td>\n",
       "      <td>20210610122714</td>\n",
       "      <td>GW01_1_1</td>\n",
       "    </tr>\n",
       "    <tr>\n",
       "      <th>38920</th>\n",
       "      <td>2021-06-10 12:23:31</td>\n",
       "      <td>GW01</td>\n",
       "      <td>No.1</td>\n",
       "      <td>1</td>\n",
       "      <td>nh3</td>\n",
       "      <td>11.934230</td>\n",
       "      <td>20210610122330</td>\n",
       "      <td>GW01_1_1</td>\n",
       "    </tr>\n",
       "    <tr>\n",
       "      <th>38921</th>\n",
       "      <td>2021-06-10 12:23:31</td>\n",
       "      <td>GW01</td>\n",
       "      <td>No.1</td>\n",
       "      <td>1</td>\n",
       "      <td>co2</td>\n",
       "      <td>409.215100</td>\n",
       "      <td>20210610122330</td>\n",
       "      <td>GW01_1_1</td>\n",
       "    </tr>\n",
       "    <tr>\n",
       "      <th>38922</th>\n",
       "      <td>2021-06-10 12:16:58</td>\n",
       "      <td>GW01</td>\n",
       "      <td>No.1</td>\n",
       "      <td>1</td>\n",
       "      <td>co2</td>\n",
       "      <td>402.246300</td>\n",
       "      <td>20210610121657</td>\n",
       "      <td>GW01_1_1</td>\n",
       "    </tr>\n",
       "    <tr>\n",
       "      <th>38923</th>\n",
       "      <td>2021-06-10 12:16:58</td>\n",
       "      <td>GW01</td>\n",
       "      <td>No.1</td>\n",
       "      <td>1</td>\n",
       "      <td>nh3</td>\n",
       "      <td>3.526615</td>\n",
       "      <td>20210610121657</td>\n",
       "      <td>GW01_1_1</td>\n",
       "    </tr>\n",
       "  </tbody>\n",
       "</table>\n",
       "<p>38924 rows × 8 columns</p>\n",
       "</div>"
      ],
      "text/plain": [
       "                     GTime deviceID    No  ...      sValue      sensorTime        ID\n",
       "0      2021-06-30 23:58:48     GW01  No.1  ...   99.899950  20210630235847  GW01_1_1\n",
       "1      2021-06-30 23:58:48     GW01  No.1  ...   21.099990  20210630235847  GW01_1_1\n",
       "2      2021-06-30 23:58:21     GW01  No.1  ...  402.890000  20210630235819  GW01_1_1\n",
       "3      2021-06-30 23:58:21     GW01  No.1  ...    4.380000  20210630235819  GW01_1_1\n",
       "4      2021-06-30 23:56:48     GW01  No.1  ...   99.899940  20210630235647  GW01_1_1\n",
       "...                    ...      ...   ...  ...         ...             ...       ...\n",
       "38919  2021-06-10 12:27:16     GW01  No.1  ...   45.639000  20210610122714  GW01_1_1\n",
       "38920  2021-06-10 12:23:31     GW01  No.1  ...   11.934230  20210610122330  GW01_1_1\n",
       "38921  2021-06-10 12:23:31     GW01  No.1  ...  409.215100  20210610122330  GW01_1_1\n",
       "38922  2021-06-10 12:16:58     GW01  No.1  ...  402.246300  20210610121657  GW01_1_1\n",
       "38923  2021-06-10 12:16:58     GW01  No.1  ...    3.526615  20210610121657  GW01_1_1\n",
       "\n",
       "[38924 rows x 8 columns]"
      ]
     },
     "execution_count": 132,
     "metadata": {},
     "output_type": "execute_result"
    }
   ],
   "source": [
    "# column 연산\n",
    "\n",
    "df['ID'] = df.deviceID.astype(str) + '_' + df.No.astype(str).str[-1] + '_' + df.moduleID.astype(str)\n",
    "df"
   ]
  },
  {
   "cell_type": "markdown",
   "metadata": {
    "id": "nDupjTf_nLXS"
   },
   "source": [
    "### 04-3. 일부 내용 변경하기\n"
   ]
  },
  {
   "cell_type": "code",
   "execution_count": 121,
   "metadata": {
    "colab": {
     "base_uri": "https://localhost:8080/"
    },
    "executionInfo": {
     "elapsed": 430,
     "status": "ok",
     "timestamp": 1633675279855,
     "user": {
      "displayName": "조한별",
      "photoUrl": "https://lh3.googleusercontent.com/a/default-user=s64",
      "userId": "13719229561479595538"
     },
     "user_tz": -540
    },
    "id": "tPsZxc8SneXh",
    "outputId": "c2dd585f-052d-48a6-ee3a-59ff71878e97"
   },
   "outputs": [
    {
     "data": {
      "text/plain": [
       "array(['No.1', 'No.9'], dtype=object)"
      ]
     },
     "execution_count": 121,
     "metadata": {},
     "output_type": "execute_result"
    }
   ],
   "source": [
    "df1 = df.copy()\n",
    "df1.No.unique()"
   ]
  },
  {
   "cell_type": "code",
   "execution_count": 122,
   "metadata": {
    "colab": {
     "base_uri": "https://localhost:8080/",
     "height": 49
    },
    "executionInfo": {
     "elapsed": 460,
     "status": "ok",
     "timestamp": 1633675280313,
     "user": {
      "displayName": "조한별",
      "photoUrl": "https://lh3.googleusercontent.com/a/default-user=s64",
      "userId": "13719229561479595538"
     },
     "user_tz": -540
    },
    "id": "vnSPKO5ioPEL",
    "outputId": "c94f4c61-e173-45be-f020-9c6b47bc67c6"
   },
   "outputs": [
    {
     "data": {
      "text/html": [
       "<div>\n",
       "<style scoped>\n",
       "    .dataframe tbody tr th:only-of-type {\n",
       "        vertical-align: middle;\n",
       "    }\n",
       "\n",
       "    .dataframe tbody tr th {\n",
       "        vertical-align: top;\n",
       "    }\n",
       "\n",
       "    .dataframe thead th {\n",
       "        text-align: right;\n",
       "    }\n",
       "</style>\n",
       "<table border=\"1\" class=\"dataframe\">\n",
       "  <thead>\n",
       "    <tr style=\"text-align: right;\">\n",
       "      <th></th>\n",
       "      <th>GTime</th>\n",
       "      <th>deviceID</th>\n",
       "      <th>No</th>\n",
       "      <th>moduleID</th>\n",
       "      <th>sType</th>\n",
       "      <th>sValue</th>\n",
       "      <th>sensorTime</th>\n",
       "    </tr>\n",
       "  </thead>\n",
       "  <tbody>\n",
       "  </tbody>\n",
       "</table>\n",
       "</div>"
      ],
      "text/plain": [
       "Empty DataFrame\n",
       "Columns: [GTime, deviceID, No, moduleID, sType, sValue, sensorTime]\n",
       "Index: []"
      ]
     },
     "execution_count": 122,
     "metadata": {},
     "output_type": "execute_result"
    }
   ],
   "source": [
    "df1[df1.sValue <= 0]"
   ]
  },
  {
   "cell_type": "code",
   "execution_count": 124,
   "metadata": {
    "colab": {
     "base_uri": "https://localhost:8080/",
     "height": 111
    },
    "executionInfo": {
     "elapsed": 272,
     "status": "ok",
     "timestamp": 1633675291975,
     "user": {
      "displayName": "조한별",
      "photoUrl": "https://lh3.googleusercontent.com/a/default-user=s64",
      "userId": "13719229561479595538"
     },
     "user_tz": -540
    },
    "id": "lMi0EG8enqgi",
    "outputId": "2c5c843d-1bf6-4700-ce8c-84b7958a977a"
   },
   "outputs": [
    {
     "data": {
      "text/html": [
       "<div>\n",
       "<style scoped>\n",
       "    .dataframe tbody tr th:only-of-type {\n",
       "        vertical-align: middle;\n",
       "    }\n",
       "\n",
       "    .dataframe tbody tr th {\n",
       "        vertical-align: top;\n",
       "    }\n",
       "\n",
       "    .dataframe thead th {\n",
       "        text-align: right;\n",
       "    }\n",
       "</style>\n",
       "<table border=\"1\" class=\"dataframe\">\n",
       "  <thead>\n",
       "    <tr style=\"text-align: right;\">\n",
       "      <th></th>\n",
       "      <th>GTime</th>\n",
       "      <th>deviceID</th>\n",
       "      <th>No</th>\n",
       "      <th>moduleID</th>\n",
       "      <th>sType</th>\n",
       "      <th>sValue</th>\n",
       "      <th>sensorTime</th>\n",
       "    </tr>\n",
       "  </thead>\n",
       "  <tbody>\n",
       "    <tr>\n",
       "      <th>36956</th>\n",
       "      <td>2021-06-14 13:22:55</td>\n",
       "      <td>GW01</td>\n",
       "      <td>No.9</td>\n",
       "      <td>1</td>\n",
       "      <td>humidity</td>\n",
       "      <td>0.0</td>\n",
       "      <td>20210101000000</td>\n",
       "    </tr>\n",
       "    <tr>\n",
       "      <th>36957</th>\n",
       "      <td>2021-06-14 13:22:55</td>\n",
       "      <td>GW01</td>\n",
       "      <td>No.9</td>\n",
       "      <td>1</td>\n",
       "      <td>temp</td>\n",
       "      <td>-1.0</td>\n",
       "      <td>20210101000000</td>\n",
       "    </tr>\n",
       "  </tbody>\n",
       "</table>\n",
       "</div>"
      ],
      "text/plain": [
       "                     GTime deviceID    No  ...     sType sValue      sensorTime\n",
       "36956  2021-06-14 13:22:55     GW01  No.9  ...  humidity    0.0  20210101000000\n",
       "36957  2021-06-14 13:22:55     GW01  No.9  ...      temp   -1.0  20210101000000\n",
       "\n",
       "[2 rows x 7 columns]"
      ]
     },
     "execution_count": 124,
     "metadata": {},
     "output_type": "execute_result"
    }
   ],
   "source": [
    "# loc로 변경하기\n",
    "# loc[<<조건>>,<<변경할 column이름>>] = 할당할 값\n",
    "df1.loc[df1.No == 'No.9','sValue'] = [0, -1] # scalar 혹은 길이가 동일한 list 형\n",
    "df1[df1.sValue <= 0]"
   ]
  },
  {
   "cell_type": "markdown",
   "metadata": {
    "id": "rChuUGSVoVAj"
   },
   "source": [
    "## 05.Groupby, Join, Reshape\n",
    "\n",
    "#### Grouping : DataFrame을 특정한 기준으로 압축하여, 대표되는 값을 뽑는 과정.\n",
    "\n",
    "\n",
    "#### Join : 모양이 비슷한 DataFrame 여러 개를 하나로 줄이는 과정  \n",
    "\n",
    "#### Reshape : 말 그대로 DataFrame을 표현하는 모양을 변경하는 과정  \n",
    "    - long form, wide form\n",
    "    - melt / spread\n",
    "    - pivot / unpivot \n",
    "    - stack / unstack\n",
    "\n"
   ]
  },
  {
   "cell_type": "markdown",
   "metadata": {
    "id": "u0x3a9UlpkK5"
   },
   "source": [
    "### 05-1. Grouping"
   ]
  },
  {
   "cell_type": "code",
   "execution_count": 143,
   "metadata": {
    "colab": {
     "base_uri": "https://localhost:8080/",
     "height": 111
    },
    "executionInfo": {
     "elapsed": 302,
     "status": "ok",
     "timestamp": 1633677374509,
     "user": {
      "displayName": "조한별",
      "photoUrl": "https://lh3.googleusercontent.com/a/default-user=s64",
      "userId": "13719229561479595538"
     },
     "user_tz": -540
    },
    "id": "gA9XLRdPwXj-",
    "outputId": "c01f9cbf-4b16-4b95-a13b-356a858a3eec"
   },
   "outputs": [
    {
     "data": {
      "text/html": [
       "<div>\n",
       "<style scoped>\n",
       "    .dataframe tbody tr th:only-of-type {\n",
       "        vertical-align: middle;\n",
       "    }\n",
       "\n",
       "    .dataframe tbody tr th {\n",
       "        vertical-align: top;\n",
       "    }\n",
       "\n",
       "    .dataframe thead th {\n",
       "        text-align: right;\n",
       "    }\n",
       "</style>\n",
       "<table border=\"1\" class=\"dataframe\">\n",
       "  <thead>\n",
       "    <tr style=\"text-align: right;\">\n",
       "      <th></th>\n",
       "      <th>GTime</th>\n",
       "      <th>deviceID</th>\n",
       "      <th>No</th>\n",
       "      <th>moduleID</th>\n",
       "      <th>sType</th>\n",
       "      <th>sValue</th>\n",
       "      <th>sensorTime</th>\n",
       "      <th>ID</th>\n",
       "      <th>sensorTimeShort</th>\n",
       "    </tr>\n",
       "  </thead>\n",
       "  <tbody>\n",
       "    <tr>\n",
       "      <th>0</th>\n",
       "      <td>2021-06-30 23:58:48</td>\n",
       "      <td>GW01</td>\n",
       "      <td>No.1</td>\n",
       "      <td>1</td>\n",
       "      <td>humidity</td>\n",
       "      <td>99.89995</td>\n",
       "      <td>20210630235847</td>\n",
       "      <td>GW01_1_1</td>\n",
       "      <td>20210630</td>\n",
       "    </tr>\n",
       "    <tr>\n",
       "      <th>1</th>\n",
       "      <td>2021-06-30 23:58:48</td>\n",
       "      <td>GW01</td>\n",
       "      <td>No.1</td>\n",
       "      <td>1</td>\n",
       "      <td>temp</td>\n",
       "      <td>21.09999</td>\n",
       "      <td>20210630235847</td>\n",
       "      <td>GW01_1_1</td>\n",
       "      <td>20210630</td>\n",
       "    </tr>\n",
       "  </tbody>\n",
       "</table>\n",
       "</div>"
      ],
      "text/plain": [
       "                 GTime deviceID    No  ...      sensorTime        ID  sensorTimeShort\n",
       "0  2021-06-30 23:58:48     GW01  No.1  ...  20210630235847  GW01_1_1         20210630\n",
       "1  2021-06-30 23:58:48     GW01  No.1  ...  20210630235847  GW01_1_1         20210630\n",
       "\n",
       "[2 rows x 9 columns]"
      ]
     },
     "execution_count": 143,
     "metadata": {},
     "output_type": "execute_result"
    }
   ],
   "source": [
    "# setting df\n",
    "df2 = df.copy()\n",
    "df2['sensorTimeShort'] = df2.sensorTime.astype(str).str[:8]\n",
    "\n",
    "df2.head(2)"
   ]
  },
  {
   "cell_type": "code",
   "execution_count": 144,
   "metadata": {
    "colab": {
     "base_uri": "https://localhost:8080/"
    },
    "executionInfo": {
     "elapsed": 362,
     "status": "ok",
     "timestamp": 1633677381614,
     "user": {
      "displayName": "조한별",
      "photoUrl": "https://lh3.googleusercontent.com/a/default-user=s64",
      "userId": "13719229561479595538"
     },
     "user_tz": -540
    },
    "id": "nIkyPdX2qIQJ",
    "outputId": "2be54603-4d17-4c25-f7e2-9631a6e8e839"
   },
   "outputs": [
    {
     "data": {
      "text/plain": [
       "<pandas.core.groupby.generic.SeriesGroupBy object at 0x7f7d25686450>"
      ]
     },
     "execution_count": 144,
     "metadata": {},
     "output_type": "execute_result"
    },
    {
     "data": {
      "text/plain": [
       "No\n",
       "No.1    131.765431\n",
       "No.9     28.300000\n",
       "Name: sValue, dtype: float64"
      ]
     },
     "execution_count": 144,
     "metadata": {},
     "output_type": "execute_result"
    }
   ],
   "source": [
    "# 축사(No) 별로 그룹핑하여 sensor 값(sValue)의 평균을 구하자\n",
    "df2.groupby(by=['No'])['sValue']\n",
    "df2.groupby(by=['No'])['sValue'].mean()\n",
    "\n"
   ]
  },
  {
   "cell_type": "code",
   "execution_count": 145,
   "metadata": {
    "colab": {
     "base_uri": "https://localhost:8080/",
     "height": 128
    },
    "executionInfo": {
     "elapsed": 295,
     "status": "ok",
     "timestamp": 1633677388898,
     "user": {
      "displayName": "조한별",
      "photoUrl": "https://lh3.googleusercontent.com/a/default-user=s64",
      "userId": "13719229561479595538"
     },
     "user_tz": -540
    },
    "id": "BTSJPYeCvmlB",
    "outputId": "6f8b855b-791f-4913-dea1-f745b2d283ba"
   },
   "outputs": [
    {
     "data": {
      "text/plain": [
       "<pandas.core.groupby.generic.DataFrameGroupBy object at 0x7f7d25686f50>"
      ]
     },
     "execution_count": 145,
     "metadata": {},
     "output_type": "execute_result"
    },
    {
     "data": {
      "text/html": [
       "<div>\n",
       "<style scoped>\n",
       "    .dataframe tbody tr th:only-of-type {\n",
       "        vertical-align: middle;\n",
       "    }\n",
       "\n",
       "    .dataframe tbody tr th {\n",
       "        vertical-align: top;\n",
       "    }\n",
       "\n",
       "    .dataframe thead th {\n",
       "        text-align: right;\n",
       "    }\n",
       "</style>\n",
       "<table border=\"1\" class=\"dataframe\">\n",
       "  <thead>\n",
       "    <tr style=\"text-align: right;\">\n",
       "      <th></th>\n",
       "      <th>No</th>\n",
       "      <th>sValue</th>\n",
       "    </tr>\n",
       "  </thead>\n",
       "  <tbody>\n",
       "    <tr>\n",
       "      <th>0</th>\n",
       "      <td>No.1</td>\n",
       "      <td>131.765431</td>\n",
       "    </tr>\n",
       "    <tr>\n",
       "      <th>1</th>\n",
       "      <td>No.9</td>\n",
       "      <td>28.300000</td>\n",
       "    </tr>\n",
       "  </tbody>\n",
       "</table>\n",
       "</div>"
      ],
      "text/plain": [
       "     No      sValue\n",
       "0  No.1  131.765431\n",
       "1  No.9   28.300000"
      ]
     },
     "execution_count": 145,
     "metadata": {},
     "output_type": "execute_result"
    }
   ],
   "source": [
    "# as_index false\n",
    "df2.groupby(by=['No'], as_index=False)['sValue']\n",
    "df2.groupby(by=['No'], as_index=False)['sValue'].mean()"
   ]
  },
  {
   "cell_type": "code",
   "execution_count": 146,
   "metadata": {
    "colab": {
     "base_uri": "https://localhost:8080/",
     "height": 235
    },
    "executionInfo": {
     "elapsed": 3,
     "status": "ok",
     "timestamp": 1633677389366,
     "user": {
      "displayName": "조한별",
      "photoUrl": "https://lh3.googleusercontent.com/a/default-user=s64",
      "userId": "13719229561479595538"
     },
     "user_tz": -540
    },
    "id": "DDe_T-YRvzOi",
    "outputId": "d9085ef4-c3ad-403b-8ffa-ed1c30ce9f4e"
   },
   "outputs": [
    {
     "data": {
      "text/html": [
       "<div>\n",
       "<style scoped>\n",
       "    .dataframe tbody tr th:only-of-type {\n",
       "        vertical-align: middle;\n",
       "    }\n",
       "\n",
       "    .dataframe tbody tr th {\n",
       "        vertical-align: top;\n",
       "    }\n",
       "\n",
       "    .dataframe thead th {\n",
       "        text-align: right;\n",
       "    }\n",
       "</style>\n",
       "<table border=\"1\" class=\"dataframe\">\n",
       "  <thead>\n",
       "    <tr style=\"text-align: right;\">\n",
       "      <th></th>\n",
       "      <th>No</th>\n",
       "      <th>sType</th>\n",
       "      <th>sValue</th>\n",
       "    </tr>\n",
       "  </thead>\n",
       "  <tbody>\n",
       "    <tr>\n",
       "      <th>0</th>\n",
       "      <td>No.1</td>\n",
       "      <td>co2</td>\n",
       "      <td>408.128282</td>\n",
       "    </tr>\n",
       "    <tr>\n",
       "      <th>1</th>\n",
       "      <td>No.1</td>\n",
       "      <td>humidity</td>\n",
       "      <td>71.397560</td>\n",
       "    </tr>\n",
       "    <tr>\n",
       "      <th>2</th>\n",
       "      <td>No.1</td>\n",
       "      <td>nh3</td>\n",
       "      <td>9.130987</td>\n",
       "    </tr>\n",
       "    <tr>\n",
       "      <th>3</th>\n",
       "      <td>No.1</td>\n",
       "      <td>temp</td>\n",
       "      <td>26.123781</td>\n",
       "    </tr>\n",
       "    <tr>\n",
       "      <th>4</th>\n",
       "      <td>No.9</td>\n",
       "      <td>humidity</td>\n",
       "      <td>20.100000</td>\n",
       "    </tr>\n",
       "    <tr>\n",
       "      <th>5</th>\n",
       "      <td>No.9</td>\n",
       "      <td>temp</td>\n",
       "      <td>36.500000</td>\n",
       "    </tr>\n",
       "  </tbody>\n",
       "</table>\n",
       "</div>"
      ],
      "text/plain": [
       "     No     sType      sValue\n",
       "0  No.1       co2  408.128282\n",
       "1  No.1  humidity   71.397560\n",
       "2  No.1       nh3    9.130987\n",
       "3  No.1      temp   26.123781\n",
       "4  No.9  humidity   20.100000\n",
       "5  No.9      temp   36.500000"
      ]
     },
     "execution_count": 146,
     "metadata": {},
     "output_type": "execute_result"
    }
   ],
   "source": [
    "# groupby multiple columns\n",
    "df2.groupby(by=['No','sType'], as_index=False)['sValue'].mean()"
   ]
  },
  {
   "cell_type": "code",
   "execution_count": 175,
   "metadata": {
    "colab": {
     "base_uri": "https://localhost:8080/",
     "height": 832
    },
    "executionInfo": {
     "elapsed": 298,
     "status": "ok",
     "timestamp": 1633678255116,
     "user": {
      "displayName": "조한별",
      "photoUrl": "https://lh3.googleusercontent.com/a/default-user=s64",
      "userId": "13719229561479595538"
     },
     "user_tz": -540
    },
    "id": "hFdh9lfwv_sN",
    "outputId": "351ba64b-e0b7-4afa-9eb2-4baa6fe3d588"
   },
   "outputs": [
    {
     "data": {
      "text/html": [
       "<div>\n",
       "<style scoped>\n",
       "    .dataframe tbody tr th:only-of-type {\n",
       "        vertical-align: middle;\n",
       "    }\n",
       "\n",
       "    .dataframe tbody tr th {\n",
       "        vertical-align: top;\n",
       "    }\n",
       "\n",
       "    .dataframe thead th {\n",
       "        text-align: right;\n",
       "    }\n",
       "</style>\n",
       "<table border=\"1\" class=\"dataframe\">\n",
       "  <thead>\n",
       "    <tr style=\"text-align: right;\">\n",
       "      <th></th>\n",
       "      <th></th>\n",
       "      <th>std</th>\n",
       "      <th>mean</th>\n",
       "    </tr>\n",
       "    <tr>\n",
       "      <th>No</th>\n",
       "      <th>sType</th>\n",
       "      <th></th>\n",
       "      <th></th>\n",
       "    </tr>\n",
       "  </thead>\n",
       "  <tbody>\n",
       "    <tr>\n",
       "      <th rowspan=\"4\" valign=\"top\">No.1</th>\n",
       "      <th>co2</th>\n",
       "      <td>44.394783</td>\n",
       "      <td>408.128282</td>\n",
       "    </tr>\n",
       "    <tr>\n",
       "      <th>humidity</th>\n",
       "      <td>13.745998</td>\n",
       "      <td>71.397560</td>\n",
       "    </tr>\n",
       "    <tr>\n",
       "      <th>nh3</th>\n",
       "      <td>28.865514</td>\n",
       "      <td>9.130987</td>\n",
       "    </tr>\n",
       "    <tr>\n",
       "      <th>temp</th>\n",
       "      <td>2.326890</td>\n",
       "      <td>26.123781</td>\n",
       "    </tr>\n",
       "    <tr>\n",
       "      <th rowspan=\"2\" valign=\"top\">No.9</th>\n",
       "      <th>humidity</th>\n",
       "      <td>NaN</td>\n",
       "      <td>20.100000</td>\n",
       "    </tr>\n",
       "    <tr>\n",
       "      <th>temp</th>\n",
       "      <td>NaN</td>\n",
       "      <td>36.500000</td>\n",
       "    </tr>\n",
       "  </tbody>\n",
       "</table>\n",
       "</div>"
      ],
      "text/plain": [
       "                     std        mean\n",
       "No   sType                          \n",
       "No.1 co2       44.394783  408.128282\n",
       "     humidity  13.745998   71.397560\n",
       "     nh3       28.865514    9.130987\n",
       "     temp       2.326890   26.123781\n",
       "No.9 humidity        NaN   20.100000\n",
       "     temp            NaN   36.500000"
      ]
     },
     "execution_count": 175,
     "metadata": {},
     "output_type": "execute_result"
    },
    {
     "name": "stderr",
     "output_type": "stream",
     "text": [
      "/usr/local/lib/python3.7/dist-packages/ipykernel_launcher.py:6: FutureWarning: Indexing with multiple keys (implicitly converted to a tuple of keys) will be deprecated, use a list instead.\n",
      "  \n"
     ]
    },
    {
     "data": {
      "text/html": [
       "<div>\n",
       "<style scoped>\n",
       "    .dataframe tbody tr th:only-of-type {\n",
       "        vertical-align: middle;\n",
       "    }\n",
       "\n",
       "    .dataframe tbody tr th {\n",
       "        vertical-align: top;\n",
       "    }\n",
       "\n",
       "    .dataframe thead tr th {\n",
       "        text-align: left;\n",
       "    }\n",
       "</style>\n",
       "<table border=\"1\" class=\"dataframe\">\n",
       "  <thead>\n",
       "    <tr>\n",
       "      <th></th>\n",
       "      <th>No</th>\n",
       "      <th>sType</th>\n",
       "      <th colspan=\"2\" halign=\"left\">sValue</th>\n",
       "      <th>sensorTimeShort</th>\n",
       "    </tr>\n",
       "    <tr>\n",
       "      <th></th>\n",
       "      <th></th>\n",
       "      <th></th>\n",
       "      <th>std</th>\n",
       "      <th>mean</th>\n",
       "      <th>max</th>\n",
       "    </tr>\n",
       "  </thead>\n",
       "  <tbody>\n",
       "    <tr>\n",
       "      <th>0</th>\n",
       "      <td>No.1</td>\n",
       "      <td>co2</td>\n",
       "      <td>44.394783</td>\n",
       "      <td>408.128282</td>\n",
       "      <td>20210630</td>\n",
       "    </tr>\n",
       "    <tr>\n",
       "      <th>1</th>\n",
       "      <td>No.1</td>\n",
       "      <td>humidity</td>\n",
       "      <td>13.745998</td>\n",
       "      <td>71.397560</td>\n",
       "      <td>20210630</td>\n",
       "    </tr>\n",
       "    <tr>\n",
       "      <th>2</th>\n",
       "      <td>No.1</td>\n",
       "      <td>nh3</td>\n",
       "      <td>28.865514</td>\n",
       "      <td>9.130987</td>\n",
       "      <td>20210630</td>\n",
       "    </tr>\n",
       "    <tr>\n",
       "      <th>3</th>\n",
       "      <td>No.1</td>\n",
       "      <td>temp</td>\n",
       "      <td>2.326890</td>\n",
       "      <td>26.123781</td>\n",
       "      <td>20210630</td>\n",
       "    </tr>\n",
       "    <tr>\n",
       "      <th>4</th>\n",
       "      <td>No.9</td>\n",
       "      <td>humidity</td>\n",
       "      <td>NaN</td>\n",
       "      <td>20.100000</td>\n",
       "      <td>20210101</td>\n",
       "    </tr>\n",
       "    <tr>\n",
       "      <th>5</th>\n",
       "      <td>No.9</td>\n",
       "      <td>temp</td>\n",
       "      <td>NaN</td>\n",
       "      <td>36.500000</td>\n",
       "      <td>20210101</td>\n",
       "    </tr>\n",
       "  </tbody>\n",
       "</table>\n",
       "</div>"
      ],
      "text/plain": [
       "     No     sType     sValue             sensorTimeShort\n",
       "                         std        mean             max\n",
       "0  No.1       co2  44.394783  408.128282        20210630\n",
       "1  No.1  humidity  13.745998   71.397560        20210630\n",
       "2  No.1       nh3  28.865514    9.130987        20210630\n",
       "3  No.1      temp   2.326890   26.123781        20210630\n",
       "4  No.9  humidity        NaN   20.100000        20210101\n",
       "5  No.9      temp        NaN   36.500000        20210101"
      ]
     },
     "execution_count": 175,
     "metadata": {},
     "output_type": "execute_result"
    },
    {
     "name": "stderr",
     "output_type": "stream",
     "text": [
      "/usr/local/lib/python3.7/dist-packages/ipykernel_launcher.py:11: FutureWarning: Indexing with multiple keys (implicitly converted to a tuple of keys) will be deprecated, use a list instead.\n",
      "  # This is added back by InteractiveShellApp.init_path()\n"
     ]
    },
    {
     "data": {
      "text/html": [
       "<div>\n",
       "<style scoped>\n",
       "    .dataframe tbody tr th:only-of-type {\n",
       "        vertical-align: middle;\n",
       "    }\n",
       "\n",
       "    .dataframe tbody tr th {\n",
       "        vertical-align: top;\n",
       "    }\n",
       "\n",
       "    .dataframe thead tr th {\n",
       "        text-align: left;\n",
       "    }\n",
       "</style>\n",
       "<table border=\"1\" class=\"dataframe\">\n",
       "  <thead>\n",
       "    <tr>\n",
       "      <th></th>\n",
       "      <th>No</th>\n",
       "      <th>sType</th>\n",
       "      <th colspan=\"2\" halign=\"left\">sValue</th>\n",
       "      <th>sensorTimeShort</th>\n",
       "    </tr>\n",
       "    <tr>\n",
       "      <th></th>\n",
       "      <th></th>\n",
       "      <th></th>\n",
       "      <th>valueStd</th>\n",
       "      <th>valueMean</th>\n",
       "      <th>sTimemax</th>\n",
       "    </tr>\n",
       "  </thead>\n",
       "  <tbody>\n",
       "    <tr>\n",
       "      <th>0</th>\n",
       "      <td>No.1</td>\n",
       "      <td>co2</td>\n",
       "      <td>44.394783</td>\n",
       "      <td>408.128282</td>\n",
       "      <td>20210630</td>\n",
       "    </tr>\n",
       "    <tr>\n",
       "      <th>1</th>\n",
       "      <td>No.1</td>\n",
       "      <td>humidity</td>\n",
       "      <td>13.745998</td>\n",
       "      <td>71.397560</td>\n",
       "      <td>20210630</td>\n",
       "    </tr>\n",
       "    <tr>\n",
       "      <th>2</th>\n",
       "      <td>No.1</td>\n",
       "      <td>nh3</td>\n",
       "      <td>28.865514</td>\n",
       "      <td>9.130987</td>\n",
       "      <td>20210630</td>\n",
       "    </tr>\n",
       "    <tr>\n",
       "      <th>3</th>\n",
       "      <td>No.1</td>\n",
       "      <td>temp</td>\n",
       "      <td>2.326890</td>\n",
       "      <td>26.123781</td>\n",
       "      <td>20210630</td>\n",
       "    </tr>\n",
       "    <tr>\n",
       "      <th>4</th>\n",
       "      <td>No.9</td>\n",
       "      <td>humidity</td>\n",
       "      <td>NaN</td>\n",
       "      <td>20.100000</td>\n",
       "      <td>20210101</td>\n",
       "    </tr>\n",
       "    <tr>\n",
       "      <th>5</th>\n",
       "      <td>No.9</td>\n",
       "      <td>temp</td>\n",
       "      <td>NaN</td>\n",
       "      <td>36.500000</td>\n",
       "      <td>20210101</td>\n",
       "    </tr>\n",
       "  </tbody>\n",
       "</table>\n",
       "</div>"
      ],
      "text/plain": [
       "     No     sType     sValue             sensorTimeShort\n",
       "                    valueStd   valueMean        sTimemax\n",
       "0  No.1       co2  44.394783  408.128282        20210630\n",
       "1  No.1  humidity  13.745998   71.397560        20210630\n",
       "2  No.1       nh3  28.865514    9.130987        20210630\n",
       "3  No.1      temp   2.326890   26.123781        20210630\n",
       "4  No.9  humidity        NaN   20.100000        20210101\n",
       "5  No.9      temp        NaN   36.500000        20210101"
      ]
     },
     "execution_count": 175,
     "metadata": {},
     "output_type": "execute_result"
    }
   ],
   "source": [
    "# groupby multiple columns, apply multiple aggregation funcions\n",
    "df2.groupby(by=['No','sType'], as_index=False)['sValue'].agg(['std','mean'])\n",
    "\n",
    "# groupby multiple columns, apply multiple aggregation funcions\n",
    "# + multiple columns\n",
    "df2.groupby(by=['No','sType'], as_index=False)['sValue','sensorTimeShort']. \\\n",
    "                agg({'sValue' : ['std','mean'], 'sensorTimeShort' : 'max'})\n",
    "\n",
    "# groupby multiple columns, apply multiple aggregation funcions\n",
    "# + multiple columns\n",
    "# + columnName : check valueStd, valueMean, sTimemax column\n",
    "df2.groupby(by=['No','sType'], as_index=False)['sValue','sensorTimeShort']. \\\n",
    "                agg({'sValue' : [('valueStd','std'),('valueMean','mean')], 'sensorTimeShort' : [('sTimemax','max')]})"
   ]
  },
  {
   "cell_type": "code",
   "execution_count": 179,
   "metadata": {
    "colab": {
     "base_uri": "https://localhost:8080/"
    },
    "executionInfo": {
     "elapsed": 483,
     "status": "ok",
     "timestamp": 1633678289293,
     "user": {
      "displayName": "조한별",
      "photoUrl": "https://lh3.googleusercontent.com/a/default-user=s64",
      "userId": "13719229561479595538"
     },
     "user_tz": -540
    },
    "id": "w1wq_rSGwr4w",
    "outputId": "f05f9278-28db-4d56-d4ff-4414389ad4e0"
   },
   "outputs": [
    {
     "name": "stderr",
     "output_type": "stream",
     "text": [
      "/usr/local/lib/python3.7/dist-packages/ipykernel_launcher.py:2: FutureWarning: Indexing with multiple keys (implicitly converted to a tuple of keys) will be deprecated, use a list instead.\n",
      "  \n"
     ]
    }
   ],
   "source": [
    "# 바로 위 마지막에 수행한 group을 변수로 할당 받음\n",
    "df2_grouped = df2.groupby(by=['No','sType'], as_index=False)['sValue','sensorTimeShort']. \\\n",
    "                agg({'sValue' : [('valueStd','std'),('valueMean','mean')], 'sensorTimeShort' : [('sTimemax','max')]})"
   ]
  },
  {
   "cell_type": "code",
   "execution_count": 180,
   "metadata": {
    "colab": {
     "base_uri": "https://localhost:8080/",
     "height": 244
    },
    "executionInfo": {
     "elapsed": 366,
     "status": "ok",
     "timestamp": 1633678291450,
     "user": {
      "displayName": "조한별",
      "photoUrl": "https://lh3.googleusercontent.com/a/default-user=s64",
      "userId": "13719229561479595538"
     },
     "user_tz": -540
    },
    "id": "gLyKOSIFyFbk",
    "outputId": "d1e35199-4464-4232-cc34-37d69a6b3996"
   },
   "outputs": [
    {
     "data": {
      "text/plain": [
       "MultiIndex([(             'No',          ''),\n",
       "            (          'sType',          ''),\n",
       "            (         'sValue',  'valueStd'),\n",
       "            (         'sValue', 'valueMean'),\n",
       "            ('sensorTimeShort',  'sTimemax')],\n",
       "           )"
      ]
     },
     "execution_count": 180,
     "metadata": {},
     "output_type": "execute_result"
    },
    {
     "data": {
      "text/html": [
       "<div>\n",
       "<style scoped>\n",
       "    .dataframe tbody tr th:only-of-type {\n",
       "        vertical-align: middle;\n",
       "    }\n",
       "\n",
       "    .dataframe tbody tr th {\n",
       "        vertical-align: top;\n",
       "    }\n",
       "\n",
       "    .dataframe thead tr th {\n",
       "        text-align: left;\n",
       "    }\n",
       "</style>\n",
       "<table border=\"1\" class=\"dataframe\">\n",
       "  <thead>\n",
       "    <tr>\n",
       "      <th></th>\n",
       "      <th>No</th>\n",
       "      <th>sType</th>\n",
       "      <th colspan=\"2\" halign=\"left\">sValue</th>\n",
       "      <th>sensorTimeShort</th>\n",
       "    </tr>\n",
       "    <tr>\n",
       "      <th></th>\n",
       "      <th></th>\n",
       "      <th></th>\n",
       "      <th>valueStd</th>\n",
       "      <th>valueMean</th>\n",
       "      <th>sTimemax</th>\n",
       "    </tr>\n",
       "  </thead>\n",
       "  <tbody>\n",
       "    <tr>\n",
       "      <th>0</th>\n",
       "      <td>No.1</td>\n",
       "      <td>co2</td>\n",
       "      <td>44.394783</td>\n",
       "      <td>408.128282</td>\n",
       "      <td>20210630</td>\n",
       "    </tr>\n",
       "    <tr>\n",
       "      <th>1</th>\n",
       "      <td>No.1</td>\n",
       "      <td>humidity</td>\n",
       "      <td>13.745998</td>\n",
       "      <td>71.397560</td>\n",
       "      <td>20210630</td>\n",
       "    </tr>\n",
       "  </tbody>\n",
       "</table>\n",
       "</div>"
      ],
      "text/plain": [
       "     No     sType     sValue             sensorTimeShort\n",
       "                    valueStd   valueMean        sTimemax\n",
       "0  No.1       co2  44.394783  408.128282        20210630\n",
       "1  No.1  humidity  13.745998   71.397560        20210630"
      ]
     },
     "execution_count": 180,
     "metadata": {},
     "output_type": "execute_result"
    }
   ],
   "source": [
    "# column 이 2-level 입니다. \n",
    "df2_grouped.columns\n",
    "\n",
    "df2_grouped.head(2)"
   ]
  },
  {
   "cell_type": "code",
   "execution_count": 181,
   "metadata": {
    "colab": {
     "base_uri": "https://localhost:8080/",
     "height": 111
    },
    "executionInfo": {
     "elapsed": 293,
     "status": "ok",
     "timestamp": 1633678294354,
     "user": {
      "displayName": "조한별",
      "photoUrl": "https://lh3.googleusercontent.com/a/default-user=s64",
      "userId": "13719229561479595538"
     },
     "user_tz": -540
    },
    "id": "eUvlVMCoysL4",
    "outputId": "7581ffda-176a-478d-89d4-63c0bd8fe15d"
   },
   "outputs": [
    {
     "data": {
      "text/html": [
       "<div>\n",
       "<style scoped>\n",
       "    .dataframe tbody tr th:only-of-type {\n",
       "        vertical-align: middle;\n",
       "    }\n",
       "\n",
       "    .dataframe tbody tr th {\n",
       "        vertical-align: top;\n",
       "    }\n",
       "\n",
       "    .dataframe thead th {\n",
       "        text-align: right;\n",
       "    }\n",
       "</style>\n",
       "<table border=\"1\" class=\"dataframe\">\n",
       "  <thead>\n",
       "    <tr style=\"text-align: right;\">\n",
       "      <th></th>\n",
       "      <th>No</th>\n",
       "      <th>sType</th>\n",
       "      <th>valueStd</th>\n",
       "      <th>valueMean</th>\n",
       "      <th>sTimemax</th>\n",
       "    </tr>\n",
       "  </thead>\n",
       "  <tbody>\n",
       "    <tr>\n",
       "      <th>0</th>\n",
       "      <td>No.1</td>\n",
       "      <td>co2</td>\n",
       "      <td>44.394783</td>\n",
       "      <td>408.128282</td>\n",
       "      <td>20210630</td>\n",
       "    </tr>\n",
       "    <tr>\n",
       "      <th>1</th>\n",
       "      <td>No.1</td>\n",
       "      <td>humidity</td>\n",
       "      <td>13.745998</td>\n",
       "      <td>71.397560</td>\n",
       "      <td>20210630</td>\n",
       "    </tr>\n",
       "  </tbody>\n",
       "</table>\n",
       "</div>"
      ],
      "text/plain": [
       "     No     sType   valueStd   valueMean  sTimemax\n",
       "0  No.1       co2  44.394783  408.128282  20210630\n",
       "1  No.1  humidity  13.745998   71.397560  20210630"
      ]
     },
     "execution_count": 181,
     "metadata": {},
     "output_type": "execute_result"
    }
   ],
   "source": [
    "# column 이름 변경 \n",
    "# column 이름의 level 1 값이 있으면 level 1로, 없으면 level 0 값을 사용 \n",
    "df2_grouped.columns = [ (x[1] if x[1] != '' else x[0]) for x in df2_grouped.columns]\n",
    "\n",
    "df2_grouped.head(2)"
   ]
  },
  {
   "cell_type": "markdown",
   "metadata": {
    "id": "-pZMBZ7v0Hpw"
   },
   "source": [
    "### 05-2. Join. \n",
    "##### 기본적으로 가로(column)에 데이터를 추가하는 형태\n",
    "##### - merge... 여기서 확인 \n",
    "##### 비슷한 기능을 하는 join, concat 함수가 있음. 다만, merge에 대한 이해 후 참고 추천.\n",
    "[아래 링크](https://pandas.pydata.org/pandas-docs/stable/user_guide/merging.html)"
   ]
  },
  {
   "cell_type": "code",
   "execution_count": 185,
   "metadata": {
    "colab": {
     "base_uri": "https://localhost:8080/",
     "height": 269
    },
    "executionInfo": {
     "elapsed": 282,
     "status": "ok",
     "timestamp": 1633679514612,
     "user": {
      "displayName": "조한별",
      "photoUrl": "https://lh3.googleusercontent.com/a/default-user=s64",
      "userId": "13719229561479595538"
     },
     "user_tz": -540
    },
    "id": "O8O8ja-o0r-h",
    "outputId": "97146168-c8d6-4c58-e16d-306876228998"
   },
   "outputs": [
    {
     "name": "stderr",
     "output_type": "stream",
     "text": [
      "/usr/local/lib/python3.7/dist-packages/ipykernel_launcher.py:1: FutureWarning: Indexing with multiple keys (implicitly converted to a tuple of keys) will be deprecated, use a list instead.\n",
      "  \"\"\"Entry point for launching an IPython kernel.\n"
     ]
    },
    {
     "data": {
      "text/html": [
       "<div>\n",
       "<style scoped>\n",
       "    .dataframe tbody tr th:only-of-type {\n",
       "        vertical-align: middle;\n",
       "    }\n",
       "\n",
       "    .dataframe tbody tr th {\n",
       "        vertical-align: top;\n",
       "    }\n",
       "\n",
       "    .dataframe thead th {\n",
       "        text-align: right;\n",
       "    }\n",
       "</style>\n",
       "<table border=\"1\" class=\"dataframe\">\n",
       "  <thead>\n",
       "    <tr style=\"text-align: right;\">\n",
       "      <th></th>\n",
       "      <th>No</th>\n",
       "      <th>sType</th>\n",
       "      <th>valueMean</th>\n",
       "      <th>sTimemax</th>\n",
       "    </tr>\n",
       "  </thead>\n",
       "  <tbody>\n",
       "    <tr>\n",
       "      <th>0</th>\n",
       "      <td>No.1</td>\n",
       "      <td>co2</td>\n",
       "      <td>408.128282</td>\n",
       "      <td>20210630</td>\n",
       "    </tr>\n",
       "    <tr>\n",
       "      <th>1</th>\n",
       "      <td>No.1</td>\n",
       "      <td>humidity</td>\n",
       "      <td>71.397560</td>\n",
       "      <td>20210630</td>\n",
       "    </tr>\n",
       "    <tr>\n",
       "      <th>2</th>\n",
       "      <td>No.1</td>\n",
       "      <td>nh3</td>\n",
       "      <td>9.130987</td>\n",
       "      <td>20210630</td>\n",
       "    </tr>\n",
       "    <tr>\n",
       "      <th>3</th>\n",
       "      <td>No.1</td>\n",
       "      <td>temp</td>\n",
       "      <td>26.123781</td>\n",
       "      <td>20210630</td>\n",
       "    </tr>\n",
       "    <tr>\n",
       "      <th>4</th>\n",
       "      <td>No.9</td>\n",
       "      <td>humidity</td>\n",
       "      <td>20.100000</td>\n",
       "      <td>20210101</td>\n",
       "    </tr>\n",
       "    <tr>\n",
       "      <th>5</th>\n",
       "      <td>No.9</td>\n",
       "      <td>temp</td>\n",
       "      <td>36.500000</td>\n",
       "      <td>20210101</td>\n",
       "    </tr>\n",
       "  </tbody>\n",
       "</table>\n",
       "</div>"
      ],
      "text/plain": [
       "     No     sType   valueMean  sTimemax\n",
       "0  No.1       co2  408.128282  20210630\n",
       "1  No.1  humidity   71.397560  20210630\n",
       "2  No.1       nh3    9.130987  20210630\n",
       "3  No.1      temp   26.123781  20210630\n",
       "4  No.9  humidity   20.100000  20210101\n",
       "5  No.9      temp   36.500000  20210101"
      ]
     },
     "execution_count": 185,
     "metadata": {},
     "output_type": "execute_result"
    }
   ],
   "source": [
    "mean_df = df2.groupby(by=['No','sType'], as_index=False)['sValue','sensorTimeShort']. \\\n",
    "                agg({'sValue' : [('valueMean','mean')], 'sensorTimeShort' : [('sTimemax','max')]})\n",
    "mean_df.columns = [ (x[1] if x[1] != '' else x[0]) for x in mean_df.columns]\n",
    "\n",
    "mean_df"
   ]
  },
  {
   "cell_type": "code",
   "execution_count": 186,
   "metadata": {
    "colab": {
     "base_uri": "https://localhost:8080/",
     "height": 269
    },
    "executionInfo": {
     "elapsed": 264,
     "status": "ok",
     "timestamp": 1633679547816,
     "user": {
      "displayName": "조한별",
      "photoUrl": "https://lh3.googleusercontent.com/a/default-user=s64",
      "userId": "13719229561479595538"
     },
     "user_tz": -540
    },
    "id": "KtACVqYG4XDl",
    "outputId": "198ac629-5f4f-42b3-b893-4e7b6d0959e3"
   },
   "outputs": [
    {
     "name": "stderr",
     "output_type": "stream",
     "text": [
      "/usr/local/lib/python3.7/dist-packages/ipykernel_launcher.py:1: FutureWarning: Indexing with multiple keys (implicitly converted to a tuple of keys) will be deprecated, use a list instead.\n",
      "  \"\"\"Entry point for launching an IPython kernel.\n"
     ]
    },
    {
     "data": {
      "text/html": [
       "<div>\n",
       "<style scoped>\n",
       "    .dataframe tbody tr th:only-of-type {\n",
       "        vertical-align: middle;\n",
       "    }\n",
       "\n",
       "    .dataframe tbody tr th {\n",
       "        vertical-align: top;\n",
       "    }\n",
       "\n",
       "    .dataframe thead th {\n",
       "        text-align: right;\n",
       "    }\n",
       "</style>\n",
       "<table border=\"1\" class=\"dataframe\">\n",
       "  <thead>\n",
       "    <tr style=\"text-align: right;\">\n",
       "      <th></th>\n",
       "      <th>No</th>\n",
       "      <th>sType</th>\n",
       "      <th>valueStd</th>\n",
       "      <th>sTimemax</th>\n",
       "    </tr>\n",
       "  </thead>\n",
       "  <tbody>\n",
       "    <tr>\n",
       "      <th>0</th>\n",
       "      <td>No.1</td>\n",
       "      <td>co2</td>\n",
       "      <td>44.394783</td>\n",
       "      <td>20210630</td>\n",
       "    </tr>\n",
       "    <tr>\n",
       "      <th>1</th>\n",
       "      <td>No.1</td>\n",
       "      <td>humidity</td>\n",
       "      <td>13.745998</td>\n",
       "      <td>20210630</td>\n",
       "    </tr>\n",
       "    <tr>\n",
       "      <th>2</th>\n",
       "      <td>No.1</td>\n",
       "      <td>nh3</td>\n",
       "      <td>28.865514</td>\n",
       "      <td>20210630</td>\n",
       "    </tr>\n",
       "    <tr>\n",
       "      <th>3</th>\n",
       "      <td>No.1</td>\n",
       "      <td>temp</td>\n",
       "      <td>2.326890</td>\n",
       "      <td>20210630</td>\n",
       "    </tr>\n",
       "    <tr>\n",
       "      <th>4</th>\n",
       "      <td>No.9</td>\n",
       "      <td>humidity</td>\n",
       "      <td>NaN</td>\n",
       "      <td>20210101</td>\n",
       "    </tr>\n",
       "    <tr>\n",
       "      <th>5</th>\n",
       "      <td>No.9</td>\n",
       "      <td>temp</td>\n",
       "      <td>NaN</td>\n",
       "      <td>20210101</td>\n",
       "    </tr>\n",
       "  </tbody>\n",
       "</table>\n",
       "</div>"
      ],
      "text/plain": [
       "     No     sType   valueStd  sTimemax\n",
       "0  No.1       co2  44.394783  20210630\n",
       "1  No.1  humidity  13.745998  20210630\n",
       "2  No.1       nh3  28.865514  20210630\n",
       "3  No.1      temp   2.326890  20210630\n",
       "4  No.9  humidity        NaN  20210101\n",
       "5  No.9      temp        NaN  20210101"
      ]
     },
     "execution_count": 186,
     "metadata": {},
     "output_type": "execute_result"
    }
   ],
   "source": [
    "std_df = df2.groupby(by=['No','sType'], as_index=False)['sValue','sensorTimeShort']. \\\n",
    "                agg({'sValue' : [('valueStd','std')], 'sensorTimeShort' : [('sTimemax','max')]})\n",
    "std_df.columns = [ (x[1] if x[1] != '' else x[0]) for x in std_df.columns]\n",
    "\n",
    "std_df"
   ]
  },
  {
   "cell_type": "code",
   "execution_count": 188,
   "metadata": {
    "colab": {
     "base_uri": "https://localhost:8080/",
     "height": 453
    },
    "executionInfo": {
     "elapsed": 277,
     "status": "ok",
     "timestamp": 1633679640366,
     "user": {
      "displayName": "조한별",
      "photoUrl": "https://lh3.googleusercontent.com/a/default-user=s64",
      "userId": "13719229561479595538"
     },
     "user_tz": -540
    },
    "id": "_sHL_3mk4-Gy",
    "outputId": "8b559263-f482-4264-b2f6-f46336c81ce4"
   },
   "outputs": [
    {
     "data": {
      "text/html": [
       "<div>\n",
       "<style scoped>\n",
       "    .dataframe tbody tr th:only-of-type {\n",
       "        vertical-align: middle;\n",
       "    }\n",
       "\n",
       "    .dataframe tbody tr th {\n",
       "        vertical-align: top;\n",
       "    }\n",
       "\n",
       "    .dataframe thead th {\n",
       "        text-align: right;\n",
       "    }\n",
       "</style>\n",
       "<table border=\"1\" class=\"dataframe\">\n",
       "  <thead>\n",
       "    <tr style=\"text-align: right;\">\n",
       "      <th></th>\n",
       "      <th>No</th>\n",
       "      <th>sType</th>\n",
       "      <th>valueMean</th>\n",
       "      <th>sTimemax</th>\n",
       "      <th>valueStd</th>\n",
       "    </tr>\n",
       "  </thead>\n",
       "  <tbody>\n",
       "    <tr>\n",
       "      <th>0</th>\n",
       "      <td>No.1</td>\n",
       "      <td>co2</td>\n",
       "      <td>408.128282</td>\n",
       "      <td>20210630</td>\n",
       "      <td>44.394783</td>\n",
       "    </tr>\n",
       "    <tr>\n",
       "      <th>1</th>\n",
       "      <td>No.1</td>\n",
       "      <td>humidity</td>\n",
       "      <td>71.397560</td>\n",
       "      <td>20210630</td>\n",
       "      <td>13.745998</td>\n",
       "    </tr>\n",
       "    <tr>\n",
       "      <th>2</th>\n",
       "      <td>No.1</td>\n",
       "      <td>nh3</td>\n",
       "      <td>9.130987</td>\n",
       "      <td>20210630</td>\n",
       "      <td>28.865514</td>\n",
       "    </tr>\n",
       "    <tr>\n",
       "      <th>3</th>\n",
       "      <td>No.1</td>\n",
       "      <td>temp</td>\n",
       "      <td>26.123781</td>\n",
       "      <td>20210630</td>\n",
       "      <td>2.326890</td>\n",
       "    </tr>\n",
       "    <tr>\n",
       "      <th>4</th>\n",
       "      <td>No.9</td>\n",
       "      <td>humidity</td>\n",
       "      <td>20.100000</td>\n",
       "      <td>20210101</td>\n",
       "      <td>NaN</td>\n",
       "    </tr>\n",
       "    <tr>\n",
       "      <th>5</th>\n",
       "      <td>No.9</td>\n",
       "      <td>temp</td>\n",
       "      <td>36.500000</td>\n",
       "      <td>20210101</td>\n",
       "      <td>NaN</td>\n",
       "    </tr>\n",
       "  </tbody>\n",
       "</table>\n",
       "</div>"
      ],
      "text/plain": [
       "     No     sType   valueMean  sTimemax   valueStd\n",
       "0  No.1       co2  408.128282  20210630  44.394783\n",
       "1  No.1  humidity   71.397560  20210630  13.745998\n",
       "2  No.1       nh3    9.130987  20210630  28.865514\n",
       "3  No.1      temp   26.123781  20210630   2.326890\n",
       "4  No.9  humidity   20.100000  20210101        NaN\n",
       "5  No.9      temp   36.500000  20210101        NaN"
      ]
     },
     "execution_count": 188,
     "metadata": {},
     "output_type": "execute_result"
    },
    {
     "data": {
      "text/html": [
       "<div>\n",
       "<style scoped>\n",
       "    .dataframe tbody tr th:only-of-type {\n",
       "        vertical-align: middle;\n",
       "    }\n",
       "\n",
       "    .dataframe tbody tr th {\n",
       "        vertical-align: top;\n",
       "    }\n",
       "\n",
       "    .dataframe thead th {\n",
       "        text-align: right;\n",
       "    }\n",
       "</style>\n",
       "<table border=\"1\" class=\"dataframe\">\n",
       "  <thead>\n",
       "    <tr style=\"text-align: right;\">\n",
       "      <th></th>\n",
       "      <th>No</th>\n",
       "      <th>sType</th>\n",
       "      <th>valueMean</th>\n",
       "      <th>sTimemax_x</th>\n",
       "      <th>valueStd</th>\n",
       "      <th>sTimemax_y</th>\n",
       "    </tr>\n",
       "  </thead>\n",
       "  <tbody>\n",
       "    <tr>\n",
       "      <th>0</th>\n",
       "      <td>No.1</td>\n",
       "      <td>co2</td>\n",
       "      <td>408.128282</td>\n",
       "      <td>20210630</td>\n",
       "      <td>44.394783</td>\n",
       "      <td>20210630</td>\n",
       "    </tr>\n",
       "    <tr>\n",
       "      <th>1</th>\n",
       "      <td>No.1</td>\n",
       "      <td>humidity</td>\n",
       "      <td>71.397560</td>\n",
       "      <td>20210630</td>\n",
       "      <td>13.745998</td>\n",
       "      <td>20210630</td>\n",
       "    </tr>\n",
       "    <tr>\n",
       "      <th>2</th>\n",
       "      <td>No.1</td>\n",
       "      <td>nh3</td>\n",
       "      <td>9.130987</td>\n",
       "      <td>20210630</td>\n",
       "      <td>28.865514</td>\n",
       "      <td>20210630</td>\n",
       "    </tr>\n",
       "    <tr>\n",
       "      <th>3</th>\n",
       "      <td>No.1</td>\n",
       "      <td>temp</td>\n",
       "      <td>26.123781</td>\n",
       "      <td>20210630</td>\n",
       "      <td>2.326890</td>\n",
       "      <td>20210630</td>\n",
       "    </tr>\n",
       "    <tr>\n",
       "      <th>4</th>\n",
       "      <td>No.9</td>\n",
       "      <td>humidity</td>\n",
       "      <td>20.100000</td>\n",
       "      <td>20210101</td>\n",
       "      <td>NaN</td>\n",
       "      <td>20210101</td>\n",
       "    </tr>\n",
       "    <tr>\n",
       "      <th>5</th>\n",
       "      <td>No.9</td>\n",
       "      <td>temp</td>\n",
       "      <td>36.500000</td>\n",
       "      <td>20210101</td>\n",
       "      <td>NaN</td>\n",
       "      <td>20210101</td>\n",
       "    </tr>\n",
       "  </tbody>\n",
       "</table>\n",
       "</div>"
      ],
      "text/plain": [
       "     No     sType   valueMean sTimemax_x   valueStd sTimemax_y\n",
       "0  No.1       co2  408.128282   20210630  44.394783   20210630\n",
       "1  No.1  humidity   71.397560   20210630  13.745998   20210630\n",
       "2  No.1       nh3    9.130987   20210630  28.865514   20210630\n",
       "3  No.1      temp   26.123781   20210630   2.326890   20210630\n",
       "4  No.9  humidity   20.100000   20210101        NaN   20210101\n",
       "5  No.9      temp   36.500000   20210101        NaN   20210101"
      ]
     },
     "execution_count": 188,
     "metadata": {},
     "output_type": "execute_result"
    }
   ],
   "source": [
    "## merge join\n",
    "\n",
    "pd.merge(mean_df, std_df)\n",
    "\n",
    "## key 지정(on), join 방법(outer)\n",
    "## check.. key(좌우 키가 다를 때! left_key, right_key), suffixes\n",
    "## 메뉴얼 보는 법\n",
    "pd.merge(mean_df, std_df, on=['No','sType'], how ='outer')"
   ]
  },
  {
   "cell_type": "code",
   "execution_count": 197,
   "metadata": {
    "colab": {
     "base_uri": "https://localhost:8080/",
     "height": 419
    },
    "executionInfo": {
     "elapsed": 280,
     "status": "ok",
     "timestamp": 1633680050525,
     "user": {
      "displayName": "조한별",
      "photoUrl": "https://lh3.googleusercontent.com/a/default-user=s64",
      "userId": "13719229561479595538"
     },
     "user_tz": -540
    },
    "id": "zo3Nz2eQ5Gj5",
    "outputId": "85802fad-f292-4e09-97ee-a20702e6fc31"
   },
   "outputs": [
    {
     "data": {
      "text/html": [
       "<div>\n",
       "<style scoped>\n",
       "    .dataframe tbody tr th:only-of-type {\n",
       "        vertical-align: middle;\n",
       "    }\n",
       "\n",
       "    .dataframe tbody tr th {\n",
       "        vertical-align: top;\n",
       "    }\n",
       "\n",
       "    .dataframe thead th {\n",
       "        text-align: right;\n",
       "    }\n",
       "</style>\n",
       "<table border=\"1\" class=\"dataframe\">\n",
       "  <thead>\n",
       "    <tr style=\"text-align: right;\">\n",
       "      <th></th>\n",
       "      <th>GTime</th>\n",
       "      <th>deviceID</th>\n",
       "      <th>No</th>\n",
       "      <th>moduleID</th>\n",
       "      <th>sType</th>\n",
       "      <th>sValue</th>\n",
       "      <th>sensorTime</th>\n",
       "      <th>ID</th>\n",
       "      <th>sensorTimeShort</th>\n",
       "    </tr>\n",
       "  </thead>\n",
       "  <tbody>\n",
       "    <tr>\n",
       "      <th>0</th>\n",
       "      <td>2021-06-30 23:58:48</td>\n",
       "      <td>GW01</td>\n",
       "      <td>No.1</td>\n",
       "      <td>1</td>\n",
       "      <td>humidity</td>\n",
       "      <td>99.899950</td>\n",
       "      <td>20210630235847</td>\n",
       "      <td>GW01_1_1</td>\n",
       "      <td>20210630</td>\n",
       "    </tr>\n",
       "    <tr>\n",
       "      <th>1</th>\n",
       "      <td>2021-06-30 23:58:48</td>\n",
       "      <td>GW01</td>\n",
       "      <td>No.1</td>\n",
       "      <td>1</td>\n",
       "      <td>temp</td>\n",
       "      <td>21.099990</td>\n",
       "      <td>20210630235847</td>\n",
       "      <td>GW01_1_1</td>\n",
       "      <td>20210630</td>\n",
       "    </tr>\n",
       "    <tr>\n",
       "      <th>2</th>\n",
       "      <td>2021-06-30 23:58:21</td>\n",
       "      <td>GW01</td>\n",
       "      <td>No.1</td>\n",
       "      <td>1</td>\n",
       "      <td>co2</td>\n",
       "      <td>402.890000</td>\n",
       "      <td>20210630235819</td>\n",
       "      <td>GW01_1_1</td>\n",
       "      <td>20210630</td>\n",
       "    </tr>\n",
       "    <tr>\n",
       "      <th>3</th>\n",
       "      <td>2021-06-30 23:58:21</td>\n",
       "      <td>GW01</td>\n",
       "      <td>No.1</td>\n",
       "      <td>1</td>\n",
       "      <td>nh3</td>\n",
       "      <td>4.380000</td>\n",
       "      <td>20210630235819</td>\n",
       "      <td>GW01_1_1</td>\n",
       "      <td>20210630</td>\n",
       "    </tr>\n",
       "    <tr>\n",
       "      <th>4</th>\n",
       "      <td>2021-06-30 23:56:48</td>\n",
       "      <td>GW01</td>\n",
       "      <td>No.1</td>\n",
       "      <td>1</td>\n",
       "      <td>humidity</td>\n",
       "      <td>99.899940</td>\n",
       "      <td>20210630235647</td>\n",
       "      <td>GW01_1_1</td>\n",
       "      <td>20210630</td>\n",
       "    </tr>\n",
       "    <tr>\n",
       "      <th>...</th>\n",
       "      <td>...</td>\n",
       "      <td>...</td>\n",
       "      <td>...</td>\n",
       "      <td>...</td>\n",
       "      <td>...</td>\n",
       "      <td>...</td>\n",
       "      <td>...</td>\n",
       "      <td>...</td>\n",
       "      <td>...</td>\n",
       "    </tr>\n",
       "    <tr>\n",
       "      <th>38919</th>\n",
       "      <td>2021-06-10 12:27:16</td>\n",
       "      <td>GW01</td>\n",
       "      <td>No.1</td>\n",
       "      <td>1</td>\n",
       "      <td>humidity</td>\n",
       "      <td>45.639000</td>\n",
       "      <td>20210610122714</td>\n",
       "      <td>GW01_1_1</td>\n",
       "      <td>20210610</td>\n",
       "    </tr>\n",
       "    <tr>\n",
       "      <th>38920</th>\n",
       "      <td>2021-06-10 12:23:31</td>\n",
       "      <td>GW01</td>\n",
       "      <td>No.1</td>\n",
       "      <td>1</td>\n",
       "      <td>nh3</td>\n",
       "      <td>11.934230</td>\n",
       "      <td>20210610122330</td>\n",
       "      <td>GW01_1_1</td>\n",
       "      <td>20210610</td>\n",
       "    </tr>\n",
       "    <tr>\n",
       "      <th>38921</th>\n",
       "      <td>2021-06-10 12:23:31</td>\n",
       "      <td>GW01</td>\n",
       "      <td>No.1</td>\n",
       "      <td>1</td>\n",
       "      <td>co2</td>\n",
       "      <td>409.215100</td>\n",
       "      <td>20210610122330</td>\n",
       "      <td>GW01_1_1</td>\n",
       "      <td>20210610</td>\n",
       "    </tr>\n",
       "    <tr>\n",
       "      <th>38922</th>\n",
       "      <td>2021-06-10 12:16:58</td>\n",
       "      <td>GW01</td>\n",
       "      <td>No.1</td>\n",
       "      <td>1</td>\n",
       "      <td>co2</td>\n",
       "      <td>402.246300</td>\n",
       "      <td>20210610121657</td>\n",
       "      <td>GW01_1_1</td>\n",
       "      <td>20210610</td>\n",
       "    </tr>\n",
       "    <tr>\n",
       "      <th>38923</th>\n",
       "      <td>2021-06-10 12:16:58</td>\n",
       "      <td>GW01</td>\n",
       "      <td>No.1</td>\n",
       "      <td>1</td>\n",
       "      <td>nh3</td>\n",
       "      <td>3.526615</td>\n",
       "      <td>20210610121657</td>\n",
       "      <td>GW01_1_1</td>\n",
       "      <td>20210610</td>\n",
       "    </tr>\n",
       "  </tbody>\n",
       "</table>\n",
       "<p>38924 rows × 9 columns</p>\n",
       "</div>"
      ],
      "text/plain": [
       "                     GTime deviceID  ...        ID  sensorTimeShort\n",
       "0      2021-06-30 23:58:48     GW01  ...  GW01_1_1         20210630\n",
       "1      2021-06-30 23:58:48     GW01  ...  GW01_1_1         20210630\n",
       "2      2021-06-30 23:58:21     GW01  ...  GW01_1_1         20210630\n",
       "3      2021-06-30 23:58:21     GW01  ...  GW01_1_1         20210630\n",
       "4      2021-06-30 23:56:48     GW01  ...  GW01_1_1         20210630\n",
       "...                    ...      ...  ...       ...              ...\n",
       "38919  2021-06-10 12:27:16     GW01  ...  GW01_1_1         20210610\n",
       "38920  2021-06-10 12:23:31     GW01  ...  GW01_1_1         20210610\n",
       "38921  2021-06-10 12:23:31     GW01  ...  GW01_1_1         20210610\n",
       "38922  2021-06-10 12:16:58     GW01  ...  GW01_1_1         20210610\n",
       "38923  2021-06-10 12:16:58     GW01  ...  GW01_1_1         20210610\n",
       "\n",
       "[38924 rows x 9 columns]"
      ]
     },
     "execution_count": 197,
     "metadata": {},
     "output_type": "execute_result"
    }
   ],
   "source": [
    "df2"
   ]
  },
  {
   "cell_type": "code",
   "execution_count": 196,
   "metadata": {
    "colab": {
     "base_uri": "https://localhost:8080/",
     "height": 419
    },
    "executionInfo": {
     "elapsed": 287,
     "status": "ok",
     "timestamp": 1633680041953,
     "user": {
      "displayName": "조한별",
      "photoUrl": "https://lh3.googleusercontent.com/a/default-user=s64",
      "userId": "13719229561479595538"
     },
     "user_tz": -540
    },
    "id": "F406yPXG6S4s",
    "outputId": "56c0de7a-e3b9-480a-ac90-e9a2c819e475"
   },
   "outputs": [
    {
     "data": {
      "text/html": [
       "<div>\n",
       "<style scoped>\n",
       "    .dataframe tbody tr th:only-of-type {\n",
       "        vertical-align: middle;\n",
       "    }\n",
       "\n",
       "    .dataframe tbody tr th {\n",
       "        vertical-align: top;\n",
       "    }\n",
       "\n",
       "    .dataframe thead th {\n",
       "        text-align: right;\n",
       "    }\n",
       "</style>\n",
       "<table border=\"1\" class=\"dataframe\">\n",
       "  <thead>\n",
       "    <tr style=\"text-align: right;\">\n",
       "      <th></th>\n",
       "      <th>GTime</th>\n",
       "      <th>deviceID</th>\n",
       "      <th>No</th>\n",
       "      <th>moduleID</th>\n",
       "      <th>sType</th>\n",
       "      <th>sValue</th>\n",
       "      <th>sensorTime</th>\n",
       "      <th>ID</th>\n",
       "      <th>sensorTimeShort</th>\n",
       "      <th>valueStd</th>\n",
       "      <th>valueMean</th>\n",
       "      <th>sTimemax</th>\n",
       "    </tr>\n",
       "  </thead>\n",
       "  <tbody>\n",
       "    <tr>\n",
       "      <th>0</th>\n",
       "      <td>2021-06-30 23:58:48</td>\n",
       "      <td>GW01</td>\n",
       "      <td>No.1</td>\n",
       "      <td>1</td>\n",
       "      <td>humidity</td>\n",
       "      <td>99.899950</td>\n",
       "      <td>20210630235847</td>\n",
       "      <td>GW01_1_1</td>\n",
       "      <td>20210630</td>\n",
       "      <td>13.745998</td>\n",
       "      <td>71.397560</td>\n",
       "      <td>20210630</td>\n",
       "    </tr>\n",
       "    <tr>\n",
       "      <th>1</th>\n",
       "      <td>2021-06-30 23:56:48</td>\n",
       "      <td>GW01</td>\n",
       "      <td>No.1</td>\n",
       "      <td>1</td>\n",
       "      <td>humidity</td>\n",
       "      <td>99.899940</td>\n",
       "      <td>20210630235647</td>\n",
       "      <td>GW01_1_1</td>\n",
       "      <td>20210630</td>\n",
       "      <td>13.745998</td>\n",
       "      <td>71.397560</td>\n",
       "      <td>20210630</td>\n",
       "    </tr>\n",
       "    <tr>\n",
       "      <th>2</th>\n",
       "      <td>2021-06-30 23:54:48</td>\n",
       "      <td>GW01</td>\n",
       "      <td>No.1</td>\n",
       "      <td>1</td>\n",
       "      <td>humidity</td>\n",
       "      <td>99.899940</td>\n",
       "      <td>20210630235447</td>\n",
       "      <td>GW01_1_1</td>\n",
       "      <td>20210630</td>\n",
       "      <td>13.745998</td>\n",
       "      <td>71.397560</td>\n",
       "      <td>20210630</td>\n",
       "    </tr>\n",
       "    <tr>\n",
       "      <th>3</th>\n",
       "      <td>2021-06-30 23:52:49</td>\n",
       "      <td>GW01</td>\n",
       "      <td>No.1</td>\n",
       "      <td>1</td>\n",
       "      <td>humidity</td>\n",
       "      <td>99.899940</td>\n",
       "      <td>20210630235247</td>\n",
       "      <td>GW01_1_1</td>\n",
       "      <td>20210630</td>\n",
       "      <td>13.745998</td>\n",
       "      <td>71.397560</td>\n",
       "      <td>20210630</td>\n",
       "    </tr>\n",
       "    <tr>\n",
       "      <th>4</th>\n",
       "      <td>2021-06-30 23:50:48</td>\n",
       "      <td>GW01</td>\n",
       "      <td>No.1</td>\n",
       "      <td>1</td>\n",
       "      <td>humidity</td>\n",
       "      <td>99.899940</td>\n",
       "      <td>20210630235047</td>\n",
       "      <td>GW01_1_1</td>\n",
       "      <td>20210630</td>\n",
       "      <td>13.745998</td>\n",
       "      <td>71.397560</td>\n",
       "      <td>20210630</td>\n",
       "    </tr>\n",
       "    <tr>\n",
       "      <th>...</th>\n",
       "      <td>...</td>\n",
       "      <td>...</td>\n",
       "      <td>...</td>\n",
       "      <td>...</td>\n",
       "      <td>...</td>\n",
       "      <td>...</td>\n",
       "      <td>...</td>\n",
       "      <td>...</td>\n",
       "      <td>...</td>\n",
       "      <td>...</td>\n",
       "      <td>...</td>\n",
       "      <td>...</td>\n",
       "    </tr>\n",
       "    <tr>\n",
       "      <th>38919</th>\n",
       "      <td>2021-06-10 12:58:39</td>\n",
       "      <td>GW01</td>\n",
       "      <td>No.1</td>\n",
       "      <td>1</td>\n",
       "      <td>nh3</td>\n",
       "      <td>5.793288</td>\n",
       "      <td>20210610125837</td>\n",
       "      <td>GW01_1_1</td>\n",
       "      <td>20210610</td>\n",
       "      <td>28.865514</td>\n",
       "      <td>9.130987</td>\n",
       "      <td>20210630</td>\n",
       "    </tr>\n",
       "    <tr>\n",
       "      <th>38920</th>\n",
       "      <td>2021-06-10 12:23:31</td>\n",
       "      <td>GW01</td>\n",
       "      <td>No.1</td>\n",
       "      <td>1</td>\n",
       "      <td>nh3</td>\n",
       "      <td>11.934230</td>\n",
       "      <td>20210610122330</td>\n",
       "      <td>GW01_1_1</td>\n",
       "      <td>20210610</td>\n",
       "      <td>28.865514</td>\n",
       "      <td>9.130987</td>\n",
       "      <td>20210630</td>\n",
       "    </tr>\n",
       "    <tr>\n",
       "      <th>38921</th>\n",
       "      <td>2021-06-10 12:16:58</td>\n",
       "      <td>GW01</td>\n",
       "      <td>No.1</td>\n",
       "      <td>1</td>\n",
       "      <td>nh3</td>\n",
       "      <td>3.526615</td>\n",
       "      <td>20210610121657</td>\n",
       "      <td>GW01_1_1</td>\n",
       "      <td>20210610</td>\n",
       "      <td>28.865514</td>\n",
       "      <td>9.130987</td>\n",
       "      <td>20210630</td>\n",
       "    </tr>\n",
       "    <tr>\n",
       "      <th>38922</th>\n",
       "      <td>2021-06-14 13:22:55</td>\n",
       "      <td>GW01</td>\n",
       "      <td>No.9</td>\n",
       "      <td>1</td>\n",
       "      <td>humidity</td>\n",
       "      <td>20.100000</td>\n",
       "      <td>20210101000000</td>\n",
       "      <td>GW01_9_1</td>\n",
       "      <td>20210101</td>\n",
       "      <td>NaN</td>\n",
       "      <td>20.100000</td>\n",
       "      <td>20210101</td>\n",
       "    </tr>\n",
       "    <tr>\n",
       "      <th>38923</th>\n",
       "      <td>2021-06-14 13:22:55</td>\n",
       "      <td>GW01</td>\n",
       "      <td>No.9</td>\n",
       "      <td>1</td>\n",
       "      <td>temp</td>\n",
       "      <td>36.500000</td>\n",
       "      <td>20210101000000</td>\n",
       "      <td>GW01_9_1</td>\n",
       "      <td>20210101</td>\n",
       "      <td>NaN</td>\n",
       "      <td>36.500000</td>\n",
       "      <td>20210101</td>\n",
       "    </tr>\n",
       "  </tbody>\n",
       "</table>\n",
       "<p>38924 rows × 12 columns</p>\n",
       "</div>"
      ],
      "text/plain": [
       "                     GTime deviceID    No  ...   valueStd  valueMean  sTimemax\n",
       "0      2021-06-30 23:58:48     GW01  No.1  ...  13.745998  71.397560  20210630\n",
       "1      2021-06-30 23:56:48     GW01  No.1  ...  13.745998  71.397560  20210630\n",
       "2      2021-06-30 23:54:48     GW01  No.1  ...  13.745998  71.397560  20210630\n",
       "3      2021-06-30 23:52:49     GW01  No.1  ...  13.745998  71.397560  20210630\n",
       "4      2021-06-30 23:50:48     GW01  No.1  ...  13.745998  71.397560  20210630\n",
       "...                    ...      ...   ...  ...        ...        ...       ...\n",
       "38919  2021-06-10 12:58:39     GW01  No.1  ...  28.865514   9.130987  20210630\n",
       "38920  2021-06-10 12:23:31     GW01  No.1  ...  28.865514   9.130987  20210630\n",
       "38921  2021-06-10 12:16:58     GW01  No.1  ...  28.865514   9.130987  20210630\n",
       "38922  2021-06-14 13:22:55     GW01  No.9  ...        NaN  20.100000  20210101\n",
       "38923  2021-06-14 13:22:55     GW01  No.9  ...        NaN  36.500000  20210101\n",
       "\n",
       "[38924 rows x 12 columns]"
      ]
     },
     "execution_count": 196,
     "metadata": {},
     "output_type": "execute_result"
    }
   ],
   "source": [
    "## 원본 데이터프레임에 그룹된 결과를 join\n",
    "pd.merge(df2, df2_grouped)"
   ]
  },
  {
   "cell_type": "markdown",
   "metadata": {
    "id": "0qlqTxoF69fv"
   },
   "source": [
    "### 참고 : transform()\n",
    "- 바로 위... groupby + join 의 결과를 바로 만들 수 있음\n",
    "- 결과가 원본 dataFrame의 row 수와 동일함"
   ]
  },
  {
   "cell_type": "code",
   "execution_count": 199,
   "metadata": {
    "colab": {
     "base_uri": "https://localhost:8080/"
    },
    "executionInfo": {
     "elapsed": 269,
     "status": "ok",
     "timestamp": 1633680329355,
     "user": {
      "displayName": "조한별",
      "photoUrl": "https://lh3.googleusercontent.com/a/default-user=s64",
      "userId": "13719229561479595538"
     },
     "user_tz": -540
    },
    "id": "pnp7vvO17Cey",
    "outputId": "e4129743-32e5-4241-b4ae-e63e3c94941c"
   },
   "outputs": [
    {
     "data": {
      "text/plain": [
       "0         71.397560\n",
       "1         26.123781\n",
       "2        408.128282\n",
       "3          9.130987\n",
       "4         71.397560\n",
       "            ...    \n",
       "38919     71.397560\n",
       "38920      9.130987\n",
       "38921    408.128282\n",
       "38922    408.128282\n",
       "38923      9.130987\n",
       "Name: sValue, Length: 38924, dtype: float64"
      ]
     },
     "execution_count": 199,
     "metadata": {},
     "output_type": "execute_result"
    }
   ],
   "source": [
    "df2.groupby(by=['No','sType'])['sValue'].transform('mean')"
   ]
  },
  {
   "cell_type": "code",
   "execution_count": 200,
   "metadata": {
    "colab": {
     "base_uri": "https://localhost:8080/",
     "height": 419
    },
    "executionInfo": {
     "elapsed": 294,
     "status": "ok",
     "timestamp": 1633680355552,
     "user": {
      "displayName": "조한별",
      "photoUrl": "https://lh3.googleusercontent.com/a/default-user=s64",
      "userId": "13719229561479595538"
     },
     "user_tz": -540
    },
    "id": "ZxOIHRut74e9",
    "outputId": "b5bd1b39-63e5-47da-cbed-3d0794cbef37"
   },
   "outputs": [
    {
     "data": {
      "text/html": [
       "<div>\n",
       "<style scoped>\n",
       "    .dataframe tbody tr th:only-of-type {\n",
       "        vertical-align: middle;\n",
       "    }\n",
       "\n",
       "    .dataframe tbody tr th {\n",
       "        vertical-align: top;\n",
       "    }\n",
       "\n",
       "    .dataframe thead th {\n",
       "        text-align: right;\n",
       "    }\n",
       "</style>\n",
       "<table border=\"1\" class=\"dataframe\">\n",
       "  <thead>\n",
       "    <tr style=\"text-align: right;\">\n",
       "      <th></th>\n",
       "      <th>GTime</th>\n",
       "      <th>deviceID</th>\n",
       "      <th>No</th>\n",
       "      <th>moduleID</th>\n",
       "      <th>sType</th>\n",
       "      <th>sValue</th>\n",
       "      <th>sensorTime</th>\n",
       "      <th>ID</th>\n",
       "      <th>sensorTimeShort</th>\n",
       "      <th>new_valueMean</th>\n",
       "    </tr>\n",
       "  </thead>\n",
       "  <tbody>\n",
       "    <tr>\n",
       "      <th>0</th>\n",
       "      <td>2021-06-30 23:58:48</td>\n",
       "      <td>GW01</td>\n",
       "      <td>No.1</td>\n",
       "      <td>1</td>\n",
       "      <td>humidity</td>\n",
       "      <td>99.899950</td>\n",
       "      <td>20210630235847</td>\n",
       "      <td>GW01_1_1</td>\n",
       "      <td>20210630</td>\n",
       "      <td>71.397560</td>\n",
       "    </tr>\n",
       "    <tr>\n",
       "      <th>1</th>\n",
       "      <td>2021-06-30 23:58:48</td>\n",
       "      <td>GW01</td>\n",
       "      <td>No.1</td>\n",
       "      <td>1</td>\n",
       "      <td>temp</td>\n",
       "      <td>21.099990</td>\n",
       "      <td>20210630235847</td>\n",
       "      <td>GW01_1_1</td>\n",
       "      <td>20210630</td>\n",
       "      <td>26.123781</td>\n",
       "    </tr>\n",
       "    <tr>\n",
       "      <th>2</th>\n",
       "      <td>2021-06-30 23:58:21</td>\n",
       "      <td>GW01</td>\n",
       "      <td>No.1</td>\n",
       "      <td>1</td>\n",
       "      <td>co2</td>\n",
       "      <td>402.890000</td>\n",
       "      <td>20210630235819</td>\n",
       "      <td>GW01_1_1</td>\n",
       "      <td>20210630</td>\n",
       "      <td>408.128282</td>\n",
       "    </tr>\n",
       "    <tr>\n",
       "      <th>3</th>\n",
       "      <td>2021-06-30 23:58:21</td>\n",
       "      <td>GW01</td>\n",
       "      <td>No.1</td>\n",
       "      <td>1</td>\n",
       "      <td>nh3</td>\n",
       "      <td>4.380000</td>\n",
       "      <td>20210630235819</td>\n",
       "      <td>GW01_1_1</td>\n",
       "      <td>20210630</td>\n",
       "      <td>9.130987</td>\n",
       "    </tr>\n",
       "    <tr>\n",
       "      <th>4</th>\n",
       "      <td>2021-06-30 23:56:48</td>\n",
       "      <td>GW01</td>\n",
       "      <td>No.1</td>\n",
       "      <td>1</td>\n",
       "      <td>humidity</td>\n",
       "      <td>99.899940</td>\n",
       "      <td>20210630235647</td>\n",
       "      <td>GW01_1_1</td>\n",
       "      <td>20210630</td>\n",
       "      <td>71.397560</td>\n",
       "    </tr>\n",
       "    <tr>\n",
       "      <th>...</th>\n",
       "      <td>...</td>\n",
       "      <td>...</td>\n",
       "      <td>...</td>\n",
       "      <td>...</td>\n",
       "      <td>...</td>\n",
       "      <td>...</td>\n",
       "      <td>...</td>\n",
       "      <td>...</td>\n",
       "      <td>...</td>\n",
       "      <td>...</td>\n",
       "    </tr>\n",
       "    <tr>\n",
       "      <th>38919</th>\n",
       "      <td>2021-06-10 12:27:16</td>\n",
       "      <td>GW01</td>\n",
       "      <td>No.1</td>\n",
       "      <td>1</td>\n",
       "      <td>humidity</td>\n",
       "      <td>45.639000</td>\n",
       "      <td>20210610122714</td>\n",
       "      <td>GW01_1_1</td>\n",
       "      <td>20210610</td>\n",
       "      <td>71.397560</td>\n",
       "    </tr>\n",
       "    <tr>\n",
       "      <th>38920</th>\n",
       "      <td>2021-06-10 12:23:31</td>\n",
       "      <td>GW01</td>\n",
       "      <td>No.1</td>\n",
       "      <td>1</td>\n",
       "      <td>nh3</td>\n",
       "      <td>11.934230</td>\n",
       "      <td>20210610122330</td>\n",
       "      <td>GW01_1_1</td>\n",
       "      <td>20210610</td>\n",
       "      <td>9.130987</td>\n",
       "    </tr>\n",
       "    <tr>\n",
       "      <th>38921</th>\n",
       "      <td>2021-06-10 12:23:31</td>\n",
       "      <td>GW01</td>\n",
       "      <td>No.1</td>\n",
       "      <td>1</td>\n",
       "      <td>co2</td>\n",
       "      <td>409.215100</td>\n",
       "      <td>20210610122330</td>\n",
       "      <td>GW01_1_1</td>\n",
       "      <td>20210610</td>\n",
       "      <td>408.128282</td>\n",
       "    </tr>\n",
       "    <tr>\n",
       "      <th>38922</th>\n",
       "      <td>2021-06-10 12:16:58</td>\n",
       "      <td>GW01</td>\n",
       "      <td>No.1</td>\n",
       "      <td>1</td>\n",
       "      <td>co2</td>\n",
       "      <td>402.246300</td>\n",
       "      <td>20210610121657</td>\n",
       "      <td>GW01_1_1</td>\n",
       "      <td>20210610</td>\n",
       "      <td>408.128282</td>\n",
       "    </tr>\n",
       "    <tr>\n",
       "      <th>38923</th>\n",
       "      <td>2021-06-10 12:16:58</td>\n",
       "      <td>GW01</td>\n",
       "      <td>No.1</td>\n",
       "      <td>1</td>\n",
       "      <td>nh3</td>\n",
       "      <td>3.526615</td>\n",
       "      <td>20210610121657</td>\n",
       "      <td>GW01_1_1</td>\n",
       "      <td>20210610</td>\n",
       "      <td>9.130987</td>\n",
       "    </tr>\n",
       "  </tbody>\n",
       "</table>\n",
       "<p>38924 rows × 10 columns</p>\n",
       "</div>"
      ],
      "text/plain": [
       "                     GTime deviceID  ... sensorTimeShort  new_valueMean\n",
       "0      2021-06-30 23:58:48     GW01  ...        20210630      71.397560\n",
       "1      2021-06-30 23:58:48     GW01  ...        20210630      26.123781\n",
       "2      2021-06-30 23:58:21     GW01  ...        20210630     408.128282\n",
       "3      2021-06-30 23:58:21     GW01  ...        20210630       9.130987\n",
       "4      2021-06-30 23:56:48     GW01  ...        20210630      71.397560\n",
       "...                    ...      ...  ...             ...            ...\n",
       "38919  2021-06-10 12:27:16     GW01  ...        20210610      71.397560\n",
       "38920  2021-06-10 12:23:31     GW01  ...        20210610       9.130987\n",
       "38921  2021-06-10 12:23:31     GW01  ...        20210610     408.128282\n",
       "38922  2021-06-10 12:16:58     GW01  ...        20210610     408.128282\n",
       "38923  2021-06-10 12:16:58     GW01  ...        20210610       9.130987\n",
       "\n",
       "[38924 rows x 10 columns]"
      ]
     },
     "execution_count": 200,
     "metadata": {},
     "output_type": "execute_result"
    }
   ],
   "source": [
    "df2['new_valueMean'] = df2.groupby(by=['No','sType'])['sValue'].transform('mean')\n",
    "df2"
   ]
  },
  {
   "cell_type": "markdown",
   "metadata": {
    "id": "03ARi8Nd8DWT"
   },
   "source": [
    "### 05-3. Reshape. \n",
    "\n",
    "통계 테이블이나, plot을 위해 테이블 모양을 변경하는 방법이다. "
   ]
  },
  {
   "cell_type": "code",
   "execution_count": 201,
   "metadata": {
    "colab": {
     "base_uri": "https://localhost:8080/"
    },
    "executionInfo": {
     "elapsed": 293,
     "status": "ok",
     "timestamp": 1633680473857,
     "user": {
      "displayName": "조한별",
      "photoUrl": "https://lh3.googleusercontent.com/a/default-user=s64",
      "userId": "13719229561479595538"
     },
     "user_tz": -540
    },
    "id": "beeERPrK8Ltg",
    "outputId": "eb0c38bb-487c-479f-d57a-786630def454"
   },
   "outputs": [
    {
     "data": {
      "text/plain": [
       "array(['humidity', 'temp', 'co2', 'nh3'], dtype=object)"
      ]
     },
     "execution_count": 201,
     "metadata": {},
     "output_type": "execute_result"
    }
   ],
   "source": [
    "## sType의 종류 확인\n",
    "df2.sType.unique()"
   ]
  },
  {
   "cell_type": "markdown",
   "metadata": {
    "id": "qIPot-VN-kgQ"
   },
   "source": [
    "#### pivot(), pivot_table()\n",
    "* pivot().  \n",
    "    ```data.pivot(index=, columns=, values=)```\n",
    "* pivot_table()  \n",
    "    ```pd.pivot_table(data, index=, columns=, values=, margins=, aggfunc= )```"
   ]
  },
  {
   "cell_type": "code",
   "execution_count": 210,
   "metadata": {
    "colab": {
     "base_uri": "https://localhost:8080/",
     "height": 419
    },
    "executionInfo": {
     "elapsed": 271,
     "status": "ok",
     "timestamp": 1633681416935,
     "user": {
      "displayName": "조한별",
      "photoUrl": "https://lh3.googleusercontent.com/a/default-user=s64",
      "userId": "13719229561479595538"
     },
     "user_tz": -540
    },
    "id": "n3YyBqfvABte",
    "outputId": "fc6b0757-9d2f-4154-e3a9-02d447cb1d32"
   },
   "outputs": [
    {
     "data": {
      "text/html": [
       "<div>\n",
       "<style scoped>\n",
       "    .dataframe tbody tr th:only-of-type {\n",
       "        vertical-align: middle;\n",
       "    }\n",
       "\n",
       "    .dataframe tbody tr th {\n",
       "        vertical-align: top;\n",
       "    }\n",
       "\n",
       "    .dataframe thead th {\n",
       "        text-align: right;\n",
       "    }\n",
       "</style>\n",
       "<table border=\"1\" class=\"dataframe\">\n",
       "  <thead>\n",
       "    <tr style=\"text-align: right;\">\n",
       "      <th></th>\n",
       "      <th>GTime</th>\n",
       "      <th>deviceID</th>\n",
       "      <th>No</th>\n",
       "      <th>moduleID</th>\n",
       "      <th>sType</th>\n",
       "      <th>sValue</th>\n",
       "      <th>sensorTime</th>\n",
       "      <th>ID</th>\n",
       "      <th>sensorTimeShort</th>\n",
       "      <th>new_valueMean</th>\n",
       "    </tr>\n",
       "  </thead>\n",
       "  <tbody>\n",
       "    <tr>\n",
       "      <th>0</th>\n",
       "      <td>2021-06-30 23:58:48</td>\n",
       "      <td>GW01</td>\n",
       "      <td>No.1</td>\n",
       "      <td>1</td>\n",
       "      <td>humidity</td>\n",
       "      <td>99.899950</td>\n",
       "      <td>20210630235847</td>\n",
       "      <td>GW01_1_1</td>\n",
       "      <td>20210630</td>\n",
       "      <td>71.397560</td>\n",
       "    </tr>\n",
       "    <tr>\n",
       "      <th>1</th>\n",
       "      <td>2021-06-30 23:58:48</td>\n",
       "      <td>GW01</td>\n",
       "      <td>No.1</td>\n",
       "      <td>1</td>\n",
       "      <td>temp</td>\n",
       "      <td>21.099990</td>\n",
       "      <td>20210630235847</td>\n",
       "      <td>GW01_1_1</td>\n",
       "      <td>20210630</td>\n",
       "      <td>26.123781</td>\n",
       "    </tr>\n",
       "    <tr>\n",
       "      <th>2</th>\n",
       "      <td>2021-06-30 23:58:21</td>\n",
       "      <td>GW01</td>\n",
       "      <td>No.1</td>\n",
       "      <td>1</td>\n",
       "      <td>co2</td>\n",
       "      <td>402.890000</td>\n",
       "      <td>20210630235819</td>\n",
       "      <td>GW01_1_1</td>\n",
       "      <td>20210630</td>\n",
       "      <td>408.128282</td>\n",
       "    </tr>\n",
       "    <tr>\n",
       "      <th>3</th>\n",
       "      <td>2021-06-30 23:58:21</td>\n",
       "      <td>GW01</td>\n",
       "      <td>No.1</td>\n",
       "      <td>1</td>\n",
       "      <td>nh3</td>\n",
       "      <td>4.380000</td>\n",
       "      <td>20210630235819</td>\n",
       "      <td>GW01_1_1</td>\n",
       "      <td>20210630</td>\n",
       "      <td>9.130987</td>\n",
       "    </tr>\n",
       "    <tr>\n",
       "      <th>4</th>\n",
       "      <td>2021-06-30 23:56:48</td>\n",
       "      <td>GW01</td>\n",
       "      <td>No.1</td>\n",
       "      <td>1</td>\n",
       "      <td>humidity</td>\n",
       "      <td>99.899940</td>\n",
       "      <td>20210630235647</td>\n",
       "      <td>GW01_1_1</td>\n",
       "      <td>20210630</td>\n",
       "      <td>71.397560</td>\n",
       "    </tr>\n",
       "    <tr>\n",
       "      <th>...</th>\n",
       "      <td>...</td>\n",
       "      <td>...</td>\n",
       "      <td>...</td>\n",
       "      <td>...</td>\n",
       "      <td>...</td>\n",
       "      <td>...</td>\n",
       "      <td>...</td>\n",
       "      <td>...</td>\n",
       "      <td>...</td>\n",
       "      <td>...</td>\n",
       "    </tr>\n",
       "    <tr>\n",
       "      <th>38919</th>\n",
       "      <td>2021-06-10 12:27:16</td>\n",
       "      <td>GW01</td>\n",
       "      <td>No.1</td>\n",
       "      <td>1</td>\n",
       "      <td>humidity</td>\n",
       "      <td>45.639000</td>\n",
       "      <td>20210610122714</td>\n",
       "      <td>GW01_1_1</td>\n",
       "      <td>20210610</td>\n",
       "      <td>71.397560</td>\n",
       "    </tr>\n",
       "    <tr>\n",
       "      <th>38920</th>\n",
       "      <td>2021-06-10 12:23:31</td>\n",
       "      <td>GW01</td>\n",
       "      <td>No.1</td>\n",
       "      <td>1</td>\n",
       "      <td>nh3</td>\n",
       "      <td>11.934230</td>\n",
       "      <td>20210610122330</td>\n",
       "      <td>GW01_1_1</td>\n",
       "      <td>20210610</td>\n",
       "      <td>9.130987</td>\n",
       "    </tr>\n",
       "    <tr>\n",
       "      <th>38921</th>\n",
       "      <td>2021-06-10 12:23:31</td>\n",
       "      <td>GW01</td>\n",
       "      <td>No.1</td>\n",
       "      <td>1</td>\n",
       "      <td>co2</td>\n",
       "      <td>409.215100</td>\n",
       "      <td>20210610122330</td>\n",
       "      <td>GW01_1_1</td>\n",
       "      <td>20210610</td>\n",
       "      <td>408.128282</td>\n",
       "    </tr>\n",
       "    <tr>\n",
       "      <th>38922</th>\n",
       "      <td>2021-06-10 12:16:58</td>\n",
       "      <td>GW01</td>\n",
       "      <td>No.1</td>\n",
       "      <td>1</td>\n",
       "      <td>co2</td>\n",
       "      <td>402.246300</td>\n",
       "      <td>20210610121657</td>\n",
       "      <td>GW01_1_1</td>\n",
       "      <td>20210610</td>\n",
       "      <td>408.128282</td>\n",
       "    </tr>\n",
       "    <tr>\n",
       "      <th>38923</th>\n",
       "      <td>2021-06-10 12:16:58</td>\n",
       "      <td>GW01</td>\n",
       "      <td>No.1</td>\n",
       "      <td>1</td>\n",
       "      <td>nh3</td>\n",
       "      <td>3.526615</td>\n",
       "      <td>20210610121657</td>\n",
       "      <td>GW01_1_1</td>\n",
       "      <td>20210610</td>\n",
       "      <td>9.130987</td>\n",
       "    </tr>\n",
       "  </tbody>\n",
       "</table>\n",
       "<p>38924 rows × 10 columns</p>\n",
       "</div>"
      ],
      "text/plain": [
       "                     GTime deviceID  ... sensorTimeShort  new_valueMean\n",
       "0      2021-06-30 23:58:48     GW01  ...        20210630      71.397560\n",
       "1      2021-06-30 23:58:48     GW01  ...        20210630      26.123781\n",
       "2      2021-06-30 23:58:21     GW01  ...        20210630     408.128282\n",
       "3      2021-06-30 23:58:21     GW01  ...        20210630       9.130987\n",
       "4      2021-06-30 23:56:48     GW01  ...        20210630      71.397560\n",
       "...                    ...      ...  ...             ...            ...\n",
       "38919  2021-06-10 12:27:16     GW01  ...        20210610      71.397560\n",
       "38920  2021-06-10 12:23:31     GW01  ...        20210610       9.130987\n",
       "38921  2021-06-10 12:23:31     GW01  ...        20210610     408.128282\n",
       "38922  2021-06-10 12:16:58     GW01  ...        20210610     408.128282\n",
       "38923  2021-06-10 12:16:58     GW01  ...        20210610       9.130987\n",
       "\n",
       "[38924 rows x 10 columns]"
      ]
     },
     "execution_count": 210,
     "metadata": {},
     "output_type": "execute_result"
    }
   ],
   "source": [
    "df2"
   ]
  },
  {
   "cell_type": "code",
   "execution_count": 205,
   "metadata": {
    "colab": {
     "base_uri": "https://localhost:8080/",
     "height": 450
    },
    "executionInfo": {
     "elapsed": 269,
     "status": "ok",
     "timestamp": 1633681087738,
     "user": {
      "displayName": "조한별",
      "photoUrl": "https://lh3.googleusercontent.com/a/default-user=s64",
      "userId": "13719229561479595538"
     },
     "user_tz": -540
    },
    "id": "O254LFvW9vP5",
    "outputId": "d79753b9-3450-4c70-eb29-4c778fef098e"
   },
   "outputs": [
    {
     "data": {
      "text/html": [
       "<div>\n",
       "<style scoped>\n",
       "    .dataframe tbody tr th:only-of-type {\n",
       "        vertical-align: middle;\n",
       "    }\n",
       "\n",
       "    .dataframe tbody tr th {\n",
       "        vertical-align: top;\n",
       "    }\n",
       "\n",
       "    .dataframe thead th {\n",
       "        text-align: right;\n",
       "    }\n",
       "</style>\n",
       "<table border=\"1\" class=\"dataframe\">\n",
       "  <thead>\n",
       "    <tr style=\"text-align: right;\">\n",
       "      <th>sType</th>\n",
       "      <th>co2</th>\n",
       "      <th>humidity</th>\n",
       "      <th>nh3</th>\n",
       "      <th>temp</th>\n",
       "    </tr>\n",
       "    <tr>\n",
       "      <th>GTime</th>\n",
       "      <th></th>\n",
       "      <th></th>\n",
       "      <th></th>\n",
       "      <th></th>\n",
       "    </tr>\n",
       "  </thead>\n",
       "  <tbody>\n",
       "    <tr>\n",
       "      <th>2021-06-10 12:16:58</th>\n",
       "      <td>402.2463</td>\n",
       "      <td>NaN</td>\n",
       "      <td>3.526615</td>\n",
       "      <td>NaN</td>\n",
       "    </tr>\n",
       "    <tr>\n",
       "      <th>2021-06-10 12:23:31</th>\n",
       "      <td>409.2151</td>\n",
       "      <td>NaN</td>\n",
       "      <td>11.934230</td>\n",
       "      <td>NaN</td>\n",
       "    </tr>\n",
       "    <tr>\n",
       "      <th>2021-06-10 12:27:16</th>\n",
       "      <td>NaN</td>\n",
       "      <td>45.63900</td>\n",
       "      <td>NaN</td>\n",
       "      <td>28.95933</td>\n",
       "    </tr>\n",
       "    <tr>\n",
       "      <th>2021-06-10 12:56:05</th>\n",
       "      <td>NaN</td>\n",
       "      <td>48.82544</td>\n",
       "      <td>NaN</td>\n",
       "      <td>29.32883</td>\n",
       "    </tr>\n",
       "    <tr>\n",
       "      <th>2021-06-10 12:58:39</th>\n",
       "      <td>404.0543</td>\n",
       "      <td>NaN</td>\n",
       "      <td>5.793288</td>\n",
       "      <td>NaN</td>\n",
       "    </tr>\n",
       "    <tr>\n",
       "      <th>...</th>\n",
       "      <td>...</td>\n",
       "      <td>...</td>\n",
       "      <td>...</td>\n",
       "      <td>...</td>\n",
       "    </tr>\n",
       "    <tr>\n",
       "      <th>2021-06-30 23:54:48</th>\n",
       "      <td>NaN</td>\n",
       "      <td>99.89994</td>\n",
       "      <td>NaN</td>\n",
       "      <td>21.10168</td>\n",
       "    </tr>\n",
       "    <tr>\n",
       "      <th>2021-06-30 23:56:21</th>\n",
       "      <td>402.8900</td>\n",
       "      <td>NaN</td>\n",
       "      <td>4.390000</td>\n",
       "      <td>NaN</td>\n",
       "    </tr>\n",
       "    <tr>\n",
       "      <th>2021-06-30 23:56:48</th>\n",
       "      <td>NaN</td>\n",
       "      <td>99.89994</td>\n",
       "      <td>NaN</td>\n",
       "      <td>21.10338</td>\n",
       "    </tr>\n",
       "    <tr>\n",
       "      <th>2021-06-30 23:58:21</th>\n",
       "      <td>402.8900</td>\n",
       "      <td>NaN</td>\n",
       "      <td>4.380000</td>\n",
       "      <td>NaN</td>\n",
       "    </tr>\n",
       "    <tr>\n",
       "      <th>2021-06-30 23:58:48</th>\n",
       "      <td>NaN</td>\n",
       "      <td>99.89995</td>\n",
       "      <td>NaN</td>\n",
       "      <td>21.09999</td>\n",
       "    </tr>\n",
       "  </tbody>\n",
       "</table>\n",
       "<p>18941 rows × 4 columns</p>\n",
       "</div>"
      ],
      "text/plain": [
       "sType                     co2  humidity        nh3      temp\n",
       "GTime                                                       \n",
       "2021-06-10 12:16:58  402.2463       NaN   3.526615       NaN\n",
       "2021-06-10 12:23:31  409.2151       NaN  11.934230       NaN\n",
       "2021-06-10 12:27:16       NaN  45.63900        NaN  28.95933\n",
       "2021-06-10 12:56:05       NaN  48.82544        NaN  29.32883\n",
       "2021-06-10 12:58:39  404.0543       NaN   5.793288       NaN\n",
       "...                       ...       ...        ...       ...\n",
       "2021-06-30 23:54:48       NaN  99.89994        NaN  21.10168\n",
       "2021-06-30 23:56:21  402.8900       NaN   4.390000       NaN\n",
       "2021-06-30 23:56:48       NaN  99.89994        NaN  21.10338\n",
       "2021-06-30 23:58:21  402.8900       NaN   4.380000       NaN\n",
       "2021-06-30 23:58:48       NaN  99.89995        NaN  21.09999\n",
       "\n",
       "[18941 rows x 4 columns]"
      ]
     },
     "execution_count": 205,
     "metadata": {},
     "output_type": "execute_result"
    }
   ],
   "source": [
    "df2.pivot(index=\"GTime\", columns=\"sType\", values=\"sValue\")"
   ]
  },
  {
   "cell_type": "code",
   "execution_count": 213,
   "metadata": {
    "colab": {
     "base_uri": "https://localhost:8080/",
     "height": 1000
    },
    "executionInfo": {
     "elapsed": 755,
     "status": "ok",
     "timestamp": 1633681735396,
     "user": {
      "displayName": "조한별",
      "photoUrl": "https://lh3.googleusercontent.com/a/default-user=s64",
      "userId": "13719229561479595538"
     },
     "user_tz": -540
    },
    "id": "86xbiId69_R6",
    "outputId": "5ddfefe6-5d9b-4d28-d33f-85b03d4880f6"
   },
   "outputs": [
    {
     "data": {
      "text/html": [
       "<div>\n",
       "<style scoped>\n",
       "    .dataframe tbody tr th:only-of-type {\n",
       "        vertical-align: middle;\n",
       "    }\n",
       "\n",
       "    .dataframe tbody tr th {\n",
       "        vertical-align: top;\n",
       "    }\n",
       "\n",
       "    .dataframe thead th {\n",
       "        text-align: right;\n",
       "    }\n",
       "</style>\n",
       "<table border=\"1\" class=\"dataframe\">\n",
       "  <thead>\n",
       "    <tr style=\"text-align: right;\">\n",
       "      <th></th>\n",
       "      <th>sType</th>\n",
       "      <th>co2</th>\n",
       "      <th>humidity</th>\n",
       "      <th>nh3</th>\n",
       "      <th>temp</th>\n",
       "    </tr>\n",
       "    <tr>\n",
       "      <th>GTime</th>\n",
       "      <th>No</th>\n",
       "      <th></th>\n",
       "      <th></th>\n",
       "      <th></th>\n",
       "      <th></th>\n",
       "    </tr>\n",
       "  </thead>\n",
       "  <tbody>\n",
       "    <tr>\n",
       "      <th>2021-06-10 12:16:58</th>\n",
       "      <th>No.1</th>\n",
       "      <td>402.2463</td>\n",
       "      <td>NaN</td>\n",
       "      <td>3.526615</td>\n",
       "      <td>NaN</td>\n",
       "    </tr>\n",
       "    <tr>\n",
       "      <th>2021-06-10 12:23:31</th>\n",
       "      <th>No.1</th>\n",
       "      <td>409.2151</td>\n",
       "      <td>NaN</td>\n",
       "      <td>11.934230</td>\n",
       "      <td>NaN</td>\n",
       "    </tr>\n",
       "    <tr>\n",
       "      <th>2021-06-10 12:27:16</th>\n",
       "      <th>No.1</th>\n",
       "      <td>NaN</td>\n",
       "      <td>45.63900</td>\n",
       "      <td>NaN</td>\n",
       "      <td>28.95933</td>\n",
       "    </tr>\n",
       "    <tr>\n",
       "      <th>2021-06-10 12:56:05</th>\n",
       "      <th>No.1</th>\n",
       "      <td>NaN</td>\n",
       "      <td>48.82544</td>\n",
       "      <td>NaN</td>\n",
       "      <td>29.32883</td>\n",
       "    </tr>\n",
       "    <tr>\n",
       "      <th>2021-06-10 12:58:39</th>\n",
       "      <th>No.1</th>\n",
       "      <td>404.0543</td>\n",
       "      <td>NaN</td>\n",
       "      <td>5.793288</td>\n",
       "      <td>NaN</td>\n",
       "    </tr>\n",
       "    <tr>\n",
       "      <th>...</th>\n",
       "      <th>...</th>\n",
       "      <td>...</td>\n",
       "      <td>...</td>\n",
       "      <td>...</td>\n",
       "      <td>...</td>\n",
       "    </tr>\n",
       "    <tr>\n",
       "      <th>2021-06-30 23:54:48</th>\n",
       "      <th>No.1</th>\n",
       "      <td>NaN</td>\n",
       "      <td>99.89994</td>\n",
       "      <td>NaN</td>\n",
       "      <td>21.10168</td>\n",
       "    </tr>\n",
       "    <tr>\n",
       "      <th>2021-06-30 23:56:21</th>\n",
       "      <th>No.1</th>\n",
       "      <td>402.8900</td>\n",
       "      <td>NaN</td>\n",
       "      <td>4.390000</td>\n",
       "      <td>NaN</td>\n",
       "    </tr>\n",
       "    <tr>\n",
       "      <th>2021-06-30 23:56:48</th>\n",
       "      <th>No.1</th>\n",
       "      <td>NaN</td>\n",
       "      <td>99.89994</td>\n",
       "      <td>NaN</td>\n",
       "      <td>21.10338</td>\n",
       "    </tr>\n",
       "    <tr>\n",
       "      <th>2021-06-30 23:58:21</th>\n",
       "      <th>No.1</th>\n",
       "      <td>402.8900</td>\n",
       "      <td>NaN</td>\n",
       "      <td>4.380000</td>\n",
       "      <td>NaN</td>\n",
       "    </tr>\n",
       "    <tr>\n",
       "      <th>2021-06-30 23:58:48</th>\n",
       "      <th>No.1</th>\n",
       "      <td>NaN</td>\n",
       "      <td>99.89995</td>\n",
       "      <td>NaN</td>\n",
       "      <td>21.09999</td>\n",
       "    </tr>\n",
       "  </tbody>\n",
       "</table>\n",
       "<p>18941 rows × 4 columns</p>\n",
       "</div>"
      ],
      "text/plain": [
       "sType                          co2  humidity        nh3      temp\n",
       "GTime               No                                           \n",
       "2021-06-10 12:16:58 No.1  402.2463       NaN   3.526615       NaN\n",
       "2021-06-10 12:23:31 No.1  409.2151       NaN  11.934230       NaN\n",
       "2021-06-10 12:27:16 No.1       NaN  45.63900        NaN  28.95933\n",
       "2021-06-10 12:56:05 No.1       NaN  48.82544        NaN  29.32883\n",
       "2021-06-10 12:58:39 No.1  404.0543       NaN   5.793288       NaN\n",
       "...                            ...       ...        ...       ...\n",
       "2021-06-30 23:54:48 No.1       NaN  99.89994        NaN  21.10168\n",
       "2021-06-30 23:56:21 No.1  402.8900       NaN   4.390000       NaN\n",
       "2021-06-30 23:56:48 No.1       NaN  99.89994        NaN  21.10338\n",
       "2021-06-30 23:58:21 No.1  402.8900       NaN   4.380000       NaN\n",
       "2021-06-30 23:58:48 No.1       NaN  99.89995        NaN  21.09999\n",
       "\n",
       "[18941 rows x 4 columns]"
      ]
     },
     "execution_count": 213,
     "metadata": {},
     "output_type": "execute_result"
    },
    {
     "data": {
      "text/html": [
       "<div>\n",
       "<style scoped>\n",
       "    .dataframe tbody tr th:only-of-type {\n",
       "        vertical-align: middle;\n",
       "    }\n",
       "\n",
       "    .dataframe tbody tr th {\n",
       "        vertical-align: top;\n",
       "    }\n",
       "\n",
       "    .dataframe thead th {\n",
       "        text-align: right;\n",
       "    }\n",
       "</style>\n",
       "<table border=\"1\" class=\"dataframe\">\n",
       "  <thead>\n",
       "    <tr style=\"text-align: right;\">\n",
       "      <th></th>\n",
       "      <th>sType</th>\n",
       "      <th>co2</th>\n",
       "      <th>humidity</th>\n",
       "      <th>nh3</th>\n",
       "      <th>temp</th>\n",
       "    </tr>\n",
       "    <tr>\n",
       "      <th>GTime</th>\n",
       "      <th>No</th>\n",
       "      <th></th>\n",
       "      <th></th>\n",
       "      <th></th>\n",
       "      <th></th>\n",
       "    </tr>\n",
       "  </thead>\n",
       "  <tbody>\n",
       "    <tr>\n",
       "      <th>2021-06-10 12:16:58</th>\n",
       "      <th>No.1</th>\n",
       "      <td>402.2463</td>\n",
       "      <td>NaN</td>\n",
       "      <td>3.526615</td>\n",
       "      <td>NaN</td>\n",
       "    </tr>\n",
       "    <tr>\n",
       "      <th>2021-06-10 12:23:31</th>\n",
       "      <th>No.1</th>\n",
       "      <td>409.2151</td>\n",
       "      <td>NaN</td>\n",
       "      <td>11.934230</td>\n",
       "      <td>NaN</td>\n",
       "    </tr>\n",
       "    <tr>\n",
       "      <th>2021-06-10 12:27:16</th>\n",
       "      <th>No.1</th>\n",
       "      <td>NaN</td>\n",
       "      <td>45.63900</td>\n",
       "      <td>NaN</td>\n",
       "      <td>28.95933</td>\n",
       "    </tr>\n",
       "    <tr>\n",
       "      <th>2021-06-10 12:56:05</th>\n",
       "      <th>No.1</th>\n",
       "      <td>NaN</td>\n",
       "      <td>48.82544</td>\n",
       "      <td>NaN</td>\n",
       "      <td>29.32883</td>\n",
       "    </tr>\n",
       "    <tr>\n",
       "      <th>2021-06-10 12:58:39</th>\n",
       "      <th>No.1</th>\n",
       "      <td>404.0543</td>\n",
       "      <td>NaN</td>\n",
       "      <td>5.793288</td>\n",
       "      <td>NaN</td>\n",
       "    </tr>\n",
       "    <tr>\n",
       "      <th>...</th>\n",
       "      <th>...</th>\n",
       "      <td>...</td>\n",
       "      <td>...</td>\n",
       "      <td>...</td>\n",
       "      <td>...</td>\n",
       "    </tr>\n",
       "    <tr>\n",
       "      <th>2021-06-30 23:54:48</th>\n",
       "      <th>No.1</th>\n",
       "      <td>NaN</td>\n",
       "      <td>99.89994</td>\n",
       "      <td>NaN</td>\n",
       "      <td>21.10168</td>\n",
       "    </tr>\n",
       "    <tr>\n",
       "      <th>2021-06-30 23:56:21</th>\n",
       "      <th>No.1</th>\n",
       "      <td>402.8900</td>\n",
       "      <td>NaN</td>\n",
       "      <td>4.390000</td>\n",
       "      <td>NaN</td>\n",
       "    </tr>\n",
       "    <tr>\n",
       "      <th>2021-06-30 23:56:48</th>\n",
       "      <th>No.1</th>\n",
       "      <td>NaN</td>\n",
       "      <td>99.89994</td>\n",
       "      <td>NaN</td>\n",
       "      <td>21.10338</td>\n",
       "    </tr>\n",
       "    <tr>\n",
       "      <th>2021-06-30 23:58:21</th>\n",
       "      <th>No.1</th>\n",
       "      <td>402.8900</td>\n",
       "      <td>NaN</td>\n",
       "      <td>4.380000</td>\n",
       "      <td>NaN</td>\n",
       "    </tr>\n",
       "    <tr>\n",
       "      <th>2021-06-30 23:58:48</th>\n",
       "      <th>No.1</th>\n",
       "      <td>NaN</td>\n",
       "      <td>99.89995</td>\n",
       "      <td>NaN</td>\n",
       "      <td>21.09999</td>\n",
       "    </tr>\n",
       "  </tbody>\n",
       "</table>\n",
       "<p>18941 rows × 4 columns</p>\n",
       "</div>"
      ],
      "text/plain": [
       "sType                          co2  humidity        nh3      temp\n",
       "GTime               No                                           \n",
       "2021-06-10 12:16:58 No.1  402.2463       NaN   3.526615       NaN\n",
       "2021-06-10 12:23:31 No.1  409.2151       NaN  11.934230       NaN\n",
       "2021-06-10 12:27:16 No.1       NaN  45.63900        NaN  28.95933\n",
       "2021-06-10 12:56:05 No.1       NaN  48.82544        NaN  29.32883\n",
       "2021-06-10 12:58:39 No.1  404.0543       NaN   5.793288       NaN\n",
       "...                            ...       ...        ...       ...\n",
       "2021-06-30 23:54:48 No.1       NaN  99.89994        NaN  21.10168\n",
       "2021-06-30 23:56:21 No.1  402.8900       NaN   4.390000       NaN\n",
       "2021-06-30 23:56:48 No.1       NaN  99.89994        NaN  21.10338\n",
       "2021-06-30 23:58:21 No.1  402.8900       NaN   4.380000       NaN\n",
       "2021-06-30 23:58:48 No.1       NaN  99.89995        NaN  21.09999\n",
       "\n",
       "[18941 rows x 4 columns]"
      ]
     },
     "execution_count": 213,
     "metadata": {},
     "output_type": "execute_result"
    },
    {
     "data": {
      "text/html": [
       "<div>\n",
       "<style scoped>\n",
       "    .dataframe tbody tr th:only-of-type {\n",
       "        vertical-align: middle;\n",
       "    }\n",
       "\n",
       "    .dataframe tbody tr th {\n",
       "        vertical-align: top;\n",
       "    }\n",
       "\n",
       "    .dataframe thead th {\n",
       "        text-align: right;\n",
       "    }\n",
       "</style>\n",
       "<table border=\"1\" class=\"dataframe\">\n",
       "  <thead>\n",
       "    <tr style=\"text-align: right;\">\n",
       "      <th></th>\n",
       "      <th>sType</th>\n",
       "      <th>co2</th>\n",
       "      <th>humidity</th>\n",
       "      <th>nh3</th>\n",
       "      <th>temp</th>\n",
       "      <th>All</th>\n",
       "    </tr>\n",
       "    <tr>\n",
       "      <th>GTime</th>\n",
       "      <th>No</th>\n",
       "      <th></th>\n",
       "      <th></th>\n",
       "      <th></th>\n",
       "      <th></th>\n",
       "      <th></th>\n",
       "    </tr>\n",
       "  </thead>\n",
       "  <tbody>\n",
       "    <tr>\n",
       "      <th>2021-06-10 12:16:58</th>\n",
       "      <th>No.1</th>\n",
       "      <td>402.246300</td>\n",
       "      <td>NaN</td>\n",
       "      <td>3.526615</td>\n",
       "      <td>NaN</td>\n",
       "      <td>202.886458</td>\n",
       "    </tr>\n",
       "    <tr>\n",
       "      <th>2021-06-10 12:23:31</th>\n",
       "      <th>No.1</th>\n",
       "      <td>409.215100</td>\n",
       "      <td>NaN</td>\n",
       "      <td>11.934230</td>\n",
       "      <td>NaN</td>\n",
       "      <td>210.574665</td>\n",
       "    </tr>\n",
       "    <tr>\n",
       "      <th>2021-06-10 12:27:16</th>\n",
       "      <th>No.1</th>\n",
       "      <td>NaN</td>\n",
       "      <td>45.639000</td>\n",
       "      <td>NaN</td>\n",
       "      <td>28.959330</td>\n",
       "      <td>37.299165</td>\n",
       "    </tr>\n",
       "    <tr>\n",
       "      <th>2021-06-10 12:56:05</th>\n",
       "      <th>No.1</th>\n",
       "      <td>NaN</td>\n",
       "      <td>48.825440</td>\n",
       "      <td>NaN</td>\n",
       "      <td>29.328830</td>\n",
       "      <td>39.077135</td>\n",
       "    </tr>\n",
       "    <tr>\n",
       "      <th>2021-06-10 12:58:39</th>\n",
       "      <th>No.1</th>\n",
       "      <td>404.054300</td>\n",
       "      <td>NaN</td>\n",
       "      <td>5.793288</td>\n",
       "      <td>NaN</td>\n",
       "      <td>204.923794</td>\n",
       "    </tr>\n",
       "    <tr>\n",
       "      <th>...</th>\n",
       "      <th>...</th>\n",
       "      <td>...</td>\n",
       "      <td>...</td>\n",
       "      <td>...</td>\n",
       "      <td>...</td>\n",
       "      <td>...</td>\n",
       "    </tr>\n",
       "    <tr>\n",
       "      <th>2021-06-30 23:56:21</th>\n",
       "      <th>No.1</th>\n",
       "      <td>402.890000</td>\n",
       "      <td>NaN</td>\n",
       "      <td>4.390000</td>\n",
       "      <td>NaN</td>\n",
       "      <td>203.640000</td>\n",
       "    </tr>\n",
       "    <tr>\n",
       "      <th>2021-06-30 23:56:48</th>\n",
       "      <th>No.1</th>\n",
       "      <td>NaN</td>\n",
       "      <td>99.899940</td>\n",
       "      <td>NaN</td>\n",
       "      <td>21.103380</td>\n",
       "      <td>60.501660</td>\n",
       "    </tr>\n",
       "    <tr>\n",
       "      <th>2021-06-30 23:58:21</th>\n",
       "      <th>No.1</th>\n",
       "      <td>402.890000</td>\n",
       "      <td>NaN</td>\n",
       "      <td>4.380000</td>\n",
       "      <td>NaN</td>\n",
       "      <td>203.635000</td>\n",
       "    </tr>\n",
       "    <tr>\n",
       "      <th>2021-06-30 23:58:48</th>\n",
       "      <th>No.1</th>\n",
       "      <td>NaN</td>\n",
       "      <td>99.899950</td>\n",
       "      <td>NaN</td>\n",
       "      <td>21.099990</td>\n",
       "      <td>60.499970</td>\n",
       "    </tr>\n",
       "    <tr>\n",
       "      <th>All</th>\n",
       "      <th></th>\n",
       "      <td>408.128282</td>\n",
       "      <td>71.392079</td>\n",
       "      <td>9.130987</td>\n",
       "      <td>26.124889</td>\n",
       "      <td>131.760115</td>\n",
       "    </tr>\n",
       "  </tbody>\n",
       "</table>\n",
       "<p>18942 rows × 5 columns</p>\n",
       "</div>"
      ],
      "text/plain": [
       "sType                            co2   humidity  ...       temp         All\n",
       "GTime               No                           ...                       \n",
       "2021-06-10 12:16:58 No.1  402.246300        NaN  ...        NaN  202.886458\n",
       "2021-06-10 12:23:31 No.1  409.215100        NaN  ...        NaN  210.574665\n",
       "2021-06-10 12:27:16 No.1         NaN  45.639000  ...  28.959330   37.299165\n",
       "2021-06-10 12:56:05 No.1         NaN  48.825440  ...  29.328830   39.077135\n",
       "2021-06-10 12:58:39 No.1  404.054300        NaN  ...        NaN  204.923794\n",
       "...                              ...        ...  ...        ...         ...\n",
       "2021-06-30 23:56:21 No.1  402.890000        NaN  ...        NaN  203.640000\n",
       "2021-06-30 23:56:48 No.1         NaN  99.899940  ...  21.103380   60.501660\n",
       "2021-06-30 23:58:21 No.1  402.890000        NaN  ...        NaN  203.635000\n",
       "2021-06-30 23:58:48 No.1         NaN  99.899950  ...  21.099990   60.499970\n",
       "All                       408.128282  71.392079  ...  26.124889  131.760115\n",
       "\n",
       "[18942 rows x 5 columns]"
      ]
     },
     "execution_count": 213,
     "metadata": {},
     "output_type": "execute_result"
    },
    {
     "data": {
      "application/vnd.google.colaboratory.intrinsic+json": {
       "type": "string"
      },
      "text/plain": [
       "''"
      ]
     },
     "execution_count": 213,
     "metadata": {},
     "output_type": "execute_result"
    }
   ],
   "source": [
    "df2.pivot(index=['GTime', 'No'], columns=\"sType\", values=\"sValue\")\n",
    "pd.pivot_table(df2, index=['GTime', 'No'], columns='sType', values='sValue')\n",
    "pd.pivot_table(df2, index=['GTime', 'No'], columns='sType',margins=True, values='sValue')\n"
   ]
  },
  {
   "cell_type": "code",
   "execution_count": 220,
   "metadata": {
    "colab": {
     "base_uri": "https://localhost:8080/",
     "height": 419
    },
    "executionInfo": {
     "elapsed": 286,
     "status": "ok",
     "timestamp": 1633681873541,
     "user": {
      "displayName": "조한별",
      "photoUrl": "https://lh3.googleusercontent.com/a/default-user=s64",
      "userId": "13719229561479595538"
     },
     "user_tz": -540
    },
    "id": "Wzs4OV2R-FGK",
    "outputId": "cb3ecb2d-5eb5-455b-b759-ef56c98bbe32"
   },
   "outputs": [
    {
     "data": {
      "text/html": [
       "<div>\n",
       "<style scoped>\n",
       "    .dataframe tbody tr th:only-of-type {\n",
       "        vertical-align: middle;\n",
       "    }\n",
       "\n",
       "    .dataframe tbody tr th {\n",
       "        vertical-align: top;\n",
       "    }\n",
       "\n",
       "    .dataframe thead th {\n",
       "        text-align: right;\n",
       "    }\n",
       "</style>\n",
       "<table border=\"1\" class=\"dataframe\">\n",
       "  <thead>\n",
       "    <tr style=\"text-align: right;\">\n",
       "      <th>sType</th>\n",
       "      <th>GTime</th>\n",
       "      <th>No</th>\n",
       "      <th>co2</th>\n",
       "      <th>humidity</th>\n",
       "      <th>nh3</th>\n",
       "      <th>temp</th>\n",
       "    </tr>\n",
       "  </thead>\n",
       "  <tbody>\n",
       "    <tr>\n",
       "      <th>0</th>\n",
       "      <td>2021-06-10 12:16:58</td>\n",
       "      <td>No.1</td>\n",
       "      <td>402.2463</td>\n",
       "      <td>NaN</td>\n",
       "      <td>3.526615</td>\n",
       "      <td>NaN</td>\n",
       "    </tr>\n",
       "    <tr>\n",
       "      <th>1</th>\n",
       "      <td>2021-06-10 12:23:31</td>\n",
       "      <td>No.1</td>\n",
       "      <td>409.2151</td>\n",
       "      <td>NaN</td>\n",
       "      <td>11.934230</td>\n",
       "      <td>NaN</td>\n",
       "    </tr>\n",
       "    <tr>\n",
       "      <th>2</th>\n",
       "      <td>2021-06-10 12:27:16</td>\n",
       "      <td>No.1</td>\n",
       "      <td>NaN</td>\n",
       "      <td>45.63900</td>\n",
       "      <td>NaN</td>\n",
       "      <td>28.95933</td>\n",
       "    </tr>\n",
       "    <tr>\n",
       "      <th>3</th>\n",
       "      <td>2021-06-10 12:56:05</td>\n",
       "      <td>No.1</td>\n",
       "      <td>NaN</td>\n",
       "      <td>48.82544</td>\n",
       "      <td>NaN</td>\n",
       "      <td>29.32883</td>\n",
       "    </tr>\n",
       "    <tr>\n",
       "      <th>4</th>\n",
       "      <td>2021-06-10 12:58:39</td>\n",
       "      <td>No.1</td>\n",
       "      <td>404.0543</td>\n",
       "      <td>NaN</td>\n",
       "      <td>5.793288</td>\n",
       "      <td>NaN</td>\n",
       "    </tr>\n",
       "    <tr>\n",
       "      <th>...</th>\n",
       "      <td>...</td>\n",
       "      <td>...</td>\n",
       "      <td>...</td>\n",
       "      <td>...</td>\n",
       "      <td>...</td>\n",
       "      <td>...</td>\n",
       "    </tr>\n",
       "    <tr>\n",
       "      <th>18936</th>\n",
       "      <td>2021-06-30 23:54:48</td>\n",
       "      <td>No.1</td>\n",
       "      <td>NaN</td>\n",
       "      <td>99.89994</td>\n",
       "      <td>NaN</td>\n",
       "      <td>21.10168</td>\n",
       "    </tr>\n",
       "    <tr>\n",
       "      <th>18937</th>\n",
       "      <td>2021-06-30 23:56:21</td>\n",
       "      <td>No.1</td>\n",
       "      <td>402.8900</td>\n",
       "      <td>NaN</td>\n",
       "      <td>4.390000</td>\n",
       "      <td>NaN</td>\n",
       "    </tr>\n",
       "    <tr>\n",
       "      <th>18938</th>\n",
       "      <td>2021-06-30 23:56:48</td>\n",
       "      <td>No.1</td>\n",
       "      <td>NaN</td>\n",
       "      <td>99.89994</td>\n",
       "      <td>NaN</td>\n",
       "      <td>21.10338</td>\n",
       "    </tr>\n",
       "    <tr>\n",
       "      <th>18939</th>\n",
       "      <td>2021-06-30 23:58:21</td>\n",
       "      <td>No.1</td>\n",
       "      <td>402.8900</td>\n",
       "      <td>NaN</td>\n",
       "      <td>4.380000</td>\n",
       "      <td>NaN</td>\n",
       "    </tr>\n",
       "    <tr>\n",
       "      <th>18940</th>\n",
       "      <td>2021-06-30 23:58:48</td>\n",
       "      <td>No.1</td>\n",
       "      <td>NaN</td>\n",
       "      <td>99.89995</td>\n",
       "      <td>NaN</td>\n",
       "      <td>21.09999</td>\n",
       "    </tr>\n",
       "  </tbody>\n",
       "</table>\n",
       "<p>18941 rows × 6 columns</p>\n",
       "</div>"
      ],
      "text/plain": [
       "sType                GTime    No       co2  humidity        nh3      temp\n",
       "0      2021-06-10 12:16:58  No.1  402.2463       NaN   3.526615       NaN\n",
       "1      2021-06-10 12:23:31  No.1  409.2151       NaN  11.934230       NaN\n",
       "2      2021-06-10 12:27:16  No.1       NaN  45.63900        NaN  28.95933\n",
       "3      2021-06-10 12:56:05  No.1       NaN  48.82544        NaN  29.32883\n",
       "4      2021-06-10 12:58:39  No.1  404.0543       NaN   5.793288       NaN\n",
       "...                    ...   ...       ...       ...        ...       ...\n",
       "18936  2021-06-30 23:54:48  No.1       NaN  99.89994        NaN  21.10168\n",
       "18937  2021-06-30 23:56:21  No.1  402.8900       NaN   4.390000       NaN\n",
       "18938  2021-06-30 23:56:48  No.1       NaN  99.89994        NaN  21.10338\n",
       "18939  2021-06-30 23:58:21  No.1  402.8900       NaN   4.380000       NaN\n",
       "18940  2021-06-30 23:58:48  No.1       NaN  99.89995        NaN  21.09999\n",
       "\n",
       "[18941 rows x 6 columns]"
      ]
     },
     "execution_count": 220,
     "metadata": {},
     "output_type": "execute_result"
    }
   ],
   "source": [
    "pd.pivot_table(df2, index=['GTime', 'No'], columns='sType', values='sValue').reset_index()\n"
   ]
  },
  {
   "cell_type": "code",
   "execution_count": 221,
   "metadata": {
    "colab": {
     "base_uri": "https://localhost:8080/",
     "height": 419
    },
    "executionInfo": {
     "elapsed": 269,
     "status": "ok",
     "timestamp": 1633681885884,
     "user": {
      "displayName": "조한별",
      "photoUrl": "https://lh3.googleusercontent.com/a/default-user=s64",
      "userId": "13719229561479595538"
     },
     "user_tz": -540
    },
    "id": "zDWJJQqBBeW8",
    "outputId": "85fa06bb-055d-43ca-8903-a274ebae8828"
   },
   "outputs": [
    {
     "data": {
      "text/html": [
       "<div>\n",
       "<style scoped>\n",
       "    .dataframe tbody tr th:only-of-type {\n",
       "        vertical-align: middle;\n",
       "    }\n",
       "\n",
       "    .dataframe tbody tr th {\n",
       "        vertical-align: top;\n",
       "    }\n",
       "\n",
       "    .dataframe thead th {\n",
       "        text-align: right;\n",
       "    }\n",
       "</style>\n",
       "<table border=\"1\" class=\"dataframe\">\n",
       "  <thead>\n",
       "    <tr style=\"text-align: right;\">\n",
       "      <th></th>\n",
       "      <th>GTime</th>\n",
       "      <th>No</th>\n",
       "      <th>sType</th>\n",
       "      <th>value</th>\n",
       "    </tr>\n",
       "  </thead>\n",
       "  <tbody>\n",
       "    <tr>\n",
       "      <th>0</th>\n",
       "      <td>2021-06-10 12:16:58</td>\n",
       "      <td>No.1</td>\n",
       "      <td>co2</td>\n",
       "      <td>402.24630</td>\n",
       "    </tr>\n",
       "    <tr>\n",
       "      <th>1</th>\n",
       "      <td>2021-06-10 12:23:31</td>\n",
       "      <td>No.1</td>\n",
       "      <td>co2</td>\n",
       "      <td>409.21510</td>\n",
       "    </tr>\n",
       "    <tr>\n",
       "      <th>2</th>\n",
       "      <td>2021-06-10 12:27:16</td>\n",
       "      <td>No.1</td>\n",
       "      <td>co2</td>\n",
       "      <td>NaN</td>\n",
       "    </tr>\n",
       "    <tr>\n",
       "      <th>3</th>\n",
       "      <td>2021-06-10 12:56:05</td>\n",
       "      <td>No.1</td>\n",
       "      <td>co2</td>\n",
       "      <td>NaN</td>\n",
       "    </tr>\n",
       "    <tr>\n",
       "      <th>4</th>\n",
       "      <td>2021-06-10 12:58:39</td>\n",
       "      <td>No.1</td>\n",
       "      <td>co2</td>\n",
       "      <td>404.05430</td>\n",
       "    </tr>\n",
       "    <tr>\n",
       "      <th>...</th>\n",
       "      <td>...</td>\n",
       "      <td>...</td>\n",
       "      <td>...</td>\n",
       "      <td>...</td>\n",
       "    </tr>\n",
       "    <tr>\n",
       "      <th>75759</th>\n",
       "      <td>2021-06-30 23:54:48</td>\n",
       "      <td>No.1</td>\n",
       "      <td>temp</td>\n",
       "      <td>21.10168</td>\n",
       "    </tr>\n",
       "    <tr>\n",
       "      <th>75760</th>\n",
       "      <td>2021-06-30 23:56:21</td>\n",
       "      <td>No.1</td>\n",
       "      <td>temp</td>\n",
       "      <td>NaN</td>\n",
       "    </tr>\n",
       "    <tr>\n",
       "      <th>75761</th>\n",
       "      <td>2021-06-30 23:56:48</td>\n",
       "      <td>No.1</td>\n",
       "      <td>temp</td>\n",
       "      <td>21.10338</td>\n",
       "    </tr>\n",
       "    <tr>\n",
       "      <th>75762</th>\n",
       "      <td>2021-06-30 23:58:21</td>\n",
       "      <td>No.1</td>\n",
       "      <td>temp</td>\n",
       "      <td>NaN</td>\n",
       "    </tr>\n",
       "    <tr>\n",
       "      <th>75763</th>\n",
       "      <td>2021-06-30 23:58:48</td>\n",
       "      <td>No.1</td>\n",
       "      <td>temp</td>\n",
       "      <td>21.09999</td>\n",
       "    </tr>\n",
       "  </tbody>\n",
       "</table>\n",
       "<p>75764 rows × 4 columns</p>\n",
       "</div>"
      ],
      "text/plain": [
       "                     GTime    No sType      value\n",
       "0      2021-06-10 12:16:58  No.1   co2  402.24630\n",
       "1      2021-06-10 12:23:31  No.1   co2  409.21510\n",
       "2      2021-06-10 12:27:16  No.1   co2        NaN\n",
       "3      2021-06-10 12:56:05  No.1   co2        NaN\n",
       "4      2021-06-10 12:58:39  No.1   co2  404.05430\n",
       "...                    ...   ...   ...        ...\n",
       "75759  2021-06-30 23:54:48  No.1  temp   21.10168\n",
       "75760  2021-06-30 23:56:21  No.1  temp        NaN\n",
       "75761  2021-06-30 23:56:48  No.1  temp   21.10338\n",
       "75762  2021-06-30 23:58:21  No.1  temp        NaN\n",
       "75763  2021-06-30 23:58:48  No.1  temp   21.09999\n",
       "\n",
       "[75764 rows x 4 columns]"
      ]
     },
     "execution_count": 221,
     "metadata": {},
     "output_type": "execute_result"
    }
   ],
   "source": [
    "pd.pivot_table(df2, index=['GTime', 'No'], columns='sType', values='sValue').reset_index(). \\\n",
    "melt(id_vars=['GTime','No'],var_name='sType')"
   ]
  },
  {
   "cell_type": "code",
   "execution_count": null,
   "metadata": {
    "id": "lkkhmigxAALi"
   },
   "outputs": [],
   "source": []
  }
 ],
 "metadata": {
  "colab": {
   "authorship_tag": "ABX9TyODJqYTlgLJQDrxYHNy2Qme",
   "collapsed_sections": [],
   "name": "02.pandas.ipynb",
   "provenance": [],
   "toc_visible": true
  },
  "kernelspec": {
   "display_name": "Python 3",
   "language": "python",
   "name": "python3"
  },
  "language_info": {
   "codemirror_mode": {
    "name": "ipython",
    "version": 3
   },
   "file_extension": ".py",
   "mimetype": "text/x-python",
   "name": "python",
   "nbconvert_exporter": "python",
   "pygments_lexer": "ipython3",
   "version": "3.8.8"
  }
 },
 "nbformat": 4,
 "nbformat_minor": 1
}
